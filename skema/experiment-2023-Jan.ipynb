{
 "cells": [
  {
   "cell_type": "markdown",
   "id": "c617dda5",
   "metadata": {},
   "source": [
    "# SKEMA Experiment"
   ]
  },
  {
   "cell_type": "markdown",
   "id": "a71e15b7",
   "metadata": {},
   "source": [
    "Testing out SKEMA using a pet example from [this paper on a compartmental COVID-19 Model](https://www.sciencedirect.com/science/article/pii/S0960077921000424). `./model` contains the Python implementation of this model which was copied from [this Jataware repository](https://github.com/jataware/COVID-19_Projections). The original script reads from two JSON files but for this SKEMA experiment, they have been combined into one `options.py`.\n",
    "\n",
    "This notebook is assumes you follow the installation instructions from the [TA1 December Demo Repo](https://github.com/ml4ai/ASKEM-TA1-SKEMA-Demo-2022-12)."
   ]
  },
  {
   "cell_type": "code",
   "execution_count": 15,
   "id": "66267877",
   "metadata": {
    "hidden": true
   },
   "outputs": [],
   "source": [
    "import os\n",
    "import json\n",
    "from pprint import pprint\n",
    "from automates.utils.fold import dictionary_to_gromet_json, del_nulls\n",
    "from skema.text_reading.mention_linking.gromet_linker import align_and_link\n",
    "from automates.utils.script_functions import process_file_system\n",
    "from automates.program_analysis.JSON2GroMEt.json2gromet import json_to_gromet\n",
    "\n",
    "MODEL_DIR = os.path.abspath(\"./model\")\n",
    "RESULTS_DIR = os.path.abspath(\"./demo_results\")\n",
    "SYSTEM_FILES_PATH=os.path.join(MODEL_DIR, \"filepaths.txt\")\n",
    "GROMET_PATH = os.path.join(RESULTS_DIR, \"test-auto.json\")\n",
    "\n",
    "\n",
    "os.makedirs(RESULTS_DIR, exist_ok=True)\n"
   ]
  },
  {
   "cell_type": "code",
   "execution_count": 13,
   "id": "952249c9",
   "metadata": {},
   "outputs": [
    {
     "name": "stdout",
     "output_type": "stream",
     "text": [
      "Help on package automates.program_analysis.Py2GrFN in automates.program_analysis:\n",
      "\n",
      "NAME\n",
      "    automates.program_analysis.Py2GrFN\n",
      "\n",
      "PACKAGE CONTENTS\n",
      "    cast\n",
      "    py2grfn\n",
      "\n",
      "FILE\n",
      "    /home/five/skema-demo/automates/automates/program_analysis/Py2GrFN/__init__.py\n",
      "\n",
      "\n"
     ]
    }
   ],
   "source": []
  },
  {
   "cell_type": "markdown",
   "id": "435b100e",
   "metadata": {},
   "source": [
    "## Code2FN"
   ]
  },
  {
   "cell_type": "code",
   "execution_count": 16,
   "id": "3e20b801",
   "metadata": {
    "hidden": true
   },
   "outputs": [
    {
     "name": "stdout",
     "output_type": "stream",
     "text": [
      "/home/five/askem-experiments/skema/model/main.py\n",
      "found numpy\n",
      "found scipy.integrate\n",
      "found matplotlib.pyplot\n",
      "found options\n",
      "found options\n",
      "Calling IdCollapsePass------------------------\n",
      "\n",
      "Calling ContainerScopePass-------------------\n",
      "\n",
      "Calling VariableVersionPass-------------------\n",
      "\n",
      "Calling GrfnVarCreationPass-------------------\n",
      "\n",
      "Calling GrfnAssignmentPass-------------------\n",
      "\n",
      "Calling LambdaExpressionPass-------------------\n",
      "\n",
      "Calling ToGrometPass-----------------------\n",
      "/home/five/askem-experiments/skema/model/options.py\n",
      "Calling IdCollapsePass------------------------\n",
      "\n",
      "Calling ContainerScopePass-------------------\n",
      "\n",
      "Calling VariableVersionPass-------------------\n",
      "\n",
      "Calling GrfnVarCreationPass-------------------\n",
      "\n",
      "Calling GrfnAssignmentPass-------------------\n",
      "\n",
      "Calling LambdaExpressionPass-------------------\n",
      "\n",
      "Calling ToGrometPass-----------------------\n"
     ]
    }
   ],
   "source": [
    "COLLECTION_NAME = os.path.join(RESULTS_DIR, \"test\")\n",
    "\n",
    "\n",
    "process_file_system(COLLECTION_NAME, MODEL_DIR, SYSTEM_FILES_PATH)"
   ]
  },
  {
   "cell_type": "code",
   "execution_count": 20,
   "id": "e42bd51f",
   "metadata": {},
   "outputs": [
    {
     "ename": "FileNotFoundError",
     "evalue": "[Errno 2] No such file or directory: 'test--Gromet-FN-auto.json'",
     "output_type": "error",
     "traceback": [
      "\u001b[0;31m---------------------------------------------------------------------------\u001b[0m",
      "\u001b[0;31mFileNotFoundError\u001b[0m                         Traceback (most recent call last)",
      "Cell \u001b[0;32mIn[20], line 2\u001b[0m\n\u001b[1;32m      1\u001b[0m \u001b[38;5;66;03m# DOESN't work\u001b[39;00m\n\u001b[0;32m----> 2\u001b[0m chime_module_collection \u001b[38;5;241m=\u001b[39m \u001b[43mjson_to_gromet\u001b[49m\u001b[43m(\u001b[49m\u001b[38;5;124;43m'\u001b[39;49m\u001b[38;5;124;43mtest--Gromet-FN-auto.json\u001b[39;49m\u001b[38;5;124;43m'\u001b[39;49m\u001b[43m)\u001b[49m\n\u001b[1;32m      3\u001b[0m pprint(chime_module_collection)\n",
      "File \u001b[0;32m~/skema-demo/automates/automates/program_analysis/JSON2GroMEt/json2gromet.py:37\u001b[0m, in \u001b[0;36mjson_to_gromet\u001b[0;34m(path)\u001b[0m\n\u001b[1;32m     35\u001b[0m \u001b[38;5;28;01mdef\u001b[39;00m \u001b[38;5;21mjson_to_gromet\u001b[39m(path):\n\u001b[1;32m     36\u001b[0m     \u001b[38;5;66;03m# Read JSON from file\u001b[39;00m\n\u001b[0;32m---> 37\u001b[0m     \u001b[38;5;28;01mwith\u001b[39;00m \u001b[38;5;28;43mopen\u001b[39;49m\u001b[43m(\u001b[49m\u001b[43mpath\u001b[49m\u001b[43m)\u001b[49m \u001b[38;5;28;01mas\u001b[39;00m f:\n\u001b[1;32m     38\u001b[0m         json_string \u001b[38;5;241m=\u001b[39m f\u001b[38;5;241m.\u001b[39mread()\n\u001b[1;32m     39\u001b[0m     json_object \u001b[38;5;241m=\u001b[39m json\u001b[38;5;241m.\u001b[39mloads(json_string)\n",
      "\u001b[0;31mFileNotFoundError\u001b[0m: [Errno 2] No such file or directory: 'test--Gromet-FN-auto.json'"
     ]
    }
   ],
   "source": [
    "# DOESN't work\n",
    "chime_module_collection = json_to_gromet('test--Gromet-FN-auto.json')\n",
    "pprint(chime_module_collection)"
   ]
  },
  {
   "cell_type": "code",
   "execution_count": null,
   "id": "32128750",
   "metadata": {},
   "outputs": [],
   "source": [
    "# This also doesn't seem to work\n",
    "from automates.program_analysis.Py2GrFN import py2grfn as gen_gromet"
   ]
  },
  {
   "cell_type": "code",
   "execution_count": 21,
   "id": "f38f564e",
   "metadata": {},
   "outputs": [],
   "source": [
    "with open(COLLECTION_NAME+\"--Gromet-FN-auto.json\", 'r') as f:\n",
    "    chime_module_collection = json.load(f)\n",
    "    \n",
    "\n"
   ]
  },
  {
   "cell_type": "markdown",
   "id": "f08cfed5",
   "metadata": {
    "heading_collapsed": true,
    "hidden": true
   },
   "source": [
    "## [SKIP] METAL\n",
    "\n",
    "cannot use METAL because the following objects are not available. \n",
    "```python\n",
    "COMMENTS_PATH = os.path.join(RESULTS_DIR, \"test-comments.json\")\n",
    "EXTRACTIONS_PATH = os.path.join(RESULTS_DIR, \"test-extractions.json\")\n",
    "EMBEDDINGS_PATH = os.path.join(RESULTS_DIR, \"embeddings.kv\")\n",
    "```"
   ]
  },
  {
   "cell_type": "markdown",
   "id": "de2a448f",
   "metadata": {
    "heading_collapsed": true,
    "hidden": true
   },
   "source": [
    "## SKEMA Server and FN Graph Service"
   ]
  },
  {
   "cell_type": "markdown",
   "id": "45298f43",
   "metadata": {
    "hidden": true
   },
   "source": [
    "Swagger docs for the SKEMA server REST API: http://localhost:8080/api-docs/"
   ]
  },
  {
   "cell_type": "code",
   "execution_count": null,
   "id": "a1d7d807",
   "metadata": {
    "hidden": true,
    "scrolled": true
   },
   "outputs": [],
   "source": [
    "from IPython.display import IFrame\n",
    "IFrame('http://localhost:8080/api-docs/', width=700, height=350)"
   ]
  },
  {
   "cell_type": "code",
   "execution_count": null,
   "id": "7dd6291c",
   "metadata": {
    "hidden": true
   },
   "outputs": [],
   "source": [
    "import json\n",
    "from requests import get, put, post, delete\n",
    "#from graphviz import Source\n",
    "BASE_URL=\"http://localhost:8080\""
   ]
  },
  {
   "cell_type": "markdown",
   "id": "190d967d",
   "metadata": {
    "hidden": true
   },
   "source": [
    "Programmatically verify the service is running:"
   ]
  },
  {
   "cell_type": "code",
   "execution_count": null,
   "id": "23ea104a",
   "metadata": {
    "hidden": true
   },
   "outputs": [],
   "source": [
    "get(f\"{BASE_URL}/ping\").text"
   ]
  },
  {
   "cell_type": "markdown",
   "id": "fc1c8bca",
   "metadata": {
    "hidden": true
   },
   "source": [
    "We can view the **memgraph web interace**, in separate brower window, open: `http://localhost:3000`"
   ]
  },
  {
   "cell_type": "markdown",
   "id": "b15eaf2c",
   "metadata": {
    "hidden": true
   },
   "source": [
    "Load the GroMEt JSON file `CHIME_SVIIvR_core--Gromet-FN-auto.json` into the database. The operation returns the ID of the model that was just inserted - we will use this ID to query the model later."
   ]
  },
  {
   "cell_type": "code",
   "execution_count": null,
   "id": "1c26e038",
   "metadata": {
    "hidden": true,
    "scrolled": true
   },
   "outputs": [],
   "source": [
    "from requests import post\n",
    "with open('test--Gromet-FN-auto.json') as f:\n",
    "    r = post(f\"{BASE_URL}/models\", json=json.loads(f.read()))\n",
    "    if r.status_code == 200:\n",
    "        MODEL_ID = r.json()\n",
    "        print(f\"Model ID: {MODEL_ID}\")\n",
    "    else:\n",
    "        print(json.loads(r.request.body))"
   ]
  },
  {
   "cell_type": "markdown",
   "id": "2c380681",
   "metadata": {
    "hidden": true
   },
   "source": [
    "We then get the IDs of all the models in the database to double check if our model ID is among them."
   ]
  },
  {
   "cell_type": "code",
   "execution_count": null,
   "id": "56bfd00d",
   "metadata": {
    "hidden": true
   },
   "outputs": [],
   "source": [
    "get(f\"{BASE_URL}/models\").json()"
   ]
  },
  {
   "cell_type": "markdown",
   "id": "b6a73fe4",
   "metadata": {
    "hidden": true
   },
   "source": [
    "Run a query to collect the names of all of the _named_ `opi`s (Output Ports) in the model."
   ]
  },
  {
   "cell_type": "code",
   "execution_count": null,
   "id": "22dd466f",
   "metadata": {
    "hidden": true
   },
   "outputs": [],
   "source": [
    "get(f\"{BASE_URL}/models/{MODEL_ID}/named_opis\").json()"
   ]
  },
  {
   "cell_type": "markdown",
   "id": "d2a0a555",
   "metadata": {
    "hidden": true
   },
   "source": [
    "The API endpoint for **deleting** a model."
   ]
  },
  {
   "cell_type": "code",
   "execution_count": null,
   "id": "0f67a0a5",
   "metadata": {
    "hidden": true
   },
   "outputs": [],
   "source": [
    "delete(f\"{BASE_URL}/models/{MODEL_ID}\").text"
   ]
  },
  {
   "cell_type": "markdown",
   "id": "27f42f5a",
   "metadata": {
    "hidden": true
   },
   "source": [
    "Get the IDs of all the models in the database again to check that the model has been deleted."
   ]
  },
  {
   "cell_type": "code",
   "execution_count": null,
   "id": "cef77e52",
   "metadata": {
    "hidden": true
   },
   "outputs": [],
   "source": [
    "get(f\"{BASE_URL}/models\").json()"
   ]
  }
 ],
 "metadata": {
  "kernelspec": {
   "display_name": "Python 3 (ipykernel)",
   "language": "python",
   "name": "python3"
  },
  "language_info": {
   "codemirror_mode": {
    "name": "ipython",
    "version": 3
   },
   "file_extension": ".py",
   "mimetype": "text/x-python",
   "name": "python",
   "nbconvert_exporter": "python",
   "pygments_lexer": "ipython3",
   "version": "3.10.9"
  },
  "varInspector": {
   "cols": {
    "lenName": 16,
    "lenType": 16,
    "lenVar": 40
   },
   "kernels_config": {
    "python": {
     "delete_cmd_postfix": "",
     "delete_cmd_prefix": "del ",
     "library": "var_list.py",
     "varRefreshCmd": "print(var_dic_list())"
    },
    "r": {
     "delete_cmd_postfix": ") ",
     "delete_cmd_prefix": "rm(",
     "library": "var_list.r",
     "varRefreshCmd": "cat(var_dic_list()) "
    }
   },
   "types_to_exclude": [
    "module",
    "function",
    "builtin_function_or_method",
    "instance",
    "_Feature"
   ],
   "window_display": false
  }
 },
 "nbformat": 4,
 "nbformat_minor": 5
}
