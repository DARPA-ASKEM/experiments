{
 "cells": [
  {
   "cell_type": "markdown",
   "id": "c617dda5",
   "metadata": {},
   "source": [
    "# SKEMA Experiment"
   ]
  },
  {
   "cell_type": "markdown",
   "id": "a71e15b7",
   "metadata": {},
   "source": [
    "Testing out SKEMA using a pet example from [this paper on a compartmental COVID-19 Model](https://www.sciencedirect.com/science/article/pii/S0960077921000424). `./model` contains the Python implementation of this model which was copied from [this Jataware repository](https://github.com/jataware/COVID-19_Projections). The original script reads from two JSON files but for this SKEMA experiment, they have been combined into one `options.py`.\n",
    "\n",
    "This notebook is assumes you follow the installation instructions from the [TA1 December Demo Repo](https://github.com/ml4ai/ASKEM-TA1-SKEMA-Demo-2022-12)."
   ]
  },
  {
   "cell_type": "code",
   "execution_count": 1,
   "id": "66267877",
   "metadata": {
    "hidden": true
   },
   "outputs": [],
   "source": [
    "import os\n",
    "import json\n",
    "from pprint import pprint\n",
    "from automates.utils.fold import dictionary_to_gromet_json, del_nulls\n",
    "from skema.text_reading.mention_linking.gromet_linker import align_and_link\n",
    "from automates.utils.script_functions import process_file_system\n",
    "from automates.program_analysis.JSON2GroMEt.json2gromet import json_to_gromet\n",
    "\n",
    "MODEL_DIR = os.path.abspath(\"./model\")\n",
    "RESULTS_DIR = os.path.abspath(\"./demo_results\")\n",
    "SYSTEM_FILES_PATH= os.path.join(MODEL_DIR, \"filepaths.txt\")\n",
    "GROMET_PATH = os.path.join(RESULTS_DIR, \"test-auto.json\")\n",
    "\n",
    "\n",
    "os.makedirs(RESULTS_DIR, exist_ok=True)\n"
   ]
  },
  {
   "cell_type": "markdown",
   "id": "a1d5cf6d",
   "metadata": {},
   "source": [
    "## Code2FN\n",
    "\n",
    "I tried parsing code into a Function Network below. \n",
    "\n",
    "First, I used `process_file_system` which \n",
    "yielded [this JSON](./test--Gromet-FN-auto.json) but upon updating, that step broke. "
   ]
  },
  {
   "cell_type": "code",
   "execution_count": 2,
   "id": "3e20b801",
   "metadata": {
    "hidden": true
   },
   "outputs": [
    {
     "name": "stdout",
     "output_type": "stream",
     "text": [
      "/home/five/askem-experiments/skema/model/main.py\n",
      "found numpy\n",
      "found scipy.integrate\n",
      "found matplotlib.pyplot\n",
      "found options\n",
      "found options\n"
     ]
    },
    {
     "ename": "TypeError",
     "evalue": "'NoneType' object is not iterable",
     "output_type": "error",
     "traceback": [
      "\u001b[0;31m---------------------------------------------------------------------------\u001b[0m",
      "\u001b[0;31mTypeError\u001b[0m                                 Traceback (most recent call last)",
      "Cell \u001b[0;32mIn[2], line 4\u001b[0m\n\u001b[1;32m      1\u001b[0m COLLECTION_NAME \u001b[38;5;241m=\u001b[39m os\u001b[38;5;241m.\u001b[39mpath\u001b[38;5;241m.\u001b[39mjoin(RESULTS_DIR, \u001b[38;5;124m\"\u001b[39m\u001b[38;5;124mtest\u001b[39m\u001b[38;5;124m\"\u001b[39m)\n\u001b[0;32m----> 4\u001b[0m \u001b[43mprocess_file_system\u001b[49m\u001b[43m(\u001b[49m\u001b[43mCOLLECTION_NAME\u001b[49m\u001b[43m,\u001b[49m\u001b[43m \u001b[49m\u001b[43mMODEL_DIR\u001b[49m\u001b[43m,\u001b[49m\u001b[43m \u001b[49m\u001b[43mSYSTEM_FILES_PATH\u001b[49m\u001b[43m)\u001b[49m\n",
      "File \u001b[0;32m~/skema-demo/automates/automates/utils/script_functions.py:45\u001b[0m, in \u001b[0;36mprocess_file_system\u001b[0;34m(system_name, path, files)\u001b[0m\n\u001b[1;32m     42\u001b[0m \u001b[38;5;28mprint\u001b[39m(full_file\u001b[38;5;241m.\u001b[39mrstrip())\n\u001b[1;32m     44\u001b[0m \u001b[38;5;28;01mtry\u001b[39;00m:\n\u001b[0;32m---> 45\u001b[0m     cast \u001b[38;5;241m=\u001b[39m \u001b[43mpython_to_cast\u001b[49m\u001b[43m(\u001b[49m\u001b[43mfull_file\u001b[49m\u001b[43m,\u001b[49m\u001b[43m \u001b[49m\u001b[43mcast_obj\u001b[49m\u001b[38;5;241;43m=\u001b[39;49m\u001b[38;5;28;43;01mTrue\u001b[39;49;00m\u001b[43m)\u001b[49m\n\u001b[1;32m     46\u001b[0m     generated_gromet \u001b[38;5;241m=\u001b[39m ann_cast_pipeline(cast, gromet\u001b[38;5;241m=\u001b[39m\u001b[38;5;28;01mTrue\u001b[39;00m, to_file\u001b[38;5;241m=\u001b[39m\u001b[38;5;28;01mFalse\u001b[39;00m, from_obj\u001b[38;5;241m=\u001b[39m\u001b[38;5;28;01mTrue\u001b[39;00m)\n\u001b[1;32m     48\u001b[0m     \u001b[38;5;66;03m# Then, after we generate the GroMEt we store it in the 'modules' field \u001b[39;00m\n\u001b[1;32m     49\u001b[0m     \u001b[38;5;66;03m# and store its path in the 'module_index' field\u001b[39;00m\n",
      "File \u001b[0;32m~/skema-demo/automates/automates/utils/script_functions.py:119\u001b[0m, in \u001b[0;36mpython_to_cast\u001b[0;34m(pyfile_path, agraph, astprint, std_out, rawjson, legacy, cast_obj)\u001b[0m\n\u001b[1;32m    115\u001b[0m \u001b[38;5;66;03m#os.chdir(curr_path)\u001b[39;00m\n\u001b[1;32m    116\u001b[0m \n\u001b[1;32m    117\u001b[0m \u001b[38;5;66;03m# Parse the python program's AST and create the CAST\u001b[39;00m\n\u001b[1;32m    118\u001b[0m contents \u001b[38;5;241m=\u001b[39m ast\u001b[38;5;241m.\u001b[39mparse(file_contents)\n\u001b[0;32m--> 119\u001b[0m C \u001b[38;5;241m=\u001b[39m \u001b[43mconvert\u001b[49m\u001b[38;5;241;43m.\u001b[39;49m\u001b[43mvisit\u001b[49m\u001b[43m(\u001b[49m\u001b[43mcontents\u001b[49m\u001b[43m,\u001b[49m\u001b[43m \u001b[49m\u001b[43m{\u001b[49m\u001b[43m}\u001b[49m\u001b[43m,\u001b[49m\u001b[43m \u001b[49m\u001b[43m{\u001b[49m\u001b[43m}\u001b[49m\u001b[43m)\u001b[49m\n\u001b[1;32m    120\u001b[0m C\u001b[38;5;241m.\u001b[39msource_refs \u001b[38;5;241m=\u001b[39m [SourceRef(file_name, \u001b[38;5;28;01mNone\u001b[39;00m, \u001b[38;5;28;01mNone\u001b[39;00m, \u001b[38;5;241m1\u001b[39m, line_count)]\n\u001b[1;32m    122\u001b[0m os\u001b[38;5;241m.\u001b[39mchdir(old_path)\n",
      "File \u001b[0;32m/usr/lib/python3.10/functools.py:926\u001b[0m, in \u001b[0;36msingledispatchmethod.__get__.<locals>._method\u001b[0;34m(*args, **kwargs)\u001b[0m\n\u001b[1;32m    924\u001b[0m \u001b[38;5;28;01mdef\u001b[39;00m \u001b[38;5;21m_method\u001b[39m(\u001b[38;5;241m*\u001b[39margs, \u001b[38;5;241m*\u001b[39m\u001b[38;5;241m*\u001b[39mkwargs):\n\u001b[1;32m    925\u001b[0m     method \u001b[38;5;241m=\u001b[39m \u001b[38;5;28mself\u001b[39m\u001b[38;5;241m.\u001b[39mdispatcher\u001b[38;5;241m.\u001b[39mdispatch(args[\u001b[38;5;241m0\u001b[39m]\u001b[38;5;241m.\u001b[39m\u001b[38;5;18m__class__\u001b[39m)\n\u001b[0;32m--> 926\u001b[0m     \u001b[38;5;28;01mreturn\u001b[39;00m \u001b[43mmethod\u001b[49m\u001b[38;5;241;43m.\u001b[39;49m\u001b[38;5;21;43m__get__\u001b[39;49m\u001b[43m(\u001b[49m\u001b[43mobj\u001b[49m\u001b[43m,\u001b[49m\u001b[43m \u001b[49m\u001b[38;5;28;43mcls\u001b[39;49m\u001b[43m)\u001b[49m\u001b[43m(\u001b[49m\u001b[38;5;241;43m*\u001b[39;49m\u001b[43margs\u001b[49m\u001b[43m,\u001b[49m\u001b[43m \u001b[49m\u001b[38;5;241;43m*\u001b[39;49m\u001b[38;5;241;43m*\u001b[39;49m\u001b[43mkwargs\u001b[49m\u001b[43m)\u001b[49m\n",
      "File \u001b[0;32m~/skema-demo/automates/automates/program_analysis/PyAST2CAST/py_ast_to_cast.py:1712\u001b[0m, in \u001b[0;36mPyASTToCAST.visit_Module\u001b[0;34m(self, node, prev_scope_id_dict, curr_scope_id_dict)\u001b[0m\n\u001b[1;32m   1709\u001b[0m     funcs\u001b[38;5;241m.\u001b[39mappend(piece)\n\u001b[1;32m   1710\u001b[0m     \u001b[38;5;28;01mcontinue\u001b[39;00m\n\u001b[0;32m-> 1712\u001b[0m to_add \u001b[38;5;241m=\u001b[39m \u001b[38;5;28;43mself\u001b[39;49m\u001b[38;5;241;43m.\u001b[39;49m\u001b[43mvisit\u001b[49m\u001b[43m(\u001b[49m\u001b[43mpiece\u001b[49m\u001b[43m,\u001b[49m\u001b[43m \u001b[49m\u001b[43mprev_scope_id_dict\u001b[49m\u001b[43m,\u001b[49m\u001b[43m \u001b[49m\u001b[43mcurr_scope_id_dict\u001b[49m\u001b[43m)\u001b[49m\n\u001b[1;32m   1714\u001b[0m \u001b[38;5;66;03m# Global variables (which come about from assignments at the module level)\u001b[39;00m\n\u001b[1;32m   1715\u001b[0m \u001b[38;5;66;03m# need to have their identifier names set correctly so they can be\u001b[39;00m\n\u001b[1;32m   1716\u001b[0m \u001b[38;5;66;03m# accessed appropriately later on\u001b[39;00m\n\u001b[0;32m   (...)\u001b[0m\n\u001b[1;32m   1724\u001b[0m \u001b[38;5;66;03m# Update the global dictionary at this time so that the IDs are defined\u001b[39;00m\n\u001b[1;32m   1725\u001b[0m \u001b[38;5;66;03m# and are correct\u001b[39;00m\n\u001b[1;32m   1726\u001b[0m \u001b[38;5;28;01mif\u001b[39;00m \u001b[38;5;28misinstance\u001b[39m(piece, ast\u001b[38;5;241m.\u001b[39mAssign):\n",
      "File \u001b[0;32m/usr/lib/python3.10/functools.py:926\u001b[0m, in \u001b[0;36msingledispatchmethod.__get__.<locals>._method\u001b[0;34m(*args, **kwargs)\u001b[0m\n\u001b[1;32m    924\u001b[0m \u001b[38;5;28;01mdef\u001b[39;00m \u001b[38;5;21m_method\u001b[39m(\u001b[38;5;241m*\u001b[39margs, \u001b[38;5;241m*\u001b[39m\u001b[38;5;241m*\u001b[39mkwargs):\n\u001b[1;32m    925\u001b[0m     method \u001b[38;5;241m=\u001b[39m \u001b[38;5;28mself\u001b[39m\u001b[38;5;241m.\u001b[39mdispatcher\u001b[38;5;241m.\u001b[39mdispatch(args[\u001b[38;5;241m0\u001b[39m]\u001b[38;5;241m.\u001b[39m\u001b[38;5;18m__class__\u001b[39m)\n\u001b[0;32m--> 926\u001b[0m     \u001b[38;5;28;01mreturn\u001b[39;00m \u001b[43mmethod\u001b[49m\u001b[38;5;241;43m.\u001b[39;49m\u001b[38;5;21;43m__get__\u001b[39;49m\u001b[43m(\u001b[49m\u001b[43mobj\u001b[49m\u001b[43m,\u001b[49m\u001b[43m \u001b[49m\u001b[38;5;28;43mcls\u001b[39;49m\u001b[43m)\u001b[49m\u001b[43m(\u001b[49m\u001b[38;5;241;43m*\u001b[39;49m\u001b[43margs\u001b[49m\u001b[43m,\u001b[49m\u001b[43m \u001b[49m\u001b[38;5;241;43m*\u001b[39;49m\u001b[38;5;241;43m*\u001b[39;49m\u001b[43mkwargs\u001b[49m\u001b[43m)\u001b[49m\n",
      "File \u001b[0;32m~/skema-demo/automates/automates/program_analysis/PyAST2CAST/py_ast_to_cast.py:528\u001b[0m, in \u001b[0;36mPyASTToCAST.visit_Assign\u001b[0;34m(self, node, prev_scope_id_dict, curr_scope_id_dict)\u001b[0m\n\u001b[1;32m    524\u001b[0m         \u001b[38;5;28;01mreturn\u001b[39;00m [Assignment(left[\u001b[38;5;241m0\u001b[39m], to_ret, source_refs\u001b[38;5;241m=\u001b[39mref)]\n\u001b[1;32m    527\u001b[0m l_visit \u001b[38;5;241m=\u001b[39m \u001b[38;5;28mself\u001b[39m\u001b[38;5;241m.\u001b[39mvisit(node\u001b[38;5;241m.\u001b[39mtargets[\u001b[38;5;241m0\u001b[39m], prev_scope_id_dict, curr_scope_id_dict)\n\u001b[0;32m--> 528\u001b[0m r_visit \u001b[38;5;241m=\u001b[39m \u001b[38;5;28;43mself\u001b[39;49m\u001b[38;5;241;43m.\u001b[39;49m\u001b[43mvisit\u001b[49m\u001b[43m(\u001b[49m\u001b[43mnode\u001b[49m\u001b[38;5;241;43m.\u001b[39;49m\u001b[43mvalue\u001b[49m\u001b[43m,\u001b[49m\u001b[43m \u001b[49m\u001b[43mprev_scope_id_dict\u001b[49m\u001b[43m,\u001b[49m\u001b[43m \u001b[49m\u001b[43mcurr_scope_id_dict\u001b[49m\u001b[43m)\u001b[49m\n\u001b[1;32m    529\u001b[0m left\u001b[38;5;241m.\u001b[39mextend(l_visit)\n\u001b[1;32m    530\u001b[0m right\u001b[38;5;241m.\u001b[39mextend(r_visit)\n",
      "File \u001b[0;32m/usr/lib/python3.10/functools.py:926\u001b[0m, in \u001b[0;36msingledispatchmethod.__get__.<locals>._method\u001b[0;34m(*args, **kwargs)\u001b[0m\n\u001b[1;32m    924\u001b[0m \u001b[38;5;28;01mdef\u001b[39;00m \u001b[38;5;21m_method\u001b[39m(\u001b[38;5;241m*\u001b[39margs, \u001b[38;5;241m*\u001b[39m\u001b[38;5;241m*\u001b[39mkwargs):\n\u001b[1;32m    925\u001b[0m     method \u001b[38;5;241m=\u001b[39m \u001b[38;5;28mself\u001b[39m\u001b[38;5;241m.\u001b[39mdispatcher\u001b[38;5;241m.\u001b[39mdispatch(args[\u001b[38;5;241m0\u001b[39m]\u001b[38;5;241m.\u001b[39m\u001b[38;5;18m__class__\u001b[39m)\n\u001b[0;32m--> 926\u001b[0m     \u001b[38;5;28;01mreturn\u001b[39;00m \u001b[43mmethod\u001b[49m\u001b[38;5;241;43m.\u001b[39;49m\u001b[38;5;21;43m__get__\u001b[39;49m\u001b[43m(\u001b[49m\u001b[43mobj\u001b[49m\u001b[43m,\u001b[49m\u001b[43m \u001b[49m\u001b[38;5;28;43mcls\u001b[39;49m\u001b[43m)\u001b[49m\u001b[43m(\u001b[49m\u001b[38;5;241;43m*\u001b[39;49m\u001b[43margs\u001b[49m\u001b[43m,\u001b[49m\u001b[43m \u001b[49m\u001b[38;5;241;43m*\u001b[39;49m\u001b[38;5;241;43m*\u001b[39;49m\u001b[43mkwargs\u001b[49m\u001b[43m)\u001b[49m\n",
      "File \u001b[0;32m~/skema-demo/automates/automates/program_analysis/PyAST2CAST/py_ast_to_cast.py:1676\u001b[0m, in \u001b[0;36mPyASTToCAST.visit_List\u001b[0;34m(self, node, prev_scope_id_dict, curr_scope_id_dict)\u001b[0m\n\u001b[1;32m   1674\u001b[0m to_ret \u001b[38;5;241m=\u001b[39m []\n\u001b[1;32m   1675\u001b[0m \u001b[38;5;28;01mfor\u001b[39;00m piece \u001b[38;5;129;01min\u001b[39;00m node\u001b[38;5;241m.\u001b[39melts:\n\u001b[0;32m-> 1676\u001b[0m     \u001b[43mto_ret\u001b[49m\u001b[38;5;241;43m.\u001b[39;49m\u001b[43mextend\u001b[49m\u001b[43m(\u001b[49m\u001b[38;5;28;43mself\u001b[39;49m\u001b[38;5;241;43m.\u001b[39;49m\u001b[43mvisit\u001b[49m\u001b[43m(\u001b[49m\u001b[43mpiece\u001b[49m\u001b[43m,\u001b[49m\u001b[43m \u001b[49m\u001b[43mprev_scope_id_dict\u001b[49m\u001b[43m,\u001b[49m\u001b[43m \u001b[49m\u001b[43mcurr_scope_id_dict\u001b[49m\u001b[43m)\u001b[49m\u001b[43m)\u001b[49m\n\u001b[1;32m   1677\u001b[0m \u001b[38;5;66;03m# TODO: How to represent computations like '[0.0] * 1000' in some kind of type constructing system\u001b[39;00m\n\u001b[1;32m   1678\u001b[0m \u001b[38;5;66;03m# and then how could we store that in these LiteralValue nodes? \u001b[39;00m\n\u001b[1;32m   1679\u001b[0m \u001b[38;5;28;01mreturn\u001b[39;00m [LiteralValue(StructureType\u001b[38;5;241m.\u001b[39mLIST, to_ret, source_code_data_type, ref)]\n",
      "\u001b[0;31mTypeError\u001b[0m: 'NoneType' object is not iterable"
     ]
    }
   ],
   "source": [
    "COLLECTION_NAME = os.path.join(RESULTS_DIR, \"test\")\n",
    "\n",
    "\n",
    "process_file_system(COLLECTION_NAME, MODEL_DIR, SYSTEM_FILES_PATH)"
   ]
  },
  {
   "cell_type": "markdown",
   "id": "02d462dd",
   "metadata": {},
   "source": [
    "Second, I tried processing the JSON above using `json_to_gromet`, but it failed. It was commented out during the December Demo so I expect that it has issues."
   ]
  },
  {
   "cell_type": "code",
   "execution_count": 3,
   "id": "9660676e",
   "metadata": {},
   "outputs": [
    {
     "ename": "KeyError",
     "evalue": "'fn'",
     "output_type": "error",
     "traceback": [
      "\u001b[0;31m---------------------------------------------------------------------------\u001b[0m",
      "\u001b[0;31mKeyError\u001b[0m                                  Traceback (most recent call last)",
      "Cell \u001b[0;32mIn[3], line 2\u001b[0m\n\u001b[1;32m      1\u001b[0m \u001b[38;5;66;03m# DOESN't work\u001b[39;00m\n\u001b[0;32m----> 2\u001b[0m chime_module_collection \u001b[38;5;241m=\u001b[39m \u001b[43mjson_to_gromet\u001b[49m\u001b[43m(\u001b[49m\u001b[43mCOLLECTION_NAME\u001b[49m\u001b[38;5;241;43m+\u001b[39;49m\u001b[38;5;124;43m\"\u001b[39;49m\u001b[38;5;124;43m--Gromet-FN-auto.json\u001b[39;49m\u001b[38;5;124;43m\"\u001b[39;49m\u001b[43m)\u001b[49m\n\u001b[1;32m      3\u001b[0m pprint(chime_module_collection)\n",
      "File \u001b[0;32m~/skema-demo/automates/automates/program_analysis/JSON2GroMEt/json2gromet.py:45\u001b[0m, in \u001b[0;36mjson_to_gromet\u001b[0;34m(path)\u001b[0m\n\u001b[1;32m     42\u001b[0m gromet_module \u001b[38;5;241m=\u001b[39m GrometFNModule()\n\u001b[1;32m     44\u001b[0m \u001b[38;5;66;03m# Create the function network for top level module\u001b[39;00m\n\u001b[0;32m---> 45\u001b[0m gromet_module\u001b[38;5;241m.\u001b[39mfn \u001b[38;5;241m=\u001b[39m parse_function_network(\u001b[43mjson_object\u001b[49m\u001b[43m[\u001b[49m\u001b[38;5;124;43m\"\u001b[39;49m\u001b[38;5;124;43mfn\u001b[39;49m\u001b[38;5;124;43m\"\u001b[39;49m\u001b[43m]\u001b[49m)\n\u001b[1;32m     47\u001b[0m \u001b[38;5;66;03m# Import Attributes\u001b[39;00m\n\u001b[1;32m     48\u001b[0m \u001b[38;5;28;01mfor\u001b[39;00m fn \u001b[38;5;129;01min\u001b[39;00m json_object[\u001b[38;5;124m\"\u001b[39m\u001b[38;5;124mattributes\u001b[39m\u001b[38;5;124m\"\u001b[39m]:\n\u001b[1;32m     49\u001b[0m     \u001b[38;5;66;03m# TODO: Add support for types other than FN\u001b[39;00m\n",
      "\u001b[0;31mKeyError\u001b[0m: 'fn'"
     ]
    }
   ],
   "source": [
    "# DOESN't work\n",
    "chime_module_collection = json_to_gromet(COLLECTION_NAME+\"--Gromet-FN-auto.json\")\n",
    "pprint(chime_module_collection)"
   ]
  },
  {
   "cell_type": "markdown",
   "id": "400c4b85",
   "metadata": {},
   "source": [
    "Since the above function didn't work, I tried to find a function that would just take some Python (not a whole filesystem) and return a gromet. `py2grfn` seemed like what I wanted from the name, but I couldn't import it without module error."
   ]
  },
  {
   "cell_type": "code",
   "execution_count": 4,
   "id": "309e30e5",
   "metadata": {},
   "outputs": [
    {
     "ename": "ModuleNotFoundError",
     "evalue": "No module named 'cast'",
     "output_type": "error",
     "traceback": [
      "\u001b[0;31m---------------------------------------------------------------------------\u001b[0m",
      "\u001b[0;31mModuleNotFoundError\u001b[0m                       Traceback (most recent call last)",
      "Cell \u001b[0;32mIn[4], line 2\u001b[0m\n\u001b[1;32m      1\u001b[0m \u001b[38;5;66;03m# This also doesn't seem to work\u001b[39;00m\n\u001b[0;32m----> 2\u001b[0m \u001b[38;5;28;01mfrom\u001b[39;00m \u001b[38;5;21;01mautomates\u001b[39;00m\u001b[38;5;21;01m.\u001b[39;00m\u001b[38;5;21;01mprogram_analysis\u001b[39;00m\u001b[38;5;21;01m.\u001b[39;00m\u001b[38;5;21;01mPy2GrFN\u001b[39;00m \u001b[38;5;28;01mimport\u001b[39;00m py2grfn\n",
      "File \u001b[0;32m~/skema-demo/automates/automates/program_analysis/Py2GrFN/py2grfn.py:4\u001b[0m\n\u001b[1;32m      1\u001b[0m \u001b[38;5;28;01mimport\u001b[39;00m \u001b[38;5;21;01mast\u001b[39;00m\n\u001b[1;32m      2\u001b[0m \u001b[38;5;28;01mimport\u001b[39;00m \u001b[38;5;21;01msys\u001b[39;00m\n\u001b[0;32m----> 4\u001b[0m \u001b[38;5;28;01mfrom\u001b[39;00m \u001b[38;5;21;01mcast\u001b[39;00m \u001b[38;5;28;01mimport\u001b[39;00m CAST2GrFN\n\u001b[1;32m      7\u001b[0m \u001b[38;5;28;01mdef\u001b[39;00m \u001b[38;5;21mmain\u001b[39m():\n\u001b[1;32m      8\u001b[0m     code \u001b[38;5;241m=\u001b[39m \u001b[38;5;124m\"\u001b[39m\u001b[38;5;124m\"\u001b[39m\n",
      "\u001b[0;31mModuleNotFoundError\u001b[0m: No module named 'cast'"
     ]
    }
   ],
   "source": [
    "# This also doesn't seem to work\n",
    "from automates.program_analysis.Py2GrFN import py2grfn"
   ]
  },
  {
   "cell_type": "code",
   "execution_count": 5,
   "id": "61a799d7",
   "metadata": {},
   "outputs": [],
   "source": [
    "with open(COLLECTION_NAME+\"--Gromet-FN-auto.json\", 'r') as f:\n",
    "    chime_module_collection = json.load(f)\n",
    "#pprint()"
   ]
  },
  {
   "cell_type": "markdown",
   "id": "f08cfed5",
   "metadata": {
    "heading_collapsed": true,
    "hidden": true
   },
   "source": [
    "## [SKIP] METAL\n",
    "\n",
    "cannot use METAL because the following objects are not available. \n",
    "```python\n",
    "COMMENTS_PATH = os.path.join(RESULTS_DIR, \"test-comments.json\")\n",
    "EXTRACTIONS_PATH = os.path.join(RESULTS_DIR, \"test-extractions.json\")\n",
    "EMBEDDINGS_PATH = os.path.join(RESULTS_DIR, \"embeddings.kv\")\n",
    "```"
   ]
  },
  {
   "cell_type": "markdown",
   "id": "de2a448f",
   "metadata": {
    "heading_collapsed": true,
    "hidden": true
   },
   "source": [
    "## SKEMA Server and FN Graph Service\n",
    "\n",
    "The IFrame below doesn't render but I believe it's a user error on my part. Still, if I try to visit the documentation in my browser, it doesn't work. The server is still running because the `ping` endpoint works."
   ]
  },
  {
   "cell_type": "code",
   "execution_count": 6,
   "id": "baa08032",
   "metadata": {
    "hidden": true,
    "scrolled": true
   },
   "outputs": [
    {
     "data": {
      "text/html": [
       "\n",
       "        <iframe\n",
       "            width=\"700\"\n",
       "            height=\"350\"\n",
       "            src=\"http://localhost:8080/api-docs/\"\n",
       "            frameborder=\"0\"\n",
       "            allowfullscreen\n",
       "            \n",
       "        ></iframe>\n",
       "        "
      ],
      "text/plain": [
       "<IPython.lib.display.IFrame at 0x7fd1c7227ca0>"
      ]
     },
     "execution_count": 6,
     "metadata": {},
     "output_type": "execute_result"
    }
   ],
   "source": [
    "from IPython.display import IFrame\n",
    "IFrame('http://localhost:8080/api-docs/', width=700, height=350)"
   ]
  },
  {
   "cell_type": "code",
   "execution_count": 7,
   "id": "7dd6291c",
   "metadata": {
    "hidden": true
   },
   "outputs": [],
   "source": [
    "import json\n",
    "from requests import get, put, post, delete\n",
    "#from graphviz import Source\n",
    "BASE_URL=\"http://localhost:8080\""
   ]
  },
  {
   "cell_type": "code",
   "execution_count": 8,
   "id": "23ea104a",
   "metadata": {
    "hidden": true
   },
   "outputs": [
    {
     "data": {
      "text/plain": [
       "'The SKEMA Rust web services are running.'"
      ]
     },
     "execution_count": 8,
     "metadata": {},
     "output_type": "execute_result"
    }
   ],
   "source": [
    "get(f\"{BASE_URL}/ping\").text"
   ]
  },
  {
   "cell_type": "markdown",
   "id": "2a5d9ab0",
   "metadata": {},
   "source": [
    "The generated JSON doesn't work. I believe it's because the `json_to_gromet` step failed which didn't turn the list `modules` in to a Function Network. In the December Demo, a different file is used I think for the reason that the `json_to_gromet` step wasn't working."
   ]
  },
  {
   "cell_type": "code",
   "execution_count": 9,
   "id": "1c26e038",
   "metadata": {
    "hidden": true,
    "scrolled": true
   },
   "outputs": [
    {
     "name": "stdout",
     "output_type": "stream",
     "text": [
      "Json deserialize error: missing field `fn` at line 1 column 126693\n"
     ]
    }
   ],
   "source": [
    "from requests import post\n",
    "with open(os.path.join(os.path.abspath(\"..\"),'test--Gromet-FN-auto.json')) as f:\n",
    "    r = post(f\"{BASE_URL}/models\", json=json.loads(f.read()))\n",
    "    if r.status_code == 200:\n",
    "        MODEL_ID = r.json()\n",
    "        print(f\"Model ID: {MODEL_ID}\")\n",
    "    else:\n",
    "        print(r.content.decode())"
   ]
  }
 ],
 "metadata": {
  "kernelspec": {
   "display_name": "Python 3 (ipykernel)",
   "language": "python",
   "name": "python3"
  },
  "language_info": {
   "codemirror_mode": {
    "name": "ipython",
    "version": 3
   },
   "file_extension": ".py",
   "mimetype": "text/x-python",
   "name": "python",
   "nbconvert_exporter": "python",
   "pygments_lexer": "ipython3",
   "version": "3.10.9"
  },
  "varInspector": {
   "cols": {
    "lenName": 16,
    "lenType": 16,
    "lenVar": 40
   },
   "kernels_config": {
    "python": {
     "delete_cmd_postfix": "",
     "delete_cmd_prefix": "del ",
     "library": "var_list.py",
     "varRefreshCmd": "print(var_dic_list())"
    },
    "r": {
     "delete_cmd_postfix": ") ",
     "delete_cmd_prefix": "rm(",
     "library": "var_list.r",
     "varRefreshCmd": "cat(var_dic_list()) "
    }
   },
   "types_to_exclude": [
    "module",
    "function",
    "builtin_function_or_method",
    "instance",
    "_Feature"
   ],
   "window_display": false
  }
 },
 "nbformat": 4,
 "nbformat_minor": 5
}
