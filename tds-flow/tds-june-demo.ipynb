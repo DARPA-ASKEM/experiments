{
 "cells": [
  {
   "cell_type": "markdown",
   "id": "fe20d1db",
   "metadata": {},
   "source": [
    "# TDS Demo Preparation\n",
    "\n",
    "This notebook includes functionality used to prepare for June 2023 demos."
   ]
  },
  {
   "cell_type": "code",
   "execution_count": 1,
   "id": "140a48dc",
   "metadata": {},
   "outputs": [],
   "source": [
    "import requests\n",
    "import io\n",
    "import json\n",
    "from copy import deepcopy\n",
    "import pandas as pd\n",
    "import numpy as np\n",
    "tds_url = 'http://localhost:8001'\n",
    "mit_url = 'http://100.26.10.46'"
   ]
  },
  {
   "cell_type": "markdown",
   "id": "3f55805f",
   "metadata": {},
   "source": [
    "## Forecast Hub Data Prep\n",
    "This mirrors the code [used by CIEMSS](https://github.com/ciemss/pyciemss/blob/main/notebook/april_ensemble/covid_data/Covid_hosp_data.ipynb) to prepare data for the April Ensemble Challenge.\n",
    "\n",
    "It includes incident case data, incident hospitalizations, and cumulative deaths. "
   ]
  },
  {
   "cell_type": "code",
   "execution_count": 2,
   "id": "6be1623f",
   "metadata": {},
   "outputs": [
    {
     "name": "stderr",
     "output_type": "stream",
     "text": [
      "/var/folders/pp/vgfp1wf143q46m_8v6qbt3bw0000gn/T/ipykernel_72912/3098796255.py:2: DtypeWarning: Columns (1) have mixed types. Specify dtype option on import or set low_memory=False.\n",
      "  raw_cases = pd.read_csv(url)\n",
      "/var/folders/pp/vgfp1wf143q46m_8v6qbt3bw0000gn/T/ipykernel_72912/3098796255.py:12: DtypeWarning: Columns (1) have mixed types. Specify dtype option on import or set low_memory=False.\n",
      "  raw_deaths = pd.read_csv(url)\n"
     ]
    }
   ],
   "source": [
    "url = 'https://media.githubusercontent.com/media/reichlab/covid19-forecast-hub/master/data-truth/truth-Incident%20Cases.csv'\n",
    "raw_cases = pd.read_csv(url)\n",
    "raw_cases.rename(columns={'value': 'cases'},inplace=True)\n",
    "raw_cases_us = raw_cases[raw_cases['location_name']=='United States']\n",
    "\n",
    "url = 'https://media.githubusercontent.com/media/reichlab/covid19-forecast-hub/master/data-truth/truth-Incident%20Hospitalizations.csv'\n",
    "raw_hosp = pd.read_csv(url)\n",
    "raw_hosp.rename(columns={'value': 'hospitalizations'},inplace=True)\n",
    "raw_hosp_us = raw_hosp[raw_hosp['location_name']=='United States']\n",
    "\n",
    "url = 'https://media.githubusercontent.com/media/reichlab/covid19-forecast-hub/master/data-truth/truth-Cumulative%20Deaths.csv'\n",
    "raw_deaths = pd.read_csv(url)\n",
    "raw_deaths.rename(columns={'value': 'deaths'},inplace=True)\n",
    "raw_deaths_us = raw_deaths[raw_deaths['location_name']=='United States']"
   ]
  },
  {
   "cell_type": "code",
   "execution_count": 3,
   "id": "cbf30c2a",
   "metadata": {},
   "outputs": [],
   "source": [
    "merged_df = pd.merge(raw_cases_us, raw_hosp_us, on=['date','location','location_name'], how='outer')\n",
    "merged_df = pd.merge(merged_df, raw_deaths_us, on=['date','location','location_name'], how='outer')"
   ]
  },
  {
   "cell_type": "code",
   "execution_count": 4,
   "id": "524b3bf4",
   "metadata": {},
   "outputs": [],
   "source": [
    "merged_df.to_csv('forecast_hub_demo_data.csv', index=False)"
   ]
  },
  {
   "cell_type": "markdown",
   "id": "3d1a35d8",
   "metadata": {},
   "source": [
    "## Datasets Profiling\n",
    "\n",
    "Now we can profile this dataset using MIT's service."
   ]
  },
  {
   "cell_type": "code",
   "execution_count": 5,
   "id": "28cb9d07",
   "metadata": {},
   "outputs": [],
   "source": [
    "dataset = {\n",
    "  \"username\": \"Adam Smith\",\n",
    "  \"name\": \"COVID-19 Forecast Hub Ground Truth Data\",\n",
    "  \"description\": \"COVID-19 case incidents, hospitalization incidents and cumulative deaths provided by COVID-19 Forecast Hub.\",\n",
    "  \"file_names\": [\n",
    "    \"forecast_hub_demo_data.csv\"\n",
    "  ],\n",
    "  \"source\": \"https://github.com/reichlab/covid19-forecast-hub/blob/master/data-truth/README.md\",\n",
    "  }"
   ]
  },
  {
   "cell_type": "markdown",
   "id": "0fcf03b7",
   "metadata": {},
   "source": [
    "First, we'll profile the dataset via MIT's extraction service.\n",
    "\n",
    "This currently requires sending a GPT key. We'll fetch one from a local file. To recreate, add your key to a file named openai_key alongside this notebook or fill it in below."
   ]
  },
  {
   "cell_type": "code",
   "execution_count": 6,
   "id": "79d3562b",
   "metadata": {},
   "outputs": [],
   "source": [
    "openai_key = open('openai_key', 'r').read().strip()"
   ]
  },
  {
   "cell_type": "markdown",
   "id": "a38b28f7",
   "metadata": {},
   "source": [
    "The MIT extraction service works best with just the top few lines of a dataset.\n",
    "\n",
    "3 or 4 lines seems to be the sweet spot."
   ]
  },
  {
   "cell_type": "code",
   "execution_count": 7,
   "id": "948cc811",
   "metadata": {},
   "outputs": [],
   "source": [
    "df = merged_df"
   ]
  },
  {
   "cell_type": "code",
   "execution_count": 8,
   "id": "b253ed72",
   "metadata": {
    "scrolled": true
   },
   "outputs": [],
   "source": [
    "buffer = io.StringIO()\n",
    "df.head(3).to_csv(buffer, index=False)\n",
    "file_sample = buffer.getvalue()"
   ]
  },
  {
   "cell_type": "code",
   "execution_count": 9,
   "id": "ded254f3",
   "metadata": {
    "scrolled": true
   },
   "outputs": [
    {
     "name": "stdout",
     "output_type": "stream",
     "text": [
      "date,location,location_name,cases,hospitalizations,deaths\n",
      "2020-01-22,US,United States,1.0,,1.0\n",
      "2020-01-23,US,United States,0.0,,1.0\n",
      "2020-01-24,US,United States,1.0,,1.0\n",
      "\n"
     ]
    }
   ],
   "source": [
    "print(file_sample)"
   ]
  },
  {
   "cell_type": "markdown",
   "id": "0d9efea2",
   "metadata": {},
   "source": [
    "Now let's fetch the README for the demo data so that we can provide it as context to the MIT service"
   ]
  },
  {
   "cell_type": "code",
   "execution_count": 10,
   "id": "f5895bc9",
   "metadata": {},
   "outputs": [],
   "source": [
    "doc = requests.get('https://raw.githubusercontent.com/reichlab/covid19-forecast-hub/master/data-truth/README.md').text"
   ]
  },
  {
   "cell_type": "markdown",
   "id": "c0fd8867",
   "metadata": {},
   "source": [
    "Send the sample to two MIT endpoints for extraction (this usually takes between 30-90 seconds for each call)"
   ]
  },
  {
   "cell_type": "code",
   "execution_count": 11,
   "id": "06a83c98",
   "metadata": {},
   "outputs": [
    {
     "data": {
      "text/plain": [
       "{'date': {'col_name': 'date',\n",
       "  'concept': 'Date',\n",
       "  'unit': 'YYYY-MM-DD',\n",
       "  'description': 'The date of the data entry.',\n",
       "  'dkg_groundings': [['apollosv:00000429', 'date'],\n",
       "   ['oboinowl:date', 'date'],\n",
       "   ['dc:date', 'Date'],\n",
       "   ['geonames:2130188', 'Hakodate'],\n",
       "   ['oboinowl:hasDate', 'has_date'],\n",
       "   ['idocovid19:0001277', 'COVID-19 incidence', 'class'],\n",
       "   ['ido:0000480', 'infection incidence', 'class'],\n",
       "   ['idocovid19:0001283', 'SARS-CoV-2 incidence', 'class'],\n",
       "   ['hp:0001402', 'Hepatocellular carcinoma', 'class'],\n",
       "   ['oae:0000178', 'AE incidence rate', 'class'],\n",
       "   ['orphanet.ordo:409966', 'point prevalence', 'class'],\n",
       "   ['obcs:0000064', 'period prevalence', 'class'],\n",
       "   ['cemo:weighted_prevalence', 'weighted prevalence', 'class'],\n",
       "   ['idocovid19:0001272', 'COVID-19 prevalence', 'class'],\n",
       "   ['ido:0000486', 'infection prevalence', 'class']]},\n",
       " 'location': {'col_name': 'location',\n",
       "  'concept': 'Location Code',\n",
       "  'unit': 'Text',\n",
       "  'description': 'The location code of the place where the data is collected (e.g., US for the United States).',\n",
       "  'dkg_groundings': [['so:0000199', 'translocation'],\n",
       "   ['so:0001885', 'TFBS_translocation'],\n",
       "   ['so:0001881', 'feature_translocation'],\n",
       "   ['so:0001883', 'transcript_translocation'],\n",
       "   ['so:1000044', 'chromosomal_translocation'],\n",
       "   ['wikidata:Q4257161', 'range', 'class'],\n",
       "   ['wikidata:Q7574061', 'spatial distribution', 'class'],\n",
       "   ['wikidata:Q51482895',\n",
       "    'Geographic distribution of the pines of the world',\n",
       "    'class'],\n",
       "   ['wikidata:Q29010408',\n",
       "    'Geographic distribution of oil production worker exposures reported to Texas poison centers',\n",
       "    'class'],\n",
       "   ['wikidata:Q33525004',\n",
       "    'Geographic distribution of Staphylococcus aureus causing invasive infections in Europe: a molecular-epidemiological analysis',\n",
       "    'class']]},\n",
       " 'location_name': {'col_name': 'location_name',\n",
       "  'concept': 'Location Name',\n",
       "  'unit': 'Text',\n",
       "  'description': 'The name of the location where the data is collected (e.g., United States).',\n",
       "  'dkg_groundings': [['wikidata:Q1714800', 'locational surname'],\n",
       "   ['wikidata:Q82794', 'geographic region', 'class'],\n",
       "   ['wikidata:Q4835091', 'territory', 'class'],\n",
       "   ['wikidata:Q5535051', 'Geographic areas of Houston', 'class'],\n",
       "   ['wikidata:Q111867462',\n",
       "    'geographic area of the United States of America',\n",
       "    'class'],\n",
       "   ['wikidata:Q5535052', 'Geographic areas of Sugar Land, Texas', 'class'],\n",
       "   ['wikidata:Q47933460',\n",
       "    'Place of residence and risk of fracture in older people: a population-based study of over 65-year-olds in Cardiff.',\n",
       "    'class'],\n",
       "   ['wikidata:Q39831605',\n",
       "    'Place of residence and obesity in 1,578,694 young Swedish men between 1969 and 2005.',\n",
       "    'class'],\n",
       "   ['wikidata:Q37662044',\n",
       "    'Place of residence and outcomes of patients with heart failure: analysis from the telemonitoring to improve heart failure outcomes trial',\n",
       "    'class'],\n",
       "   ['wikidata:Q39743023',\n",
       "    'Place of residence and distance to medical care influence the diagnosis of hepatitis C: a population-based study',\n",
       "    'class'],\n",
       "   ['wikidata:Q34248327',\n",
       "    'Place of residence affects routine dental care in the intellectually and developmentally disabled adult population on Medicaid',\n",
       "    'class']]},\n",
       " 'cases': {'col_name': 'cases',\n",
       "  'concept': 'Confirmed Cases',\n",
       "  'unit': 'Number',\n",
       "  'description': 'The number of confirmed COVID-19 cases on the given date.',\n",
       "  'dkg_groundings': [['hp:0003745', 'Sporadic'],\n",
       "   ['cemo:daily_cases', 'daily cases'],\n",
       "   ['cemo:suspected_cases', 'suspected cases'],\n",
       "   ['cemo:cumulative_cases', 'cumulative cases'],\n",
       "   ['cemo:undetected_cases', 'undetected cases'],\n",
       "   ['wikidata:Q28247083',\n",
       "    'Outbreaks of renal failure associated with melamine and cyanuric acid in dogs and cats in 2004 and 2007',\n",
       "    'class'],\n",
       "   ['wikidata:Q54713875',\n",
       "    'Outbreaks of acute gastroenteritis on cruise ships and on land: identification of a predominant circulating strain of norovirus--United States, 2002.',\n",
       "    'class'],\n",
       "   ['wikidata:Q35114725',\n",
       "    'Outbreaks of hand, foot, and mouth disease by enterovirus 71. High incidence of complication disorders of central nervous system',\n",
       "    'class'],\n",
       "   ['wikidata:Q44316280',\n",
       "    'Outbreaks of community-associated methicillin-resistant Staphylococcus aureus skin infections--Los Angeles County, California, 2002-2003.',\n",
       "    'class'],\n",
       "   ['wikidata:Q24533189',\n",
       "    'Outbreaks of disease suspected of being due to human monkeypox virus infection in the Democratic Republic of Congo in 2001.',\n",
       "    'class'],\n",
       "   ['idocovid19:0001277', 'COVID-19 incidence', 'class'],\n",
       "   ['ido:0000480', 'infection incidence', 'class'],\n",
       "   ['idocovid19:0001283', 'SARS-CoV-2 incidence', 'class'],\n",
       "   ['hp:0001402', 'Hepatocellular carcinoma', 'class'],\n",
       "   ['oae:0000178', 'AE incidence rate', 'class']]},\n",
       " 'hospitalizations': {'col_name': 'hospitalizations',\n",
       "  'concept': 'Hospitalizations',\n",
       "  'unit': 'Number',\n",
       "  'description': 'The number of COVID-19 related hospitalizations on the given date.',\n",
       "  'dkg_groundings': [['wikidata:Q24266839',\n",
       "    \"Hospitalizations paid by workers' compensation, Oklahoma, 2005\"],\n",
       "   ['wikidata:Q113899048',\n",
       "    'Hospitalizations During Pandemia in the Italian Coronary Care Unit Network'],\n",
       "   ['wikidata:Q107002153',\n",
       "    'Hospitalizations among persons under 18 years of age when exposed to the September 11, 2001 World Trade Center terrorist attack'],\n",
       "   ['wikidata:Q33877838',\n",
       "    'Hospitalizations and deaths caused by methicillin-resistant Staphylococcus aureus, United States, 1999-2005'],\n",
       "   ['wikidata:Q53089518',\n",
       "    'Hospitalizations, costs, and outcomes of severe sepsis in the United States 2003 to 2007.'],\n",
       "   ['cemo:hospitalization_rate', 'hospitalization rate', 'class'],\n",
       "   ['wikidata:Q37130056',\n",
       "    'Inpatient admissions for drug-induced liver injury: results from a single center.',\n",
       "    'class'],\n",
       "   ['wikidata:Q46520500',\n",
       "    'Inpatient admissions and outpatient visits in persons with and without HIV infection in Denmark, 1995-2007.',\n",
       "    'class'],\n",
       "   ['wikidata:Q30403811',\n",
       "    'Inpatient admissions for interventional radiology: philosophy of patient management',\n",
       "    'class'],\n",
       "   ['wikidata:Q41744490',\n",
       "    'Inpatient admissions and costs of congenital heart disease from adolescence to young adulthood.',\n",
       "    'class'],\n",
       "   ['wikidata:Q44333230',\n",
       "    'Inpatient admissions of patients living with HIV in two European centres (UK and Italy); comparisons and contrasts.',\n",
       "    'class']]},\n",
       " 'deaths': {'col_name': 'deaths',\n",
       "  'concept': 'Deaths',\n",
       "  'unit': 'Number',\n",
       "  'description': 'The number of COVID-19 related deaths on the given date.',\n",
       "  'dkg_groundings': [['cemo:daily_deaths', 'daily deaths'],\n",
       "   ['cemo:number_of_deaths_new_this_week', 'number of deaths new this week'],\n",
       "   ['hp:0040006', 'Mortality/Aging', 'class'],\n",
       "   ['ncit:C16729', 'Infant Mortality', 'class'],\n",
       "   ['apollosv:00000445', 'mortality rate', 'class'],\n",
       "   ['apollosv:00000542', 'mortality data', 'class'],\n",
       "   ['stato:0000414', 'mortality rate', 'class'],\n",
       "   ['wikidata:Q4', 'death', 'class'],\n",
       "   ['wikidata:Q1367554', 'morbidity', 'class'],\n",
       "   ['wikidata:Q65169293', 'morbidity', 'class'],\n",
       "   ['wikidata:Q32905284', 'Morbidity', 'class'],\n",
       "   ['wikidata:Q1763668', 'Morbidity and Mortality Weekly Report', 'class']]}}"
      ]
     },
     "execution_count": 11,
     "metadata": {},
     "output_type": "execute_result"
    }
   ],
   "source": [
    "resp = requests.post(\n",
    "    url=f\"{mit_url}/annotation/link_dataset_col_to_dkg\",\n",
    "    params={\"csv_str\": file_sample, \"doc\": doc, \"gpt_key\": openai_key},\n",
    ")\n",
    "mit_groundings = resp.json()\n",
    "mit_groundings"
   ]
  },
  {
   "cell_type": "code",
   "execution_count": 12,
   "id": "92c8d851",
   "metadata": {},
   "outputs": [
    {
     "data": {
      "text/plain": [
       "{'date': {'type': 'variable',\n",
       "  'name': 'date',\n",
       "  'id': 'v0',\n",
       "  'text_annotations': [' Date of the data entry'],\n",
       "  'dkg_annotations': [['apollosv:00000429', 'date'],\n",
       "   ['oboinowl:date', 'date']],\n",
       "  'title': 'd30f8211b9f1611304ab63023c2db124__file',\n",
       "  'data_annotations': []},\n",
       " 'location': {'type': 'variable',\n",
       "  'name': 'location',\n",
       "  'id': 'v1',\n",
       "  'text_annotations': [' Country of the data entry'],\n",
       "  'dkg_annotations': [['so:0000199', 'translocation'],\n",
       "   ['so:0001885', 'TFBS_translocation']],\n",
       "  'title': 'd30f8211b9f1611304ab63023c2db124__file',\n",
       "  'data_annotations': [[[7, 'us-counties-2023.csv', 1, 'county'],\n",
       "    'https://raw.githubusercontent.com/nytimes/covid-19-data/master/us-counties-2023.csv']]},\n",
       " 'location_name': {'type': 'variable',\n",
       "  'name': 'location_name',\n",
       "  'id': 'v2',\n",
       "  'text_annotations': [' Name of the country of the data entry'],\n",
       "  'dkg_annotations': [],\n",
       "  'title': 'd30f8211b9f1611304ab63023c2db124__file',\n",
       "  'data_annotations': [[[4, 'OxCGRT_nat_latest.csv', 2, 'RegionName'],\n",
       "    'https://raw.githubusercontent.com/OxCGRT/covid-policy-tracker/master/data/OxCGRT_nat_latest.csv']]},\n",
       " 'cases': {'type': 'variable',\n",
       "  'name': 'cases',\n",
       "  'id': 'v3',\n",
       "  'text_annotations': [' Number of cases reported'],\n",
       "  'dkg_annotations': [['hp:0003745', 'Sporadic'],\n",
       "   ['cemo:daily_cases', 'daily cases']],\n",
       "  'title': 'd30f8211b9f1611304ab63023c2db124__file',\n",
       "  'data_annotations': [[[5,\n",
       "     'usa-cases-hospitalized-by-age.csv',\n",
       "     2,\n",
       "     'new_confirmed_age_0'],\n",
       "    'https://github.com/DARPA-ASKEM/program-milestones/blob/main/6-month-milestone/evaluation/scenario_3/ta_1/google-health-data/usa-cases-hospitalized-by-age.csv'],\n",
       "   [[5, 'usa-cases-hospitalized-by-age.csv', 3, 'new_confirmed_age_1'],\n",
       "    'https://github.com/DARPA-ASKEM/program-milestones/blob/main/6-month-milestone/evaluation/scenario_3/ta_1/google-health-data/usa-cases-hospitalized-by-age.csv']]},\n",
       " 'hospitalizations': {'type': 'variable',\n",
       "  'name': 'hospitalizations',\n",
       "  'id': 'v4',\n",
       "  'text_annotations': [' Number of hospitalizations reported'],\n",
       "  'dkg_annotations': [],\n",
       "  'title': 'd30f8211b9f1611304ab63023c2db124__file',\n",
       "  'data_annotations': [[[6,\n",
       "     'usa-hospitalizations.csv',\n",
       "     2,\n",
       "     'new_hospitalized_patients'],\n",
       "    'https://github.com/DARPA-ASKEM/program-milestones/blob/main/6-month-milestone/evaluation/scenario_3/ta_1/google-health-data/usa-hospitalizations.csv'],\n",
       "   [[6, 'usa-hospitalizations.csv', 3, 'cumulative_hospitalized_patients'],\n",
       "    'https://github.com/DARPA-ASKEM/program-milestones/blob/main/6-month-milestone/evaluation/scenario_3/ta_1/google-health-data/usa-hospitalizations.csv']]},\n",
       " 'deaths': {'type': 'variable',\n",
       "  'name': 'deaths',\n",
       "  'id': 'v5',\n",
       "  'text_annotations': [' Number of deaths reported'],\n",
       "  'dkg_annotations': [['cemo:daily_deaths', 'daily deaths'],\n",
       "   ['cemo:number_of_deaths_new_this_week', 'number of deaths new this week']],\n",
       "  'title': 'd30f8211b9f1611304ab63023c2db124__file',\n",
       "  'data_annotations': [[[7, 'us-counties-2023.csv', 5, 'deaths'],\n",
       "    'https://raw.githubusercontent.com/nytimes/covid-19-data/master/us-counties-2023.csv'],\n",
       "   [[4, 'OxCGRT_nat_latest.csv', 50, 'ConfirmedDeaths'],\n",
       "    'https://raw.githubusercontent.com/OxCGRT/covid-policy-tracker/master/data/OxCGRT_nat_latest.csv']]}}"
      ]
     },
     "execution_count": 12,
     "metadata": {},
     "output_type": "execute_result"
    }
   ],
   "source": [
    "resp = requests.post(\n",
    "    url=f\"{mit_url}/annotation/upload_file_extract/?gpt_key={openai_key}\",\n",
    "    files={\"file\": file_sample},\n",
    ")\n",
    "resp.json()\n",
    "mit_annotations = {a['name']: a for a in resp.json()}\n",
    "mit_annotations"
   ]
  },
  {
   "cell_type": "code",
   "execution_count": 13,
   "id": "a94bacb6",
   "metadata": {},
   "outputs": [],
   "source": [
    "columns = []\n",
    "for c in df.columns:\n",
    "    annotations = mit_annotations.get(c, {}).get(\"text_annotations\", [])\n",
    "    # Skip any single empty strings that are sometimes returned and drop extra items that are sometimes included (usually the string 'class')\n",
    "    groundings = {g[0]: g[1] for g in mit_groundings.get(c, None).get('dkg_groundings', None) \\\n",
    "                if g and isinstance(g, list)}\n",
    "    col = {\n",
    "      \"name\": c,\n",
    "      \"data_type\": \"float\",\n",
    "      \"annotations\": annotations,\n",
    "      \"metadata\": {},\n",
    "      \"grounding\": {\n",
    "          \"identifiers\": groundings,\n",
    "      },\n",
    "    }\n",
    "    columns.append(col)\n",
    "\n",
    "dataset['columns'] = columns"
   ]
  },
  {
   "cell_type": "markdown",
   "id": "cd52ec1d",
   "metadata": {},
   "source": [
    "The dataset is now ready to be sent to the data service"
   ]
  },
  {
   "cell_type": "code",
   "execution_count": 14,
   "id": "7858f706",
   "metadata": {},
   "outputs": [],
   "source": [
    "with open('forecast_hub_demo_data.json','w') as f:\n",
    "    f.write(json.dumps(dataset))"
   ]
  }
 ],
 "metadata": {
  "kernelspec": {
   "display_name": "Python 3 (ipykernel)",
   "language": "python",
   "name": "python3"
  },
  "language_info": {
   "codemirror_mode": {
    "name": "ipython",
    "version": 3
   },
   "file_extension": ".py",
   "mimetype": "text/x-python",
   "name": "python",
   "nbconvert_exporter": "python",
   "pygments_lexer": "ipython3",
   "version": "3.9.7"
  }
 },
 "nbformat": 4,
 "nbformat_minor": 5
}
