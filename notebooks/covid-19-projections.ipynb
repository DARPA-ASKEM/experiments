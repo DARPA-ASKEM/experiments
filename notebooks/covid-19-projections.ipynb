{
 "cells": [
  {
   "cell_type": "code",
   "execution_count": 1,
   "id": "6bce1b86-820f-4121-9519-cccf81a1145a",
   "metadata": {},
   "outputs": [],
   "source": [
    "\n",
    "import numpy as np\n",
    "from scipy.integrate import odeint\n",
    "import matplotlib.pyplot as plt\n",
    "from json import load"
   ]
  },
  {
   "cell_type": "code",
   "execution_count": 5,
   "id": "552bb139-ddb6-4ca6-93c9-a21a56b992bb",
   "metadata": {},
   "outputs": [],
   "source": [
    "with open(\"covid-19-projections/population.json\", \"rb\") as f:\n",
    "    compartments = load(f)\n",
    "\n",
    "with open(\"covid-19-projections/params.json\", \"rb\") as f:\n",
    "    params = load(f)"
   ]
  },
  {
   "cell_type": "code",
   "execution_count": 21,
   "id": "4bcf5dbf-40ba-4010-8259-c6a6ce4b4b97",
   "metadata": {},
   "outputs": [],
   "source": [
    "y0 = [\n",
    "  compartments[\"susceptible\"],\n",
    "  compartments[\"exposed\"],\n",
    "  compartments[\"presymptomatic\"],        \n",
    "  compartments[\"symptomatic_infected\"],  \n",
    "  compartments[\"asymptomatic_infected\"],\n",
    "  compartments[\"quarantined\"],          \n",
    "  compartments[\"isolated\"],            \n",
    "  compartments[\"recovered\"],           \n",
    "  compartments[\"death\"],               \n",
    "]\n",
    "N = sum(y0)\n",
    "\n",
    "t = np.linspace(0, 1600, 160)"
   ]
  },
  {
   "cell_type": "code",
   "execution_count": 22,
   "id": "291e1b5a-5b06-488a-978a-e5be8026b6c5",
   "metadata": {},
   "outputs": [],
   "source": [
    "def nabi_kumar_erturk(y, t, N, p):\n",
    "    S, E1, E2, I, A, Q, L, R, D = y\n",
    "    def mk_lambda(beta, compt):\n",
    "        coefficient = beta * (1 - p[\"m\"]*p[\"ζ\"])\n",
    "        ratio = compt/N\n",
    "        return coefficient * ratio\n",
    "    lambdaE2 = mk_lambda(p[\"βE₂\"], E2)\n",
    "    lambdaA = mk_lambda(p[\"βA\"], A)\n",
    "    lambdaI = mk_lambda(p[\"βI\"], I)\n",
    "    lambdaQ = mk_lambda(p[\"βQ\"], Q)\n",
    "    lambdaL = mk_lambda(p[\"βL\"], L)\n",
    "\n",
    "\n",
    "    return [\n",
    "     -(lambdaE2 + lambdaA + lambdaI + lambdaQ + lambdaL) * S,\n",
    "     (lambdaE2 + lambdaA + lambdaI + lambdaQ + lambdaL)*S - p[\"κ₁\"]*E1,\n",
    "     p[\"κ₁\"]*E1 - (p[\"κ₂\"] + p[\"q\"])*E2,\n",
    "     p[\"ρ\"]*p[\"κ₂\"]*E2 - (p[\"τI\"] + p[\"γI\"] + p[\"δI\"])*I,\n",
    "     (1 - p[\"ρ\"])*p[\"κ₂\"]*E2 - (p[\"τA\"] + p[\"γA\"])*A,\n",
    "     p[\"q\"]*E2 - (p[\"γQ\"] + p[\"δQ\"])*Q,\n",
    "     p[\"τI\"]*I + p[\"τA\"]*A - (p[\"δL\"] + p[\"γL\"])*L,\n",
    "     p[\"γI\"]*I + p[\"γA\"]*A + p[\"γQ\"]*Q + p[\"γL\"]*L,\n",
    "     p[\"δI\"]*I + p[\"δL\"]*L + p[\"δQ\"]*Q\n",
    "    ]"
   ]
  },
  {
   "cell_type": "code",
   "execution_count": 23,
   "id": "8b0f5a53-4654-4484-9aa3-16402bfe46b6",
   "metadata": {},
   "outputs": [],
   "source": [
    "ret = odeint(nabi_kumar_erturk, y0, t, args=(N, params))\n",
    "S, E1, E2, I, A, Q, L, R, D = ret.T"
   ]
  },
  {
   "cell_type": "code",
   "execution_count": 24,
   "id": "4a8dddfa-7871-4b17-8e51-2a6131bbf3d0",
   "metadata": {},
   "outputs": [],
   "source": [
    "%matplotlib inline"
   ]
  },
  {
   "cell_type": "code",
   "execution_count": 33,
   "id": "f4ce9334-6c85-4644-ba01-c9ccaf8ea5e1",
   "metadata": {},
   "outputs": [
    {
     "name": "stderr",
     "output_type": "stream",
     "text": [
      "/tmp/ipykernel_275802/3530428917.py:23: MatplotlibDeprecationWarning: The 'b' parameter of grid() has been renamed 'visible' since Matplotlib 3.5; support for the old name will be dropped two minor releases later.\n",
      "  ax.grid(b=True, which='major', c='w', lw=2, ls='-')\n"
     ]
    },
    {
     "data": {
      "image/png": "[encoded data removed]",
      "text/plain": [
       "<Figure size 432x288 with 1 Axes>"
      ]
     },
     "metadata": {},
     "output_type": "display_data"
    }
   ],
   "source": [
    "fig = plt.figure(facecolor='w')\n",
    "ax = fig.add_subplot(111, facecolor='#dddddd', axisbelow=True)\n",
    "\n",
    "# DC add\n",
    "# ax.set_yscale('log')\n",
    "\n",
    "\n",
    "ax.plot(t, S, 'b', alpha=0.5, lw=2, label='Susceptible')\n",
    "ax.plot(t, E1, 'c', alpha=0.5, lw=2, label='Exposed')\n",
    "ax.plot(t, E2, 'm', alpha=0.5, lw=2, label='Presymptomatic')\n",
    "ax.plot(t, I, 'r', alpha=0.5, lw=2, label='Infected')\n",
    "ax.plot(t, A, 'c', alpha=0.5, lw=2, label='Asymptomatic')\n",
    "ax.plot(t, Q, 'y', alpha=0.5, lw=2, label='Quarantined')\n",
    "ax.plot(t, L, 'b', alpha=0.5, lw=2, label='Isolated')\n",
    "ax.plot(t, R, 'g', alpha=0.5, lw=2, label='Recovered')\n",
    "ax.plot(t, D, 'k', alpha=0.5, lw=2, label='Death')\n",
    "\n",
    "ax.set_xlabel('Days')\n",
    "ax.set_ylabel('Population')\n",
    "ax.set_ylim(0, 200000000)\n",
    "ax.yaxis.set_tick_params(length=0)\n",
    "ax.xaxis.set_tick_params(length=0)\n",
    "ax.grid(b=True, which='major', c='w', lw=2, ls='-')\n",
    "legend = ax.legend()\n",
    "legend.get_frame().set_alpha(0.5)\n",
    "for spine in ('top', 'right', 'bottom', 'left'):\n",
    "    ax.spines[spine].set_visible(False)\n",
    "plt.show()"
   ]
  },
  {
   "cell_type": "code",
   "execution_count": null,
   "id": "af234b17-cc70-478d-8a65-a55d23f95fe8",
   "metadata": {},
   "outputs": [],
   "source": []
  }
 ],
 "metadata": {
  "kernelspec": {
   "display_name": "Python 3 (ipykernel)",
   "language": "python",
   "name": "python3"
  },
  "language_info": {
   "codemirror_mode": {
    "name": "ipython",
    "version": 3
   },
   "file_extension": ".py",
   "mimetype": "text/x-python",
   "name": "python",
   "nbconvert_exporter": "python",
   "pygments_lexer": "ipython3",
   "version": "3.10.5"
  }
 },
 "nbformat": 4,
 "nbformat_minor": 5
}
