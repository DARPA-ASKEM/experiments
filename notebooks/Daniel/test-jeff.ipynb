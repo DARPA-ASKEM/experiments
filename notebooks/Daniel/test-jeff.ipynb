{
 "cells": [
  {
   "cell_type": "code",
   "execution_count": 28,
   "id": "aa540316-e6f7-44ad-9bd1-d2681f8cb5ed",
   "metadata": {},
   "outputs": [],
   "source": [
    "using ModelingToolkit\n",
    "using OrdinaryDiffEq\n",
    "using DifferentialEquations\n",
    "using AlgebraicPetri\n",
    "using AlgebraicPetri.Epidemiology\n",
    "using AlgebraicPetri.BilayerNetworks\n",
    "\n",
    "using Catlab\n",
    "using Catlab.CategoricalAlgebra\n",
    "using Catlab.Graphics\n",
    "import Catlab.CategoricalAlgebra: migrate!\n",
    "using Catlab.WiringDiagrams\n",
    "using Catlab.Programs.RelationalPrograms\n",
    "\n",
    "using JSON"
   ]
  },
  {
   "cell_type": "code",
   "execution_count": 29,
   "id": "5f7dc720-8d4e-4332-b1c1-5a563c2cea9e",
   "metadata": {},
   "outputs": [
    {
     "data": {
      "text/plain": [
       "make_depvar (generic function with 1 method)"
      ]
     },
     "execution_count": 29,
     "metadata": {},
     "output_type": "execute_result"
    }
   ],
   "source": [
    "make_depvar(p,t) = :($p($t))"
   ]
  },
  {
   "cell_type": "code",
   "execution_count": 30,
   "id": "20aa1622-cdf1-4b16-b870-e096ce7fa015",
   "metadata": {},
   "outputs": [
    {
     "data": {
      "text/plain": [
       "compile (generic function with 1 method)"
      ]
     },
     "execution_count": 30,
     "metadata": {},
     "output_type": "execute_result"
    }
   ],
   "source": [
    "function compile(bn::Union{AbstractLabelledBilayerNetwork, AbstractBilayerNetwork})\n",
    "  varstmt = :(@variables t)\n",
    "  varnames = bn[:variable]\n",
    "  append!(varstmt.args, make_depvar.(bn[:variable], :t))\n",
    "\n",
    "  paramstmt = :(@parameters)\n",
    "  params = bn[:parameter]\n",
    "  append!(paramstmt.args, bn[:parameter])\n",
    "\n",
    "  diffstmt = :(D = Differential(t))\n",
    "\n",
    "  ϕs = map(parts(bn, :Box)) do b\n",
    "    vars = map(incident(bn, b,:call)) do i\n",
    "      j = bn[i, :arg]\n",
    "      return bn[j, :variable]\n",
    "    end\n",
    "    p = :(*($(bn[b, :parameter])))\n",
    "    append!(p.args, vars)\n",
    "    return :($(Symbol(\"ϕ$b\")) = $p)\n",
    "  end\n",
    "\n",
    "  infs = map(parts(bn, :Qout)) do tv\n",
    "    vars = map(incident(bn, tv, :infusion)) do wa\n",
    "      j = bn[wa, :influx]\n",
    "      return Symbol(\"ϕ$j\")\n",
    "    end\n",
    "    p = :(+())\n",
    "    append!(p.args, vars)\n",
    "\n",
    "    # same for the outfluxes\n",
    "    vars = map(incident(bn, tv, :effusion)) do wn\n",
    "      j = bn[wn, :efflux]\n",
    "      return :(- $(Symbol(\"ϕ$j\")))\n",
    "    end\n",
    "    append!(p.args, vars)\n",
    "    return p\n",
    "  end\n",
    "\n",
    "  zparts = zip(bn[:tanvar], infs)\n",
    "\n",
    "  eqns = [:(D($tanvar) ~ $rhs) for (tanvar, rhs) in zparts]\n",
    "  eq = :([])\n",
    "  append!(eq.args, eqns)\n",
    "  eqnstmt = :(eqs = $eq)\n",
    "\n",
    "  varnameexpr = Expr(:tuple, varnames...)\n",
    "  parnameexpr = Expr(:tuple, params...)\n",
    "\n",
    "  return quote\n",
    "    $varstmt\n",
    "    $paramstmt\n",
    "    $diffstmt\n",
    "    $(ϕs...)\n",
    "    $eqnstmt\n",
    "    return $varnameexpr, $parnameexpr, ODESystem(eqs, t, name=:PetriNet)\n",
    "  end\n",
    "end"
   ]
  },
  {
   "cell_type": "code",
   "execution_count": 31,
   "id": "3290e964-21be-4973-a007-d41ba632376d",
   "metadata": {},
   "outputs": [
    {
     "data": {
      "text/plain": [
       "OrigMIRANet"
      ]
     },
     "execution_count": 31,
     "metadata": {},
     "output_type": "execute_result"
    }
   ],
   "source": [
    "@present TheoryOrigMIRANet <: SchLabelledReactionNet begin\n",
    "    MID::AttrType\n",
    "    MCTX::AttrType\n",
    "    Template::AttrType\n",
    "    mira_ids::Attr(S, MID)\n",
    "    mira_context::Attr(S, MCTX)\n",
    "    template_type::Attr(T, Template)\n",
    "    parameter_name::Attr(T, Name)\n",
    "    parameter_value::Attr(T, Rate)\n",
    "end\n",
    "@abstract_acset_type AbstractOrigMIRANet <: AbstractLabelledReactionNet\n",
    "@acset_type OrigMIRANet(TheoryOrigMIRANet) <: AbstractOrigMIRANet"
   ]
  },
  {
   "cell_type": "code",
   "execution_count": 34,
   "id": "083a9b88-2905-4f6f-b857-ed8ea5daae83",
   "metadata": {},
   "outputs": [
    {
     "data": {
      "text/plain": [
       "mtk_simulate (generic function with 1 method)"
      ]
     },
     "execution_count": 34,
     "metadata": {},
     "output_type": "execute_result"
    }
   ],
   "source": [
    "function mtk_simulate(jsonfile, states, params, timespan)\n",
    "    mira = read_json_acset(OrigMIRANet{Any,Any,Any,Any,Any,Any}, jsonfile)\n",
    "    map!(Symbol, mira[:sname], mira[:sname])\n",
    "    map!(Symbol, mira[:tname], mira[:tname])\n",
    "    bnsir = LabelledBilayerNetwork()\n",
    "    migrate!(bnsir, LabelledPetriNet(mira))\n",
    "    mdl = eval(compile(bnsir))\n",
    "    prob = ODEProblem(mdl[3], states, timespan, params)\n",
    "    soln = solve(prob)\n",
    "    # plot(soln)\n",
    "    # json(Dict(:time=>soln.t, :states=>soln.u))\n",
    "end"
   ]
  },
  {
   "cell_type": "code",
   "execution_count": 35,
   "id": "e29b48ac-e087-4e4a-acc7-07d1f1d29efa",
   "metadata": {},
   "outputs": [
    {
     "data": {
      "text/plain": [
       "retcode: Success\n",
       "Interpolation: specialized 4th order \"free\" interpolation, specialized 2nd order \"free\" stiffness-aware interpolation\n",
       "t: 8-element Vector{Float64}:\n",
       " 0.0\n",
       " 0.07650766044758274\n",
       " 0.19771554247802933\n",
       " 0.3398883042905132\n",
       " 0.5200438882390522\n",
       " 0.7269495009230862\n",
       " 0.9656821213516429\n",
       " 1.0\n",
       "u: 8-element Vector{Vector{Float64}}:\n",
       " [0.23141521350049943, 0.6998208479066116, 0.8419594527181306, 0.31309542888328146, 0.11357953947721311, 0.405375451588192, 0.69859121194907, 0.7884143028958707]\n",
       " [0.231964135626792, 0.6591391033868015, 0.6982831453517317, 0.3345124798179502, 0.1094333786311276, 0.4497594539765744, 0.7887555731555257, 0.7500312612861552]\n",
       " [0.23345432018827716, 0.5994041069641102, 0.5212030056729794, 0.36369352532256244, 0.10308145232868225, 0.48925760652897576, 0.9175724238461784, 0.6926295364656676]\n",
       " [0.23601584333042844, 0.5360987001738368, 0.37251731379557396, 0.39126378546183327, 0.09597304170533373, 0.5021211457027233, 1.0505294436280466, 0.6303370431286284]\n",
       " [0.24016704101052114, 0.46526531095909573, 0.24672069820631584, 0.417259298930763, 0.08750858882889774, 0.4871111966734951, 1.1967018627877868, 0.5587143963150975]\n",
       " [0.24565700576271499, 0.3952550069866294, 0.15725806063719128, 0.4367737843678466, 0.07854687564802072, 0.44786344079519974, 1.3407180794587297, 0.48576625188347583]\n",
       " [0.25233112436258476, 0.3273493539667988, 0.09701643119368891, 0.4482094589059295, 0.0692031579884688, 0.3920733283542857, 1.4826815876672106, 0.41276350812643436]\n",
       " [0.25329046599337857, 0.3185903767331371, 0.09083456983748449, 0.44903288093317073, 0.06794536638796649, 0.38386158734651166, 1.5013275586187356, 0.4031726637051721]"
      ]
     },
     "execution_count": 35,
     "metadata": {},
     "output_type": "execute_result"
    }
   ],
   "source": [
    "soln = mtk_simulate(\"jeff-petri.json\", rand(8), rand(13), (0, 1))"
   ]
  },
  {
   "cell_type": "code",
   "execution_count": 20,
   "id": "37c9ae98-f35b-4015-b8b8-f20700825c71",
   "metadata": {},
   "outputs": [
    {
     "data": {
      "text/plain": [
       "String"
      ]
     },
     "execution_count": 20,
     "metadata": {},
     "output_type": "execute_result"
    }
   ],
   "source": []
  }
 ],
 "metadata": {
  "kernelspec": {
   "display_name": "Julia 1.7.3",
   "language": "julia",
   "name": "julia-1.7"
  },
  "language_info": {
   "file_extension": ".jl",
   "mimetype": "application/julia",
   "name": "julia",
   "version": "1.7.3"
  }
 },
 "nbformat": 4,
 "nbformat_minor": 5
}
