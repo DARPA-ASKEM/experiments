{
 "cells": [
  {
   "cell_type": "markdown",
   "id": "75ca2e51-b1f3-4cd6-80be-512b7f5a5d64",
   "metadata": {},
   "source": [
    "# Halfar Dome Model\n",
    "\n",
    "Replicating Luke Morris and Jadon Clugston's notebooks\n",
    "* https://www.cise.ufl.edu/~luke.morris/cism.html\n",
    "* https://github.com/JuliaComputing/ASKEMDemos/blob/main/Glacial%20Flow/GlacialFlowNotebook.jl"
   ]
  },
  {
   "cell_type": "code",
   "execution_count": 1,
   "id": "4e36ddda-9946-4926-971c-b518f1e13f82",
   "metadata": {
    "tags": []
   },
   "outputs": [
    {
     "name": "stderr",
     "output_type": "stream",
     "text": [
      "\u001b[32m\u001b[1m    Updating\u001b[22m\u001b[39m registry at `~/.julia/registries/General.toml`\n",
      "\u001b[32m\u001b[1m   Resolving\u001b[22m\u001b[39m package versions...\n",
      "\u001b[32m\u001b[1m  No Changes\u001b[22m\u001b[39m to `~/.julia/environments/v1.9/Project.toml`\n",
      "\u001b[32m\u001b[1m  No Changes\u001b[22m\u001b[39m to `~/.julia/environments/v1.9/Manifest.toml`\n",
      "\u001b[32m\u001b[1m   Resolving\u001b[22m\u001b[39m package versions...\n",
      "\u001b[32m\u001b[1m  No Changes\u001b[22m\u001b[39m to `~/.julia/environments/v1.9/Project.toml`\n",
      "\u001b[32m\u001b[1m  No Changes\u001b[22m\u001b[39m to `~/.julia/environments/v1.9/Manifest.toml`\n",
      "\u001b[32m\u001b[1m   Resolving\u001b[22m\u001b[39m package versions...\n",
      "\u001b[32m\u001b[1m  No Changes\u001b[22m\u001b[39m to `~/.julia/environments/v1.9/Project.toml`\n",
      "\u001b[32m\u001b[1m  No Changes\u001b[22m\u001b[39m to `~/.julia/environments/v1.9/Manifest.toml`\n",
      "\u001b[32m\u001b[1m   Resolving\u001b[22m\u001b[39m package versions...\n",
      "\u001b[32m\u001b[1m    Updating\u001b[22m\u001b[39m `~/.julia/environments/v1.9/Project.toml`\n",
      "  \u001b[90m[5789e2e9] \u001b[39m\u001b[92m+ FileIO v1.16.1\u001b[39m\n",
      "\u001b[32m\u001b[1m  No Changes\u001b[22m\u001b[39m to `~/.julia/environments/v1.9/Manifest.toml`\n",
      "\u001b[32m\u001b[1m   Resolving\u001b[22m\u001b[39m package versions...\n",
      "\u001b[32m\u001b[1m    Updating\u001b[22m\u001b[39m `~/.julia/environments/v1.9/Project.toml`\n",
      "  \u001b[90m[7269a6da] \u001b[39m\u001b[92m+ MeshIO v0.4.10\u001b[39m\n",
      "\u001b[32m\u001b[1m  No Changes\u001b[22m\u001b[39m to `~/.julia/environments/v1.9/Manifest.toml`\n",
      "\u001b[32m\u001b[1m   Resolving\u001b[22m\u001b[39m package versions...\n",
      "\u001b[32m\u001b[1m   Installed\u001b[22m\u001b[39m InlineStrings ── v1.4.0\n",
      "\u001b[32m\u001b[1m   Installed\u001b[22m\u001b[39m PooledArrays ─── v1.4.3\n",
      "\u001b[32m\u001b[1m   Installed\u001b[22m\u001b[39m SentinelArrays ─ v1.4.1\n",
      "\u001b[32m\u001b[1m   Installed\u001b[22m\u001b[39m DataFrames ───── v1.6.1\n",
      "\u001b[32m\u001b[1m    Updating\u001b[22m\u001b[39m `~/.julia/environments/v1.9/Project.toml`\n",
      "  \u001b[90m[a93c6f00] \u001b[39m\u001b[92m+ DataFrames v1.6.1\u001b[39m\n",
      "\u001b[32m\u001b[1m    Updating\u001b[22m\u001b[39m `~/.julia/environments/v1.9/Manifest.toml`\n",
      "  \u001b[90m[a93c6f00] \u001b[39m\u001b[92m+ DataFrames v1.6.1\u001b[39m\n",
      "  \u001b[90m[842dd82b] \u001b[39m\u001b[92m+ InlineStrings v1.4.0\u001b[39m\n",
      "  \u001b[90m[2dfb63ee] \u001b[39m\u001b[92m+ PooledArrays v1.4.3\u001b[39m\n",
      "  \u001b[90m[91c51154] \u001b[39m\u001b[92m+ SentinelArrays v1.4.1\u001b[39m\n",
      "\u001b[32m\u001b[1mPrecompiling\u001b[22m\u001b[39m project...\n",
      "\u001b[32m  ✓ \u001b[39m\u001b[90mPooledArrays\u001b[39m\n",
      "\u001b[32m  ✓ \u001b[39m\u001b[90mInlineStrings\u001b[39m\n",
      "\u001b[32m  ✓ \u001b[39m\u001b[90mSentinelArrays\u001b[39m\n",
      "\u001b[32m  ✓ \u001b[39mDataFrames\n",
      "\u001b[32m  ✓ \u001b[39m\u001b[90mLatexify → DataFramesExt\u001b[39m\n",
      "\u001b[32m  ✓ \u001b[39m\u001b[90mBangBang → BangBangDataFramesExt\u001b[39m\n",
      "\u001b[32m  ✓ \u001b[39m\u001b[90mMicroCollections\u001b[39m\n",
      "\u001b[32m  ✓ \u001b[39m\u001b[90mCatlab → CatlabDataFramesExt\u001b[39m\n",
      "\u001b[32m  ✓ \u001b[39m\u001b[90mTransducers\u001b[39m\n",
      "\u001b[32m  ✓ \u001b[39m\u001b[90mTransducers → TransducersReferenceablesExt\u001b[39m\n",
      "\u001b[32m  ✓ \u001b[39m\u001b[90mTransducers → TransducersDataFramesExt\u001b[39m\n",
      "\u001b[32m  ✓ \u001b[39m\u001b[90mTransducers → TransducersLazyArraysExt\u001b[39m\n",
      "\u001b[32m  ✓ \u001b[39m\u001b[90mThreadsX\u001b[39m\n",
      "\u001b[32m  ✓ \u001b[39m\u001b[90mAbstractMCMC\u001b[39m\n",
      "\u001b[32m  ✓ \u001b[39m\u001b[90mAbstractPPL\u001b[39m\n",
      "\u001b[32m  ✓ \u001b[39m\u001b[90mEllipticalSliceSampling\u001b[39m\n",
      "\u001b[32m  ✓ \u001b[39m\u001b[90mAdvancedPS\u001b[39m\n",
      "\u001b[32m  ✓ \u001b[39m\u001b[90mAdvancedMH\u001b[39m\n",
      "\u001b[32m  ✓ \u001b[39m\u001b[90mGlobalSensitivity\u001b[39m\n",
      "\u001b[32m  ✓ \u001b[39m\u001b[90mAdvancedHMC\u001b[39m\n",
      "\u001b[32m  ✓ \u001b[39m\u001b[90mMCMCChains\u001b[39m\n",
      "\u001b[32m  ✓ \u001b[39m\u001b[90mAdvancedMH → AdvancedMHForwardDiffExt\u001b[39m\n",
      "\u001b[32m  ✓ \u001b[39m\u001b[90mAdvancedMH → AdvancedMHStructArraysExt\u001b[39m\n",
      "\u001b[32m  ✓ \u001b[39m\u001b[90mAdvancedMH → AdvancedMHMCMCChainsExt\u001b[39m\n",
      "\u001b[32m  ✓ \u001b[39m\u001b[90mAdvancedHMC → AdvancedHMCMCMCChainsExt\u001b[39m\n",
      "\u001b[32m  ✓ \u001b[39m\u001b[90mDynamicPPL\u001b[39m\n",
      "\u001b[32m  ✓ \u001b[39m\u001b[90mSymbolics\u001b[39m\n",
      "\u001b[32m  ✓ \u001b[39m\u001b[90mSparseDiffTools → SparseDiffToolsSymbolicsExt\u001b[39m\n",
      "\u001b[33m  ✓ \u001b[39m\u001b[90mNonlinearSolve\u001b[39m\n",
      "\u001b[32m  ✓ \u001b[39m\u001b[90mBoundaryValueDiffEq\u001b[39m\n",
      "\u001b[32m  ✓ \u001b[39mPlots\n",
      "\u001b[32m  ✓ \u001b[39m\u001b[90mPlots → IJuliaExt\u001b[39m\n",
      "\u001b[32m  ✓ \u001b[39m\u001b[90mPlots → FileIOExt\u001b[39m\n",
      "\u001b[32m  ✓ \u001b[39m\u001b[90mPlots → GeometryBasicsExt\u001b[39m\n",
      "\u001b[32m  ✓ \u001b[39m\u001b[90mPlots → UnitfulExt\u001b[39m\n",
      "\u001b[33m  ✓ \u001b[39mOrdinaryDiffEq\n",
      "\u001b[32m  ✓ \u001b[39m\u001b[90mAdvancedHMC → AdvancedHMCOrdinaryDiffEqExt\u001b[39m\n",
      "\u001b[32m  ✓ \u001b[39m\u001b[90mDelayDiffEq\u001b[39m\n",
      "\u001b[32m  ✓ \u001b[39m\u001b[90mAlgebraicPetri → AlgebraicPetriOrdinaryDiffEqExt\u001b[39m\n",
      "\u001b[33m  ✓ \u001b[39m\u001b[90mStochasticDiffEq\u001b[39m\n",
      "\u001b[32m  ✓ \u001b[39m\u001b[90mTuring\u001b[39m\n",
      "\u001b[33m  ✓ \u001b[39mMultiScaleArrays\n",
      "\u001b[32m  ✓ \u001b[39m\u001b[90mDifferentialEquations\u001b[39m\n",
      "\u001b[33m  ✓ \u001b[39mDecapodes\n",
      "\u001b[32m  ✓ \u001b[39mSyntacticModels\n",
      "\u001b[32m  ✓ \u001b[39m\u001b[90mModelingToolkit\u001b[39m\n",
      "\u001b[32m  ✓ \u001b[39m\u001b[90mOptimization → OptimizationMTKExt\u001b[39m\n",
      "\u001b[32m  ✓ \u001b[39m\u001b[90mAlgebraicPetri → AlgebraicPetriModelingToolkitExt\u001b[39m\n",
      "\u001b[32m  ✓ \u001b[39m\u001b[90mOptimizationNLopt\u001b[39m\n",
      "\u001b[32m  ✓ \u001b[39m\u001b[90mOptimizationMOI\u001b[39m\n",
      "\u001b[32m  ✓ \u001b[39mEasyModelAnalysis\n",
      "  51 dependencies successfully precompiled in 657 seconds. 577 already precompiled. 1 skipped during auto due to previous errors.\n",
      "  \u001b[33m5\u001b[39m dependencies precompiled but different versions are currently loaded. Restart julia to access the new versions\n",
      "  \u001b[33m3\u001b[39m dependencies had warnings during precompilation:\u001b[33m\n",
      "┌ \u001b[39mDecapodes [679ab3ea-c928-4fe6-8d59-fd451142d391]\u001b[33m\n",
      "│  \u001b[39mWARNING: using LinearAlgebra.⋅ in module Decapodes conflicts with an existing identifier.\u001b[33m\n",
      "└  \u001b[39m\u001b[33m\n",
      "┌ \u001b[39mAlgebraicPetriModelingToolkitExt [64666759-9bd1-54ef-b315-8c08f09f6f3d]\u001b[33m\n",
      "│  \u001b[39mWARNING: Method definition (::Type{SciMLBase.ODEProblem{uType, tType, isinplace, P, F, K, PT} where PT where K where F where P where isinplace where tType where uType})(AlgebraicPetri.AbstractPetriNet{S, Ts, P} where P where Ts where S, Any) in module AlgebraicPetriOrdinaryDiffEqExt at /home/jovyan/.julia/packages/AlgebraicPetri/B4NVr/ext/AlgebraicPetriOrdinaryDiffEqExt.jl:7 overwritten in module AlgebraicPetriModelingToolkitExt at /home/jovyan/.julia/packages/AlgebraicPetri/B4NVr/ext/AlgebraicPetriModelingToolkitExt.jl:47.\u001b[33m\n",
      "│  \u001b[39m  ** incremental compilation may be fatally broken for this module **\u001b[33m\n",
      "└  \u001b[39m\u001b[33m\n",
      "┌ \u001b[39mModelingToolkit [961ee093-0014-501f-94e3-6117800e7a78]\u001b[33m\n",
      "│  \u001b[39mWARNING: using OrdinaryDiffEq.isconstant in module ModelingToolkit conflicts with an existing identifier.\u001b[33m\n",
      "│  \u001b[39mWARNING: using OrdinaryDiffEq.islinear in module ModelingToolkit conflicts with an existing identifier.\u001b[33m\n",
      "└  \u001b[39m\n"
     ]
    },
    {
     "data": {
      "text/plain": [
       "Point3{Float64}\u001b[90m (alias for \u001b[39m\u001b[90mGeometryBasics.Point{3, Float64}\u001b[39m\u001b[90m)\u001b[39m"
      ]
     },
     "execution_count": 1,
     "metadata": {},
     "output_type": "execute_result"
    }
   ],
   "source": [
    "using Catlab\n",
    "using Catlab.Graphics\n",
    "using CombinatorialSpaces\n",
    "using Decapodes\n",
    "\n",
    "using MLStyle\n",
    "using MultiScaleArrays\n",
    "using LinearAlgebra\n",
    "using OrdinaryDiffEq\n",
    "using SparseArrays\n",
    "using Statistics\n",
    "# using BenchmarkTools\n",
    "\n",
    "import Pkg\n",
    "Pkg.add(\"JLD2\")\n",
    "# Pkg.add(\"GLMakie\")\n",
    "Pkg.add(\"CairoMakie\")\n",
    "Pkg.add(\"GeometryBasics\")\n",
    "Pkg.add(\"FileIO\")\n",
    "Pkg.add(\"MeshIO\")\n",
    "Pkg.add(\"DataFrames\")\n",
    "using GeometryBasics: Point2, Point3\n",
    "using JLD2\n",
    "# using CairoMakie\n",
    "using FileIO, MeshIO\n",
    "using DataFrames\n",
    "\n",
    "Pkg.add(\"CSV\")\n",
    "import CSV\n",
    "\n",
    "Point2D = Point2{Float64}\n",
    "Point3D = Point3{Float64}"
   ]
  },
  {
   "cell_type": "code",
   "execution_count": 2,
   "id": "86af29f8-f970-40bf-88af-3e24ce94001c",
   "metadata": {
    "tags": []
   },
   "outputs": [
    {
     "name": "stderr",
     "output_type": "stream",
     "text": [
      "\u001b[32m\u001b[1m   Resolving\u001b[22m\u001b[39m package versions...\n",
      "\u001b[32m\u001b[1m  No Changes\u001b[22m\u001b[39m to `~/.julia/environments/v1.9/Project.toml`\n",
      "\u001b[32m\u001b[1m  No Changes\u001b[22m\u001b[39m to `~/.julia/environments/v1.9/Manifest.toml`\n"
     ]
    }
   ],
   "source": [
    "Pkg.add(\"JSON3\")\n",
    "using JSON3"
   ]
  },
  {
   "cell_type": "code",
   "execution_count": 3,
   "id": "3fe491d9-a1bf-4628-9f06-66642d477fcc",
   "metadata": {
    "tags": []
   },
   "outputs": [
    {
     "name": "stderr",
     "output_type": "stream",
     "text": [
      "\u001b[32m\u001b[1m   Resolving\u001b[22m\u001b[39m package versions...\n",
      "\u001b[32m\u001b[1m  No Changes\u001b[22m\u001b[39m to `~/.julia/environments/v1.9/Project.toml`\n",
      "\u001b[32m\u001b[1m  No Changes\u001b[22m\u001b[39m to `~/.julia/environments/v1.9/Manifest.toml`\n",
      "\u001b[36m\u001b[1m[ \u001b[22m\u001b[39m\u001b[36m\u001b[1mInfo: \u001b[22m\u001b[39mPrecompiling SyntacticModels [22bb929c-8bcf-4852-b455-eb3e1675e09c]\n",
      "\u001b[33m\u001b[1m┌ \u001b[22m\u001b[39m\u001b[33m\u001b[1mWarning: \u001b[22m\u001b[39mModule Decapodes with build ID fafbfcfd-b9a5-1825-0087-064bde04b5f4 is missing from the cache.\n",
      "\u001b[33m\u001b[1m│ \u001b[22m\u001b[39mThis may mean Decapodes [679ab3ea-c928-4fe6-8d59-fd451142d391] does not support precompilation but is imported by a module that does.\n",
      "\u001b[33m\u001b[1m└ \u001b[22m\u001b[39m\u001b[90m@ Base loading.jl:1793\u001b[39m\n",
      "\u001b[36m\u001b[1m[ \u001b[22m\u001b[39m\u001b[36m\u001b[1mInfo: \u001b[22m\u001b[39mSkipping precompilation since __precompile__(false). Importing SyntacticModels [22bb929c-8bcf-4852-b455-eb3e1675e09c].\n"
     ]
    }
   ],
   "source": [
    "Pkg.add(\"SyntacticModels\")\n",
    "using SyntacticModels.AMR\n",
    "using SyntacticModels.ASKEMDecapodes\n",
    "using SyntacticModels.ASKEMUWDs\n",
    "using SyntacticModels.Composites"
   ]
  },
  {
   "cell_type": "code",
   "execution_count": 4,
   "id": "42f71a54-58cd-4569-a102-16b05e1a7c0f",
   "metadata": {
    "tags": []
   },
   "outputs": [
    {
     "name": "stderr",
     "output_type": "stream",
     "text": [
      "\u001b[32m\u001b[1m   Resolving\u001b[22m\u001b[39m package versions...\n",
      "\u001b[32m\u001b[1m  No Changes\u001b[22m\u001b[39m to `~/.julia/environments/v1.9/Project.toml`\n",
      "\u001b[32m\u001b[1m  No Changes\u001b[22m\u001b[39m to `~/.julia/environments/v1.9/Manifest.toml`\n"
     ]
    }
   ],
   "source": [
    "Pkg.add(\"NetCDF\")\n",
    "import NetCDF"
   ]
  },
  {
   "cell_type": "markdown",
   "id": "ae2ab8da-ad66-4074-afbb-b28a6b5150fc",
   "metadata": {},
   "source": [
    "## Specify Models\n",
    "\n",
    "Models can be defined in two ways:\n",
    "1. SummationDecapode\n",
    "2. DecaExpr\n",
    "\n",
    "(1) stores the model as a graph while (2) stores it as an abstract syntax tree.\n",
    "The latter is preferred for reconstructing the equations of the model."
   ]
  },
  {
   "cell_type": "code",
   "execution_count": 5,
   "id": "10ee78fb-cceb-4cfe-a7f9-050b11fac93c",
   "metadata": {
    "tags": []
   },
   "outputs": [],
   "source": [
    "# Halfar Model\n",
    "\n",
    "# as a SummationDecapode\n",
    "halfar_model_sm = @decapode begin\n",
    "  h::Form0\n",
    "  Γ::Form1\n",
    "  n::Constant\n",
    "\n",
    "  ḣ == ∂ₜ(h)\n",
    "  ḣ == ∘(⋆, d, ⋆)(Γ * d(h) * avg₀₁(mag(♯(d(h)))^(n-1)) * avg₀₁(h^(n+2)))\n",
    "end\n",
    "\n",
    "# Serialize as AMR JSON\n",
    "open(\"halfar_model_sm.json\", \"w\") do io \n",
    "    d = Dict(\"header\" => AMR.Header(\"halfar_model\", \"modelreps.io/SummationDecapode\", \"Halfar Model\", \"SummationDecapode\", \"v1.0\"), \n",
    "        \"model\" => generate_json_acset(halfar_model_sm))\n",
    "    JSON3.pretty(io, d, JSON3.AlignmentContext(indent = 2))\n",
    "end"
   ]
  },
  {
   "cell_type": "code",
   "execution_count": 212,
   "id": "ab7a6102-f5bb-4b45-bb69-6c5ee994154d",
   "metadata": {
    "tags": []
   },
   "outputs": [],
   "source": [
    "# as a DecaExpr\n",
    "halfar_model_de = ASKEMDecaExpr(\n",
    "    AMR.Header(\"halfar_model\", \"modelreps.io/DecaExpr\", \"Halfar Model\", \"DecaExpr\", \"v1.0\"), \n",
    "    Decapodes.parse_decapode(quote\n",
    "      h::Form0\n",
    "      Γ::Form1\n",
    "      n::Constant\n",
    "\n",
    "      ḣ == ∂ₜ(h)\n",
    "      ḣ == ∘(⋆, d, ⋆)(Γ * d(h) * avg₀₁(mag(♯(d(h)))^(n-1)) * avg₀₁(h^(n+2)))\n",
    "    end)\n",
    ")\n",
    "\n",
    "# Serialize as AMR JSON\n",
    "open(\"halfar_model_de.json\", \"w\") do io \n",
    "    JSON3.pretty(io, halfar_model_de, JSON3.AlignmentContext(indent = 2))\n",
    "end"
   ]
  },
  {
   "cell_type": "code",
   "execution_count": 7,
   "id": "32542d78-f882-4140-aeec-da6b542e3547",
   "metadata": {
    "tags": []
   },
   "outputs": [],
   "source": [
    "# Glen's Law Model\n",
    "\n",
    "# as a SummationDecapode\n",
    "glen_model_sm = @decapode begin\n",
    "    Γ::Form1\n",
    "    A::Constant\n",
    "    ρ::Constant\n",
    "    g::Constant\n",
    "    n::Constant\n",
    "  \n",
    "    Γ == (2/(n+2)) * A * (ρ * g)^n\n",
    "end\n",
    "\n",
    "# Serialize as AMR JSON\n",
    "open(\"glen_model_sm.json\", \"w\") do io \n",
    "    d = Dict(\"header\" => AMR.Header(\"glen_model\", \"modelreps.io/SummationDecapode\", \"Glen's Law Model\", \"SummationDecapode\", \"v1.0\"), \n",
    "        \"model\" => generate_json_acset(glen_model_sm))\n",
    "    JSON3.pretty(io, d, JSON3.AlignmentContext(indent = 2))\n",
    "end\n",
    "\n",
    "# as a DecaExpr\n",
    "glen_model_de = ASKEMDecaExpr(\n",
    "    AMR.Header(\"glen_model\", \"modelreps.io/DecaExpr\", \"Glen Model\", \"DecaExpr\", \"v1.0\"), \n",
    "    Decapodes.parse_decapode(quote\n",
    "        Γ::Form1\n",
    "        A::Constant\n",
    "        ρ::Constant\n",
    "        g::Constant\n",
    "        n::Constant\n",
    "\n",
    "        Γ == (2/(n+2)) * A * (ρ * g)^n\n",
    "    end)\n",
    ")\n",
    "\n",
    "# Save to AMR JSON\n",
    "open(\"glen_model_de.json\", \"w\") do io \n",
    "  JSON3.pretty(io, glen_model_de, JSON3.AlignmentContext(indent = 2))\n",
    "end"
   ]
  },
  {
   "cell_type": "markdown",
   "id": "ed86d9e4-860f-4157-80ca-5f794684fb9f",
   "metadata": {},
   "source": [
    "## Compose Models\n",
    "\n",
    "Several smaller \"component\" models can be composed together into a \"composite\" model:\n",
    "1. Specify a composition (undirected wiring) diagram that connects common variables and parameters together\n",
    "2. Plug in the component models\n",
    "3. Optionally flatten the composite model to remove the composition structure"
   ]
  },
  {
   "cell_type": "code",
   "execution_count": 10,
   "id": "ef1d17f4-a9d8-4afc-a65c-d8b6f7935bb8",
   "metadata": {
    "tags": []
   },
   "outputs": [
    {
     "data": {
      "text/plain": [
       "298"
      ]
     },
     "execution_count": 10,
     "metadata": {},
     "output_type": "execute_result"
    }
   ],
   "source": [
    "# Specify the composition diagram\n",
    "dome_model_uwd = @relation () begin\n",
    "    dynamics(Γ, n)\n",
    "    stress(Γ, n)\n",
    "end\n",
    "\n",
    "# Serialize as JSON\n",
    "write_json_acset(dome_model_uwd, \"dome_model_uwd.json\")"
   ]
  },
  {
   "cell_type": "code",
   "execution_count": 11,
   "id": "082d55da-a5fc-40bf-ab27-832d66c1c559",
   "metadata": {
    "tags": []
   },
   "outputs": [],
   "source": [
    "# Plug in the component models\n",
    "\n",
    "# using SummationDecapode\n",
    "dome_model_sm = apex(oapply(dome_model_uwd, [\n",
    "        Open(halfar_model_sm, [:Γ, :n]), \n",
    "        Open(glen_model_sm, [:Γ, :n])\n",
    "]))\n",
    "\n",
    "# Save to AMR JSON\n",
    "open(\"dome_model_sm.json\", \"w\") do io \n",
    "    d = Dict(\"header\" => AMR.Header(\"dome_model\", \"modelreps.io/SummationDecapode\", \"Dome model as flattened composite of Halfar and Glen's law\", \"SummationDecapode\", \"v1.0\"), \n",
    "        \"model\" => generate_json_acset(dome_model_sm))\n",
    "    JSON3.pretty(io, d, JSON3.AlignmentContext(indent = 2))\n",
    "end"
   ]
  },
  {
   "cell_type": "code",
   "execution_count": 12,
   "id": "48176dd6-546d-4a4e-bdd7-b340bb8da77f",
   "metadata": {
    "tags": []
   },
   "outputs": [],
   "source": [
    "# Specify the composition diagram again using UWDExpr\n",
    "dome_model_uwde = ASKEMUWDs.UWDExpr(\n",
    "    [Typed(:Γ, :Form1), Typed(:n, :Constant)], \n",
    "    [Statement(:dynamics, [Typed(:Γ, :Form1), Typed(:n, :Constant)]), Statement(:stress, [Typed(:Γ, :Form1), Typed(:n, :Constant)])]\n",
    ")\n",
    "\n",
    "# Serialize\n",
    "open(\"dome_model_uwde.json\", \"w\") do io \n",
    "  JSON3.pretty(io, dome_model_uwde, JSON3.AlignmentContext(indent = 2))\n",
    "end"
   ]
  },
  {
   "cell_type": "code",
   "execution_count": 13,
   "id": "ecaec491-fc5e-4ce6-8b8e-111e7c9e4c5e",
   "metadata": {
    "tags": []
   },
   "outputs": [],
   "source": [
    "# Repeat using DecaExpr, UWDExpr, CompositeModelExpr\n",
    "dome_model_de_comp = CompositeModelExpr(\n",
    "    AMR.Header(\"dome_model\", \"modelreps.io/Composite\", \"Dome model as composite of Halfar and Glen's law\", \"CompositeModelExpr\", \"v0.0\"),\n",
    "    dome_model_uwde,\n",
    "    [\n",
    "        OpenModel(halfar_model_de, [:Γ, :n]), \n",
    "        OpenModel(glen_model_de, [:Γ, :n])\n",
    "    ]\n",
    ")\n",
    "\n",
    "# Serialize directly as a CompositeModelExpr\n",
    "open(\"dome_model_de_comp.json\", \"w\") do io \n",
    "    JSON3.pretty(io, dome_model_de_comp, JSON3.AlignmentContext(indent = 2))\n",
    "end\n",
    "\n",
    "# Flatten and serialize as a SummationDecapode\n",
    "open(\"dome_model_de_flat_sm.json\", \"w\") do io \n",
    "    d = Dict(\"header\" => AMR.Header(\"dome_model\", \"modelreps.io/SummationDecapode\", \"Dome model as flattened composite of Halfar and Glen's law\", \"SummationDecapode\", \"v1.0\"), \n",
    "        \"model\" => generate_json_acset(OpenDecapode(dome_model_de_comp).model.model))\n",
    "    JSON3.pretty(io, d, JSON3.AlignmentContext(indent = 2))\n",
    "end"
   ]
  },
  {
   "cell_type": "markdown",
   "id": "8d1341b5-baf4-46b4-8ed5-a75607e7663e",
   "metadata": {
    "tags": []
   },
   "source": [
    "Serializing `CompositeModelExpr` directly appears to generate a non-compliant AMR JSON. Is that correct?\n",
    "\n",
    "Also, there appears to be two ways to flatten a `CompositeModelExpr`: \n",
    "1. `apex(oapply(dome_model_de_comp))`\n",
    "2. `OpenDecapode(dome_model_de_comp).model.model`\n",
    "\n",
    "Which is the correct way?"
   ]
  },
  {
   "cell_type": "markdown",
   "id": "cefd1c30-afd2-4972-b888-8897ee7bee63",
   "metadata": {},
   "source": [
    "Questions:\n",
    "1. Is it possible to serialize non-flattened version of the `SummationDecapode` composite model (i.e. the cospan)? \n",
    "2. Is it also possible to flatten and then serialize the `CompositeModelExpr` composite model? Currently, `apex(dome_model_de)` throws an error."
   ]
  },
  {
   "cell_type": "markdown",
   "id": "6a1d70ad-beed-454c-90fe-c810292a1444",
   "metadata": {},
   "source": [
    "## Specify Dimensionality\n",
    "\n",
    "We need to specify the number of spatial dimensions for which the discrete exterior calculus operators in the model are interpreted."
   ]
  },
  {
   "cell_type": "code",
   "execution_count": 14,
   "id": "b3ad04a5-d470-4f1c-a0d3-f740f5d45bb9",
   "metadata": {
    "tags": []
   },
   "outputs": [
    {
     "data": {
      "text/html": [
       "<div class=\"c-set\">\n",
       "<span class=\"c-set-summary\">SummationDecapode{Any, Any, Symbol} {Var:30, TVar:1, Op1:10, Op2:11, Σ:2, Summand:4, Type:0, Operator:0, Name:0}</span>\n",
       "<table>\n",
       "  <thead>\n",
       "    <tr class = \"header headerLastRow\">\n",
       "      <th class = \"rowLabel\" style = \"font-weight: bold; text-align: right;\">Var</th>\n",
       "      <th style = \"text-align: right;\">type</th>\n",
       "      <th style = \"text-align: right;\">name</th>\n",
       "    </tr>\n",
       "  </thead>\n",
       "  <tbody>\n",
       "    <tr>\n",
       "      <td class = \"rowLabel\" style = \"font-weight: bold; text-align: right;\">1</td>\n",
       "      <td style = \"text-align: right;\">Form0</td>\n",
       "      <td style = \"text-align: right;\">dynamics_h</td>\n",
       "    </tr>\n",
       "    <tr>\n",
       "      <td class = \"rowLabel\" style = \"font-weight: bold; text-align: right;\">2</td>\n",
       "      <td style = \"text-align: right;\">Form1</td>\n",
       "      <td style = \"text-align: right;\">Γ</td>\n",
       "    </tr>\n",
       "    <tr>\n",
       "      <td class = \"rowLabel\" style = \"font-weight: bold; text-align: right;\">3</td>\n",
       "      <td style = \"text-align: right;\">Constant</td>\n",
       "      <td style = \"text-align: right;\">n</td>\n",
       "    </tr>\n",
       "    <tr>\n",
       "      <td class = \"rowLabel\" style = \"font-weight: bold; text-align: right;\">4</td>\n",
       "      <td style = \"text-align: right;\">Form0</td>\n",
       "      <td style = \"text-align: right;\">dynamics_ḣ</td>\n",
       "    </tr>\n",
       "    <tr>\n",
       "      <td class = \"rowLabel\" style = \"font-weight: bold; text-align: right;\">5</td>\n",
       "      <td style = \"text-align: right;\">infer</td>\n",
       "      <td style = \"text-align: right;\">dynamics_mult_1</td>\n",
       "    </tr>\n",
       "    <tr>\n",
       "      <td class = \"rowLabel\" style = \"font-weight: bold; text-align: right;\">6</td>\n",
       "      <td style = \"text-align: right;\">Form1</td>\n",
       "      <td style = \"text-align: right;\">dynamics_mult_2</td>\n",
       "    </tr>\n",
       "    <tr>\n",
       "      <td class = \"rowLabel\" style = \"font-weight: bold; text-align: right;\">7</td>\n",
       "      <td style = \"text-align: right;\">Form1</td>\n",
       "      <td style = \"text-align: right;\">dynamics_•1</td>\n",
       "    </tr>\n",
       "    <tr>\n",
       "      <td class = \"rowLabel\" style = \"font-weight: bold; text-align: right;\">8</td>\n",
       "      <td style = \"text-align: right;\">infer</td>\n",
       "      <td style = \"text-align: right;\">dynamics_•2</td>\n",
       "    </tr>\n",
       "    <tr>\n",
       "      <td class = \"rowLabel\" style = \"font-weight: bold; text-align: right;\">9</td>\n",
       "      <td style = \"text-align: right;\">infer</td>\n",
       "      <td style = \"text-align: right;\">dynamics_•3</td>\n",
       "    </tr>\n",
       "    <tr>\n",
       "      <td class = \"rowLabel\" style = \"font-weight: bold; text-align: right;\">10</td>\n",
       "      <td style = \"text-align: right;\">infer</td>\n",
       "      <td style = \"text-align: right;\">dynamics_•4</td>\n",
       "    </tr>\n",
       "    <tr>\n",
       "      <td class = \"rowLabel\" style = \"font-weight: bold; text-align: right;\">11</td>\n",
       "      <td style = \"text-align: right;\">infer</td>\n",
       "      <td style = \"text-align: right;\">dynamics_•5</td>\n",
       "    </tr>\n",
       "    <tr>\n",
       "      <td class = \"rowLabel\" style = \"font-weight: bold; text-align: right;\">12</td>\n",
       "      <td style = \"text-align: right;\">Form1</td>\n",
       "      <td style = \"text-align: right;\">dynamics_•6</td>\n",
       "    </tr>\n",
       "    <tr>\n",
       "      <td class = \"rowLabel\" style = \"font-weight: bold; text-align: right;\">13</td>\n",
       "      <td style = \"text-align: right;\">infer</td>\n",
       "      <td style = \"text-align: right;\">dynamics_•7</td>\n",
       "    </tr>\n",
       "    <tr>\n",
       "      <td class = \"rowLabel\" style = \"font-weight: bold; text-align: right;\">14</td>\n",
       "      <td style = \"text-align: right;\">Literal</td>\n",
       "      <td style = \"text-align: right;\">1</td>\n",
       "    </tr>\n",
       "    <tr>\n",
       "      <td class = \"rowLabel\" style = \"font-weight: bold; text-align: right;\">15</td>\n",
       "      <td style = \"text-align: right;\">infer</td>\n",
       "      <td style = \"text-align: right;\">dynamics_•8</td>\n",
       "    </tr>\n",
       "    <tr>\n",
       "      <td class = \"rowLabel\" style = \"font-weight: bold; text-align: right;\">16</td>\n",
       "      <td style = \"text-align: right;\">infer</td>\n",
       "      <td style = \"text-align: right;\">dynamics_•9</td>\n",
       "    </tr>\n",
       "    <tr>\n",
       "      <td class = \"rowLabel\" style = \"font-weight: bold; text-align: right;\">17</td>\n",
       "      <td style = \"text-align: right;\">Literal</td>\n",
       "      <td style = \"text-align: right;\">2</td>\n",
       "    </tr>\n",
       "    <tr>\n",
       "      <td class = \"rowLabel\" style = \"font-weight: bold; text-align: right;\">18</td>\n",
       "      <td style = \"text-align: right;\">Constant</td>\n",
       "      <td style = \"text-align: right;\">dynamics_sum_1</td>\n",
       "    </tr>\n",
       "    <tr>\n",
       "      <td class = \"rowLabel\" style = \"font-weight: bold; text-align: right;\">19</td>\n",
       "      <td style = \"text-align: right;\">infer</td>\n",
       "      <td style = \"text-align: right;\">dynamics_mult_3</td>\n",
       "    </tr>\n",
       "    <tr>\n",
       "      <td class = \"rowLabel\" style = \"font-weight: bold; text-align: right;\">20</td>\n",
       "      <td style = \"text-align: right;\">Constant</td>\n",
       "      <td style = \"text-align: right;\">stress_A</td>\n",
       "    </tr>\n",
       "    <tr>\n",
       "      <td class = \"rowLabel\" style = \"font-weight: bold; text-align: right;\">21</td>\n",
       "      <td style = \"text-align: right;\">Constant</td>\n",
       "      <td style = \"text-align: right;\">stress_ρ</td>\n",
       "    </tr>\n",
       "    <tr>\n",
       "      <td class = \"rowLabel\" style = \"font-weight: bold; text-align: right;\">22</td>\n",
       "      <td style = \"text-align: right;\">Constant</td>\n",
       "      <td style = \"text-align: right;\">stress_g</td>\n",
       "    </tr>\n",
       "    <tr>\n",
       "      <td class = \"rowLabel\" style = \"font-weight: bold; text-align: right;\">23</td>\n",
       "      <td style = \"text-align: right;\">infer</td>\n",
       "      <td style = \"text-align: right;\">stress_•1</td>\n",
       "    </tr>\n",
       "    <tr>\n",
       "      <td class = \"rowLabel\" style = \"font-weight: bold; text-align: right;\">24</td>\n",
       "      <td style = \"text-align: right;\">Literal</td>\n",
       "      <td style = \"text-align: right;\">2</td>\n",
       "    </tr>\n",
       "    <tr>\n",
       "      <td class = \"rowLabel\" style = \"font-weight: bold; text-align: right;\">25</td>\n",
       "      <td style = \"text-align: right;\">Constant</td>\n",
       "      <td style = \"text-align: right;\">stress_sum_1</td>\n",
       "    </tr>\n",
       "    <tr>\n",
       "      <td class = \"rowLabel\" style = \"font-weight: bold; text-align: right;\">26</td>\n",
       "      <td style = \"text-align: right;\">infer</td>\n",
       "      <td style = \"text-align: right;\">stress_•2</td>\n",
       "    </tr>\n",
       "    <tr>\n",
       "      <td class = \"rowLabel\" style = \"font-weight: bold; text-align: right;\">27</td>\n",
       "      <td style = \"text-align: right;\">infer</td>\n",
       "      <td style = \"text-align: right;\">stress_•3</td>\n",
       "    </tr>\n",
       "    <tr>\n",
       "      <td class = \"rowLabel\" style = \"font-weight: bold; text-align: right;\">28</td>\n",
       "      <td style = \"text-align: right;\">infer</td>\n",
       "      <td style = \"text-align: right;\">stress_mult_1</td>\n",
       "    </tr>\n",
       "    <tr>\n",
       "      <td class = \"rowLabel\" style = \"font-weight: bold; text-align: right;\">29</td>\n",
       "      <td style = \"text-align: right;\">DualForm0</td>\n",
       "      <td style = \"text-align: right;\">•_8_1</td>\n",
       "    </tr>\n",
       "    <tr>\n",
       "      <td class = \"rowLabel\" style = \"font-weight: bold; text-align: right;\">30</td>\n",
       "      <td style = \"text-align: right;\">DualForm1</td>\n",
       "      <td style = \"text-align: right;\">•_8_2</td>\n",
       "    </tr>\n",
       "  </tbody>\n",
       "</table>\n",
       "<table>\n",
       "  <thead>\n",
       "    <tr class = \"header headerLastRow\">\n",
       "      <th class = \"rowLabel\" style = \"font-weight: bold; text-align: right;\">TVar</th>\n",
       "      <th style = \"text-align: right;\">incl</th>\n",
       "    </tr>\n",
       "  </thead>\n",
       "  <tbody>\n",
       "    <tr>\n",
       "      <td class = \"rowLabel\" style = \"font-weight: bold; text-align: right;\">1</td>\n",
       "      <td style = \"text-align: right;\">4</td>\n",
       "    </tr>\n",
       "  </tbody>\n",
       "</table>\n",
       "<table>\n",
       "  <thead>\n",
       "    <tr class = \"header headerLastRow\">\n",
       "      <th class = \"rowLabel\" style = \"font-weight: bold; text-align: right;\">Op1</th>\n",
       "      <th style = \"text-align: right;\">src</th>\n",
       "      <th style = \"text-align: right;\">tgt</th>\n",
       "      <th style = \"text-align: right;\">op1</th>\n",
       "    </tr>\n",
       "  </thead>\n",
       "  <tbody>\n",
       "    <tr>\n",
       "      <td class = \"rowLabel\" style = \"font-weight: bold; text-align: right;\">1</td>\n",
       "      <td style = \"text-align: right;\">1</td>\n",
       "      <td style = \"text-align: right;\">4</td>\n",
       "      <td style = \"text-align: right;\">∂ₜ</td>\n",
       "    </tr>\n",
       "    <tr>\n",
       "      <td class = \"rowLabel\" style = \"font-weight: bold; text-align: right;\">2</td>\n",
       "      <td style = \"text-align: right;\">1</td>\n",
       "      <td style = \"text-align: right;\">7</td>\n",
       "      <td style = \"text-align: right;\">d₀</td>\n",
       "    </tr>\n",
       "    <tr>\n",
       "      <td class = \"rowLabel\" style = \"font-weight: bold; text-align: right;\">3</td>\n",
       "      <td style = \"text-align: right;\">1</td>\n",
       "      <td style = \"text-align: right;\">12</td>\n",
       "      <td style = \"text-align: right;\">d₀</td>\n",
       "    </tr>\n",
       "    <tr>\n",
       "      <td class = \"rowLabel\" style = \"font-weight: bold; text-align: right;\">4</td>\n",
       "      <td style = \"text-align: right;\">12</td>\n",
       "      <td style = \"text-align: right;\">11</td>\n",
       "      <td style = \"text-align: right;\">♯</td>\n",
       "    </tr>\n",
       "    <tr>\n",
       "      <td class = \"rowLabel\" style = \"font-weight: bold; text-align: right;\">5</td>\n",
       "      <td style = \"text-align: right;\">11</td>\n",
       "      <td style = \"text-align: right;\">10</td>\n",
       "      <td style = \"text-align: right;\">mag</td>\n",
       "    </tr>\n",
       "    <tr>\n",
       "      <td class = \"rowLabel\" style = \"font-weight: bold; text-align: right;\">6</td>\n",
       "      <td style = \"text-align: right;\">9</td>\n",
       "      <td style = \"text-align: right;\">8</td>\n",
       "      <td style = \"text-align: right;\">avg₀₁</td>\n",
       "    </tr>\n",
       "    <tr>\n",
       "      <td class = \"rowLabel\" style = \"font-weight: bold; text-align: right;\">7</td>\n",
       "      <td style = \"text-align: right;\">16</td>\n",
       "      <td style = \"text-align: right;\">15</td>\n",
       "      <td style = \"text-align: right;\">avg₀₁</td>\n",
       "    </tr>\n",
       "    <tr>\n",
       "      <td class = \"rowLabel\" style = \"font-weight: bold; text-align: right;\">8</td>\n",
       "      <td style = \"text-align: right;\">6</td>\n",
       "      <td style = \"text-align: right;\">29</td>\n",
       "      <td style = \"text-align: right;\">⋆₁</td>\n",
       "    </tr>\n",
       "    <tr>\n",
       "      <td class = \"rowLabel\" style = \"font-weight: bold; text-align: right;\">9</td>\n",
       "      <td style = \"text-align: right;\">29</td>\n",
       "      <td style = \"text-align: right;\">30</td>\n",
       "      <td style = \"text-align: right;\">dual_d₀</td>\n",
       "    </tr>\n",
       "    <tr>\n",
       "      <td class = \"rowLabel\" style = \"font-weight: bold; text-align: right;\">10</td>\n",
       "      <td style = \"text-align: right;\">30</td>\n",
       "      <td style = \"text-align: right;\">4</td>\n",
       "      <td style = \"text-align: right;\">⋆₀⁻¹</td>\n",
       "    </tr>\n",
       "  </tbody>\n",
       "</table>\n",
       "<table>\n",
       "  <thead>\n",
       "    <tr class = \"header headerLastRow\">\n",
       "      <th class = \"rowLabel\" style = \"font-weight: bold; text-align: right;\">Op2</th>\n",
       "      <th style = \"text-align: right;\">proj1</th>\n",
       "      <th style = \"text-align: right;\">proj2</th>\n",
       "      <th style = \"text-align: right;\">res</th>\n",
       "      <th style = \"text-align: right;\">op2</th>\n",
       "    </tr>\n",
       "  </thead>\n",
       "  <tbody>\n",
       "    <tr>\n",
       "      <td class = \"rowLabel\" style = \"font-weight: bold; text-align: right;\">1</td>\n",
       "      <td style = \"text-align: right;\">3</td>\n",
       "      <td style = \"text-align: right;\">14</td>\n",
       "      <td style = \"text-align: right;\">13</td>\n",
       "      <td style = \"text-align: right;\">-</td>\n",
       "    </tr>\n",
       "    <tr>\n",
       "      <td class = \"rowLabel\" style = \"font-weight: bold; text-align: right;\">2</td>\n",
       "      <td style = \"text-align: right;\">10</td>\n",
       "      <td style = \"text-align: right;\">13</td>\n",
       "      <td style = \"text-align: right;\">9</td>\n",
       "      <td style = \"text-align: right;\">^</td>\n",
       "    </tr>\n",
       "    <tr>\n",
       "      <td class = \"rowLabel\" style = \"font-weight: bold; text-align: right;\">3</td>\n",
       "      <td style = \"text-align: right;\">1</td>\n",
       "      <td style = \"text-align: right;\">18</td>\n",
       "      <td style = \"text-align: right;\">16</td>\n",
       "      <td style = \"text-align: right;\">^</td>\n",
       "    </tr>\n",
       "    <tr>\n",
       "      <td class = \"rowLabel\" style = \"font-weight: bold; text-align: right;\">4</td>\n",
       "      <td style = \"text-align: right;\">2</td>\n",
       "      <td style = \"text-align: right;\">7</td>\n",
       "      <td style = \"text-align: right;\">19</td>\n",
       "      <td style = \"text-align: right;\">*</td>\n",
       "    </tr>\n",
       "    <tr>\n",
       "      <td class = \"rowLabel\" style = \"font-weight: bold; text-align: right;\">5</td>\n",
       "      <td style = \"text-align: right;\">19</td>\n",
       "      <td style = \"text-align: right;\">8</td>\n",
       "      <td style = \"text-align: right;\">5</td>\n",
       "      <td style = \"text-align: right;\">*</td>\n",
       "    </tr>\n",
       "    <tr>\n",
       "      <td class = \"rowLabel\" style = \"font-weight: bold; text-align: right;\">6</td>\n",
       "      <td style = \"text-align: right;\">5</td>\n",
       "      <td style = \"text-align: right;\">15</td>\n",
       "      <td style = \"text-align: right;\">6</td>\n",
       "      <td style = \"text-align: right;\">*</td>\n",
       "    </tr>\n",
       "    <tr>\n",
       "      <td class = \"rowLabel\" style = \"font-weight: bold; text-align: right;\">7</td>\n",
       "      <td style = \"text-align: right;\">24</td>\n",
       "      <td style = \"text-align: right;\">25</td>\n",
       "      <td style = \"text-align: right;\">23</td>\n",
       "      <td style = \"text-align: right;\">/</td>\n",
       "    </tr>\n",
       "    <tr>\n",
       "      <td class = \"rowLabel\" style = \"font-weight: bold; text-align: right;\">8</td>\n",
       "      <td style = \"text-align: right;\">21</td>\n",
       "      <td style = \"text-align: right;\">22</td>\n",
       "      <td style = \"text-align: right;\">27</td>\n",
       "      <td style = \"text-align: right;\">*</td>\n",
       "    </tr>\n",
       "    <tr>\n",
       "      <td class = \"rowLabel\" style = \"font-weight: bold; text-align: right;\">9</td>\n",
       "      <td style = \"text-align: right;\">27</td>\n",
       "      <td style = \"text-align: right;\">3</td>\n",
       "      <td style = \"text-align: right;\">26</td>\n",
       "      <td style = \"text-align: right;\">^</td>\n",
       "    </tr>\n",
       "    <tr>\n",
       "      <td class = \"rowLabel\" style = \"font-weight: bold; text-align: right;\">10</td>\n",
       "      <td style = \"text-align: right;\">23</td>\n",
       "      <td style = \"text-align: right;\">20</td>\n",
       "      <td style = \"text-align: right;\">28</td>\n",
       "      <td style = \"text-align: right;\">*</td>\n",
       "    </tr>\n",
       "    <tr>\n",
       "      <td class = \"rowLabel\" style = \"font-weight: bold; text-align: right;\">11</td>\n",
       "      <td style = \"text-align: right;\">28</td>\n",
       "      <td style = \"text-align: right;\">26</td>\n",
       "      <td style = \"text-align: right;\">2</td>\n",
       "      <td style = \"text-align: right;\">*</td>\n",
       "    </tr>\n",
       "  </tbody>\n",
       "</table>\n",
       "<table>\n",
       "  <thead>\n",
       "    <tr class = \"header headerLastRow\">\n",
       "      <th class = \"rowLabel\" style = \"font-weight: bold; text-align: right;\">Σ</th>\n",
       "      <th style = \"text-align: right;\">sum</th>\n",
       "    </tr>\n",
       "  </thead>\n",
       "  <tbody>\n",
       "    <tr>\n",
       "      <td class = \"rowLabel\" style = \"font-weight: bold; text-align: right;\">1</td>\n",
       "      <td style = \"text-align: right;\">18</td>\n",
       "    </tr>\n",
       "    <tr>\n",
       "      <td class = \"rowLabel\" style = \"font-weight: bold; text-align: right;\">2</td>\n",
       "      <td style = \"text-align: right;\">25</td>\n",
       "    </tr>\n",
       "  </tbody>\n",
       "</table>\n",
       "<table>\n",
       "  <thead>\n",
       "    <tr class = \"header headerLastRow\">\n",
       "      <th class = \"rowLabel\" style = \"font-weight: bold; text-align: right;\">Summand</th>\n",
       "      <th style = \"text-align: right;\">summand</th>\n",
       "      <th style = \"text-align: right;\">summation</th>\n",
       "    </tr>\n",
       "  </thead>\n",
       "  <tbody>\n",
       "    <tr>\n",
       "      <td class = \"rowLabel\" style = \"font-weight: bold; text-align: right;\">1</td>\n",
       "      <td style = \"text-align: right;\">3</td>\n",
       "      <td style = \"text-align: right;\">1</td>\n",
       "    </tr>\n",
       "    <tr>\n",
       "      <td class = \"rowLabel\" style = \"font-weight: bold; text-align: right;\">2</td>\n",
       "      <td style = \"text-align: right;\">17</td>\n",
       "      <td style = \"text-align: right;\">1</td>\n",
       "    </tr>\n",
       "    <tr>\n",
       "      <td class = \"rowLabel\" style = \"font-weight: bold; text-align: right;\">3</td>\n",
       "      <td style = \"text-align: right;\">3</td>\n",
       "      <td style = \"text-align: right;\">2</td>\n",
       "    </tr>\n",
       "    <tr>\n",
       "      <td class = \"rowLabel\" style = \"font-weight: bold; text-align: right;\">4</td>\n",
       "      <td style = \"text-align: right;\">24</td>\n",
       "      <td style = \"text-align: right;\">2</td>\n",
       "    </tr>\n",
       "  </tbody>\n",
       "</table>\n",
       "</div>\n"
      ],
      "text/plain": [
       "SummationDecapode{Any, Any, Symbol} {Var:30, TVar:1, Op1:10, Op2:11, Σ:2, Summand:4, Type:0, Operator:0, Name:0}\n",
       "┌─────┬───────────┬─────────────────┐\n",
       "│\u001b[1m Var │\u001b[1m      type │\u001b[1m            name │\n",
       "├─────┼───────────┼─────────────────┤\n",
       "│\u001b[1m   1 │     Form0 │      dynamics_h │\n",
       "│\u001b[1m   2 │     Form1 │               Γ │\n",
       "│\u001b[1m   3 │  Constant │               n │\n",
       "│\u001b[1m   4 │     Form0 │      dynamics_ḣ │\n",
       "│\u001b[1m   5 │     infer │ dynamics_mult_1 │\n",
       "│\u001b[1m   6 │     Form1 │ dynamics_mult_2 │\n",
       "│\u001b[1m   7 │     Form1 │     dynamics_•1 │\n",
       "│\u001b[1m   8 │     infer │     dynamics_•2 │\n",
       "│\u001b[1m   9 │     infer │     dynamics_•3 │\n",
       "│\u001b[1m  10 │     infer │     dynamics_•4 │\n",
       "│\u001b[1m  11 │     infer │     dynamics_•5 │\n",
       "│\u001b[1m  12 │     Form1 │     dynamics_•6 │\n",
       "│\u001b[1m  13 │     infer │     dynamics_•7 │\n",
       "│\u001b[1m  14 │   Literal │               1 │\n",
       "│\u001b[1m  15 │     infer │     dynamics_•8 │\n",
       "│\u001b[1m  16 │     infer │     dynamics_•9 │\n",
       "│\u001b[1m  17 │   Literal │               2 │\n",
       "│\u001b[1m  18 │  Constant │  dynamics_sum_1 │\n",
       "│\u001b[1m  19 │     infer │ dynamics_mult_3 │\n",
       "│\u001b[1m  20 │  Constant │        stress_A │\n",
       "│\u001b[1m  21 │  Constant │        stress_ρ │\n",
       "│\u001b[1m  22 │  Constant │        stress_g │\n",
       "│  ⋮  │     ⋮     │        ⋮        │\n",
       "└─────┴───────────┴─────────────────┘\n",
       "\u001b[36m                       8 rows omitted\n",
       "┌──────┬──────┐\n",
       "│\u001b[1m TVar │\u001b[1m incl │\n",
       "├──────┼──────┤\n",
       "│\u001b[1m    1 │    4 │\n",
       "└──────┴──────┘\n",
       "┌─────┬─────┬─────┬─────────┐\n",
       "│\u001b[1m Op1 │\u001b[1m src │\u001b[1m tgt │\u001b[1m     op1 │\n",
       "├─────┼─────┼─────┼─────────┤\n",
       "│\u001b[1m   1 │   1 │   4 │      ∂ₜ │\n",
       "│\u001b[1m   2 │   1 │   7 │      d₀ │\n",
       "│\u001b[1m   3 │   1 │  12 │      d₀ │\n",
       "│\u001b[1m   4 │  12 │  11 │       ♯ │\n",
       "│\u001b[1m   5 │  11 │  10 │     mag │\n",
       "│\u001b[1m   6 │   9 │   8 │   avg₀₁ │\n",
       "│\u001b[1m   7 │  16 │  15 │   avg₀₁ │\n",
       "│\u001b[1m   8 │   6 │  29 │      ⋆₁ │\n",
       "│\u001b[1m   9 │  29 │  30 │ dual_d₀ │\n",
       "│\u001b[1m  10 │  30 │   4 │    ⋆₀⁻¹ │\n",
       "└─────┴─────┴─────┴─────────┘\n",
       "┌─────┬───────┬───────┬─────┬─────┐\n",
       "│\u001b[1m Op2 │\u001b[1m proj1 │\u001b[1m proj2 │\u001b[1m res │\u001b[1m op2 │\n",
       "├─────┼───────┼───────┼─────┼─────┤\n",
       "│\u001b[1m   1 │     3 │    14 │  13 │   - │\n",
       "│\u001b[1m   2 │    10 │    13 │   9 │   ^ │\n",
       "│\u001b[1m   3 │     1 │    18 │  16 │   ^ │\n",
       "│\u001b[1m   4 │     2 │     7 │  19 │   * │\n",
       "│\u001b[1m   5 │    19 │     8 │   5 │   * │\n",
       "│\u001b[1m   6 │     5 │    15 │   6 │   * │\n",
       "│\u001b[1m   7 │    24 │    25 │  23 │   / │\n",
       "│\u001b[1m   8 │    21 │    22 │  27 │   * │\n",
       "│\u001b[1m   9 │    27 │     3 │  26 │   ^ │\n",
       "│\u001b[1m  10 │    23 │    20 │  28 │   * │\n",
       "│\u001b[1m  11 │    28 │    26 │   2 │   * │\n",
       "└─────┴───────┴───────┴─────┴─────┘\n",
       "┌───┬─────┐\n",
       "│\u001b[1m Σ │\u001b[1m sum │\n",
       "├───┼─────┤\n",
       "│\u001b[1m 1 │  18 │\n",
       "│\u001b[1m 2 │  25 │\n",
       "└───┴─────┘\n",
       "┌─────────┬─────────┬───────────┐\n",
       "│\u001b[1m Summand │\u001b[1m summand │\u001b[1m summation │\n",
       "├─────────┼─────────┼───────────┤\n",
       "│\u001b[1m       1 │       3 │         1 │\n",
       "│\u001b[1m       2 │      17 │         1 │\n",
       "│\u001b[1m       3 │       3 │         2 │\n",
       "│\u001b[1m       4 │      24 │         2 │\n",
       "└─────────┴─────────┴───────────┘\n"
      ]
     },
     "execution_count": 14,
     "metadata": {},
     "output_type": "execute_result"
    }
   ],
   "source": [
    "# 1D\n",
    "dome_model_1D = expand_operators(dome_model_sm)\n",
    "infer_types!(dome_model_1D, op1_inf_rules_1D, op2_inf_rules_1D)\n",
    "resolve_overloads!(dome_model_1D, op1_res_rules_1D, op2_res_rules_1D)"
   ]
  },
  {
   "cell_type": "code",
   "execution_count": 15,
   "id": "d634e472-0c33-4a13-b4e9-5cb5604ddbcb",
   "metadata": {
    "tags": []
   },
   "outputs": [
    {
     "data": {
      "text/html": [
       "<div class=\"c-set\">\n",
       "<span class=\"c-set-summary\">SummationDecapode{Any, Any, Symbol} {Var:30, TVar:1, Op1:10, Op2:11, Σ:2, Summand:4, Type:0, Operator:0, Name:0}</span>\n",
       "<table>\n",
       "  <thead>\n",
       "    <tr class = \"header headerLastRow\">\n",
       "      <th class = \"rowLabel\" style = \"font-weight: bold; text-align: right;\">Var</th>\n",
       "      <th style = \"text-align: right;\">type</th>\n",
       "      <th style = \"text-align: right;\">name</th>\n",
       "    </tr>\n",
       "  </thead>\n",
       "  <tbody>\n",
       "    <tr>\n",
       "      <td class = \"rowLabel\" style = \"font-weight: bold; text-align: right;\">1</td>\n",
       "      <td style = \"text-align: right;\">Form0</td>\n",
       "      <td style = \"text-align: right;\">dynamics_h</td>\n",
       "    </tr>\n",
       "    <tr>\n",
       "      <td class = \"rowLabel\" style = \"font-weight: bold; text-align: right;\">2</td>\n",
       "      <td style = \"text-align: right;\">Form1</td>\n",
       "      <td style = \"text-align: right;\">Γ</td>\n",
       "    </tr>\n",
       "    <tr>\n",
       "      <td class = \"rowLabel\" style = \"font-weight: bold; text-align: right;\">3</td>\n",
       "      <td style = \"text-align: right;\">Constant</td>\n",
       "      <td style = \"text-align: right;\">n</td>\n",
       "    </tr>\n",
       "    <tr>\n",
       "      <td class = \"rowLabel\" style = \"font-weight: bold; text-align: right;\">4</td>\n",
       "      <td style = \"text-align: right;\">Form0</td>\n",
       "      <td style = \"text-align: right;\">dynamics_ḣ</td>\n",
       "    </tr>\n",
       "    <tr>\n",
       "      <td class = \"rowLabel\" style = \"font-weight: bold; text-align: right;\">5</td>\n",
       "      <td style = \"text-align: right;\">infer</td>\n",
       "      <td style = \"text-align: right;\">dynamics_mult_1</td>\n",
       "    </tr>\n",
       "    <tr>\n",
       "      <td class = \"rowLabel\" style = \"font-weight: bold; text-align: right;\">6</td>\n",
       "      <td style = \"text-align: right;\">Form1</td>\n",
       "      <td style = \"text-align: right;\">dynamics_mult_2</td>\n",
       "    </tr>\n",
       "    <tr>\n",
       "      <td class = \"rowLabel\" style = \"font-weight: bold; text-align: right;\">7</td>\n",
       "      <td style = \"text-align: right;\">Form1</td>\n",
       "      <td style = \"text-align: right;\">dynamics_•1</td>\n",
       "    </tr>\n",
       "    <tr>\n",
       "      <td class = \"rowLabel\" style = \"font-weight: bold; text-align: right;\">8</td>\n",
       "      <td style = \"text-align: right;\">infer</td>\n",
       "      <td style = \"text-align: right;\">dynamics_•2</td>\n",
       "    </tr>\n",
       "    <tr>\n",
       "      <td class = \"rowLabel\" style = \"font-weight: bold; text-align: right;\">9</td>\n",
       "      <td style = \"text-align: right;\">infer</td>\n",
       "      <td style = \"text-align: right;\">dynamics_•3</td>\n",
       "    </tr>\n",
       "    <tr>\n",
       "      <td class = \"rowLabel\" style = \"font-weight: bold; text-align: right;\">10</td>\n",
       "      <td style = \"text-align: right;\">infer</td>\n",
       "      <td style = \"text-align: right;\">dynamics_•4</td>\n",
       "    </tr>\n",
       "    <tr>\n",
       "      <td class = \"rowLabel\" style = \"font-weight: bold; text-align: right;\">11</td>\n",
       "      <td style = \"text-align: right;\">infer</td>\n",
       "      <td style = \"text-align: right;\">dynamics_•5</td>\n",
       "    </tr>\n",
       "    <tr>\n",
       "      <td class = \"rowLabel\" style = \"font-weight: bold; text-align: right;\">12</td>\n",
       "      <td style = \"text-align: right;\">Form1</td>\n",
       "      <td style = \"text-align: right;\">dynamics_•6</td>\n",
       "    </tr>\n",
       "    <tr>\n",
       "      <td class = \"rowLabel\" style = \"font-weight: bold; text-align: right;\">13</td>\n",
       "      <td style = \"text-align: right;\">infer</td>\n",
       "      <td style = \"text-align: right;\">dynamics_•7</td>\n",
       "    </tr>\n",
       "    <tr>\n",
       "      <td class = \"rowLabel\" style = \"font-weight: bold; text-align: right;\">14</td>\n",
       "      <td style = \"text-align: right;\">Literal</td>\n",
       "      <td style = \"text-align: right;\">1</td>\n",
       "    </tr>\n",
       "    <tr>\n",
       "      <td class = \"rowLabel\" style = \"font-weight: bold; text-align: right;\">15</td>\n",
       "      <td style = \"text-align: right;\">infer</td>\n",
       "      <td style = \"text-align: right;\">dynamics_•8</td>\n",
       "    </tr>\n",
       "    <tr>\n",
       "      <td class = \"rowLabel\" style = \"font-weight: bold; text-align: right;\">16</td>\n",
       "      <td style = \"text-align: right;\">infer</td>\n",
       "      <td style = \"text-align: right;\">dynamics_•9</td>\n",
       "    </tr>\n",
       "    <tr>\n",
       "      <td class = \"rowLabel\" style = \"font-weight: bold; text-align: right;\">17</td>\n",
       "      <td style = \"text-align: right;\">Literal</td>\n",
       "      <td style = \"text-align: right;\">2</td>\n",
       "    </tr>\n",
       "    <tr>\n",
       "      <td class = \"rowLabel\" style = \"font-weight: bold; text-align: right;\">18</td>\n",
       "      <td style = \"text-align: right;\">Constant</td>\n",
       "      <td style = \"text-align: right;\">dynamics_sum_1</td>\n",
       "    </tr>\n",
       "    <tr>\n",
       "      <td class = \"rowLabel\" style = \"font-weight: bold; text-align: right;\">19</td>\n",
       "      <td style = \"text-align: right;\">infer</td>\n",
       "      <td style = \"text-align: right;\">dynamics_mult_3</td>\n",
       "    </tr>\n",
       "    <tr>\n",
       "      <td class = \"rowLabel\" style = \"font-weight: bold; text-align: right;\">20</td>\n",
       "      <td style = \"text-align: right;\">Constant</td>\n",
       "      <td style = \"text-align: right;\">stress_A</td>\n",
       "    </tr>\n",
       "    <tr>\n",
       "      <td class = \"rowLabel\" style = \"font-weight: bold; text-align: right;\">21</td>\n",
       "      <td style = \"text-align: right;\">Constant</td>\n",
       "      <td style = \"text-align: right;\">stress_ρ</td>\n",
       "    </tr>\n",
       "    <tr>\n",
       "      <td class = \"rowLabel\" style = \"font-weight: bold; text-align: right;\">22</td>\n",
       "      <td style = \"text-align: right;\">Constant</td>\n",
       "      <td style = \"text-align: right;\">stress_g</td>\n",
       "    </tr>\n",
       "    <tr>\n",
       "      <td class = \"rowLabel\" style = \"font-weight: bold; text-align: right;\">23</td>\n",
       "      <td style = \"text-align: right;\">infer</td>\n",
       "      <td style = \"text-align: right;\">stress_•1</td>\n",
       "    </tr>\n",
       "    <tr>\n",
       "      <td class = \"rowLabel\" style = \"font-weight: bold; text-align: right;\">24</td>\n",
       "      <td style = \"text-align: right;\">Literal</td>\n",
       "      <td style = \"text-align: right;\">2</td>\n",
       "    </tr>\n",
       "    <tr>\n",
       "      <td class = \"rowLabel\" style = \"font-weight: bold; text-align: right;\">25</td>\n",
       "      <td style = \"text-align: right;\">Constant</td>\n",
       "      <td style = \"text-align: right;\">stress_sum_1</td>\n",
       "    </tr>\n",
       "    <tr>\n",
       "      <td class = \"rowLabel\" style = \"font-weight: bold; text-align: right;\">26</td>\n",
       "      <td style = \"text-align: right;\">infer</td>\n",
       "      <td style = \"text-align: right;\">stress_•2</td>\n",
       "    </tr>\n",
       "    <tr>\n",
       "      <td class = \"rowLabel\" style = \"font-weight: bold; text-align: right;\">27</td>\n",
       "      <td style = \"text-align: right;\">infer</td>\n",
       "      <td style = \"text-align: right;\">stress_•3</td>\n",
       "    </tr>\n",
       "    <tr>\n",
       "      <td class = \"rowLabel\" style = \"font-weight: bold; text-align: right;\">28</td>\n",
       "      <td style = \"text-align: right;\">infer</td>\n",
       "      <td style = \"text-align: right;\">stress_mult_1</td>\n",
       "    </tr>\n",
       "    <tr>\n",
       "      <td class = \"rowLabel\" style = \"font-weight: bold; text-align: right;\">29</td>\n",
       "      <td style = \"text-align: right;\">DualForm1</td>\n",
       "      <td style = \"text-align: right;\">•_8_1</td>\n",
       "    </tr>\n",
       "    <tr>\n",
       "      <td class = \"rowLabel\" style = \"font-weight: bold; text-align: right;\">30</td>\n",
       "      <td style = \"text-align: right;\">DualForm2</td>\n",
       "      <td style = \"text-align: right;\">•_8_2</td>\n",
       "    </tr>\n",
       "  </tbody>\n",
       "</table>\n",
       "<table>\n",
       "  <thead>\n",
       "    <tr class = \"header headerLastRow\">\n",
       "      <th class = \"rowLabel\" style = \"font-weight: bold; text-align: right;\">TVar</th>\n",
       "      <th style = \"text-align: right;\">incl</th>\n",
       "    </tr>\n",
       "  </thead>\n",
       "  <tbody>\n",
       "    <tr>\n",
       "      <td class = \"rowLabel\" style = \"font-weight: bold; text-align: right;\">1</td>\n",
       "      <td style = \"text-align: right;\">4</td>\n",
       "    </tr>\n",
       "  </tbody>\n",
       "</table>\n",
       "<table>\n",
       "  <thead>\n",
       "    <tr class = \"header headerLastRow\">\n",
       "      <th class = \"rowLabel\" style = \"font-weight: bold; text-align: right;\">Op1</th>\n",
       "      <th style = \"text-align: right;\">src</th>\n",
       "      <th style = \"text-align: right;\">tgt</th>\n",
       "      <th style = \"text-align: right;\">op1</th>\n",
       "    </tr>\n",
       "  </thead>\n",
       "  <tbody>\n",
       "    <tr>\n",
       "      <td class = \"rowLabel\" style = \"font-weight: bold; text-align: right;\">1</td>\n",
       "      <td style = \"text-align: right;\">1</td>\n",
       "      <td style = \"text-align: right;\">4</td>\n",
       "      <td style = \"text-align: right;\">∂ₜ</td>\n",
       "    </tr>\n",
       "    <tr>\n",
       "      <td class = \"rowLabel\" style = \"font-weight: bold; text-align: right;\">2</td>\n",
       "      <td style = \"text-align: right;\">1</td>\n",
       "      <td style = \"text-align: right;\">7</td>\n",
       "      <td style = \"text-align: right;\">d₀</td>\n",
       "    </tr>\n",
       "    <tr>\n",
       "      <td class = \"rowLabel\" style = \"font-weight: bold; text-align: right;\">3</td>\n",
       "      <td style = \"text-align: right;\">1</td>\n",
       "      <td style = \"text-align: right;\">12</td>\n",
       "      <td style = \"text-align: right;\">d₀</td>\n",
       "    </tr>\n",
       "    <tr>\n",
       "      <td class = \"rowLabel\" style = \"font-weight: bold; text-align: right;\">4</td>\n",
       "      <td style = \"text-align: right;\">12</td>\n",
       "      <td style = \"text-align: right;\">11</td>\n",
       "      <td style = \"text-align: right;\">♯</td>\n",
       "    </tr>\n",
       "    <tr>\n",
       "      <td class = \"rowLabel\" style = \"font-weight: bold; text-align: right;\">5</td>\n",
       "      <td style = \"text-align: right;\">11</td>\n",
       "      <td style = \"text-align: right;\">10</td>\n",
       "      <td style = \"text-align: right;\">mag</td>\n",
       "    </tr>\n",
       "    <tr>\n",
       "      <td class = \"rowLabel\" style = \"font-weight: bold; text-align: right;\">6</td>\n",
       "      <td style = \"text-align: right;\">9</td>\n",
       "      <td style = \"text-align: right;\">8</td>\n",
       "      <td style = \"text-align: right;\">avg₀₁</td>\n",
       "    </tr>\n",
       "    <tr>\n",
       "      <td class = \"rowLabel\" style = \"font-weight: bold; text-align: right;\">7</td>\n",
       "      <td style = \"text-align: right;\">16</td>\n",
       "      <td style = \"text-align: right;\">15</td>\n",
       "      <td style = \"text-align: right;\">avg₀₁</td>\n",
       "    </tr>\n",
       "    <tr>\n",
       "      <td class = \"rowLabel\" style = \"font-weight: bold; text-align: right;\">8</td>\n",
       "      <td style = \"text-align: right;\">6</td>\n",
       "      <td style = \"text-align: right;\">29</td>\n",
       "      <td style = \"text-align: right;\">⋆₁</td>\n",
       "    </tr>\n",
       "    <tr>\n",
       "      <td class = \"rowLabel\" style = \"font-weight: bold; text-align: right;\">9</td>\n",
       "      <td style = \"text-align: right;\">29</td>\n",
       "      <td style = \"text-align: right;\">30</td>\n",
       "      <td style = \"text-align: right;\">dual_d₁</td>\n",
       "    </tr>\n",
       "    <tr>\n",
       "      <td class = \"rowLabel\" style = \"font-weight: bold; text-align: right;\">10</td>\n",
       "      <td style = \"text-align: right;\">30</td>\n",
       "      <td style = \"text-align: right;\">4</td>\n",
       "      <td style = \"text-align: right;\">⋆₀⁻¹</td>\n",
       "    </tr>\n",
       "  </tbody>\n",
       "</table>\n",
       "<table>\n",
       "  <thead>\n",
       "    <tr class = \"header headerLastRow\">\n",
       "      <th class = \"rowLabel\" style = \"font-weight: bold; text-align: right;\">Op2</th>\n",
       "      <th style = \"text-align: right;\">proj1</th>\n",
       "      <th style = \"text-align: right;\">proj2</th>\n",
       "      <th style = \"text-align: right;\">res</th>\n",
       "      <th style = \"text-align: right;\">op2</th>\n",
       "    </tr>\n",
       "  </thead>\n",
       "  <tbody>\n",
       "    <tr>\n",
       "      <td class = \"rowLabel\" style = \"font-weight: bold; text-align: right;\">1</td>\n",
       "      <td style = \"text-align: right;\">3</td>\n",
       "      <td style = \"text-align: right;\">14</td>\n",
       "      <td style = \"text-align: right;\">13</td>\n",
       "      <td style = \"text-align: right;\">-</td>\n",
       "    </tr>\n",
       "    <tr>\n",
       "      <td class = \"rowLabel\" style = \"font-weight: bold; text-align: right;\">2</td>\n",
       "      <td style = \"text-align: right;\">10</td>\n",
       "      <td style = \"text-align: right;\">13</td>\n",
       "      <td style = \"text-align: right;\">9</td>\n",
       "      <td style = \"text-align: right;\">^</td>\n",
       "    </tr>\n",
       "    <tr>\n",
       "      <td class = \"rowLabel\" style = \"font-weight: bold; text-align: right;\">3</td>\n",
       "      <td style = \"text-align: right;\">1</td>\n",
       "      <td style = \"text-align: right;\">18</td>\n",
       "      <td style = \"text-align: right;\">16</td>\n",
       "      <td style = \"text-align: right;\">^</td>\n",
       "    </tr>\n",
       "    <tr>\n",
       "      <td class = \"rowLabel\" style = \"font-weight: bold; text-align: right;\">4</td>\n",
       "      <td style = \"text-align: right;\">2</td>\n",
       "      <td style = \"text-align: right;\">7</td>\n",
       "      <td style = \"text-align: right;\">19</td>\n",
       "      <td style = \"text-align: right;\">*</td>\n",
       "    </tr>\n",
       "    <tr>\n",
       "      <td class = \"rowLabel\" style = \"font-weight: bold; text-align: right;\">5</td>\n",
       "      <td style = \"text-align: right;\">19</td>\n",
       "      <td style = \"text-align: right;\">8</td>\n",
       "      <td style = \"text-align: right;\">5</td>\n",
       "      <td style = \"text-align: right;\">*</td>\n",
       "    </tr>\n",
       "    <tr>\n",
       "      <td class = \"rowLabel\" style = \"font-weight: bold; text-align: right;\">6</td>\n",
       "      <td style = \"text-align: right;\">5</td>\n",
       "      <td style = \"text-align: right;\">15</td>\n",
       "      <td style = \"text-align: right;\">6</td>\n",
       "      <td style = \"text-align: right;\">*</td>\n",
       "    </tr>\n",
       "    <tr>\n",
       "      <td class = \"rowLabel\" style = \"font-weight: bold; text-align: right;\">7</td>\n",
       "      <td style = \"text-align: right;\">24</td>\n",
       "      <td style = \"text-align: right;\">25</td>\n",
       "      <td style = \"text-align: right;\">23</td>\n",
       "      <td style = \"text-align: right;\">/</td>\n",
       "    </tr>\n",
       "    <tr>\n",
       "      <td class = \"rowLabel\" style = \"font-weight: bold; text-align: right;\">8</td>\n",
       "      <td style = \"text-align: right;\">21</td>\n",
       "      <td style = \"text-align: right;\">22</td>\n",
       "      <td style = \"text-align: right;\">27</td>\n",
       "      <td style = \"text-align: right;\">*</td>\n",
       "    </tr>\n",
       "    <tr>\n",
       "      <td class = \"rowLabel\" style = \"font-weight: bold; text-align: right;\">9</td>\n",
       "      <td style = \"text-align: right;\">27</td>\n",
       "      <td style = \"text-align: right;\">3</td>\n",
       "      <td style = \"text-align: right;\">26</td>\n",
       "      <td style = \"text-align: right;\">^</td>\n",
       "    </tr>\n",
       "    <tr>\n",
       "      <td class = \"rowLabel\" style = \"font-weight: bold; text-align: right;\">10</td>\n",
       "      <td style = \"text-align: right;\">23</td>\n",
       "      <td style = \"text-align: right;\">20</td>\n",
       "      <td style = \"text-align: right;\">28</td>\n",
       "      <td style = \"text-align: right;\">*</td>\n",
       "    </tr>\n",
       "    <tr>\n",
       "      <td class = \"rowLabel\" style = \"font-weight: bold; text-align: right;\">11</td>\n",
       "      <td style = \"text-align: right;\">28</td>\n",
       "      <td style = \"text-align: right;\">26</td>\n",
       "      <td style = \"text-align: right;\">2</td>\n",
       "      <td style = \"text-align: right;\">*</td>\n",
       "    </tr>\n",
       "  </tbody>\n",
       "</table>\n",
       "<table>\n",
       "  <thead>\n",
       "    <tr class = \"header headerLastRow\">\n",
       "      <th class = \"rowLabel\" style = \"font-weight: bold; text-align: right;\">Σ</th>\n",
       "      <th style = \"text-align: right;\">sum</th>\n",
       "    </tr>\n",
       "  </thead>\n",
       "  <tbody>\n",
       "    <tr>\n",
       "      <td class = \"rowLabel\" style = \"font-weight: bold; text-align: right;\">1</td>\n",
       "      <td style = \"text-align: right;\">18</td>\n",
       "    </tr>\n",
       "    <tr>\n",
       "      <td class = \"rowLabel\" style = \"font-weight: bold; text-align: right;\">2</td>\n",
       "      <td style = \"text-align: right;\">25</td>\n",
       "    </tr>\n",
       "  </tbody>\n",
       "</table>\n",
       "<table>\n",
       "  <thead>\n",
       "    <tr class = \"header headerLastRow\">\n",
       "      <th class = \"rowLabel\" style = \"font-weight: bold; text-align: right;\">Summand</th>\n",
       "      <th style = \"text-align: right;\">summand</th>\n",
       "      <th style = \"text-align: right;\">summation</th>\n",
       "    </tr>\n",
       "  </thead>\n",
       "  <tbody>\n",
       "    <tr>\n",
       "      <td class = \"rowLabel\" style = \"font-weight: bold; text-align: right;\">1</td>\n",
       "      <td style = \"text-align: right;\">3</td>\n",
       "      <td style = \"text-align: right;\">1</td>\n",
       "    </tr>\n",
       "    <tr>\n",
       "      <td class = \"rowLabel\" style = \"font-weight: bold; text-align: right;\">2</td>\n",
       "      <td style = \"text-align: right;\">17</td>\n",
       "      <td style = \"text-align: right;\">1</td>\n",
       "    </tr>\n",
       "    <tr>\n",
       "      <td class = \"rowLabel\" style = \"font-weight: bold; text-align: right;\">3</td>\n",
       "      <td style = \"text-align: right;\">3</td>\n",
       "      <td style = \"text-align: right;\">2</td>\n",
       "    </tr>\n",
       "    <tr>\n",
       "      <td class = \"rowLabel\" style = \"font-weight: bold; text-align: right;\">4</td>\n",
       "      <td style = \"text-align: right;\">24</td>\n",
       "      <td style = \"text-align: right;\">2</td>\n",
       "    </tr>\n",
       "  </tbody>\n",
       "</table>\n",
       "</div>\n"
      ],
      "text/plain": [
       "SummationDecapode{Any, Any, Symbol} {Var:30, TVar:1, Op1:10, Op2:11, Σ:2, Summand:4, Type:0, Operator:0, Name:0}\n",
       "┌─────┬───────────┬─────────────────┐\n",
       "│\u001b[1m Var │\u001b[1m      type │\u001b[1m            name │\n",
       "├─────┼───────────┼─────────────────┤\n",
       "│\u001b[1m   1 │     Form0 │      dynamics_h │\n",
       "│\u001b[1m   2 │     Form1 │               Γ │\n",
       "│\u001b[1m   3 │  Constant │               n │\n",
       "│\u001b[1m   4 │     Form0 │      dynamics_ḣ │\n",
       "│\u001b[1m   5 │     infer │ dynamics_mult_1 │\n",
       "│\u001b[1m   6 │     Form1 │ dynamics_mult_2 │\n",
       "│\u001b[1m   7 │     Form1 │     dynamics_•1 │\n",
       "│\u001b[1m   8 │     infer │     dynamics_•2 │\n",
       "│\u001b[1m   9 │     infer │     dynamics_•3 │\n",
       "│\u001b[1m  10 │     infer │     dynamics_•4 │\n",
       "│\u001b[1m  11 │     infer │     dynamics_•5 │\n",
       "│\u001b[1m  12 │     Form1 │     dynamics_•6 │\n",
       "│\u001b[1m  13 │     infer │     dynamics_•7 │\n",
       "│\u001b[1m  14 │   Literal │               1 │\n",
       "│\u001b[1m  15 │     infer │     dynamics_•8 │\n",
       "│\u001b[1m  16 │     infer │     dynamics_•9 │\n",
       "│\u001b[1m  17 │   Literal │               2 │\n",
       "│\u001b[1m  18 │  Constant │  dynamics_sum_1 │\n",
       "│\u001b[1m  19 │     infer │ dynamics_mult_3 │\n",
       "│\u001b[1m  20 │  Constant │        stress_A │\n",
       "│\u001b[1m  21 │  Constant │        stress_ρ │\n",
       "│\u001b[1m  22 │  Constant │        stress_g │\n",
       "│  ⋮  │     ⋮     │        ⋮        │\n",
       "└─────┴───────────┴─────────────────┘\n",
       "\u001b[36m                       8 rows omitted\n",
       "┌──────┬──────┐\n",
       "│\u001b[1m TVar │\u001b[1m incl │\n",
       "├──────┼──────┤\n",
       "│\u001b[1m    1 │    4 │\n",
       "└──────┴──────┘\n",
       "┌─────┬─────┬─────┬─────────┐\n",
       "│\u001b[1m Op1 │\u001b[1m src │\u001b[1m tgt │\u001b[1m     op1 │\n",
       "├─────┼─────┼─────┼─────────┤\n",
       "│\u001b[1m   1 │   1 │   4 │      ∂ₜ │\n",
       "│\u001b[1m   2 │   1 │   7 │      d₀ │\n",
       "│\u001b[1m   3 │   1 │  12 │      d₀ │\n",
       "│\u001b[1m   4 │  12 │  11 │       ♯ │\n",
       "│\u001b[1m   5 │  11 │  10 │     mag │\n",
       "│\u001b[1m   6 │   9 │   8 │   avg₀₁ │\n",
       "│\u001b[1m   7 │  16 │  15 │   avg₀₁ │\n",
       "│\u001b[1m   8 │   6 │  29 │      ⋆₁ │\n",
       "│\u001b[1m   9 │  29 │  30 │ dual_d₁ │\n",
       "│\u001b[1m  10 │  30 │   4 │    ⋆₀⁻¹ │\n",
       "└─────┴─────┴─────┴─────────┘\n",
       "┌─────┬───────┬───────┬─────┬─────┐\n",
       "│\u001b[1m Op2 │\u001b[1m proj1 │\u001b[1m proj2 │\u001b[1m res │\u001b[1m op2 │\n",
       "├─────┼───────┼───────┼─────┼─────┤\n",
       "│\u001b[1m   1 │     3 │    14 │  13 │   - │\n",
       "│\u001b[1m   2 │    10 │    13 │   9 │   ^ │\n",
       "│\u001b[1m   3 │     1 │    18 │  16 │   ^ │\n",
       "│\u001b[1m   4 │     2 │     7 │  19 │   * │\n",
       "│\u001b[1m   5 │    19 │     8 │   5 │   * │\n",
       "│\u001b[1m   6 │     5 │    15 │   6 │   * │\n",
       "│\u001b[1m   7 │    24 │    25 │  23 │   / │\n",
       "│\u001b[1m   8 │    21 │    22 │  27 │   * │\n",
       "│\u001b[1m   9 │    27 │     3 │  26 │   ^ │\n",
       "│\u001b[1m  10 │    23 │    20 │  28 │   * │\n",
       "│\u001b[1m  11 │    28 │    26 │   2 │   * │\n",
       "└─────┴───────┴───────┴─────┴─────┘\n",
       "┌───┬─────┐\n",
       "│\u001b[1m Σ │\u001b[1m sum │\n",
       "├───┼─────┤\n",
       "│\u001b[1m 1 │  18 │\n",
       "│\u001b[1m 2 │  25 │\n",
       "└───┴─────┘\n",
       "┌─────────┬─────────┬───────────┐\n",
       "│\u001b[1m Summand │\u001b[1m summand │\u001b[1m summation │\n",
       "├─────────┼─────────┼───────────┤\n",
       "│\u001b[1m       1 │       3 │         1 │\n",
       "│\u001b[1m       2 │      17 │         1 │\n",
       "│\u001b[1m       3 │       3 │         2 │\n",
       "│\u001b[1m       4 │      24 │         2 │\n",
       "└─────────┴─────────┴───────────┘\n"
      ]
     },
     "execution_count": 15,
     "metadata": {},
     "output_type": "execute_result"
    }
   ],
   "source": [
    "# 2D\n",
    "dome_model_2D = expand_operators(dome_model_sm)\n",
    "infer_types!(dome_model_2D)\n",
    "resolve_overloads!(dome_model_2D)"
   ]
  },
  {
   "cell_type": "markdown",
   "id": "b1c085c5-530f-46d6-9311-bcbd80d709e9",
   "metadata": {},
   "source": [
    "## Configure Model \n",
    "\n",
    "Configure the model by defining a mesh. \n",
    "The mesh to be used to discretize the domain and the model needs to be defined:\n",
    "* using helper functions\n",
    "* uploading a shapefile\n",
    "* using custom code"
   ]
  },
  {
   "cell_type": "code",
   "execution_count": 16,
   "id": "e2a4d267-a371-4684-902f-be2e1a3a4454",
   "metadata": {
    "tags": []
   },
   "outputs": [],
   "source": [
    "# Define a 1D mesh using a helper function\n",
    "\n",
    "s_prime_1D = EmbeddedDeltaSet1D{Bool, Point2D}()\n",
    "add_vertices!(s_prime_1D, 20, point = Point2D.(range(0, 10_000, length = 20), 0))\n",
    "add_edges!(s_prime_1D, 1:nv(s_prime_1D) - 1, 2:nv(s_prime_1D))\n",
    "orient!(s_prime_1D)\n",
    "s_1D = EmbeddedDeltaDualComplex1D{Bool, Float64, Point2D}(s_prime_1D)\n",
    "subdivide_duals!(s_1D, Circumcenter())\n",
    "\n",
    "# Save both meshes as shapefile"
   ]
  },
  {
   "cell_type": "code",
   "execution_count": 1,
   "id": "de41162c-b8e5-48d2-8454-f1ee2240b324",
   "metadata": {
    "tags": []
   },
   "outputs": [
    {
     "ename": "LoadError",
     "evalue": "UndefVarError: `Mesh` not defined",
     "output_type": "error",
     "traceback": [
      "UndefVarError: `Mesh` not defined",
      ""
     ]
    }
   ],
   "source": []
  },
  {
   "cell_type": "code",
   "execution_count": 17,
   "id": "d024e704-19ca-422f-b7b2-993fd4a70b63",
   "metadata": {
    "tags": []
   },
   "outputs": [],
   "source": [
    "# Define a 2D rectangular triangulated grid using a helper function\n",
    "\n",
    "function triangulated_grid(max_x, max_y, dx, dy, point_type)\n",
    "\n",
    "  s = EmbeddedDeltaSet2D{Bool, point_type}()\n",
    "\n",
    "  # Place equally-spaced points in a max_x by max_y rectangle.\n",
    "  coords = point_type == Point3D ? map(x -> point_type(x..., 0), Iterators.product(0:dx:max_x, 0:dy:max_y)) : map(x -> point_type(x...), Iterators.product(0:dx:max_x, 0:dy:max_y))\n",
    "  # Perturb every other row right by half a dx.\n",
    "  coords[:, 2:2:end] = map(coords[:, 2:2:end]) do row\n",
    "    if point_type == Point3D\n",
    "      row .+ [dx/2, 0, 0]\n",
    "    else\n",
    "      row .+ [dx/2, 0]\n",
    "    end\n",
    "  end\n",
    "  # The perturbation moved the right-most points past max_x, so compress along x.\n",
    "  map!(coords, coords) do coord\n",
    "    if point_type == Point3D\n",
    "      diagm([max_x/(max_x+dx/2), 1, 1]) * coord\n",
    "    else\n",
    "      diagm([max_x/(max_x+dx/2), 1]) * coord\n",
    "    end\n",
    "  end\n",
    "\n",
    "  add_vertices!(s, length(coords), point = vec(coords))\n",
    "\n",
    "  nx = length(0:dx:max_x)\n",
    "\n",
    "  # Matrix that stores indices of points.\n",
    "  idcs = reshape(eachindex(coords), size(coords))\n",
    "  # Only grab vertices that will be the bottom-left corner of a subdivided square.\n",
    "  idcs = idcs[begin:end-1, begin:end-1]\n",
    "  \n",
    "  # Subdivide every other row along the opposite diagonal.\n",
    "  for i in idcs[:, begin+1:2:end]\n",
    "    glue_sorted_triangle!(s, i, i+nx, i+nx+1)\n",
    "    glue_sorted_triangle!(s, i, i+1, i+nx+1)\n",
    "  end\n",
    "  for i in idcs[:, begin:2:end]\n",
    "    glue_sorted_triangle!(s, i, i+1, i+nx)\n",
    "    glue_sorted_triangle!(s, i+1, i+nx, i+nx+1)\n",
    "  end\n",
    "\n",
    "  # Orient and return.\n",
    "  s[:edge_orientation]=true\n",
    "  orient!(s)\n",
    "  s\n",
    "end"
   ]
  },
  {
   "cell_type": "code",
   "execution_count": 18,
   "id": "804ca522-60ea-41cf-8e2e-9655200fe7d2",
   "metadata": {
    "tags": []
   },
   "outputs": [],
   "source": [
    "# Define a 2D rectangle in 3D\n",
    "s_prime_2D_rect = triangulated_grid(10_000, 10_000, 800, 800, Point3D)\n",
    "s_2D_rect = EmbeddedDeltaDualComplex2D{Bool, Float64, Point3D}(s_prime_2D_rect)\n",
    "subdivide_duals!(s_2D_rect, Barycenter())\n",
    "\n",
    "# Save both meshes as shapefile"
   ]
  },
  {
   "cell_type": "code",
   "execution_count": 19,
   "id": "aa0f1d97-9e44-4e44-a4f4-9519d5065dfe",
   "metadata": {
    "tags": []
   },
   "outputs": [],
   "source": [
    "# Define a 2D sphere in 3D\n",
    "s_prime_2D_sph = loadmesh(Icosphere(3, 10_000))\n",
    "s_2D_sph = EmbeddedDeltaDualComplex2D{Bool, Float64, Point3D}(s_prime_2D_sph)\n",
    "subdivide_duals!(s_2D_sph, Barycenter())\n",
    "\n",
    "# Save both meshes as shapefile"
   ]
  },
  {
   "cell_type": "code",
   "execution_count": 20,
   "id": "deaf2f5d-4c8d-4570-a004-9da5dd79ce3a",
   "metadata": {
    "tags": []
   },
   "outputs": [],
   "source": [
    "# Define a 2D teapot in 3D\n",
    "download(\"https://graphics.stanford.edu/courses/cs148-10-summer/as3/code/as3/teapot.obj\", \"teapot.obj\")\n",
    "s_prime_2D_tea = EmbeddedDeltaSet2D(\"teapot.obj\")\n",
    "s_2D_tea = EmbeddedDeltaDualComplex2D{Bool,Float64,Point3D}(s_prime_2D_tea)\n",
    "subdivide_duals!(s_2D_tea, Circumcenter())\n",
    "\n",
    "# Save both meshes as shapefile"
   ]
  },
  {
   "cell_type": "markdown",
   "id": "f717d5f5-29e0-4af3-b769-aa40f322dd60",
   "metadata": {},
   "source": [
    "# Parameterize Model\n",
    "\n",
    "We need to specify values for:\n",
    "* parameters (including constants)\n",
    "* initial conditions\n",
    "* boundary conditions (optional)"
   ]
  },
  {
   "cell_type": "code",
   "execution_count": 21,
   "id": "4ed58854-94ca-46f6-a90d-8ce377051618",
   "metadata": {
    "tags": []
   },
   "outputs": [
    {
     "data": {
      "text/plain": [
       "1.0e-16"
      ]
     },
     "execution_count": 21,
     "metadata": {},
     "output_type": "execute_result"
    }
   ],
   "source": [
    "# Parameters\n",
    "n = 3\n",
    "ρ = 910\n",
    "g = 9.8\n",
    "A = 1e-16"
   ]
  },
  {
   "cell_type": "code",
   "execution_count": 22,
   "id": "d3499278-07f4-4644-b0c4-6dffa086cc15",
   "metadata": {
    "tags": []
   },
   "outputs": [
    {
     "data": {
      "text/plain": [
       "3644-element Vector{Float64}:\n",
       " 0.0\n",
       " 0.08100000023841858\n",
       " 0.08100000023841858\n",
       " 0.0\n",
       " 0.0\n",
       " 0.0\n",
       " 0.08100000023841858\n",
       " 0.08100000023841858\n",
       " 0.08100000023841858\n",
       " 0.08100000023841858\n",
       " 0.14399999380111694\n",
       " 0.14399999380111694\n",
       " 0.14399999380111694\n",
       " ⋮\n",
       " 0.06166800111532211\n",
       " 0.06166800111532211\n",
       " 0.0\n",
       " 0.0\n",
       " 0.05400000140070915\n",
       " 0.05400000140070915\n",
       " 0.0579960010945797\n",
       " 0.0579960010945797\n",
       " 0.0\n",
       " 0.0\n",
       " 0.0\n",
       " 0.0"
      ]
     },
     "execution_count": 22,
     "metadata": {},
     "output_type": "execute_result"
    }
   ],
   "source": [
    "# Initial conditions\n",
    "\n",
    "# 1D\n",
    "h_init_1D = map(point(s_prime_1D)) do (x, _)\n",
    "        ((7072 - ((x - 5000)^2)) / 9e3 + 2777) / 2777e-1\n",
    "end\n",
    "\n",
    "# 2D rectangular triangular grid\n",
    "h_init_2D_rect = map(point(s_prime_2D_rect)) do (x, y)\n",
    "  (7072 - ((x - 5000)^2 + (y - 5000)^2)^(1 / 2)) / 9e3 + 10\n",
    "end\n",
    "\n",
    "# 2D icosphere in 3D\n",
    "h_init_2D_sph = map(point(s_prime_2D_sph)) do (x, y, z)\n",
    "    (z * z) / (10_000 * 10_000)\n",
    "end\n",
    "\n",
    "# 2D teapot in 3D\n",
    "h_init_2D_tea = map(point(s_prime_2D_tea)) do (x, y, z)\n",
    "    abs(z) * 1.0\n",
    "end"
   ]
  },
  {
   "cell_type": "markdown",
   "id": "80c22589-6a36-43d0-b7dd-769441b34617",
   "metadata": {
    "jp-MarkdownHeadingCollapsed": true,
    "tags": []
   },
   "source": [
    "## Save initial conditions as NetCDF files"
   ]
  },
  {
   "cell_type": "code",
   "execution_count": 214,
   "id": "749e5274-fefe-4ab6-8e64-2743778e04d2",
   "metadata": {
    "tags": []
   },
   "outputs": [
    {
     "name": "stdout",
     "output_type": "stream",
     "text": [
      "\n",
      "##### NetCDF File #####\n",
      "\n",
      "/home/jovyan/work/Nelson/decapodes/dome_model/h_init_1D.nc\n",
      "\n",
      "##### Dimensions #####\n",
      "\n",
      "Name                                                Length                    \n",
      "--------------------------------------------------------------------------------\n",
      "vertex_index                                        20                        \n",
      "\n",
      "##### Variables #####\n",
      "\n",
      "Name                            Type            Dimensions                      \n",
      "--------------------------------------------------------------------------------\n",
      "vertex_index                    INT64           vertex_index                    \n",
      "h_init                          DOUBLE          vertex_index                    \n",
      "\n",
      "##### Attributes #####\n",
      "\n",
      "Variable            Name                Value                                   \n",
      "--------------------------------------------------------------------------------\n",
      "vertex_index        units               None                                    \n",
      "vertex_index        name                mesh-vertex index                       \n",
      "h_init              units               m                                       \n",
      "h_init              name                ice height at time = 0, 1D case         \n",
      "\n",
      "##### NetCDF File #####\n",
      "\n",
      "/home/jovyan/work/Nelson/decapodes/dome_model/h_init_2D_rect.nc\n",
      "\n",
      "##### Dimensions #####\n",
      "\n",
      "Name                                                Length                    \n",
      "--------------------------------------------------------------------------------\n",
      "vertex_index                                        169                       \n",
      "\n",
      "##### Variables #####\n",
      "\n",
      "Name                            Type            Dimensions                      \n",
      "--------------------------------------------------------------------------------\n",
      "vertex_index                    INT64           vertex_index                    \n",
      "h_init                          DOUBLE          vertex_index                    \n",
      "\n",
      "##### Attributes #####\n",
      "\n",
      "Variable            Name                Value                                   \n",
      "--------------------------------------------------------------------------------\n",
      "vertex_index        units               None                                    \n",
      "vertex_index        name                mesh-vertex index                       \n",
      "h_init              units               m                                       \n",
      "h_init              name                ice height at time = 0, 2D-rectangle i..\n",
      "\n",
      "##### NetCDF File #####\n",
      "\n",
      "/home/jovyan/work/Nelson/decapodes/dome_model/h_init_2D_sph.nc\n",
      "\n",
      "##### Dimensions #####\n",
      "\n",
      "Name                                                Length                    \n",
      "--------------------------------------------------------------------------------\n",
      "vertex_index                                        162                       \n",
      "\n",
      "##### Variables #####\n",
      "\n",
      "Name                            Type            Dimensions                      \n",
      "--------------------------------------------------------------------------------\n",
      "vertex_index                    INT64           vertex_index                    \n",
      "h_init                          DOUBLE          vertex_index                    \n",
      "\n",
      "##### Attributes #####\n",
      "\n",
      "Variable            Name                Value                                   \n",
      "--------------------------------------------------------------------------------\n",
      "vertex_index        units               None                                    \n",
      "vertex_index        name                mesh-vertex index                       \n",
      "h_init              units               m                                       \n",
      "h_init              name                ice height at time = 0, 2D-icosphere i..\n",
      "\n",
      "##### NetCDF File #####\n",
      "\n",
      "/home/jovyan/work/Nelson/decapodes/dome_model/h_init_2D_tea.nc\n",
      "\n",
      "##### Dimensions #####\n",
      "\n",
      "Name                                                Length                    \n",
      "--------------------------------------------------------------------------------\n",
      "vertex_index                                        3644                      \n",
      "\n",
      "##### Variables #####\n",
      "\n",
      "Name                            Type            Dimensions                      \n",
      "--------------------------------------------------------------------------------\n",
      "vertex_index                    INT64           vertex_index                    \n",
      "h_init                          DOUBLE          vertex_index                    \n",
      "\n",
      "##### Attributes #####\n",
      "\n",
      "Variable            Name                Value                                   \n",
      "--------------------------------------------------------------------------------\n",
      "vertex_index        units               None                                    \n",
      "vertex_index        name                mesh-vertex index                       \n",
      "h_init              units               m                                       \n",
      "h_init              name                ice height at time = 0, 2D-teapot in 3..\n"
     ]
    }
   ],
   "source": [
    "# 1D\n",
    "f = joinpath(\"1D/h_init.nc\")\n",
    "isfile(f) && rm(f)\n",
    "NetCDF.nccreate(\n",
    "    f, \"h_init\", \n",
    "    \"vertex_index\", [i for i in eachindex(point(s_1D))], Dict(\"name\" => \"mesh-vertex index\", \"units\" => \"None\"),\n",
    "    atts = Dict(\"name\" => \"ice height at time = 0, 1D case\", \"units\" => \"m\")\n",
    ")\n",
    "NetCDF.ncwrite(h_init_1D, f, \"h_init\")\n",
    "NetCDF.ncinfo(f)\n",
    "\n",
    "# 2D Rectangle\n",
    "f = joinpath(\"2D_rect/h_init.nc\")\n",
    "isfile(f) && rm(f)\n",
    "NetCDF.nccreate(\n",
    "    f, \"h_init\", \n",
    "    \"vertex_index\", [i for i in eachindex(point(s_prime_2D_rect))], Dict(\"name\" => \"mesh-vertex index\", \"units\" => \"None\"),\n",
    "    atts = Dict(\"name\" => \"ice height at time = 0, 2D-rectangle in 2D space\", \"units\" => \"m\")\n",
    ")\n",
    "NetCDF.ncwrite(h_init_2D_rect, f, \"h_init\")\n",
    "NetCDF.ncinfo(f)\n",
    "\n",
    "# 2D Icosphere in 3D\n",
    "f = joinpath(\"2D_sph/h_init.nc\")\n",
    "isfile(f) && rm(f)\n",
    "NetCDF.nccreate(\n",
    "    f, \"h_init\", \n",
    "    \"vertex_index\", [i for i in eachindex(point(s_prime_2D_sph))], Dict(\"name\" => \"mesh-vertex index\", \"units\" => \"None\"),\n",
    "    atts = Dict(\"name\" => \"ice height at time = 0, 2D-icosphere in 3D sphere\", \"units\" => \"m\")\n",
    ")\n",
    "NetCDF.ncwrite(h_init_2D_sph, f, \"h_init\")\n",
    "NetCDF.ncinfo(f)\n",
    "\n",
    "# 2D Teapot in 3D\n",
    "f = joinpath(\"2D_tea/h_init.nc\")\n",
    "isfile(f) && rm(f)\n",
    "NetCDF.nccreate(\n",
    "    f, \"h_init\", \n",
    "    \"vertex_index\", [i for i in eachindex(point(s_prime_2D_tea))], Dict(\"name\" => \"mesh-vertex index\", \"units\" => \"None\"),\n",
    "    atts = Dict(\"name\" => \"ice height at time = 0, 2D-teapot in 3D sphere\", \"units\" => \"m\")\n",
    ")\n",
    "NetCDF.ncwrite(h_init_2D_sph, f, \"h_init\")\n",
    "NetCDF.ncinfo(f)"
   ]
  },
  {
   "cell_type": "code",
   "execution_count": 23,
   "id": "9cdf1906-f095-4034-81c6-0168578970a6",
   "metadata": {
    "tags": []
   },
   "outputs": [
    {
     "data": {
      "text/plain": [
       "(0.0, 2.0)"
      ]
     },
     "execution_count": 23,
     "metadata": {},
     "output_type": "execute_result"
    }
   ],
   "source": [
    "extrema(h_init_2D_tea)"
   ]
  },
  {
   "cell_type": "code",
   "execution_count": 24,
   "id": "6ebff5be-2b08-40b4-a5e1-38c0c4cee6cc",
   "metadata": {
    "tags": []
   },
   "outputs": [],
   "source": [
    "# Boundary conditions\n",
    "# None in this example"
   ]
  },
  {
   "cell_type": "markdown",
   "id": "feffcb23-2d88-45ed-8e33-e7264baac84c",
   "metadata": {},
   "source": [
    "## Helper Functions\n",
    "\n",
    "* `generate(...)`"
   ]
  },
  {
   "cell_type": "code",
   "execution_count": 25,
   "id": "87d60cb0-7c80-4623-8777-fc917d9238eb",
   "metadata": {
    "tags": []
   },
   "outputs": [
    {
     "data": {
      "text/plain": [
       "generate (generic function with 1 method)"
      ]
     },
     "execution_count": 25,
     "metadata": {},
     "output_type": "execute_result"
    }
   ],
   "source": [
    "# Implement DEC operators (♯, ♭, ∧, d, ⋆)\n",
    "function generate(sd, my_symbol; hodge=GeometricHodge())\n",
    "  op = @match my_symbol begin\n",
    "    :♯ => x -> begin\n",
    "      # This is an implementation of the \"sharp\" operator from the exterior\n",
    "      # calculus, which takes co-vector fields to vector fields.\n",
    "      # This could be up-streamed to the CombinatorialSpaces.jl library. (i.e.\n",
    "      # this operation is not bespoke to this simulation.)\n",
    "      e_vecs = map(edges(sd)) do e\n",
    "        point(sd, sd[e, :∂v0]) - point(sd, sd[e, :∂v1])\n",
    "      end\n",
    "      neighbors = map(vertices(sd)) do v\n",
    "        union(incident(sd, v, :∂v0), incident(sd, v, :∂v1))\n",
    "      end\n",
    "      n_vecs = map(neighbors) do es\n",
    "        [e_vecs[e] for e in es]\n",
    "      end\n",
    "      map(neighbors, n_vecs) do es, nvs\n",
    "        sum([nv*norm(nv)*x[e] for (e,nv) in zip(es,nvs)]) / sum(norm.(nvs))\n",
    "      end\n",
    "    end\n",
    "    :mag => x -> begin\n",
    "      norm.(x)\n",
    "    end\n",
    "    :avg₀₁ => x -> begin\n",
    "      I = Vector{Int64}()\n",
    "      J = Vector{Int64}()\n",
    "      V = Vector{Float64}()\n",
    "      for e in 1:ne(sd)\n",
    "          append!(J, [sd[e,:∂v0],sd[e,:∂v1]])\n",
    "          append!(I, [e,e])\n",
    "          append!(V, [0.5, 0.5])\n",
    "      end\n",
    "      avg_mat = sparse(I,J,V)\n",
    "      avg_mat * x\n",
    "    end\n",
    "    :^ => (x,y) -> x .^ y\n",
    "    :* => (x,y) -> x .* y\n",
    "    :show => x -> begin\n",
    "      @show x\n",
    "      x\n",
    "    end\n",
    "    x => error(\"Unmatched operator $my_symbol\")\n",
    "  end\n",
    "  return (args...) -> op(args...)\n",
    "end"
   ]
  },
  {
   "cell_type": "markdown",
   "id": "73fa930a-d699-4a59-9397-0629e9c1c103",
   "metadata": {},
   "source": [
    "## Generate and Run Simulation"
   ]
  },
  {
   "cell_type": "code",
   "execution_count": 26,
   "id": "8beecd89-be1d-4f1e-a642-a8b7afa3d30b",
   "metadata": {
    "tags": []
   },
   "outputs": [
    {
     "data": {
      "text/plain": [
       "(n = 3, stress_ρ = 910, stress_g = 9.8, stress_A = 1.0e-16)"
      ]
     },
     "execution_count": 26,
     "metadata": {},
     "output_type": "execute_result"
    }
   ],
   "source": [
    "# Sim parameters\n",
    "start_time = 0.0\n",
    "end_time = 2e4\n",
    "\n",
    "# Map constants to model parameters\n",
    "constants_and_parameters = (\n",
    "    n = n,\n",
    "    stress_ρ = ρ,\n",
    "    stress_g = g,\n",
    "    stress_A = 1e-16\n",
    ")"
   ]
  },
  {
   "cell_type": "markdown",
   "id": "7e666a17-68ef-4e63-82c2-ec8bf57066f0",
   "metadata": {
    "tags": []
   },
   "source": [
    "### 1D Case"
   ]
  },
  {
   "cell_type": "code",
   "execution_count": 215,
   "id": "4321b68c-ba2d-457f-8551-5fa934f44d62",
   "metadata": {
    "tags": []
   },
   "outputs": [
    {
     "data": {
      "text/plain": [
       "(::var\"#f#123\"{Vector{Float64}, Vector{Float64}, Vector{Float64}, Vector{Float64}, Vector{Float64}, var\"#50#63\"{var\"#47#60\"}, var\"#50#63\"{var\"#46#59\"{EmbeddedDeltaDualComplex1D{Bool, Float64, Point2{Float64}}}}, var\"#50#63\"{var\"#45#58\"}, var\"#50#63\"{var\"#38#51\"{EmbeddedDeltaDualComplex1D{Bool, Float64, Point2{Float64}}}}, Diagonal{Float64, Vector{Float64}}, SparseMatrixCSC{Int64, Int64}, Diagonal{Float64, Vector{Float64}}, SparseMatrixCSC{Int64, Int64}}) (generic function with 1 method)"
      ]
     },
     "execution_count": 215,
     "metadata": {},
     "output_type": "execute_result"
    }
   ],
   "source": [
    "# Map initial conditions to the state variable\n",
    "u_init = construct(PhysicsState, [VectorForm(h_init_1D)], Float64[], [:dynamics_h])\n",
    "\n",
    "# Generate simulation\n",
    "sim = eval(gensim(dome_model_1D, dimension = 1))\n",
    "\n",
    "# Implement DEC operators on the given mesh\n",
    "fm = sim(s_1D , generate)"
   ]
  },
  {
   "cell_type": "code",
   "execution_count": 216,
   "id": "adf87e2b-6b76-47e3-b3e2-410c69f10465",
   "metadata": {
    "tags": []
   },
   "outputs": [
    {
     "name": "stderr",
     "output_type": "stream",
     "text": [
      "\u001b[36m\u001b[1m[ \u001b[22m\u001b[39m\u001b[36m\u001b[1mInfo: \u001b[22m\u001b[39mPrecompiling Solver\n"
     ]
    },
    {
     "data": {
      "text/plain": [
       "true"
      ]
     },
     "execution_count": 216,
     "metadata": {},
     "output_type": "execute_result"
    }
   ],
   "source": [
    "# Precompile\n",
    "@info(\"Precompiling Solver\")\n",
    "prob = ODEProblem(fm, u_init, (start_time, start_time + 1e-8), constants_and_parameters)\n",
    "soln = solve(prob, Tsit5())\n",
    "soln.retcode != :Unstable || error(\"Solver was not stable\")"
   ]
  },
  {
   "cell_type": "code",
   "execution_count": 217,
   "id": "105335b2-0da3-47a5-95cd-37e9d6627c90",
   "metadata": {
    "tags": []
   },
   "outputs": [
    {
     "name": "stderr",
     "output_type": "stream",
     "text": [
      "\u001b[36m\u001b[1m[ \u001b[22m\u001b[39m\u001b[36m\u001b[1mInfo: \u001b[22m\u001b[39mSolving\n"
     ]
    },
    {
     "name": "stdout",
     "output_type": "stream",
     "text": [
      "soln.retcode = SciMLBase.ReturnCode.Success\n"
     ]
    },
    {
     "name": "stderr",
     "output_type": "stream",
     "text": [
      "\u001b[36m\u001b[1m[ \u001b[22m\u001b[39m\u001b[36m\u001b[1mInfo: \u001b[22m\u001b[39mDone\n"
     ]
    }
   ],
   "source": [
    "# Run\n",
    "@info(\"Solving\")\n",
    "prob = ODEProblem(fm, u_init, (start_time, end_time), constants_and_parameters)\n",
    "soln = solve(prob, Tsit5())\n",
    "@show soln.retcode\n",
    "# @save \"1D.jld2\" soln\n",
    "@info(\"Done\")"
   ]
  },
  {
   "cell_type": "code",
   "execution_count": 219,
   "id": "63b2929e-adee-4bf6-bddd-d49d0a20481f",
   "metadata": {
    "tags": []
   },
   "outputs": [
    {
     "data": {
      "text/plain": [
       "PhysicsState{VectorForm{Float64}, Float64}(VectorForm{Float64}[VectorForm{Float64}([2.8808066257871174e-5, 1.9950472470241813, 3.7683969705423332, 5.320077978620717, 6.650090271259331, 7.7584338484581785, 8.645108710217254, 9.310114856536563, 9.753452287416101, 9.975121002855868, 9.975121002855868, 9.753452287416101, 9.310114856536561, 8.645108710217254, 7.758433848458178, 6.650090271259331, 5.32007797862072, 3.7683969705423332, 1.9950472470241847, 2.8808066257871174e-5])], Float64[], [20], [:dynamics_h])"
      ]
     },
     "execution_count": 219,
     "metadata": {},
     "output_type": "execute_result"
    }
   ],
   "source": [
    "\"ice height at time = 0, 1D case\"\n",
    "\"ice height at time = 0, 2D-rectangle in 2D space\"\n",
    "\"ice height at time = 0, 2D-icosphere in 3D sphere\"\n",
    "\"ice height at time = 0, 2D-teapot in 3D sphere\""
   ]
  },
  {
   "cell_type": "code",
   "execution_count": 221,
   "id": "e774e1f4-7c79-49c8-8c74-853dd29bc0ec",
   "metadata": {
    "tags": []
   },
   "outputs": [
    {
     "name": "stdout",
     "output_type": "stream",
     "text": [
      "\n",
      "##### NetCDF File #####\n",
      "\n",
      "/home/jovyan/work/Nelson/decapodes/dome_model/1D.nc\n",
      "\n",
      "##### Dimensions #####\n",
      "\n",
      "Name                                                Length                    \n",
      "--------------------------------------------------------------------------------\n",
      "t                                                   56                        \n",
      "vertex_index                                        20                        \n",
      "\n",
      "##### Variables #####\n",
      "\n",
      "Name                            Type            Dimensions                      \n",
      "--------------------------------------------------------------------------------\n",
      "t                               DOUBLE          t                               \n",
      "h                               DOUBLE          t vertex_index                  \n",
      "vertex_index                    INT64           vertex_index                    \n",
      "\n",
      "##### Attributes #####\n",
      "\n",
      "Variable            Name                Value                                   \n",
      "--------------------------------------------------------------------------------\n",
      "t                   units               day                                     \n",
      "t                   name                time                                    \n",
      "h                   units               m                                       \n",
      "h                   name                ice height, 1D case                     \n",
      "vertex_index        units               None                                    \n",
      "vertex_index        name                mesh-vertex index                       \n"
     ]
    }
   ],
   "source": [
    "# Save solution\n",
    "u = Array{Float64, 2}(undef, length(soln.t), length(soln.u[1]))\n",
    "for i in eachindex(soln.t)\n",
    "    for j in eachindex(soln.u[1])\n",
    "        u[i, j] = soln.u[i][j]\n",
    "    end\n",
    "end\n",
    "\n",
    "f = joinpath(\"1D/output.nc\")\n",
    "isfile(f) && rm(f)\n",
    "NetCDF.nccreate(\n",
    "    f, \"h\", \n",
    "    \"t\", soln.t, Dict(\"name\" => \"time\", \"units\" => \"day\"), \n",
    "    \"vertex_index\", [i for i in eachindex(point(s_1D))], Dict(\"name\" => \"mesh-vertex index\", \"units\" => \"None\"), \n",
    "    atts = Dict(\"name\" => \"ice height, 1D case\", \"units\" => \"m\")\n",
    ")\n",
    "NetCDF.ncwrite(u, f, \"h\")\n",
    "NetCDF.ncinfo(f)"
   ]
  },
  {
   "cell_type": "code",
   "execution_count": 218,
   "id": "f6d89c85-74a2-42be-918c-716893a22dcd",
   "metadata": {
    "tags": []
   },
   "outputs": [],
   "source": [
    "# df = DataFrame(soln)\n",
    "# CSV.write(\"1D.csv\", df)"
   ]
  },
  {
   "cell_type": "markdown",
   "id": "3bfdfb55-66df-4fc4-9c16-bf4ab5899e37",
   "metadata": {},
   "source": [
    "### 2D Rectangular Triangulated Grid Case"
   ]
  },
  {
   "cell_type": "code",
   "execution_count": 222,
   "id": "5a5def98-74b7-4b40-a9bc-08ad70d99bce",
   "metadata": {
    "tags": []
   },
   "outputs": [
    {
     "data": {
      "text/plain": [
       "(::var\"#f#124\"{Vector{Float64}, Vector{Float64}, Vector{Float64}, Vector{Float64}, Vector{Float64}, var\"#50#63\"{var\"#47#60\"}, var\"#50#63\"{var\"#46#59\"{EmbeddedDeltaDualComplex2D{Bool, Float64, Point3{Float64}}}}, var\"#50#63\"{var\"#45#58\"}, var\"#50#63\"{var\"#38#51\"{EmbeddedDeltaDualComplex2D{Bool, Float64, Point3{Float64}}}}, Diagonal{Float64, Vector{Float64}}, SparseMatrixCSC{Int64, Int64}, SparseMatrixCSC{Float64, Int64}, SparseMatrixCSC{Int64, Int64}}) (generic function with 1 method)"
      ]
     },
     "execution_count": 222,
     "metadata": {},
     "output_type": "execute_result"
    }
   ],
   "source": [
    "# Map initial conditions to the state variable\n",
    "u_init = construct(PhysicsState, [VectorForm(h_init_2D_rect)], Float64[], [:dynamics_h])\n",
    "\n",
    "# Generate simulation\n",
    "sim = eval(gensim(dome_model_2D, dimension = 2))\n",
    "\n",
    "# Implement DEC operators on the given mesh\n",
    "fm = sim(s_2D_rect , generate)"
   ]
  },
  {
   "cell_type": "code",
   "execution_count": 223,
   "id": "c1b66fff-c0a5-4030-9683-394edd13fd1b",
   "metadata": {
    "tags": []
   },
   "outputs": [
    {
     "name": "stderr",
     "output_type": "stream",
     "text": [
      "\u001b[36m\u001b[1m[ \u001b[22m\u001b[39m\u001b[36m\u001b[1mInfo: \u001b[22m\u001b[39mPrecompiling Solver\n"
     ]
    },
    {
     "data": {
      "text/plain": [
       "true"
      ]
     },
     "execution_count": 223,
     "metadata": {},
     "output_type": "execute_result"
    }
   ],
   "source": [
    "# Precompile\n",
    "@info(\"Precompiling Solver\")\n",
    "prob = ODEProblem(fm, u_init, (start_time, start_time + 1e-8), constants_and_parameters)\n",
    "soln = solve(prob, Tsit5())\n",
    "soln.retcode != :Unstable || error(\"Solver was not stable\")"
   ]
  },
  {
   "cell_type": "code",
   "execution_count": 224,
   "id": "492a4346-7a9e-4cff-a148-3283bffbd672",
   "metadata": {
    "tags": []
   },
   "outputs": [
    {
     "name": "stderr",
     "output_type": "stream",
     "text": [
      "\u001b[36m\u001b[1m[ \u001b[22m\u001b[39m\u001b[36m\u001b[1mInfo: \u001b[22m\u001b[39mSolving\n"
     ]
    },
    {
     "name": "stdout",
     "output_type": "stream",
     "text": [
      "soln.retcode = SciMLBase.ReturnCode.Success\n"
     ]
    },
    {
     "name": "stderr",
     "output_type": "stream",
     "text": [
      "\u001b[36m\u001b[1m[ \u001b[22m\u001b[39m\u001b[36m\u001b[1mInfo: \u001b[22m\u001b[39mDone\n"
     ]
    }
   ],
   "source": [
    "# Run\n",
    "@info(\"Solving\")\n",
    "prob = ODEProblem(fm, u_init, (start_time, end_time), constants_and_parameters)\n",
    "soln = solve(prob, Tsit5())\n",
    "@show soln.retcode\n",
    "# @save \"2D_rect.jld2\" soln\n",
    "@info(\"Done\")"
   ]
  },
  {
   "cell_type": "code",
   "execution_count": 202,
   "id": "b7c08d59-2a1a-4a16-8f3a-82b17c38ba5a",
   "metadata": {
    "tags": []
   },
   "outputs": [
    {
     "data": {
      "text/plain": [
       "169-element Vector{Point3{Float64}}:\n",
       " [0.0, 0.0, 0.0]\n",
       " [769.2307692307693, 0.0, 0.0]\n",
       " [1538.4615384615386, 0.0, 0.0]\n",
       " [2307.6923076923076, 0.0, 0.0]\n",
       " [3076.923076923077, 0.0, 0.0]\n",
       " [3846.153846153846, 0.0, 0.0]\n",
       " [4615.384615384615, 0.0, 0.0]\n",
       " [5384.615384615385, 0.0, 0.0]\n",
       " [6153.846153846154, 0.0, 0.0]\n",
       " [6923.076923076923, 0.0, 0.0]\n",
       " [7692.307692307692, 0.0, 0.0]\n",
       " [8461.538461538461, 0.0, 0.0]\n",
       " [9230.76923076923, 0.0, 0.0]\n",
       " ⋮\n",
       " [769.2307692307693, 9600.0, 0.0]\n",
       " [1538.4615384615386, 9600.0, 0.0]\n",
       " [2307.6923076923076, 9600.0, 0.0]\n",
       " [3076.923076923077, 9600.0, 0.0]\n",
       " [3846.153846153846, 9600.0, 0.0]\n",
       " [4615.384615384615, 9600.0, 0.0]\n",
       " [5384.615384615385, 9600.0, 0.0]\n",
       " [6153.846153846154, 9600.0, 0.0]\n",
       " [6923.076923076923, 9600.0, 0.0]\n",
       " [7692.307692307692, 9600.0, 0.0]\n",
       " [8461.538461538461, 9600.0, 0.0]\n",
       " [9230.76923076923, 9600.0, 0.0]"
      ]
     },
     "execution_count": 202,
     "metadata": {},
     "output_type": "execute_result"
    }
   ],
   "source": [
    "point(s_2D_rect)"
   ]
  },
  {
   "cell_type": "code",
   "execution_count": 230,
   "id": "594daa87-abaf-4107-b054-95e681936792",
   "metadata": {
    "tags": []
   },
   "outputs": [
    {
     "name": "stdout",
     "output_type": "stream",
     "text": [
      "\n",
      "##### NetCDF File #####\n",
      "\n",
      "/home/jovyan/work/Nelson/decapodes/dome_model/2D_rect.nc\n",
      "\n",
      "##### Dimensions #####\n",
      "\n",
      "Name                                                Length                    \n",
      "--------------------------------------------------------------------------------\n",
      "t                                                   6                         \n",
      "vertex_index                                        169                       \n",
      "\n",
      "##### Variables #####\n",
      "\n",
      "Name                            Type            Dimensions                      \n",
      "--------------------------------------------------------------------------------\n",
      "t                               DOUBLE          t                               \n",
      "h                               DOUBLE          t vertex_index                  \n",
      "vertex_index                    INT64           vertex_index                    \n",
      "\n",
      "##### Attributes #####\n",
      "\n",
      "Variable            Name                Value                                   \n",
      "--------------------------------------------------------------------------------\n",
      "t                   units               day                                     \n",
      "t                   name                time                                    \n",
      "h                   units               m                                       \n",
      "h                   name                ice height, 2D-rectangle in 2D space    \n",
      "vertex_index        units               m                                       \n",
      "vertex_index        name                mesh-vertex index                       \n"
     ]
    }
   ],
   "source": [
    "# Save solution\n",
    "u = Array{Float64, 2}(undef, length(soln.t), length(soln.u[1]))\n",
    "for i in eachindex(soln.t)\n",
    "    u[i, :] = [w for w in soln.u[i]]\n",
    "end\n",
    "\n",
    "f = joinpath(\"2D_rect/output.nc\")\n",
    "isfile(f) && rm(f)\n",
    "NetCDF.nccreate(\n",
    "    f, \"h\", \n",
    "    \"t\", soln.t, Dict(\"name\" => \"time\", \"units\" => \"day\"), \n",
    "    \"vertex_index\", [i for i in eachindex(point(s_2D_rect))], Dict(\"name\" => \"mesh-vertex index\", \"units\" => \"m\"),\n",
    "    atts = Dict(\"name\" => \"ice height, 2D-rectangle in 2D space\", \"units\" => \"m\")\n",
    ")\n",
    "NetCDF.ncwrite(u, f, \"h\")\n",
    "NetCDF.ncinfo(f)"
   ]
  },
  {
   "cell_type": "code",
   "execution_count": 193,
   "id": "933527ec-f24f-499e-9c64-1a0341a5e14d",
   "metadata": {
    "tags": []
   },
   "outputs": [],
   "source": [
    "# df = DataFrame(soln)\n",
    "# CSV.write(\"2D_rect.csv\", df)"
   ]
  },
  {
   "cell_type": "markdown",
   "id": "5fe07eaf-398f-4a7e-8928-2f2c6550374f",
   "metadata": {},
   "source": [
    "### 2D Icosphere in 3D Case"
   ]
  },
  {
   "cell_type": "code",
   "execution_count": 227,
   "id": "9eed95d2-8404-42a3-883e-a8ca3728ed62",
   "metadata": {
    "tags": []
   },
   "outputs": [
    {
     "data": {
      "text/plain": [
       "(::var\"#f#127\"{Vector{Float64}, Vector{Float64}, Vector{Float64}, Vector{Float64}, Vector{Float64}, var\"#50#63\"{var\"#47#60\"}, var\"#50#63\"{var\"#46#59\"{EmbeddedDeltaDualComplex2D{Bool, Float64, Point3{Float64}}}}, var\"#50#63\"{var\"#45#58\"}, var\"#50#63\"{var\"#38#51\"{EmbeddedDeltaDualComplex2D{Bool, Float64, Point3{Float64}}}}, Diagonal{Float64, Vector{Float64}}, SparseMatrixCSC{Int64, Int64}, SparseMatrixCSC{Float64, Int64}, SparseMatrixCSC{Int64, Int64}}) (generic function with 1 method)"
      ]
     },
     "execution_count": 227,
     "metadata": {},
     "output_type": "execute_result"
    }
   ],
   "source": [
    "# Map initial conditions to the state variable\n",
    "u_init = construct(PhysicsState, [VectorForm(h_init_2D_sph)], Float64[], [:dynamics_h])\n",
    "\n",
    "# Generate simulation\n",
    "sim = eval(gensim(dome_model_2D, dimension = 2))\n",
    "\n",
    "# Implement DEC operators on the given mesh\n",
    "fm = sim(s_2D_sph, generate)"
   ]
  },
  {
   "cell_type": "code",
   "execution_count": 228,
   "id": "643a6877-c965-43d6-86dc-4076d8252727",
   "metadata": {
    "tags": []
   },
   "outputs": [
    {
     "name": "stderr",
     "output_type": "stream",
     "text": [
      "\u001b[36m\u001b[1m[ \u001b[22m\u001b[39m\u001b[36m\u001b[1mInfo: \u001b[22m\u001b[39mPrecompiling Solver\n"
     ]
    },
    {
     "data": {
      "text/plain": [
       "true"
      ]
     },
     "execution_count": 228,
     "metadata": {},
     "output_type": "execute_result"
    }
   ],
   "source": [
    "# Precompile\n",
    "@info(\"Precompiling Solver\")\n",
    "prob = ODEProblem(fm, u_init, (start_time, start_time + 1e-8), constants_and_parameters)\n",
    "soln = solve(prob, Tsit5())\n",
    "soln.retcode != :Unstable || error(\"Solver was not stable\")"
   ]
  },
  {
   "cell_type": "code",
   "execution_count": 229,
   "id": "409c4a4a-a3e6-442f-92c1-3c851289ad11",
   "metadata": {
    "tags": []
   },
   "outputs": [
    {
     "name": "stderr",
     "output_type": "stream",
     "text": [
      "\u001b[36m\u001b[1m[ \u001b[22m\u001b[39m\u001b[36m\u001b[1mInfo: \u001b[22m\u001b[39mSolving\n"
     ]
    },
    {
     "name": "stdout",
     "output_type": "stream",
     "text": [
      "soln.retcode = SciMLBase.ReturnCode.Success\n"
     ]
    },
    {
     "name": "stderr",
     "output_type": "stream",
     "text": [
      "\u001b[36m\u001b[1m[ \u001b[22m\u001b[39m\u001b[36m\u001b[1mInfo: \u001b[22m\u001b[39mDone\n"
     ]
    }
   ],
   "source": [
    "# Run\n",
    "@info(\"Solving\")\n",
    "prob = ODEProblem(fm, u_init, (start_time, end_time), constants_and_parameters)\n",
    "soln = solve(prob, Tsit5())\n",
    "@show soln.retcode\n",
    "# @save \"2D_sph.jld2\" soln\n",
    "@info(\"Done\")"
   ]
  },
  {
   "cell_type": "code",
   "execution_count": 234,
   "id": "4c9cf099-9ecc-48fd-94f2-b77b29931304",
   "metadata": {
    "tags": []
   },
   "outputs": [
    {
     "name": "stdout",
     "output_type": "stream",
     "text": [
      "\n",
      "##### NetCDF File #####\n",
      "\n",
      "/home/jovyan/work/Nelson/decapodes/dome_model/2D_sph.nc\n",
      "\n",
      "##### Dimensions #####\n",
      "\n",
      "Name                                                Length                    \n",
      "--------------------------------------------------------------------------------\n",
      "t                                                   6                         \n",
      "vertex_index                                        162                       \n",
      "\n",
      "##### Variables #####\n",
      "\n",
      "Name                            Type            Dimensions                      \n",
      "--------------------------------------------------------------------------------\n",
      "t                               DOUBLE          t                               \n",
      "h                               DOUBLE          t vertex_index                  \n",
      "vertex_index                    INT64           vertex_index                    \n",
      "\n",
      "##### Attributes #####\n",
      "\n",
      "Variable            Name                Value                                   \n",
      "--------------------------------------------------------------------------------\n",
      "t                   units               day                                     \n",
      "t                   name                time                                    \n",
      "h                   units               m                                       \n",
      "h                   name                ice height at time = 0, 2D-icosphere i..\n",
      "vertex_index        units               m                                       \n",
      "vertex_index        name                mesh-vertex index                       \n"
     ]
    }
   ],
   "source": [
    "# Save solution\n",
    "u = Array{Float64, 2}(undef, length(soln.t), length(soln.u[1]))\n",
    "for i in eachindex(soln.t)\n",
    "    u[i, :] = [w for w in soln.u[i]]\n",
    "end\n",
    "\n",
    "f = joinpath(\"2D_sph/output.nc\")\n",
    "isfile(f) && rm(f)\n",
    "NetCDF.nccreate(\n",
    "    f, \"h\", \n",
    "    \"t\", soln.t, Dict(\"name\" => \"time\", \"units\" => \"day\"), \n",
    "    \"vertex_index\", [i for i in eachindex(point(s_2D_sph))], Dict(\"name\" => \"mesh-vertex index\", \"units\" => \"m\"),\n",
    "    atts = Dict(\"name\" => \"ice height at time = 0, 2D-icosphere in 3D sphere\", \"units\" => \"m\")\n",
    ")\n",
    "NetCDF.ncwrite(u, f, \"h\")\n",
    "NetCDF.ncinfo(f)"
   ]
  },
  {
   "cell_type": "code",
   "execution_count": 200,
   "id": "96274b70-068c-4ca3-9ee9-68f53897002c",
   "metadata": {
    "tags": []
   },
   "outputs": [],
   "source": [
    "# Save solution\n",
    "# df = DataFrame(soln)\n",
    "# CSV.write(\"2D_sph.csv\", df)"
   ]
  },
  {
   "cell_type": "code",
   "execution_count": 235,
   "id": "ad86ea3c-2e35-43d9-8fa3-98e823214f39",
   "metadata": {
    "tags": []
   },
   "outputs": [
    {
     "data": {
      "text/plain": [
       "(::var\"#f#128\"{Vector{Float64}, Vector{Float64}, Vector{Float64}, Vector{Float64}, Vector{Float64}, var\"#50#63\"{var\"#47#60\"}, var\"#50#63\"{var\"#46#59\"{EmbeddedDeltaDualComplex2D{Bool, Float64, Point3{Float64}}}}, var\"#50#63\"{var\"#45#58\"}, var\"#50#63\"{var\"#38#51\"{EmbeddedDeltaDualComplex2D{Bool, Float64, Point3{Float64}}}}, Diagonal{Float64, Vector{Float64}}, SparseMatrixCSC{Int64, Int64}, SparseMatrixCSC{Float64, Int64}, SparseMatrixCSC{Int64, Int64}}) (generic function with 1 method)"
      ]
     },
     "execution_count": 235,
     "metadata": {},
     "output_type": "execute_result"
    }
   ],
   "source": [
    "# 2D Teapot in 3D Case\n",
    "\n",
    "# Map initial conditions to the state variable\n",
    "u_init = construct(PhysicsState, [VectorForm(h_init_2D_tea)], Float64[], [:dynamics_h])\n",
    "\n",
    "# Generate simulation\n",
    "sim = eval(gensim(dome_model_2D, dimension = 2))\n",
    "\n",
    "# Implement DEC operators on the given mesh\n",
    "fm = sim(s_2D_tea , generate)"
   ]
  },
  {
   "cell_type": "code",
   "execution_count": 236,
   "id": "84f14271-72ad-4f0f-9ff4-b6febd70b76c",
   "metadata": {
    "tags": []
   },
   "outputs": [
    {
     "name": "stderr",
     "output_type": "stream",
     "text": [
      "\u001b[36m\u001b[1m[ \u001b[22m\u001b[39m\u001b[36m\u001b[1mInfo: \u001b[22m\u001b[39mPrecompiling Solver\n"
     ]
    },
    {
     "data": {
      "text/plain": [
       "true"
      ]
     },
     "execution_count": 236,
     "metadata": {},
     "output_type": "execute_result"
    }
   ],
   "source": [
    "# Precompile\n",
    "@info(\"Precompiling Solver\")\n",
    "prob = ODEProblem(fm, u_init, (start_time, start_time + 1e-8), constants_and_parameters)\n",
    "soln = solve(prob, Tsit5())\n",
    "soln.retcode != :Unstable || error(\"Solver was not stable\")"
   ]
  },
  {
   "cell_type": "code",
   "execution_count": 237,
   "id": "269b5005-f3cc-4d34-a95a-cc554e4d411a",
   "metadata": {
    "tags": []
   },
   "outputs": [
    {
     "name": "stderr",
     "output_type": "stream",
     "text": [
      "\u001b[36m\u001b[1m[ \u001b[22m\u001b[39m\u001b[36m\u001b[1mInfo: \u001b[22m\u001b[39mSolving\n"
     ]
    },
    {
     "name": "stdout",
     "output_type": "stream",
     "text": [
      "soln.retcode = SciMLBase.ReturnCode.Success\n"
     ]
    },
    {
     "name": "stderr",
     "output_type": "stream",
     "text": [
      "\u001b[36m\u001b[1m[ \u001b[22m\u001b[39m\u001b[36m\u001b[1mInfo: \u001b[22m\u001b[39mDone\n"
     ]
    }
   ],
   "source": [
    "# Run\n",
    "@info(\"Solving\")\n",
    "prob = ODEProblem(fm, u_init, (start_time, end_time), constants_and_parameters)\n",
    "soln = solve(prob, Tsit5())\n",
    "@show soln.retcode\n",
    "# @save \"2D_teapot.jld2\" soln\n",
    "@info(\"Done\")"
   ]
  },
  {
   "cell_type": "code",
   "execution_count": 247,
   "id": "be79eeb1-3313-4c1c-b93c-b2902e2329a7",
   "metadata": {
    "tags": []
   },
   "outputs": [
    {
     "data": {
      "text/plain": [
       "(0.0, 2.0)"
      ]
     },
     "execution_count": 247,
     "metadata": {},
     "output_type": "execute_result"
    }
   ],
   "source": [
    "extrema(findnode(soln(start_time), :dynamics_h))"
   ]
  },
  {
   "cell_type": "code",
   "execution_count": 246,
   "id": "af5543fc-f47a-422b-b325-bc203211a569",
   "metadata": {
    "tags": []
   },
   "outputs": [
    {
     "data": {
      "text/plain": [
       "(-2.908776833042548e-6, 1.9980160202000756)"
      ]
     },
     "execution_count": 246,
     "metadata": {},
     "output_type": "execute_result"
    }
   ],
   "source": [
    "extrema(findnode(soln(end_time), :dynamics_h))"
   ]
  },
  {
   "cell_type": "code",
   "execution_count": 245,
   "id": "79e42bea-4885-4a8a-876b-a1584fa2f138",
   "metadata": {
    "tags": []
   },
   "outputs": [
    {
     "name": "stdout",
     "output_type": "stream",
     "text": [
      "\n",
      "##### NetCDF File #####\n",
      "\n",
      "/home/jovyan/work/Nelson/decapodes/dome_model/2D_tea.nc\n",
      "\n",
      "##### Dimensions #####\n",
      "\n",
      "Name                                                Length                    \n",
      "--------------------------------------------------------------------------------\n",
      "t                                                   8                         \n",
      "vertex_index                                        3644                      \n",
      "\n",
      "##### Variables #####\n",
      "\n",
      "Name                            Type            Dimensions                      \n",
      "--------------------------------------------------------------------------------\n",
      "t                               DOUBLE          t                               \n",
      "h                               DOUBLE          t vertex_index                  \n",
      "vertex_index                    INT64           vertex_index                    \n",
      "\n",
      "##### Attributes #####\n",
      "\n",
      "Variable            Name                Value                                   \n",
      "--------------------------------------------------------------------------------\n",
      "t                   units               day                                     \n",
      "t                   name                time                                    \n",
      "h                   units               m                                       \n",
      "h                   name                ice height at time = 0, 2D-teapot in 3..\n",
      "vertex_index        units               m                                       \n",
      "vertex_index        name                mesh-vertex index                       \n"
     ]
    }
   ],
   "source": [
    "# Save solution\n",
    "u = Array{Float64, 2}(undef, length(soln.t), length(soln.u[1]))\n",
    "for i in eachindex(soln.t)\n",
    "    u[i, :] = [w for w in soln.u[i]]\n",
    "end\n",
    "\n",
    "f = joinpath(\"2D_tea/output.nc\")\n",
    "isfile(f) && rm(f)\n",
    "NetCDF.nccreate(\n",
    "    f, \"h\", \n",
    "    \"t\", soln.t, Dict(\"name\" => \"time\", \"units\" => \"day\"), \n",
    "    \"vertex_index\", [i for i in eachindex(point(s_2D_tea))], Dict(\"name\" => \"mesh-vertex index\", \"units\" => \"m\"),\n",
    "    atts = Dict(\"name\" => \"ice height at time = 0, 2D-teapot in 3D sphere\", \"units\" => \"m\")\n",
    ")\n",
    "NetCDF.ncwrite(u, f, \"h\")\n",
    "NetCDF.ncinfo(f)"
   ]
  },
  {
   "cell_type": "code",
   "execution_count": null,
   "id": "7eec834a-c557-4b9a-a591-3a728381ae35",
   "metadata": {},
   "outputs": [],
   "source": []
  }
 ],
 "metadata": {
  "kernelspec": {
   "display_name": "Julia 1.9.3",
   "language": "julia",
   "name": "julia-1.9"
  },
  "language_info": {
   "file_extension": ".jl",
   "mimetype": "application/julia",
   "name": "julia",
   "version": "1.9.3"
  }
 },
 "nbformat": 4,
 "nbformat_minor": 5
}
