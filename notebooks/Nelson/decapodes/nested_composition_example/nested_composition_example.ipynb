{
 "cells": [
  {
   "cell_type": "markdown",
   "id": "69c076c4-40ab-4196-b32e-3f6882bd82b6",
   "metadata": {},
   "source": [
    "# Nested Composition Example\n",
    "\n",
    "Replicating the nested composition example at https://algebraicjulia.github.io/SyntacticModels.jl/dev/generated/decapodes_examples/\n",
    "\n",
    "Three models:\n",
    "1. DragHeat (heat from friction)\n",
    "2. NewtonCooling (heat dissipation)\n",
    "3. LinearSuperposition (additive property of heat)"
   ]
  },
  {
   "cell_type": "code",
   "execution_count": 16,
   "id": "a2ff537e-cc50-4d0d-80b0-9ab2dd598765",
   "metadata": {
    "tags": []
   },
   "outputs": [],
   "source": [
    "using Catlab\n",
    "using Decapodes"
   ]
  },
  {
   "cell_type": "code",
   "execution_count": 2,
   "id": "908fe6d8-faff-4dcc-ba35-c2494bcbdb95",
   "metadata": {
    "tags": []
   },
   "outputs": [
    {
     "name": "stderr",
     "output_type": "stream",
     "text": [
      "\u001b[32m\u001b[1m    Updating\u001b[22m\u001b[39m registry at `~/.julia/registries/General.toml`\n",
      "\u001b[32m\u001b[1m   Resolving\u001b[22m\u001b[39m package versions...\n",
      "\u001b[32m\u001b[1m  No Changes\u001b[22m\u001b[39m to `~/.julia/environments/v1.9/Project.toml`\n",
      "\u001b[32m\u001b[1m  No Changes\u001b[22m\u001b[39m to `~/.julia/environments/v1.9/Manifest.toml`\n",
      "\u001b[32m\u001b[1m   Resolving\u001b[22m\u001b[39m package versions...\n",
      "\u001b[32m\u001b[1m  No Changes\u001b[22m\u001b[39m to `~/.julia/environments/v1.9/Project.toml`\n",
      "\u001b[32m\u001b[1m  No Changes\u001b[22m\u001b[39m to `~/.julia/environments/v1.9/Manifest.toml`\n"
     ]
    }
   ],
   "source": [
    "import Pkg\n",
    "Pkg.add(\"SyntacticModels\")\n",
    "using SyntacticModels.AMR\n",
    "using SyntacticModels.ASKEMDecapodes\n",
    "using SyntacticModels.ASKEMUWDs\n",
    "using SyntacticModels.Composites\n",
    "\n",
    "Pkg.add(\"JSON3\")\n",
    "using JSON3"
   ]
  },
  {
   "cell_type": "code",
   "execution_count": 14,
   "id": "34253201-9f53-4517-be5f-d74681406477",
   "metadata": {
    "tags": []
   },
   "outputs": [
    {
     "data": {
      "text/plain": [
       "ASKEMDecaExpr(Header(\"harmonic_oscillator\", \"modelreps.io/DecaExpr\", \"A Simple Harmonic Oscillator as a Diagrammatic Equation\", \"DecaExpr\", \"v1.0\"), Decapodes.DecaExpr(Judgement[Judgement(Decapodes.Var(:X), :Form0, :Point), Judgement(Decapodes.Var(:V), :Form0, :Point), Judgement(Decapodes.Var(:k), :Constant, :Point)], Decapodes.Equation[Eq(Tan(Decapodes.Var(:X)), Decapodes.Var(:V)), Eq(Tan(Decapodes.Var(:V)), Decapodes.Mult(Term[Decapodes.Lit(Symbol(\"-1\")), Decapodes.Var(:k), Decapodes.Var(:X)]))]))"
      ]
     },
     "execution_count": 14,
     "metadata": {},
     "output_type": "execute_result"
    }
   ],
   "source": [
    "sho = ASKEMDecaExpr(\n",
    "    AMR.Header(\"harmonic_oscillator\", \"modelreps.io/DecaExpr\", \"A Simple Harmonic Oscillator as a Diagrammatic Equation\", \"DecaExpr\", \"v1.0\"), \n",
    "    Decapodes.parse_decapode(quote\n",
    "      X::Form0{Point}\n",
    "      V::Form0{Point}\n",
    "\n",
    "      k::Constant{Point}\n",
    "\n",
    "      ∂ₜ(X) == V\n",
    "      ∂ₜ(V) == -1*k*(X)\n",
    "    end)\n",
    ")"
   ]
  },
  {
   "cell_type": "code",
   "execution_count": 60,
   "id": "ca3799c3-65b7-4bb9-8c27-da746164a027",
   "metadata": {
    "tags": []
   },
   "outputs": [],
   "source": [
    "# Save to AMR JSON\n",
    "open(\"sho.json\", \"w\") do io \n",
    "  JSON3.pretty(io, sho, JSON3.AlignmentContext(indent = 2))\n",
    "end"
   ]
  },
  {
   "cell_type": "code",
   "execution_count": 34,
   "id": "c82d7417-97aa-4705-a0a2-9a4948352815",
   "metadata": {
    "tags": []
   },
   "outputs": [
    {
     "data": {
      "text/plain": [
       "ASKEMDecaExpr(Header(\"LinearDragHeat\", \"modelreps.io/SummationDecapode\", \"Friction heat from linear or Stockes' drag\", \"SummationDecapode\", \"v1.0\"), Decapodes.DecaExpr(Judgement[Judgement(Decapodes.Var(:V), :Form0, :Point), Judgement(Decapodes.Var(:Q₊), :Form0, :Point), Judgement(Decapodes.Var(:κ), :Constant, :Point)], Decapodes.Equation[Eq(Decapodes.Var(:Q₊), App2(:*, Decapodes.Var(:κ), Decapodes.Var(:V)))]))"
      ]
     },
     "execution_count": 34,
     "metadata": {},
     "output_type": "execute_result"
    }
   ],
   "source": [
    "linear_drag = ASKEMDecaExpr(\n",
    "  AMR.Header(\"LinearDragHeat\", \"modelreps.io/SummationDecapode\", \"Friction heat from linear or Stockes' drag\", \"SummationDecapode\", \"v1.0\"),\n",
    "  Decapodes.parse_decapode(quote\n",
    "    V::Form0{Point}\n",
    "    Q₊::Form0{Point}\n",
    "    κ::Constant{Point}\n",
    "\n",
    "    Q₊ == κ*V\n",
    "  end)\n",
    ")"
   ]
  },
  {
   "cell_type": "code",
   "execution_count": 61,
   "id": "ed9ce2ea-5e28-42b3-b750-afed0c903bd4",
   "metadata": {
    "tags": []
   },
   "outputs": [],
   "source": [
    "# Save to AMR JSON\n",
    "open(\"linear_drag.json\", \"w\") do io \n",
    "  JSON3.pretty(io, linear_drag, JSON3.AlignmentContext(indent = 2))\n",
    "end"
   ]
  },
  {
   "cell_type": "code",
   "execution_count": 33,
   "id": "73a3e19f-a8f0-42c8-b846-5723e2ca0782",
   "metadata": {
    "tags": []
   },
   "outputs": [
    {
     "data": {
      "text/plain": [
       "ASKEMDecaExpr(Header(\"NetwonCooling\", \"modelreps.io/SummationDecapode\", \"Heat dissipation by Newton Cooling\", \"SummationDecapode\", \"v1.0\"), Decapodes.DecaExpr(Judgement[Judgement(Decapodes.Var(:Q₋), :Form0, :Point), Judgement(Decapodes.Var(:Q₀), :Parameter, :Point), Judgement(Decapodes.Var(:Q), :Form0, :Point), Judgement(Decapodes.Var(:λ), :Constant, :Point)], Decapodes.Equation[Eq(Decapodes.Var(:Q₋), App1(:λ, App2(:-, Decapodes.Var(:Q), Decapodes.Var(:Q₀))))]))"
      ]
     },
     "execution_count": 33,
     "metadata": {},
     "output_type": "execute_result"
    }
   ],
   "source": [
    "newton_cooling = ASKEMDecaExpr(\n",
    "  AMR.Header(\"NetwonCooling\", \"modelreps.io/SummationDecapode\", \"Heat dissipation by Newton Cooling\", \"SummationDecapode\", \"v1.0\"),\n",
    "  Decapodes.parse_decapode(quote\n",
    "    Q₋::Form0{Point}\n",
    "    Q₀::Parameter{Point}\n",
    "    Q::Form0{Point}\n",
    "    λ::Constant{Point}\n",
    "\n",
    "    Q₋ == λ(Q-Q₀)\n",
    "  end)\n",
    ")"
   ]
  },
  {
   "cell_type": "code",
   "execution_count": 62,
   "id": "12e3d5bb-d92d-4ffc-a497-041d59f90373",
   "metadata": {
    "tags": []
   },
   "outputs": [],
   "source": [
    "# Save to AMR JSON\n",
    "open(\"newton_cooling.json\", \"w\") do io \n",
    "  JSON3.pretty(io, newton_cooling, JSON3.AlignmentContext(indent = 2))\n",
    "end"
   ]
  },
  {
   "cell_type": "code",
   "execution_count": 35,
   "id": "a57218d4-eacd-4909-ba49-5ba5c63817e1",
   "metadata": {
    "tags": []
   },
   "outputs": [
    {
     "data": {
      "text/plain": [
       "ASKEMDecaExpr(Header(\"LinearSuperpositon\", \"modelreps.io/SummationDecapode\", \"Additive property of heat\", \"SummationDecapode\", \"v1.0\"), Decapodes.DecaExpr(Judgement[Judgement(Decapodes.Var(:X), :Form0, :Point), Judgement(Decapodes.Var(:Y), :Form0, :Point), Judgement(Decapodes.Var(:T), :Form0, :Point)], Decapodes.Equation[Eq(Decapodes.Var(:T), Plus(Term[Decapodes.Var(:X), Decapodes.Var(:Y)]))]))"
      ]
     },
     "execution_count": 35,
     "metadata": {},
     "output_type": "execute_result"
    }
   ],
   "source": [
    "linear_superposition = ASKEMDecaExpr(\n",
    "  AMR.Header(\"LinearSuperpositon\", \"modelreps.io/SummationDecapode\", \"Additive property of heat\", \"SummationDecapode\", \"v1.0\"),\n",
    "  Decapodes.parse_decapode(quote\n",
    "    X::Form0{Point}\n",
    "    Y::Form0{Point}\n",
    "    T::Form0{Point}\n",
    "\n",
    "    T == X + Y\n",
    "  end)\n",
    ")"
   ]
  },
  {
   "cell_type": "code",
   "execution_count": 63,
   "id": "6beb5593-35d4-4856-b08c-ab44c7b48673",
   "metadata": {
    "tags": []
   },
   "outputs": [],
   "source": [
    "# Save to AMR JSON\n",
    "open(\"linear_superposition.json\", \"w\") do io \n",
    "  JSON3.pretty(io, linear_superposition, JSON3.AlignmentContext(indent = 2))\n",
    "end"
   ]
  },
  {
   "cell_type": "markdown",
   "id": "5268f2cb-3305-4596-bd72-ebb692ac2ffd",
   "metadata": {},
   "source": [
    "## Define Composition Diagrams"
   ]
  },
  {
   "cell_type": "code",
   "execution_count": 48,
   "id": "c5764b55-cdca-481c-a8fb-face6eb1209f",
   "metadata": {
    "tags": []
   },
   "outputs": [
    {
     "data": {
      "text/plain": [
       "Untyped(:Q̇)"
      ]
     },
     "execution_count": 48,
     "metadata": {},
     "output_type": "execute_result"
    }
   ],
   "source": [
    "x = Typed(:X, :Form0)\n",
    "v = Typed(:V, :Form0)\n",
    "Q = Typed(:Q, :Form0)\n",
    "Q₊ = Untyped(:Q₊)\n",
    "Q₋ = Untyped(:Q₋)\n",
    "Q̇ = Untyped(:Q̇)"
   ]
  },
  {
   "cell_type": "code",
   "execution_count": 42,
   "id": "1c1fe444-2492-4fdb-8e95-c9c74994c36b",
   "metadata": {
    "tags": []
   },
   "outputs": [
    {
     "data": {
      "text/plain": [
       "UWDExpr(SyntacticModels.ASKEMUWDs.Var[Typed(:V, :Form0), Typed(:Q, :Form0)], Statement[Statement(:oscillator, SyntacticModels.ASKEMUWDs.Var[Typed(:X, :Form0), Typed(:V, :Form0)]), Statement(:heatgen, SyntacticModels.ASKEMUWDs.Var[Typed(:V, :Form0), Typed(:Q, :Form0)])])"
      ]
     },
     "execution_count": 42,
     "metadata": {},
     "output_type": "execute_result"
    }
   ],
   "source": [
    "# Compose an oscillator model with a heat generation model\n",
    "\n",
    "# oscillator_heating = @relation () begin\n",
    "#   oscillator(x, v)\n",
    "#   heatgen(v, Q)\n",
    "# end\n",
    "\n",
    "oscillator_heating_uwd = UWDExpr(\n",
    "  [v, Q], \n",
    "  [Statement(:oscillator, [x, v]), Statement(:heatgen, [v, Q])]\n",
    ")"
   ]
  },
  {
   "cell_type": "code",
   "execution_count": 39,
   "id": "334e7efc-b9a4-4d1b-a782-5bc6b99384a8",
   "metadata": {
    "tags": []
   },
   "outputs": [
    {
     "data": {
      "text/plain": [
       "UWDExpr(SyntacticModels.ASKEMUWDs.Var[Typed(:V, :Form0), Typed(:Q, :Form0)], Statement[Statement(:drag, SyntacticModels.ASKEMUWDs.Var[Typed(:V, :Form0), Untyped(:Q₊)]), Statement(:cooling, SyntacticModels.ASKEMUWDs.Var[Untyped(:Q₋), Typed(:Q, :Form0)]), Statement(:superposition, SyntacticModels.ASKEMUWDs.Var[Untyped(:Q₊), Untyped(:Q₋), Untyped(:Q̇)])])"
      ]
     },
     "execution_count": 39,
     "metadata": {},
     "output_type": "execute_result"
    }
   ],
   "source": [
    "# Compose a friction heating model from three component models\n",
    "\n",
    "# drag_cooling = @relation () begin \n",
    "#   drag(v, Q₊)\n",
    "#   cooling(Q₋, Q₊)\n",
    "#   superposition(Q₊, Q₋, Q̇)\n",
    "# end\n",
    "\n",
    "drag_cooling_uwd = UWDExpr(\n",
    "    [v, Q], \n",
    "    [Statement(:drag, [v, Q₊]), Statement(:cooling, [Q₋, Q]), Statement(:superposition, [Q₊, Q₋, Q̇])]\n",
    ")"
   ]
  },
  {
   "cell_type": "markdown",
   "id": "aadad111-5f8b-4ffc-9b66-e577e27b3f9c",
   "metadata": {},
   "source": [
    "## First Composite Model"
   ]
  },
  {
   "cell_type": "code",
   "execution_count": 44,
   "id": "9c9a2f04-fe26-4d8c-9b23-b40d3db9bd9a",
   "metadata": {
    "tags": []
   },
   "outputs": [
    {
     "data": {
      "text/plain": [
       "CompositeModelExpr(Header(\"heating_dynamics\", \"modelreps.io/Composite\", \"A formula for heating - cooling\", \"CompositeModelExpr\", \"v0.1\"), UWDExpr(SyntacticModels.ASKEMUWDs.Var[Typed(:V, :Form0), Typed(:Q, :Form0)], Statement[Statement(:drag, SyntacticModels.ASKEMUWDs.Var[Typed(:V, :Form0), Untyped(:Q₊)]), Statement(:cooling, SyntacticModels.ASKEMUWDs.Var[Untyped(:Q₋), Typed(:Q, :Form0)]), Statement(:superposition, SyntacticModels.ASKEMUWDs.Var[Untyped(:Q₊), Untyped(:Q₋), Untyped(:Q̇)])]), CompositeModel[OpenModel(ASKEMDecaExpr(Header(\"LinearDragHeat\", \"modelreps.io/SummationDecapode\", \"Friction heat from linear or Stockes' drag\", \"SummationDecapode\", \"v1.0\"), Decapodes.DecaExpr(Judgement[Judgement(Decapodes.Var(:V), :Form0, :Point), Judgement(Decapodes.Var(:Q₊), :Form0, :Point), Judgement(Decapodes.Var(:κ), :Constant, :Point)], Decapodes.Equation[Eq(Decapodes.Var(:Q₊), App2(:*, Decapodes.Var(:κ), Decapodes.Var(:V)))])), [:V, :Q₊]), OpenModel(ASKEMDecaExpr(Header(\"NetwonCooling\", \"modelreps.io/SummationDecapode\", \"Heat dissipation by Newton Cooling\", \"SummationDecapode\", \"v1.0\"), Decapodes.DecaExpr(Judgement[Judgement(Decapodes.Var(:Q₋), :Form0, :Point), Judgement(Decapodes.Var(:Q₀), :Parameter, :Point), Judgement(Decapodes.Var(:Q), :Form0, :Point), Judgement(Decapodes.Var(:λ), :Constant, :Point)], Decapodes.Equation[Eq(Decapodes.Var(:Q₋), App1(:λ, App2(:-, Decapodes.Var(:Q), Decapodes.Var(:Q₀))))])), [:Q₋, :Q]), OpenModel(ASKEMDecaExpr(Header(\"LinearSuperpositon\", \"modelreps.io/SummationDecapode\", \"Additive property of heat\", \"SummationDecapode\", \"v1.0\"), Decapodes.DecaExpr(Judgement[Judgement(Decapodes.Var(:X), :Form0, :Point), Judgement(Decapodes.Var(:Y), :Form0, :Point), Judgement(Decapodes.Var(:T), :Form0, :Point)], Decapodes.Equation[Eq(Decapodes.Var(:T), Plus(Term[Decapodes.Var(:X), Decapodes.Var(:Y)]))])), [:X, :Y, :T])])"
      ]
     },
     "execution_count": 44,
     "metadata": {},
     "output_type": "execute_result"
    }
   ],
   "source": [
    "first_composite = CompositeModelExpr(\n",
    "  AMR.Header(\"heating_dynamics\", \"modelreps.io/Composite\", \"A formula for heating-cooling\", \"CompositeModelExpr\", \"v0.1\"),\n",
    "  drag_cooling_uwd, \n",
    "  [\n",
    "    OpenModel(linear_drag, [:V, :Q₊]), \n",
    "    OpenModel(newton_cooling, [:Q₋, :Q]), \n",
    "    OpenModel(linear_superposition, [:X, :Y, :T])\n",
    "  ]\n",
    ")   "
   ]
  },
  {
   "cell_type": "markdown",
   "id": "5884985d-421f-4319-8e09-91ff04a72efa",
   "metadata": {},
   "source": [
    "## Second Composite Model"
   ]
  },
  {
   "cell_type": "code",
   "execution_count": 46,
   "id": "da5dbef0-9ee7-4bb1-a0c5-0adbf06e7105",
   "metadata": {
    "tags": []
   },
   "outputs": [
    {
     "data": {
      "text/plain": [
       "CompositeModelExpr(Header(\"hierarchical_composite\", \"modelreps.io/Composite\", \"A hierarchical composite model of frictional heating\", \"CompositeModelExpr\", \"v0.1\"), UWDExpr(SyntacticModels.ASKEMUWDs.Var[Typed(:V, :Form0), Typed(:Q, :Form0)], Statement[Statement(:oscillator, SyntacticModels.ASKEMUWDs.Var[Typed(:X, :Form0), Typed(:V, :Form0)]), Statement(:heatgen, SyntacticModels.ASKEMUWDs.Var[Typed(:V, :Form0), Typed(:Q, :Form0)])]), CompositeModel[OpenModel(ASKEMDecaExpr(Header(\"harmonic_oscillator\", \"modelreps.io/DecaExpr\", \"A Simple Harmonic Oscillator as a Diagrammatic Equation\", \"DecaExpr\", \"v1.0\"), Decapodes.DecaExpr(Judgement[Judgement(Decapodes.Var(:X), :Form0, :Point), Judgement(Decapodes.Var(:V), :Form0, :Point), Judgement(Decapodes.Var(:k), :Constant, :Point)], Decapodes.Equation[Eq(Tan(Decapodes.Var(:X)), Decapodes.Var(:V)), Eq(Tan(Decapodes.Var(:V)), Decapodes.Mult(Term[Decapodes.Lit(Symbol(\"-1\")), Decapodes.Var(:k), Decapodes.Var(:X)]))])), [:X, :V]), CompositeModelExpr(Header(\"heating_dynamics\", \"modelreps.io/Composite\", \"A formula for heating - cooling\", \"CompositeModelExpr\", \"v0.1\"), UWDExpr(SyntacticModels.ASKEMUWDs.Var[Typed(:V, :Form0), Typed(:Q, :Form0)], Statement[Statement(:drag, SyntacticModels.ASKEMUWDs.Var[Typed(:V, :Form0), Untyped(:Q₊)]), Statement(:cooling, SyntacticModels.ASKEMUWDs.Var[Untyped(:Q₋), Typed(:Q, :Form0)]), Statement(:superposition, SyntacticModels.ASKEMUWDs.Var[Untyped(:Q₊), Untyped(:Q₋), Untyped(:Q̇)])]), CompositeModel[OpenModel(ASKEMDecaExpr(Header(\"LinearDragHeat\", \"modelreps.io/SummationDecapode\", \"Friction heat from linear or Stockes' drag\", \"SummationDecapode\", \"v1.0\"), Decapodes.DecaExpr(Judgement[Judgement(Decapodes.Var(:V), :Form0, :Point), Judgement(Decapodes.Var(:Q₊), :Form0, :Point), Judgement(Decapodes.Var(:κ), :Constant, :Point)], Decapodes.Equation[Eq(Decapodes.Var(:Q₊), App2(:*, Decapodes.Var(:κ), Decapodes.Var(:V)))])), [:V, :Q₊]), OpenModel(ASKEMDecaExpr(Header(\"NetwonCooling\", \"modelreps.io/SummationDecapode\", \"Heat dissipation by Newton Cooling\", \"SummationDecapode\", \"v1.0\"), Decapodes.DecaExpr(Judgement[Judgement(Decapodes.Var(:Q₋), :Form0, :Point), Judgement(Decapodes.Var(:Q₀), :Parameter, :Point), Judgement(Decapodes.Var(:Q), :Form0, :Point), Judgement(Decapodes.Var(:λ), :Constant, :Point)], Decapodes.Equation[Eq(Decapodes.Var(:Q₋), App1(:λ, App2(:-, Decapodes.Var(:Q), Decapodes.Var(:Q₀))))])), [:Q₋, :Q]), OpenModel(ASKEMDecaExpr(Header(\"LinearSuperpositon\", \"modelreps.io/SummationDecapode\", \"Additive property of heat\", \"SummationDecapode\", \"v1.0\"), Decapodes.DecaExpr(Judgement[Judgement(Decapodes.Var(:X), :Form0, :Point), Judgement(Decapodes.Var(:Y), :Form0, :Point), Judgement(Decapodes.Var(:T), :Form0, :Point)], Decapodes.Equation[Eq(Decapodes.Var(:T), Plus(Term[Decapodes.Var(:X), Decapodes.Var(:Y)]))])), [:X, :Y, :T])])])"
      ]
     },
     "execution_count": 46,
     "metadata": {},
     "output_type": "execute_result"
    }
   ],
   "source": [
    "second_composite = CompositeModelExpr(\n",
    "  AMR.Header(\"hierarchical_composite\", \"modelreps.io/Composite\", \"A hierarchical composite model of frictional heating\", \"CompositeModelExpr\", \"v0.1\"),\n",
    "  oscillator_heating_uwd, \n",
    "  [\n",
    "    OpenModel(sho, [:X, :V]), \n",
    "    first_composite\n",
    "  ]\n",
    ")"
   ]
  },
  {
   "cell_type": "markdown",
   "id": "241c5a5a-ed51-4a1a-9fa3-1a2106bd2ec6",
   "metadata": {},
   "source": [
    "## Flatten"
   ]
  },
  {
   "cell_type": "code",
   "execution_count": 70,
   "id": "69ca42f1-f026-43ee-9251-b50debb52691",
   "metadata": {
    "tags": []
   },
   "outputs": [
    {
     "data": {
      "text/html": [
       "<div class=\"c-set\">\n",
       "<span class=\"c-set-summary\">SummationDecapode{Any, Any, Symbol} {Var:14, TVar:2, Op1:3, Op2:4, Σ:1, Summand:2, Type:0, Operator:0, Name:0}</span>\n",
       "<table>\n",
       "  <thead>\n",
       "    <tr class = \"header headerLastRow\">\n",
       "      <th class = \"rowLabel\" style = \"font-weight: bold; text-align: right;\">Var</th>\n",
       "      <th style = \"text-align: right;\">type</th>\n",
       "      <th style = \"text-align: right;\">name</th>\n",
       "    </tr>\n",
       "  </thead>\n",
       "  <tbody>\n",
       "    <tr>\n",
       "      <td class = \"rowLabel\" style = \"font-weight: bold; text-align: right;\">1</td>\n",
       "      <td style = \"text-align: right;\">Form0</td>\n",
       "      <td style = \"text-align: right;\">X</td>\n",
       "    </tr>\n",
       "    <tr>\n",
       "      <td class = \"rowLabel\" style = \"font-weight: bold; text-align: right;\">2</td>\n",
       "      <td style = \"text-align: right;\">Form0</td>\n",
       "      <td style = \"text-align: right;\">V</td>\n",
       "    </tr>\n",
       "    <tr>\n",
       "      <td class = \"rowLabel\" style = \"font-weight: bold; text-align: right;\">3</td>\n",
       "      <td style = \"text-align: right;\">Constant</td>\n",
       "      <td style = \"text-align: right;\">oscillator_k</td>\n",
       "    </tr>\n",
       "    <tr>\n",
       "      <td class = \"rowLabel\" style = \"font-weight: bold; text-align: right;\">4</td>\n",
       "      <td style = \"text-align: right;\">infer</td>\n",
       "      <td style = \"text-align: right;\">oscillator_mult_1</td>\n",
       "    </tr>\n",
       "    <tr>\n",
       "      <td class = \"rowLabel\" style = \"font-weight: bold; text-align: right;\">5</td>\n",
       "      <td style = \"text-align: right;\">infer</td>\n",
       "      <td style = \"text-align: right;\">oscillator_V̇</td>\n",
       "    </tr>\n",
       "    <tr>\n",
       "      <td class = \"rowLabel\" style = \"font-weight: bold; text-align: right;\">6</td>\n",
       "      <td style = \"text-align: right;\">Literal</td>\n",
       "      <td style = \"text-align: right;\">-1</td>\n",
       "    </tr>\n",
       "    <tr>\n",
       "      <td class = \"rowLabel\" style = \"font-weight: bold; text-align: right;\">7</td>\n",
       "      <td style = \"text-align: right;\">Form0</td>\n",
       "      <td style = \"text-align: right;\">heatgen_Q₊</td>\n",
       "    </tr>\n",
       "    <tr>\n",
       "      <td class = \"rowLabel\" style = \"font-weight: bold; text-align: right;\">8</td>\n",
       "      <td style = \"text-align: right;\">Constant</td>\n",
       "      <td style = \"text-align: right;\">heatgen_drag_κ</td>\n",
       "    </tr>\n",
       "    <tr>\n",
       "      <td class = \"rowLabel\" style = \"font-weight: bold; text-align: right;\">9</td>\n",
       "      <td style = \"text-align: right;\">Form0</td>\n",
       "      <td style = \"text-align: right;\">heatgen_Q₋</td>\n",
       "    </tr>\n",
       "    <tr>\n",
       "      <td class = \"rowLabel\" style = \"font-weight: bold; text-align: right;\">10</td>\n",
       "      <td style = \"text-align: right;\">Parameter</td>\n",
       "      <td style = \"text-align: right;\">heatgen_cooling_Q₀</td>\n",
       "    </tr>\n",
       "    <tr>\n",
       "      <td class = \"rowLabel\" style = \"font-weight: bold; text-align: right;\">11</td>\n",
       "      <td style = \"text-align: right;\">Form0</td>\n",
       "      <td style = \"text-align: right;\">Q</td>\n",
       "    </tr>\n",
       "    <tr>\n",
       "      <td class = \"rowLabel\" style = \"font-weight: bold; text-align: right;\">12</td>\n",
       "      <td style = \"text-align: right;\">Constant</td>\n",
       "      <td style = \"text-align: right;\">heatgen_cooling_λ</td>\n",
       "    </tr>\n",
       "    <tr>\n",
       "      <td class = \"rowLabel\" style = \"font-weight: bold; text-align: right;\">13</td>\n",
       "      <td style = \"text-align: right;\">infer</td>\n",
       "      <td style = \"text-align: right;\">heatgen_cooling_•1</td>\n",
       "    </tr>\n",
       "    <tr>\n",
       "      <td class = \"rowLabel\" style = \"font-weight: bold; text-align: right;\">14</td>\n",
       "      <td style = \"text-align: right;\">Form0</td>\n",
       "      <td style = \"text-align: right;\">heatgen_Q̇</td>\n",
       "    </tr>\n",
       "  </tbody>\n",
       "</table>\n",
       "<table>\n",
       "  <thead>\n",
       "    <tr class = \"header headerLastRow\">\n",
       "      <th class = \"rowLabel\" style = \"font-weight: bold; text-align: right;\">TVar</th>\n",
       "      <th style = \"text-align: right;\">incl</th>\n",
       "    </tr>\n",
       "  </thead>\n",
       "  <tbody>\n",
       "    <tr>\n",
       "      <td class = \"rowLabel\" style = \"font-weight: bold; text-align: right;\">1</td>\n",
       "      <td style = \"text-align: right;\">2</td>\n",
       "    </tr>\n",
       "    <tr>\n",
       "      <td class = \"rowLabel\" style = \"font-weight: bold; text-align: right;\">2</td>\n",
       "      <td style = \"text-align: right;\">5</td>\n",
       "    </tr>\n",
       "  </tbody>\n",
       "</table>\n",
       "<table>\n",
       "  <thead>\n",
       "    <tr class = \"header headerLastRow\">\n",
       "      <th class = \"rowLabel\" style = \"font-weight: bold; text-align: right;\">Op1</th>\n",
       "      <th style = \"text-align: right;\">src</th>\n",
       "      <th style = \"text-align: right;\">tgt</th>\n",
       "      <th style = \"text-align: right;\">op1</th>\n",
       "    </tr>\n",
       "  </thead>\n",
       "  <tbody>\n",
       "    <tr>\n",
       "      <td class = \"rowLabel\" style = \"font-weight: bold; text-align: right;\">1</td>\n",
       "      <td style = \"text-align: right;\">1</td>\n",
       "      <td style = \"text-align: right;\">2</td>\n",
       "      <td style = \"text-align: right;\">∂ₜ</td>\n",
       "    </tr>\n",
       "    <tr>\n",
       "      <td class = \"rowLabel\" style = \"font-weight: bold; text-align: right;\">2</td>\n",
       "      <td style = \"text-align: right;\">2</td>\n",
       "      <td style = \"text-align: right;\">5</td>\n",
       "      <td style = \"text-align: right;\">∂ₜ</td>\n",
       "    </tr>\n",
       "    <tr>\n",
       "      <td class = \"rowLabel\" style = \"font-weight: bold; text-align: right;\">3</td>\n",
       "      <td style = \"text-align: right;\">13</td>\n",
       "      <td style = \"text-align: right;\">9</td>\n",
       "      <td style = \"text-align: right;\">λ</td>\n",
       "    </tr>\n",
       "  </tbody>\n",
       "</table>\n",
       "<table>\n",
       "  <thead>\n",
       "    <tr class = \"header headerLastRow\">\n",
       "      <th class = \"rowLabel\" style = \"font-weight: bold; text-align: right;\">Op2</th>\n",
       "      <th style = \"text-align: right;\">proj1</th>\n",
       "      <th style = \"text-align: right;\">proj2</th>\n",
       "      <th style = \"text-align: right;\">res</th>\n",
       "      <th style = \"text-align: right;\">op2</th>\n",
       "    </tr>\n",
       "  </thead>\n",
       "  <tbody>\n",
       "    <tr>\n",
       "      <td class = \"rowLabel\" style = \"font-weight: bold; text-align: right;\">1</td>\n",
       "      <td style = \"text-align: right;\">6</td>\n",
       "      <td style = \"text-align: right;\">3</td>\n",
       "      <td style = \"text-align: right;\">4</td>\n",
       "      <td style = \"text-align: right;\">*</td>\n",
       "    </tr>\n",
       "    <tr>\n",
       "      <td class = \"rowLabel\" style = \"font-weight: bold; text-align: right;\">2</td>\n",
       "      <td style = \"text-align: right;\">4</td>\n",
       "      <td style = \"text-align: right;\">1</td>\n",
       "      <td style = \"text-align: right;\">5</td>\n",
       "      <td style = \"text-align: right;\">*</td>\n",
       "    </tr>\n",
       "    <tr>\n",
       "      <td class = \"rowLabel\" style = \"font-weight: bold; text-align: right;\">3</td>\n",
       "      <td style = \"text-align: right;\">8</td>\n",
       "      <td style = \"text-align: right;\">2</td>\n",
       "      <td style = \"text-align: right;\">7</td>\n",
       "      <td style = \"text-align: right;\">*</td>\n",
       "    </tr>\n",
       "    <tr>\n",
       "      <td class = \"rowLabel\" style = \"font-weight: bold; text-align: right;\">4</td>\n",
       "      <td style = \"text-align: right;\">11</td>\n",
       "      <td style = \"text-align: right;\">10</td>\n",
       "      <td style = \"text-align: right;\">13</td>\n",
       "      <td style = \"text-align: right;\">-</td>\n",
       "    </tr>\n",
       "  </tbody>\n",
       "</table>\n",
       "<table>\n",
       "  <thead>\n",
       "    <tr class = \"header headerLastRow\">\n",
       "      <th class = \"rowLabel\" style = \"font-weight: bold; text-align: right;\">Σ</th>\n",
       "      <th style = \"text-align: right;\">sum</th>\n",
       "    </tr>\n",
       "  </thead>\n",
       "  <tbody>\n",
       "    <tr>\n",
       "      <td class = \"rowLabel\" style = \"font-weight: bold; text-align: right;\">1</td>\n",
       "      <td style = \"text-align: right;\">14</td>\n",
       "    </tr>\n",
       "  </tbody>\n",
       "</table>\n",
       "<table>\n",
       "  <thead>\n",
       "    <tr class = \"header headerLastRow\">\n",
       "      <th class = \"rowLabel\" style = \"font-weight: bold; text-align: right;\">Summand</th>\n",
       "      <th style = \"text-align: right;\">summand</th>\n",
       "      <th style = \"text-align: right;\">summation</th>\n",
       "    </tr>\n",
       "  </thead>\n",
       "  <tbody>\n",
       "    <tr>\n",
       "      <td class = \"rowLabel\" style = \"font-weight: bold; text-align: right;\">1</td>\n",
       "      <td style = \"text-align: right;\">7</td>\n",
       "      <td style = \"text-align: right;\">1</td>\n",
       "    </tr>\n",
       "    <tr>\n",
       "      <td class = \"rowLabel\" style = \"font-weight: bold; text-align: right;\">2</td>\n",
       "      <td style = \"text-align: right;\">9</td>\n",
       "      <td style = \"text-align: right;\">1</td>\n",
       "    </tr>\n",
       "  </tbody>\n",
       "</table>\n",
       "</div>\n"
      ],
      "text/plain": [
       "SummationDecapode{Any, Any, Symbol} {Var:14, TVar:2, Op1:3, Op2:4, Σ:1, Summand:2, Type:0, Operator:0, Name:0}\n",
       "┌─────┬───────────┬────────────────────┐\n",
       "│\u001b[1m Var │\u001b[1m      type │\u001b[1m               name │\n",
       "├─────┼───────────┼────────────────────┤\n",
       "│\u001b[1m   1 │     Form0 │                  X │\n",
       "│\u001b[1m   2 │     Form0 │                  V │\n",
       "│\u001b[1m   3 │  Constant │       oscillator_k │\n",
       "│\u001b[1m   4 │     infer │  oscillator_mult_1 │\n",
       "│\u001b[1m   5 │     infer │       oscillator_V̇ │\n",
       "│\u001b[1m   6 │   Literal │                 -1 │\n",
       "│\u001b[1m   7 │     Form0 │         heatgen_Q₊ │\n",
       "│\u001b[1m   8 │  Constant │     heatgen_drag_κ │\n",
       "│\u001b[1m   9 │     Form0 │         heatgen_Q₋ │\n",
       "│\u001b[1m  10 │ Parameter │ heatgen_cooling_Q₀ │\n",
       "│\u001b[1m  11 │     Form0 │                  Q │\n",
       "│\u001b[1m  12 │  Constant │  heatgen_cooling_λ │\n",
       "│\u001b[1m  13 │     infer │ heatgen_cooling_•1 │\n",
       "│\u001b[1m  14 │     Form0 │          heatgen_Q̇ │\n",
       "└─────┴───────────┴────────────────────┘\n",
       "┌──────┬──────┐\n",
       "│\u001b[1m TVar │\u001b[1m incl │\n",
       "├──────┼──────┤\n",
       "│\u001b[1m    1 │    2 │\n",
       "│\u001b[1m    2 │    5 │\n",
       "└──────┴──────┘\n",
       "┌─────┬─────┬─────┬─────┐\n",
       "│\u001b[1m Op1 │\u001b[1m src │\u001b[1m tgt │\u001b[1m op1 │\n",
       "├─────┼─────┼─────┼─────┤\n",
       "│\u001b[1m   1 │   1 │   2 │  ∂ₜ │\n",
       "│\u001b[1m   2 │   2 │   5 │  ∂ₜ │\n",
       "│\u001b[1m   3 │  13 │   9 │   λ │\n",
       "└─────┴─────┴─────┴─────┘\n",
       "┌─────┬───────┬───────┬─────┬─────┐\n",
       "│\u001b[1m Op2 │\u001b[1m proj1 │\u001b[1m proj2 │\u001b[1m res │\u001b[1m op2 │\n",
       "├─────┼───────┼───────┼─────┼─────┤\n",
       "│\u001b[1m   1 │     6 │     3 │   4 │   * │\n",
       "│\u001b[1m   2 │     4 │     1 │   5 │   * │\n",
       "│\u001b[1m   3 │     8 │     2 │   7 │   * │\n",
       "│\u001b[1m   4 │    11 │    10 │  13 │   - │\n",
       "└─────┴───────┴───────┴─────┴─────┘\n",
       "┌───┬─────┐\n",
       "│\u001b[1m Σ │\u001b[1m sum │\n",
       "├───┼─────┤\n",
       "│\u001b[1m 1 │  14 │\n",
       "└───┴─────┘\n",
       "┌─────────┬─────────┬───────────┐\n",
       "│\u001b[1m Summand │\u001b[1m summand │\u001b[1m summation │\n",
       "├─────────┼─────────┼───────────┤\n",
       "│\u001b[1m       1 │       7 │         1 │\n",
       "│\u001b[1m       2 │       9 │         1 │\n",
       "└─────────┴─────────┴───────────┘\n"
      ]
     },
     "execution_count": 70,
     "metadata": {},
     "output_type": "execute_result"
    }
   ],
   "source": [
    "# Flatten (but without metadata)\n",
    "f = apex(oapply(second_composite))"
   ]
  },
  {
   "cell_type": "code",
   "execution_count": 66,
   "id": "f4c145e5-021a-4335-8c06-ffd74daf9fd4",
   "metadata": {
    "tags": []
   },
   "outputs": [
    {
     "data": {
      "text/plain": [
       "ASKEMDecapode(Header(\"flattened_composite\", \"modelreps.io/Composite\", \"A flattened version of the composite_physics model.\", \"CompositeModelExpr\", \"v0.1\"), SummationDecapode{Any, Any, Symbol}:\n",
       "  Var = 1:14\n",
       "  TVar = 1:2\n",
       "  Op1 = 1:3\n",
       "  Op2 = 1:4\n",
       "  Σ = 1:1\n",
       "  Summand = 1:2\n",
       "  Type = 1:0\n",
       "  Operator = 1:0\n",
       "  Name = 1:0\n",
       "  src : Op1 → Var = [1, 2, 13]\n",
       "  tgt : Op1 → Var = [2, 5, 9]\n",
       "  proj1 : Op2 → Var = [6, 4, 8, 11]\n",
       "  proj2 : Op2 → Var = [3, 1, 2, 10]\n",
       "  res : Op2 → Var = [4, 5, 7, 13]\n",
       "  incl : TVar → Var = [2, 5]\n",
       "  summand : Summand → Var = [7, 9]\n",
       "  summation : Summand → Σ = [1, 1]\n",
       "  sum : Σ → Var = [14]\n",
       "  op1 : Op1 → Operator = [:∂ₜ, :∂ₜ, :λ]\n",
       "  op2 : Op2 → Operator = [:*, :*, :*, :-]\n",
       "  type : Var → Type = [:Form0, :Form0, :Constant, :infer, :infer, :Literal, :Form0, :Constant, :Form0, :Parameter, :Form0, :Constant, :infer, :Form0]\n",
       "  name : Var → Name = [:X, :V, :oscillator_k, :oscillator_mult_1, :oscillator_V̇, Symbol(\"-1\"), :heatgen_Q₊, :heatgen_drag_κ, :heatgen_Q₋, :heatgen_cooling_Q₀, :Q, :heatgen_cooling_λ, Symbol(\"heatgen_cooling_•1\"), :heatgen_Q̇])"
      ]
     },
     "execution_count": 66,
     "metadata": {},
     "output_type": "execute_result"
    }
   ],
   "source": [
    "# Flatten with AMR header\n",
    "flat_composite_decapode = ASKEMDecapode(\n",
    "    Header(\n",
    "      \"flattened_composite\", \n",
    "      OpenDecapode(second_composite).model.header.schema, \n",
    "      \"A flattened version of the composite_physics model.\", \n",
    "      OpenDecapode(second_composite).model.header.schema_name, \n",
    "      OpenDecapode(second_composite).model.header.model_version\n",
    "    ), \n",
    "    OpenDecapode(second_composite).model.model\n",
    ")"
   ]
  },
  {
   "cell_type": "code",
   "execution_count": 74,
   "id": "fc9b8ef0-22a1-4f3f-aa93-1563ad86a8e0",
   "metadata": {
    "tags": []
   },
   "outputs": [
    {
     "ename": "LoadError",
     "evalue": "MethodError: no method matching _dict(::SummationDecapode{Any, Any, Symbol})\n\n\u001b[0mClosest candidates are:\n\u001b[0m  _dict(\u001b[91m::Number\u001b[39m)\n\u001b[0m\u001b[90m   @\u001b[39m \u001b[35mSyntacticModels\u001b[39m \u001b[90m~/.julia/packages/SyntacticModels/xH2xd/src/\u001b[39m\u001b[90m\u001b[4mSyntacticModelsBase.jl:24\u001b[24m\u001b[39m\n\u001b[0m  _dict(\u001b[91m::AbstractVector\u001b[39m)\n\u001b[0m\u001b[90m   @\u001b[39m \u001b[35mSyntacticModels\u001b[39m \u001b[90m~/.julia/packages/SyntacticModels/xH2xd/src/\u001b[39m\u001b[90m\u001b[4mSyntacticModelsBase.jl:25\u001b[24m\u001b[39m\n\u001b[0m  _dict(\u001b[91m::T\u001b[39m) where T<:SyntacticModels.SyntacticModelsBase.AbstractTerm\n\u001b[0m\u001b[90m   @\u001b[39m \u001b[35mSyntacticModels\u001b[39m \u001b[90m~/.julia/packages/SyntacticModels/xH2xd/src/\u001b[39m\u001b[90m\u001b[4mSyntacticModelsBase.jl:35\u001b[24m\u001b[39m\n\u001b[0m  ...\n",
     "output_type": "error",
     "traceback": [
      "MethodError: no method matching _dict(::SummationDecapode{Any, Any, Symbol})\n\n\u001b[0mClosest candidates are:\n\u001b[0m  _dict(\u001b[91m::Number\u001b[39m)\n\u001b[0m\u001b[90m   @\u001b[39m \u001b[35mSyntacticModels\u001b[39m \u001b[90m~/.julia/packages/SyntacticModels/xH2xd/src/\u001b[39m\u001b[90m\u001b[4mSyntacticModelsBase.jl:24\u001b[24m\u001b[39m\n\u001b[0m  _dict(\u001b[91m::AbstractVector\u001b[39m)\n\u001b[0m\u001b[90m   @\u001b[39m \u001b[35mSyntacticModels\u001b[39m \u001b[90m~/.julia/packages/SyntacticModels/xH2xd/src/\u001b[39m\u001b[90m\u001b[4mSyntacticModelsBase.jl:25\u001b[24m\u001b[39m\n\u001b[0m  _dict(\u001b[91m::T\u001b[39m) where T<:SyntacticModels.SyntacticModelsBase.AbstractTerm\n\u001b[0m\u001b[90m   @\u001b[39m \u001b[35mSyntacticModels\u001b[39m \u001b[90m~/.julia/packages/SyntacticModels/xH2xd/src/\u001b[39m\u001b[90m\u001b[4mSyntacticModelsBase.jl:35\u001b[24m\u001b[39m\n\u001b[0m  ...\n",
      "",
      "Stacktrace:",
      "  [1] (::SyntacticModels.SyntacticModelsBase.var\"#1#2\"{ASKEMDecapode})(k::Symbol)",
      "    @ SyntacticModels.SyntacticModelsBase ./none:0",
      "  [2] iterate",
      "    @ ./generator.jl:47 [inlined]",
      "  [3] collect_to!(dest::Vector{Pair{Symbol, Dict{Symbol, Any}}}, itr::Base.Generator{Tuple{Symbol, Symbol}, SyntacticModels.SyntacticModelsBase.var\"#1#2\"{ASKEMDecapode}}, offs::Int64, st::Int64)",
      "    @ Base ./array.jl:840",
      "  [4] collect_to_with_first!(dest::Vector{Pair{Symbol, Dict{Symbol, Any}}}, v1::Pair{Symbol, Dict{Symbol, Any}}, itr::Base.Generator{Tuple{Symbol, Symbol}, SyntacticModels.SyntacticModelsBase.var\"#1#2\"{ASKEMDecapode}}, st::Int64)",
      "    @ Base ./array.jl:818",
      "  [5] collect(itr::Base.Generator{Tuple{Symbol, Symbol}, SyntacticModels.SyntacticModelsBase.var\"#1#2\"{ASKEMDecapode}})",
      "    @ Base ./array.jl:792",
      "  [6] _dict",
      "    @ ~/.julia/packages/SyntacticModels/xH2xd/src/SyntacticModelsBase.jl:36 [inlined]",
      "  [7] Dict",
      "    @ ~/.julia/packages/SyntacticModels/xH2xd/src/SyntacticModelsBase.jl:44 [inlined]",
      "  [8] write(f::ASKEMDecapode)",
      "    @ SyntacticModels.SyntacticModelsBase ~/.julia/packages/SyntacticModels/xH2xd/src/SyntacticModelsBase.jl:50",
      "  [9] pretty(out::IOStream, x::ASKEMDecapode, ac::JSON3.AlignmentContext; kw::Base.Pairs{Symbol, Union{}, Tuple{}, NamedTuple{(), Tuple{}}})",
      "    @ JSON3 ~/.julia/packages/JSON3/L8Yfy/src/pretty.jl:54",
      " [10] pretty(out::IOStream, x::ASKEMDecapode, ac::JSON3.AlignmentContext)",
      "    @ JSON3 ~/.julia/packages/JSON3/L8Yfy/src/pretty.jl:54",
      " [11] (::var\"#27#28\")(io::IOStream)",
      "    @ Main ./In[74]:3",
      " [12] open(::var\"#27#28\", ::String, ::Vararg{String}; kwargs::Base.Pairs{Symbol, Union{}, Tuple{}, NamedTuple{(), Tuple{}}})",
      "    @ Base ./io.jl:395",
      " [13] open(::Function, ::String, ::String)",
      "    @ Base ./io.jl:392",
      " [14] top-level scope",
      "    @ In[74]:2"
     ]
    }
   ],
   "source": [
    "# Save to AMR JSON\n",
    "open(\"flat_composite_model.json\", \"w\") do io\n",
    "    JSON3.pretty(io, flat_composite_decapode, JSON3.AlignmentContext(indent = 2))\n",
    "end"
   ]
  },
  {
   "cell_type": "code",
   "execution_count": null,
   "id": "2c8ad4d5-4cb7-418c-9aec-f4ff56bd968b",
   "metadata": {},
   "outputs": [],
   "source": []
  }
 ],
 "metadata": {
  "kernelspec": {
   "display_name": "Julia 1.9.3",
   "language": "julia",
   "name": "julia-1.9"
  },
  "language_info": {
   "file_extension": ".jl",
   "mimetype": "application/julia",
   "name": "julia",
   "version": "1.9.3"
  }
 },
 "nbformat": 4,
 "nbformat_minor": 5
}
