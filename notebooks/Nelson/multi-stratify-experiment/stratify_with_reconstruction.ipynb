{
 "cells": [
  {
   "cell_type": "markdown",
   "id": "b31061aa-f568-4f84-a9c2-c3bd1fb6dc95",
   "metadata": {},
   "source": [
    "Author: Nelson Liu\n",
    "\n",
    "Email: [nliu@uncharted.software](mailto:nliu@uncharted.software)"
   ]
  },
  {
   "attachments": {},
   "cell_type": "markdown",
   "id": "b5c351ab-8a3d-472f-a092-0caff5c9b956",
   "metadata": {},
   "source": [
    "# SIR-Age Stratification & MIRA Reconstruction Experiment\n",
    "\n",
    "Simple stratification: SIR model x 2-age contact model -> MIRA semantic reconstruction\n",
    "\n",
    "To be compared with MIRA stratification."
   ]
  },
  {
   "cell_type": "code",
   "execution_count": 14,
   "id": "f74ab54f-aef7-4321-aada-d02625f6b616",
   "metadata": {},
   "outputs": [],
   "source": [
    "# Libraries\n",
    "using AlgebraicPetri, AlgebraicPetri.TypedPetri\n",
    "using Catlab.Programs, Catlab.Graphics\n",
    "using Catlab.CategoricalAlgebra\n",
    "using JSON\n",
    "# using GraphViz"
   ]
  },
  {
   "cell_type": "markdown",
   "id": "ff9d7767-ffad-4f8d-b122-e66cf29b346e",
   "metadata": {},
   "source": [
    "## Define Ontology"
   ]
  },
  {
   "cell_type": "code",
   "execution_count": 6,
   "id": "34cc13e5-98e8-4eaf-b2a0-4f0a7d86dba9",
   "metadata": {},
   "outputs": [
    {
     "name": "stderr",
     "output_type": "stream",
     "text": [
      "WARNING: redefinition of constant infectious_ontology. This may fail, cause incorrect answers, or produce other errors.\n"
     ]
    },
    {
     "data": {
      "text/html": [
       "<div class=\"c-set\">\n",
       "<span class=\"c-set-summary\">LabelledPetriNet with elements T = 1:3, S = 1:1, I = 1:4, O = 1:4, Name = 1:0</span>\n",
       "<table>\n",
       "  <thead>\n",
       "    <tr class = \"header headerLastRow\">\n",
       "      <th class = \"rowNumber\" style = \"font-weight: bold; text-align: right;\">T</th>\n",
       "      <th style = \"text-align: right;\">tname</th>\n",
       "    </tr>\n",
       "  </thead>\n",
       "  <tbody>\n",
       "    <tr>\n",
       "      <td class = \"rowNumber\" style = \"font-weight: bold; text-align: right;\">1</td>\n",
       "      <td style = \"text-align: right;\">infect</td>\n",
       "    </tr>\n",
       "    <tr>\n",
       "      <td class = \"rowNumber\" style = \"font-weight: bold; text-align: right;\">2</td>\n",
       "      <td style = \"text-align: right;\">disease</td>\n",
       "    </tr>\n",
       "    <tr>\n",
       "      <td class = \"rowNumber\" style = \"font-weight: bold; text-align: right;\">3</td>\n",
       "      <td style = \"text-align: right;\">strata</td>\n",
       "    </tr>\n",
       "  </tbody>\n",
       "</table>\n",
       "<table>\n",
       "  <thead>\n",
       "    <tr class = \"header headerLastRow\">\n",
       "      <th class = \"rowNumber\" style = \"font-weight: bold; text-align: right;\">S</th>\n",
       "      <th style = \"text-align: right;\">sname</th>\n",
       "    </tr>\n",
       "  </thead>\n",
       "  <tbody>\n",
       "    <tr>\n",
       "      <td class = \"rowNumber\" style = \"font-weight: bold; text-align: right;\">1</td>\n",
       "      <td style = \"text-align: right;\">Pop</td>\n",
       "    </tr>\n",
       "  </tbody>\n",
       "</table>\n",
       "<table>\n",
       "  <thead>\n",
       "    <tr class = \"header headerLastRow\">\n",
       "      <th class = \"rowNumber\" style = \"font-weight: bold; text-align: right;\">I</th>\n",
       "      <th style = \"text-align: right;\">it</th>\n",
       "      <th style = \"text-align: right;\">is</th>\n",
       "    </tr>\n",
       "  </thead>\n",
       "  <tbody>\n",
       "    <tr>\n",
       "      <td class = \"rowNumber\" style = \"font-weight: bold; text-align: right;\">1</td>\n",
       "      <td style = \"text-align: right;\">1</td>\n",
       "      <td style = \"text-align: right;\">1</td>\n",
       "    </tr>\n",
       "    <tr>\n",
       "      <td class = \"rowNumber\" style = \"font-weight: bold; text-align: right;\">2</td>\n",
       "      <td style = \"text-align: right;\">1</td>\n",
       "      <td style = \"text-align: right;\">1</td>\n",
       "    </tr>\n",
       "    <tr>\n",
       "      <td class = \"rowNumber\" style = \"font-weight: bold; text-align: right;\">3</td>\n",
       "      <td style = \"text-align: right;\">2</td>\n",
       "      <td style = \"text-align: right;\">1</td>\n",
       "    </tr>\n",
       "    <tr>\n",
       "      <td class = \"rowNumber\" style = \"font-weight: bold; text-align: right;\">4</td>\n",
       "      <td style = \"text-align: right;\">3</td>\n",
       "      <td style = \"text-align: right;\">1</td>\n",
       "    </tr>\n",
       "  </tbody>\n",
       "</table>\n",
       "<table>\n",
       "  <thead>\n",
       "    <tr class = \"header headerLastRow\">\n",
       "      <th class = \"rowNumber\" style = \"font-weight: bold; text-align: right;\">O</th>\n",
       "      <th style = \"text-align: right;\">ot</th>\n",
       "      <th style = \"text-align: right;\">os</th>\n",
       "    </tr>\n",
       "  </thead>\n",
       "  <tbody>\n",
       "    <tr>\n",
       "      <td class = \"rowNumber\" style = \"font-weight: bold; text-align: right;\">1</td>\n",
       "      <td style = \"text-align: right;\">1</td>\n",
       "      <td style = \"text-align: right;\">1</td>\n",
       "    </tr>\n",
       "    <tr>\n",
       "      <td class = \"rowNumber\" style = \"font-weight: bold; text-align: right;\">2</td>\n",
       "      <td style = \"text-align: right;\">1</td>\n",
       "      <td style = \"text-align: right;\">1</td>\n",
       "    </tr>\n",
       "    <tr>\n",
       "      <td class = \"rowNumber\" style = \"font-weight: bold; text-align: right;\">3</td>\n",
       "      <td style = \"text-align: right;\">2</td>\n",
       "      <td style = \"text-align: right;\">1</td>\n",
       "    </tr>\n",
       "    <tr>\n",
       "      <td class = \"rowNumber\" style = \"font-weight: bold; text-align: right;\">4</td>\n",
       "      <td style = \"text-align: right;\">3</td>\n",
       "      <td style = \"text-align: right;\">1</td>\n",
       "    </tr>\n",
       "  </tbody>\n",
       "</table>\n",
       "</div>\n"
      ],
      "text/plain": [
       "LabelledPetriNet with elements T = 1:3, S = 1:1, I = 1:4, O = 1:4, Name = 1:0\n",
       "┌───┬─────────┐\n",
       "│\u001b[1m T \u001b[0m│\u001b[1m   tname \u001b[0m│\n",
       "├───┼─────────┤\n",
       "│ 1 │  infect │\n",
       "│ 2 │ disease │\n",
       "│ 3 │  strata │\n",
       "└───┴─────────┘\n",
       "┌───┬───────┐\n",
       "│\u001b[1m S \u001b[0m│\u001b[1m sname \u001b[0m│\n",
       "├───┼───────┤\n",
       "│ 1 │   Pop │\n",
       "└───┴───────┘\n",
       "┌───┬────┬────┐\n",
       "│\u001b[1m I \u001b[0m│\u001b[1m it \u001b[0m│\u001b[1m is \u001b[0m│\n",
       "├───┼────┼────┤\n",
       "│ 1 │  1 │  1 │\n",
       "│ 2 │  1 │  1 │\n",
       "│ 3 │  2 │  1 │\n",
       "│ 4 │  3 │  1 │\n",
       "└───┴────┴────┘\n",
       "┌───┬────┬────┐\n",
       "│\u001b[1m O \u001b[0m│\u001b[1m ot \u001b[0m│\u001b[1m os \u001b[0m│\n",
       "├───┼────┼────┤\n",
       "│ 1 │  1 │  1 │\n",
       "│ 2 │  1 │  1 │\n",
       "│ 3 │  2 │  1 │\n",
       "│ 4 │  3 │  1 │\n",
       "└───┴────┴────┘\n"
      ]
     },
     "metadata": {},
     "output_type": "display_data"
    }
   ],
   "source": [
    "const infectious_ontology = LabelledPetriNet(\n",
    "    [:Pop],\n",
    "    :infect => ((:Pop, :Pop) => (:Pop, :Pop)),\n",
    "    :disease => (:Pop => :Pop),\n",
    "    :strata => (:Pop => :Pop)\n",
    ")\n",
    "\n",
    "# Graph(infectious_ontology)"
   ]
  },
  {
   "cell_type": "markdown",
   "id": "e03d4972-2bde-4806-b36e-560924ca2493",
   "metadata": {},
   "source": [
    "## Define Base Models"
   ]
  },
  {
   "cell_type": "code",
   "execution_count": 8,
   "id": "187ced82-1bae-4890-99b3-21e736ba7ecd",
   "metadata": {},
   "outputs": [
    {
     "data": {
      "text/plain": [
       "ACSetTransformation((T = FinFunction([1, 2], 2, 3), S = FinFunction([1, 1, 1], 3, 1), I = FinFunction([1, 2, 3], 3, 4), O = FinFunction([1, 2, 3], 3, 4), Name = LooseVarFunction{Symbol, Symbol}(FinDomFunction(Union{AttrVar, Symbol}[], FinSet(0), TypeSet(Union{AttrVar, Symbol})), SetFunction(#10, TypeSet(Symbol), TypeSet(Symbol)), FinSet(0))), LabelledPetriNet {T = 2, S = 3, I = 3, O = 3, Name = 0}, LabelledPetriNet {T = 3, S = 1, I = 4, O = 4, Name = 0})"
      ]
     },
     "metadata": {},
     "output_type": "display_data"
    }
   ],
   "source": [
    "# SIR model\n",
    "sir_uwd = @relation () where (S::Pop, I::Pop, R::Pop) begin\n",
    "    infect(S, I, I, I)\n",
    "    disease(I, R)\n",
    "end\n",
    "\n",
    "to_graphviz(sir_uwd, box_labels = :name, junction_labels = :variable)\n",
    "\n",
    "tnames = [:beta, :gamma]\n",
    "typed_sir = oapply_typed(infectious_ontology, sir_uwd, tnames)\n",
    "\n",
    "# Graph(typed_sir)"
   ]
  },
  {
   "cell_type": "code",
   "execution_count": 9,
   "id": "fa9668de-20d5-4a11-874e-277ca165f95e",
   "metadata": {},
   "outputs": [
    {
     "data": {
      "text/plain": [
       "ACSetTransformation((T = FinFunction([1, 1, 1, 1], 4, 3), S = FinFunction([1, 1], 2, 1), I = FinFunction([1, 2, 1, 2, 1, 2, 1, 2], 8, 4), O = FinFunction([1, 2, 1, 2, 1, 2, 1, 2], 8, 4), Name = LooseVarFunction{Symbol, Symbol}(FinDomFunction(Union{AttrVar, Symbol}[], FinSet(0), TypeSet(Union{AttrVar, Symbol})), SetFunction(#33, TypeSet(Symbol), TypeSet(Symbol)), FinSet(0))), LabelledPetriNet {T = 4, S = 2, I = 8, O = 8, Name = 0}, LabelledPetriNet {T = 3, S = 1, I = 4, O = 4, Name = 0})"
      ]
     },
     "metadata": {},
     "output_type": "display_data"
    }
   ],
   "source": [
    "# Age (contact) model\n",
    "N = 2\n",
    "snames = [Symbol(\"A$i\") for i in 1:N]\n",
    "\n",
    "typed_age = pairwise_id_typed_petri(infectious_ontology, :Pop, :infect, snames)\n",
    "\n",
    "# Graph(typed_age)"
   ]
  },
  {
   "attachments": {},
   "cell_type": "markdown",
   "id": "f64ff33f-ba93-42c8-8354-9ce1a7def655",
   "metadata": {},
   "source": [
    "## Stratification"
   ]
  },
  {
   "cell_type": "code",
   "execution_count": 11,
   "id": "d322e714-f573-4582-b308-ff1a4f7eff48",
   "metadata": {},
   "outputs": [
    {
     "data": {
      "text/plain": [
       "ACSetTransformation((T = FinFunction([1, 2], 2, 3), S = FinFunction([1, 1, 1], 3, 1), I = FinFunction([1, 2, 3], 3, 4), O = FinFunction([1, 2, 3], 3, 4), Name = LooseVarFunction{Symbol, Symbol}(FinDomFunction(Union{AttrVar, Symbol}[], FinSet(0), TypeSet(Union{AttrVar, Symbol})), SetFunction(#17, TypeSet(Symbol), TypeSet(Symbol)), FinSet(0))), LabelledPetriNet {T = 2, S = 3, I = 3, O = 3, Name = 0}, LabelledPetriNet {T = 3, S = 1, I = 4, O = 4, Name = 0})"
      ]
     },
     "metadata": {},
     "output_type": "display_data"
    }
   ],
   "source": [
    "# Augment SIR model\n",
    "typed_sir_aug = add_reflexives(\n",
    "    typed_sir,\n",
    "    [[], [], []],\n",
    "    # [[:strata], [:strata], [:strata]],\n",
    "    infectious_ontology\n",
    ")\n",
    "\n",
    "# Graph(dom(typed_sir_aug))"
   ]
  },
  {
   "cell_type": "code",
   "execution_count": 12,
   "id": "2f764a06-6ced-44c9-8ff1-0de9ea826de8",
   "metadata": {},
   "outputs": [
    {
     "data": {
      "text/plain": [
       "ACSetTransformation((T = FinFunction([1, 1, 1, 1, 2, 2], 6, 3), S = FinFunction([1, 1], 2, 1), I = FinFunction([1, 2, 1, 2, 1, 2, 1, 2, 3, 3], 10, 4), O = FinFunction([1, 2, 1, 2, 1, 2, 1, 2, 3, 3], 10, 4), Name = LooseVarFunction{Symbol, Symbol}(FinDomFunction(Union{AttrVar, Symbol}[], FinSet(0), TypeSet(Union{AttrVar, Symbol})), SetFunction(#17, TypeSet(Symbol), TypeSet(Symbol)), FinSet(0))), LabelledPetriNet {T = 6, S = 2, I = 10, O = 10, Name = 0}, LabelledPetriNet {T = 3, S = 1, I = 4, O = 4, Name = 0})"
      ]
     },
     "metadata": {},
     "output_type": "display_data"
    }
   ],
   "source": [
    "# Augment age (contact) model\n",
    "# Permit all age states to have a \"disease\" self-interaction\n",
    "# (edit: need to add \"strata\" self-interaction now, not after 1st stratification)\n",
    "typed_age_aug = add_reflexives(\n",
    "    typed_age,\n",
    "    repeat([[:disease]], N),\n",
    "    # repeat([[:disease, :strata]], N),\n",
    "    infectious_ontology\n",
    ")\n",
    "\n",
    "# Graph(dom(typed_age_aug))\n",
    "# Graph(typed_age_aug)"
   ]
  },
  {
   "cell_type": "code",
   "execution_count": 13,
   "id": "8c637132-8072-43bf-9546-6d9c345cb806",
   "metadata": {},
   "outputs": [
    {
     "data": {
      "text/plain": [
       "ACSetTransformation((T = compose(compose(FinFunction([1, 3, 5, 7, 10, 12], 6, 12), FinFunction(#43, FinSet(12), FinSet(2))), FinFunction([1, 2], 2, 3)), S = compose(compose(FinFunction([1, 2, 3, 4, 5, 6], 6, 6), FinFunction(#43, FinSet(6), FinSet(3))), FinFunction([1, 1, 1], 3, 1)), I = compose(compose(FinFunction([1, 5, 7, 11, 13, 17, 19, 23, 27, 30], 10, 30), FinFunction(#43, FinSet(30), FinSet(3))), FinFunction([1, 2, 3], 3, 4)), O = compose(compose(FinFunction([1, 5, 7, 11, 13, 17, 19, 23, 27, 30], 10, 30), FinFunction(#43, FinSet(30), FinSet(3))), FinFunction([1, 2, 3], 3, 4)), Name = LooseVarFunction{Tuple{Symbol, Symbol}, Symbol}(FinDomFunction(Union{AttrVar, Symbol}[], FinSet(0), TypeSet(Union{AttrVar, Symbol})), compose(SetFunction(#4, TypeSet(Tuple{Symbol, Symbol}), TypeSet(Symbol)), SetFunction(#17, TypeSet(Symbol), TypeSet(Symbol))), FinSet(0))), AlgebraicPetri.LabelledPetriNetUntyped{Tuple{Symbol, Symbol}} {T = 6, S = 6, I = 10, O = 10, Name = 0}, LabelledPetriNet {T = 3, S = 1, I = 4, O = 4, Name = 0})"
      ]
     },
     "metadata": {},
     "output_type": "display_data"
    }
   ],
   "source": [
    "# Stratify SIR and Age models\n",
    "typed_sir_age = typed_product(typed_sir_aug, typed_age_aug)\n",
    "\n",
    "# Graph(dom(typed_sir_age))"
   ]
  },
  {
   "cell_type": "code",
   "execution_count": 19,
   "id": "0a0c7ce9",
   "metadata": {},
   "outputs": [
    {
     "data": {
      "text/plain": [
       "ACSetTransformation((T = compose(compose(FinFunction([1, 3, 5, 7, 10, 12], 6, 12), FinFunction(#43, FinSet(12), FinSet(2))), FinFunction([1, 2], 2, 3)), S = compose(compose(FinFunction([1, 2, 3, 4, 5, 6], 6, 6), FinFunction(#43, FinSet(6), FinSet(3))), FinFunction([1, 1, 1], 3, 1)), I = compose(compose(FinFunction([1, 5, 7, 11, 13, 17, 19, 23, 27, 30], 10, 30), FinFunction(#43, FinSet(30), FinSet(3))), FinFunction([1, 2, 3], 3, 4)), O = compose(compose(FinFunction([1, 5, 7, 11, 13, 17, 19, 23, 27, 30], 10, 30), FinFunction(#43, FinSet(30), FinSet(3))), FinFunction([1, 2, 3], 3, 4)), Name = LooseVarFunction{Tuple{Symbol, Symbol}, Symbol}(FinDomFunction(Union{AttrVar, Symbol}[], FinSet(0), TypeSet(Union{AttrVar, Symbol})), compose(SetFunction(#4, TypeSet(Tuple{Symbol, Symbol}), TypeSet(Symbol)), SetFunction(#17, TypeSet(Symbol), TypeSet(Symbol))), FinSet(0))), LabelledPetriNet {T = 6, S = 6, I = 10, O = 10, Name = 0}, LabelledPetriNet {T = 3, S = 1, I = 4, O = 4, Name = 0})"
      ]
     },
     "metadata": {},
     "output_type": "display_data"
    }
   ],
   "source": [
    "# Flatten the labels\n",
    "typed_sir_age_flat = flatten_labels(typed_sir_age)"
   ]
  },
  {
   "cell_type": "code",
   "execution_count": 21,
   "id": "b7911a63",
   "metadata": {},
   "outputs": [
    {
     "ename": "MethodError",
     "evalue": "MethodError: no method matching write_json_acset(::Catlab.CategoricalAlgebra.CSets.StructLooseACSetTransformation{TypeLevelBasicSchema{Symbol, Tuple{:T, :S, :I, :O}, Tuple{(:it, :I, :T), (:is, :I, :S), (:ot, :O, :T), (:os, :O, :S)}, Tuple{:Name}, Tuple{(:tname, :T, :Name), (:sname, :S, :Name)}}, NamedTuple{(:T, :S, :I, :O, :Name), Tuple{Catlab.CategoricalAlgebra.Sets.CompositeFunction{Catlab.CategoricalAlgebra.FinSets.FinSetInt, Catlab.CategoricalAlgebra.FinSets.FinSetInt, Catlab.CategoricalAlgebra.Sets.CompositeFunction{Catlab.CategoricalAlgebra.FinSets.FinSetInt, Catlab.CategoricalAlgebra.FinSets.FinSetInt, Catlab.CategoricalAlgebra.FinSets.FinDomFunctionVector{Int64, Vector{Int64}, Catlab.CategoricalAlgebra.FinSets.FinSetInt}, Catlab.CategoricalAlgebra.Sets.SetFunctionCallable{Int64, Int64, Catlab.CategoricalAlgebra.FinSets.FinSetInt, Catlab.CategoricalAlgebra.FinSets.FinSetInt}}, Catlab.CategoricalAlgebra.FinSets.FinDomFunctionVector{Int64, Vector{Int64}, Catlab.CategoricalAlgebra.FinSets.FinSetInt}}, Catlab.CategoricalAlgebra.Sets.CompositeFunction{Catlab.CategoricalAlgebra.FinSets.FinSetInt, Catlab.CategoricalAlgebra.FinSets.FinSetInt, Catlab.CategoricalAlgebra.Sets.CompositeFunction{Catlab.CategoricalAlgebra.FinSets.FinSetInt, Catlab.CategoricalAlgebra.FinSets.FinSetInt, Catlab.CategoricalAlgebra.FinSets.FinDomFunctionVector{Int64, Vector{Int64}, Catlab.CategoricalAlgebra.FinSets.FinSetInt}, Catlab.CategoricalAlgebra.Sets.SetFunctionCallable{Int64, Int64, Catlab.CategoricalAlgebra.FinSets.FinSetInt, Catlab.CategoricalAlgebra.FinSets.FinSetInt}}, Catlab.CategoricalAlgebra.FinSets.FinDomFunctionVector{Int64, Vector{Int64}, Catlab.CategoricalAlgebra.FinSets.FinSetInt}}, Catlab.CategoricalAlgebra.Sets.CompositeFunction{Catlab.CategoricalAlgebra.FinSets.FinSetInt, Catlab.CategoricalAlgebra.FinSets.FinSetInt, Catlab.CategoricalAlgebra.Sets.CompositeFunction{Catlab.CategoricalAlgebra.FinSets.FinSetInt, Catlab.CategoricalAlgebra.FinSets.FinSetInt, Catlab.CategoricalAlgebra.FinSets.FinDomFunctionVector{Int64, Vector{Int64}, Catlab.CategoricalAlgebra.FinSets.FinSetInt}, Catlab.CategoricalAlgebra.Sets.SetFunctionCallable{Int64, Int64, Catlab.CategoricalAlgebra.FinSets.FinSetInt, Catlab.CategoricalAlgebra.FinSets.FinSetInt}}, Catlab.CategoricalAlgebra.FinSets.FinDomFunctionVector{Int64, Vector{Int64}, Catlab.CategoricalAlgebra.FinSets.FinSetInt}}, Catlab.CategoricalAlgebra.Sets.CompositeFunction{Catlab.CategoricalAlgebra.FinSets.FinSetInt, Catlab.CategoricalAlgebra.FinSets.FinSetInt, Catlab.CategoricalAlgebra.Sets.CompositeFunction{Catlab.CategoricalAlgebra.FinSets.FinSetInt, Catlab.CategoricalAlgebra.FinSets.FinSetInt, Catlab.CategoricalAlgebra.FinSets.FinDomFunctionVector{Int64, Vector{Int64}, Catlab.CategoricalAlgebra.FinSets.FinSetInt}, Catlab.CategoricalAlgebra.Sets.SetFunctionCallable{Int64, Int64, Catlab.CategoricalAlgebra.FinSets.FinSetInt, Catlab.CategoricalAlgebra.FinSets.FinSetInt}}, Catlab.CategoricalAlgebra.FinSets.FinDomFunctionVector{Int64, Vector{Int64}, Catlab.CategoricalAlgebra.FinSets.FinSetInt}}, LooseVarFunction{Tuple{Symbol, Symbol}, Symbol}}}, LabelledPetriNet, LabelledPetriNet}, ::String)\n\nClosest candidates are:\n  write_json_acset(!Matched::ACSet, ::AbstractString)\n   @ ACSets ~/.julia/packages/ACSets/YPlUP/src/JSONACSets.jl:89\n",
     "output_type": "error",
     "traceback": [
      "MethodError: no method matching write_json_acset(::Catlab.CategoricalAlgebra.CSets.StructLooseACSetTransformation{TypeLevelBasicSchema{Symbol, Tuple{:T, :S, :I, :O}, Tuple{(:it, :I, :T), (:is, :I, :S), (:ot, :O, :T), (:os, :O, :S)}, Tuple{:Name}, Tuple{(:tname, :T, :Name), (:sname, :S, :Name)}}, NamedTuple{(:T, :S, :I, :O, :Name), Tuple{Catlab.CategoricalAlgebra.Sets.CompositeFunction{Catlab.CategoricalAlgebra.FinSets.FinSetInt, Catlab.CategoricalAlgebra.FinSets.FinSetInt, Catlab.CategoricalAlgebra.Sets.CompositeFunction{Catlab.CategoricalAlgebra.FinSets.FinSetInt, Catlab.CategoricalAlgebra.FinSets.FinSetInt, Catlab.CategoricalAlgebra.FinSets.FinDomFunctionVector{Int64, Vector{Int64}, Catlab.CategoricalAlgebra.FinSets.FinSetInt}, Catlab.CategoricalAlgebra.Sets.SetFunctionCallable{Int64, Int64, Catlab.CategoricalAlgebra.FinSets.FinSetInt, Catlab.CategoricalAlgebra.FinSets.FinSetInt}}, Catlab.CategoricalAlgebra.FinSets.FinDomFunctionVector{Int64, Vector{Int64}, Catlab.CategoricalAlgebra.FinSets.FinSetInt}}, Catlab.CategoricalAlgebra.Sets.CompositeFunction{Catlab.CategoricalAlgebra.FinSets.FinSetInt, Catlab.CategoricalAlgebra.FinSets.FinSetInt, Catlab.CategoricalAlgebra.Sets.CompositeFunction{Catlab.CategoricalAlgebra.FinSets.FinSetInt, Catlab.CategoricalAlgebra.FinSets.FinSetInt, Catlab.CategoricalAlgebra.FinSets.FinDomFunctionVector{Int64, Vector{Int64}, Catlab.CategoricalAlgebra.FinSets.FinSetInt}, Catlab.CategoricalAlgebra.Sets.SetFunctionCallable{Int64, Int64, Catlab.CategoricalAlgebra.FinSets.FinSetInt, Catlab.CategoricalAlgebra.FinSets.FinSetInt}}, Catlab.CategoricalAlgebra.FinSets.FinDomFunctionVector{Int64, Vector{Int64}, Catlab.CategoricalAlgebra.FinSets.FinSetInt}}, Catlab.CategoricalAlgebra.Sets.CompositeFunction{Catlab.CategoricalAlgebra.FinSets.FinSetInt, Catlab.CategoricalAlgebra.FinSets.FinSetInt, Catlab.CategoricalAlgebra.Sets.CompositeFunction{Catlab.CategoricalAlgebra.FinSets.FinSetInt, Catlab.CategoricalAlgebra.FinSets.FinSetInt, Catlab.CategoricalAlgebra.FinSets.FinDomFunctionVector{Int64, Vector{Int64}, Catlab.CategoricalAlgebra.FinSets.FinSetInt}, Catlab.CategoricalAlgebra.Sets.SetFunctionCallable{Int64, Int64, Catlab.CategoricalAlgebra.FinSets.FinSetInt, Catlab.CategoricalAlgebra.FinSets.FinSetInt}}, Catlab.CategoricalAlgebra.FinSets.FinDomFunctionVector{Int64, Vector{Int64}, Catlab.CategoricalAlgebra.FinSets.FinSetInt}}, Catlab.CategoricalAlgebra.Sets.CompositeFunction{Catlab.CategoricalAlgebra.FinSets.FinSetInt, Catlab.CategoricalAlgebra.FinSets.FinSetInt, Catlab.CategoricalAlgebra.Sets.CompositeFunction{Catlab.CategoricalAlgebra.FinSets.FinSetInt, Catlab.CategoricalAlgebra.FinSets.FinSetInt, Catlab.CategoricalAlgebra.FinSets.FinDomFunctionVector{Int64, Vector{Int64}, Catlab.CategoricalAlgebra.FinSets.FinSetInt}, Catlab.CategoricalAlgebra.Sets.SetFunctionCallable{Int64, Int64, Catlab.CategoricalAlgebra.FinSets.FinSetInt, Catlab.CategoricalAlgebra.FinSets.FinSetInt}}, Catlab.CategoricalAlgebra.FinSets.FinDomFunctionVector{Int64, Vector{Int64}, Catlab.CategoricalAlgebra.FinSets.FinSetInt}}, LooseVarFunction{Tuple{Symbol, Symbol}, Symbol}}}, LabelledPetriNet, LabelledPetriNet}, ::String)\n",
      "\n",
      "Closest candidates are:\n",
      "  write_json_acset(!Matched::ACSet, ::AbstractString)\n",
      "   @ ACSets ~/.julia/packages/ACSets/YPlUP/src/JSONACSets.jl:89\n",
      "\n",
      "\n",
      "Stacktrace:\n",
      " [1] top-level scope\n",
      "   @ ~/projects/askem/experiments/notebooks/Nelson/multi-stratify-experiment/stratify_with_reconstruction.ipynb:1"
     ]
    }
   ],
   "source": [
    "write_json_acset(typed_sir_age_flat, \"sir_age_model.json\")"
   ]
  },
  {
   "cell_type": "code",
   "execution_count": 22,
   "id": "79694c67",
   "metadata": {},
   "outputs": [
    {
     "ename": "UndefVarError",
     "evalue": "UndefVarError: `StratifiedASKEMPetriNet` not defined",
     "output_type": "error",
     "traceback": [
      "UndefVarError: `StratifiedASKEMPetriNet` not defined\n",
      "\n",
      "Stacktrace:\n",
      " [1] top-level scope\n",
      "   @ ~/projects/askem/experiments/notebooks/Nelson/multi-stratify-experiment/stratify_with_reconstruction.ipynb:1"
     ]
    }
   ],
   "source": [
    "test = StratifiedASKEMPetriNet(typed_sir_aug, typed_age_aug)"
   ]
  },
  {
   "cell_type": "code",
   "execution_count": null,
   "id": "8605e856",
   "metadata": {},
   "outputs": [],
   "source": []
  }
 ],
 "metadata": {
  "kernelspec": {
   "display_name": "Julia 1.9.2",
   "language": "julia",
   "name": "julia-1.9"
  },
  "language_info": {
   "file_extension": ".jl",
   "mimetype": "application/julia",
   "name": "julia",
   "version": "1.9.2"
  }
 },
 "nbformat": 4,
 "nbformat_minor": 5
}
