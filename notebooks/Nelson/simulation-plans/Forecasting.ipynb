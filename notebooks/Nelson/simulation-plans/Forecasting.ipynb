{
 "cells": [
  {
   "cell_type": "code",
   "execution_count": 17,
   "id": "53530691-14c6-4240-9f0f-803ab6774f33",
   "metadata": {},
   "outputs": [],
   "source": [
    "begin\n",
    "    using ModelingToolkit\n",
    "    using AlgebraicPetri\n",
    "    using AlgebraicPetri.Epidemiology\n",
    "    using AlgebraicPetri.BilayerNetworks\n",
    "\n",
    "    using Catlab, Catlab.Theories\n",
    "    using Catlab.CategoricalAlgebra\n",
    "    using Catlab.Graphics\n",
    "    using Catlab.Graphics: Graphviz\n",
    "    import Catlab.CategoricalAlgebra: migrate!\n",
    "    using Catlab.WiringDiagrams\n",
    "    using Catlab.Programs\n",
    "    using Catlab.Programs.RelationalPrograms\n",
    "    import Catlab.WiringDiagrams.DirectedWiringDiagrams: WiringDiagramACSet\n",
    "    import Catlab.CategoricalAlgebra.CSets: parse_json_acset\n",
    "    \n",
    "    # using JSON\n",
    "\n",
    "    using Random\n",
    "    using DifferentialEquations\n",
    "end"
   ]
  },
  {
   "cell_type": "code",
   "execution_count": 18,
   "id": "95633682-a52f-4e86-baf2-13af501c91ee",
   "metadata": {},
   "outputs": [
    {
     "data": {
      "text/plain": [
       "draw (generic function with 1 method)"
      ]
     },
     "execution_count": 18,
     "metadata": {},
     "output_type": "execute_result"
    }
   ],
   "source": [
    "draw(d::WiringDiagram) = to_graphviz(d,\n",
    "    orientation=LeftToRight,\n",
    "    labels=true, label_attr=:xlabel,\n",
    "    node_attrs=Graphviz.Attributes(\n",
    "      :fontname => \"Courier\",\n",
    "    ),\n",
    "    edge_attrs=Graphviz.Attributes(\n",
    "      :fontname => \"Courier\",\n",
    "    )\n",
    ")"
   ]
  },
  {
   "cell_type": "code",
   "execution_count": 19,
   "id": "eeef04aa-5fab-440f-8eb1-f41250efe713",
   "metadata": {},
   "outputs": [
    {
     "data": {
      "text/plain": [
       "MTKLoadLRN (generic function with 1 method)"
      ]
     },
     "execution_count": 19,
     "metadata": {},
     "output_type": "execute_result"
    }
   ],
   "source": [
    "function MTKLoadLRN(f)\n",
    "    return read_json_acset(LabelledReactionNet{Float64,Float64},f)\n",
    "end"
   ]
  },
  {
   "cell_type": "code",
   "execution_count": 20,
   "id": "f360e402-ad53-40b2-9f0d-29c61973877f",
   "metadata": {},
   "outputs": [
    {
     "data": {
      "text/plain": [
       "MTKFormODEProb (generic function with 1 method)"
      ]
     },
     "execution_count": 20,
     "metadata": {},
     "output_type": "execute_result"
    }
   ],
   "source": [
    "make_depvar(p,t) = :($p($t))\n",
    "function MTKFormODEProb(lrxn::AbstractLabelledReactionNet,tspan)    \n",
    "    r = lrxn[:rate]\n",
    "    c = lrxn[:concentration]\n",
    "\n",
    "    lpn = LabelledPetriNet(lrxn);\n",
    "    bn = LabelledBilayerNetwork();\n",
    "    migrate!(bn,lpn);\n",
    "    \n",
    "    varstmt = :(@variables t)\n",
    "    @show varnames = bn[:variable]\n",
    "    append!(varstmt.args, make_depvar.(bn[:variable], :t))\n",
    "    \n",
    "    paramstmt = :(@parameters)\n",
    "    params = bn[:parameter]\n",
    "    append!(paramstmt.args, bn[:parameter])\n",
    "    \n",
    "    diffstmt = :(D = Differential(t))\n",
    "  \n",
    "    ϕs = map(parts(bn, :Box)) do b\n",
    "      vars = map(incident(bn, b,:call)) do i\n",
    "        j = bn[i, :arg]\n",
    "        return bn[j, :variable]\n",
    "      end\n",
    "      p = :(*($(bn[b, :parameter])))\n",
    "      append!(p.args, vars)\n",
    "      return :($(Symbol(\"ϕ$b\")) = $p)\n",
    "    end\n",
    "  \n",
    "    \n",
    "    infs = map(parts(bn, :Qout)) do tv\n",
    "      vars = map(incident(bn, tv, :infusion)) do wa\n",
    "        j = bn[wa, :influx]\n",
    "        return Symbol(\"ϕ$j\")\n",
    "      end\n",
    "      p = :(+())\n",
    "      append!(p.args, vars)\n",
    "  \n",
    "      # same for the outfluxes\n",
    "      vars = map(incident(bn, tv, :effusion)) do wn\n",
    "        j = bn[wn, :efflux]\n",
    "        return :(- $(Symbol(\"ϕ$j\")))\n",
    "      end\n",
    "      append!(p.args, vars)\n",
    "      return p\n",
    "    end\n",
    "  \n",
    "    zparts = zip(bn[:tanvar], infs)\n",
    "  \n",
    "    eqns = [:(D($tanvar) ~ $rhs) for (tanvar, rhs) in zparts]\n",
    "    eq = :([])\n",
    "    append!(eq.args, eqns)\n",
    "    eqnstmt = :(eqs = $eq)\n",
    "  \n",
    "    varnameexpr = Expr(:tuple, varnames...)\n",
    "    parnameexpr = Expr(:tuple, params...)\n",
    "\n",
    "    eval(varstmt)\n",
    "    eval(paramstmt)\n",
    "    eval(diffstmt)\n",
    "    map(eval,ϕs)\n",
    "    eval(eqnstmt)\n",
    "    sys = ODESystem(eqs, t, name=:PetriNet)\n",
    "    prob = ODEProblem(sys, c, tspan, r)\n",
    "    # sol = solve(prob,Tsit5())\n",
    "  \n",
    "    # return quote\n",
    "    #   $varstmt\n",
    "    #   $paramstmt\n",
    "    #   $diffstmt\n",
    "    #   $(ϕs...)\n",
    "    #   $eqnstmt\n",
    "    #   return $varnameexpr, $parnameexpr, ODEProblem(ODESystem(eqs, t, name=:PetriNet), $c, $tspan, $r)\n",
    "    # end\n",
    "    return prob\n",
    "end"
   ]
  },
  {
   "cell_type": "code",
   "execution_count": 21,
   "id": "5751c43c-f682-42cc-9234-99eb50dffcb8",
   "metadata": {},
   "outputs": [
    {
     "data": {
      "text/plain": [
       "MTKSolveODE (generic function with 1 method)"
      ]
     },
     "execution_count": 21,
     "metadata": {},
     "output_type": "execute_result"
    }
   ],
   "source": [
    "function MTKSolveODE(prob)\n",
    "    return solve(prob,Tsit5())\n",
    "end"
   ]
  },
  {
   "cell_type": "code",
   "execution_count": 23,
   "id": "f9989ca3-8e8f-4272-b23f-30bdefd2de9a",
   "metadata": {},
   "outputs": [
    {
     "data": {
      "text/plain": [
       "Presentation{ThBiproductCategory, Symbol}(Catlab.Theories.FreeBiproductCategory, (Ob = Catlab.Theories.FreeBiproductCategory.Ob{:generator}[File, LRN, TSpan, ODEProb, ODESol], Hom = Catlab.Theories.FreeBiproductCategory.Hom{:generator}[MTKLoadLRN, MTKFormODEProb, MTKSolveODE]), Dict(:MTKSolveODE => (:Hom => 3), :LRN => (:Ob => 2), :ODEProb => (:Ob => 4), :TSpan => (:Ob => 3), :File => (:Ob => 1), :ODESol => (:Ob => 5), :MTKLoadLRN => (:Hom => 1), :MTKFormODEProb => (:Hom => 2)), Pair[])"
      ]
     },
     "execution_count": 23,
     "metadata": {},
     "output_type": "execute_result"
    }
   ],
   "source": [
    "# Form Workflow presentation of FreeBiproductCategory\n",
    "@present Workflow(FreeBiproductCategory) begin\n",
    "    (File,LRN,TSpan,ODEProb,ODESol)::Ob \n",
    "    MTKLoadLRN::Hom(File,LRN)\n",
    "    MTKFormODEProb::Hom(LRN⊗TSpan,ODEProb)\n",
    "    MTKSolveODE::Hom(ODEProb,ODESol)\n",
    "end"
   ]
  },
  {
   "cell_type": "code",
   "execution_count": 24,
   "id": "5d3a327c-0369-4893-be41-ff4f13d0f75b",
   "metadata": {},
   "outputs": [
    {
     "data": {
      "text/plain": [
       "WiringDiagram{ThBiproductCategory}([:File,:TSpan], [:ODESol], \n",
       "[ -2 => {inputs},\n",
       "  -1 => {outputs},\n",
       "  1 => Box(:MTKLoadLRN, [:File], [:LRN]),\n",
       "  2 => Box(:MTKFormODEProb, [:LRN,:TSpan], [:ODEProb]),\n",
       "  3 => Box(:MTKSolveODE, [:ODEProb], [:ODESol]) ],\n",
       "[ Wire((-2,1) => (1,1)),\n",
       "  Wire((-2,2) => (2,2)),\n",
       "  Wire((1,1) => (2,1)),\n",
       "  Wire((2,1) => (3,1)),\n",
       "  Wire((3,1) => (-1,1)) ])"
      ]
     },
     "execution_count": 24,
     "metadata": {},
     "output_type": "execute_result"
    }
   ],
   "source": [
    "# Form wiring diagram of load_form_sim Workflow\n",
    "load_form_sim = @program Workflow (f::File,ts::TSpan) begin # \n",
    "    lrn = MTKLoadLRN(f)\n",
    "    ode_prob = MTKFormODEProb(lrn,ts)\n",
    "    ode_sol = MTKSolveODE(ode_prob)\n",
    "    return ode_sol \n",
    "end"
   ]
  },
  {
   "cell_type": "code",
   "execution_count": 25,
   "id": "c498367d-d3c6-4e5f-9474-d72fbba8d3a2",
   "metadata": {},
   "outputs": [
    {
     "data": {
      "text/plain": [
       "857"
      ]
     },
     "execution_count": 25,
     "metadata": {},
     "output_type": "execute_result"
    }
   ],
   "source": [
    "# Serialize program wiring diagram\n",
    "# write_json_graph(load_form_sim,\"diagram_load_form_sim.json\") \n",
    "write_json_acset(load_form_sim.diagram, \"forecasting_dwd.json\")"
   ]
  },
  {
   "cell_type": "code",
   "execution_count": 26,
   "id": "ea13a53a-8270-49f9-95aa-f98a175d5e13",
   "metadata": {},
   "outputs": [
    {
     "data": {
      "text/plain": [
       "parse_json_acset (generic function with 2 methods)"
      ]
     },
     "execution_count": 26,
     "metadata": {},
     "output_type": "execute_result"
    }
   ],
   "source": [
    "# Example of reading in wiring diagram from JSON\n",
    "# load_form_sim_roundtrip = read_json_graph(Symbol, Symbol, Nothing, \"diagram_load_form_sim.json\")\n",
    "function parse_json_acset(::Type{T}, input::AbstractDict) where T <: ACSet # Catlab.CategoricalAlgebra.CSets.\n",
    "  out = T()\n",
    "  #=for (k,v) ∈ input\n",
    "    add_parts!(out, Symbol(k), length(v))\n",
    "  end\n",
    "  for l ∈ values(input)\n",
    "    for (i, j) ∈ enumerate(l)\n",
    "      for k ∈ keys(j) # (k,v) = j # \n",
    "        v = j[k]\n",
    "        vtype = eltype(out[Symbol(k)])\n",
    "        if !(v isa vtype)\n",
    "          v = vtype(v)\n",
    "        end\n",
    "        set_subpart!(out, i, Symbol(k), v)\n",
    "      end\n",
    "    end\n",
    "  end\n",
    "  out\n",
    "  end=#\n",
    "  for (k,v) ∈ input\n",
    "    add_parts!(out, Symbol(k), length(v))\n",
    "  end\n",
    "  for l ∈ values(input)\n",
    "    for (i, j) ∈ enumerate(l)\n",
    "      for k ∈ keys(j) # (k, v) = j # \n",
    "        v = j[k]\n",
    "        vtype = eltype(out[Symbol(k)])\n",
    "        # if ((Symbol(k)==:box_type) | (Symbol(k)==:outer_in_port_type) | (Symbol(k)==:inner_in_port_type)) & (v isa String)\n",
    "        if v isa String\n",
    "            v = Meta.parse(v)\n",
    "            if v isa Expr\n",
    "                v = eval(v)\n",
    "            end\n",
    "        end\n",
    "        if !(v isa vtype)\n",
    "          v = vtype(v)\n",
    "        end\n",
    "        set_subpart!(out, i, Symbol(k), v)\n",
    "      end\n",
    "    end\n",
    "  end\n",
    "  out\n",
    "end"
   ]
  },
  {
   "cell_type": "code",
   "execution_count": 27,
   "id": "9fd064c9-5abe-48f4-a221-0c1f2907926c",
   "metadata": {},
   "outputs": [
    {
     "data": {
      "text/html": [
       "<div class=\"c-set\">\n",
       "<span class=\"c-set-summary\">WiringDiagramACSet{Any, Any, Any, DataType} with elements Box = 1:3, InPort = 1:4, OutPort = 1:3, OuterInPort = 1:2, OuterOutPort = 1:1, Wire = 1:2, InWire = 1:2, OutWire = 1:1, PassWire = 1:0</span>\n",
       "<table>\n",
       "  <thead>\n",
       "    <tr class = \"header headerLastRow\">\n",
       "      <th class = \"rowNumber\" style = \"font-weight: bold; text-align: right;\">Box</th>\n",
       "      <th style = \"text-align: right;\">value</th>\n",
       "      <th style = \"text-align: right;\">box_type</th>\n",
       "    </tr>\n",
       "  </thead>\n",
       "  <tbody>\n",
       "    <tr>\n",
       "      <td class = \"rowNumber\" style = \"font-weight: bold; text-align: right;\">1</td>\n",
       "      <td style = \"text-align: right;\">MTKLoadLRN</td>\n",
       "      <td style = \"text-align: right;\">Box{Symbol}</td>\n",
       "    </tr>\n",
       "    <tr>\n",
       "      <td class = \"rowNumber\" style = \"font-weight: bold; text-align: right;\">2</td>\n",
       "      <td style = \"text-align: right;\">MTKFormODEProb</td>\n",
       "      <td style = \"text-align: right;\">Box{Symbol}</td>\n",
       "    </tr>\n",
       "    <tr>\n",
       "      <td class = \"rowNumber\" style = \"font-weight: bold; text-align: right;\">3</td>\n",
       "      <td style = \"text-align: right;\">MTKSolveODE</td>\n",
       "      <td style = \"text-align: right;\">Box{Symbol}</td>\n",
       "    </tr>\n",
       "  </tbody>\n",
       "</table>\n",
       "<table>\n",
       "  <thead>\n",
       "    <tr class = \"header headerLastRow\">\n",
       "      <th class = \"rowNumber\" style = \"font-weight: bold; text-align: right;\">InPort</th>\n",
       "      <th style = \"text-align: right;\">in_port_box</th>\n",
       "      <th style = \"text-align: right;\">in_port_type</th>\n",
       "    </tr>\n",
       "  </thead>\n",
       "  <tbody>\n",
       "    <tr>\n",
       "      <td class = \"rowNumber\" style = \"font-weight: bold; text-align: right;\">1</td>\n",
       "      <td style = \"text-align: right;\">1</td>\n",
       "      <td style = \"text-align: right;\">File</td>\n",
       "    </tr>\n",
       "    <tr>\n",
       "      <td class = \"rowNumber\" style = \"font-weight: bold; text-align: right;\">2</td>\n",
       "      <td style = \"text-align: right;\">2</td>\n",
       "      <td style = \"text-align: right;\">LRN</td>\n",
       "    </tr>\n",
       "    <tr>\n",
       "      <td class = \"rowNumber\" style = \"font-weight: bold; text-align: right;\">3</td>\n",
       "      <td style = \"text-align: right;\">2</td>\n",
       "      <td style = \"text-align: right;\">TSpan</td>\n",
       "    </tr>\n",
       "    <tr>\n",
       "      <td class = \"rowNumber\" style = \"font-weight: bold; text-align: right;\">4</td>\n",
       "      <td style = \"text-align: right;\">3</td>\n",
       "      <td style = \"text-align: right;\">ODEProb</td>\n",
       "    </tr>\n",
       "  </tbody>\n",
       "</table>\n",
       "<table>\n",
       "  <thead>\n",
       "    <tr class = \"header headerLastRow\">\n",
       "      <th class = \"rowNumber\" style = \"font-weight: bold; text-align: right;\">OutPort</th>\n",
       "      <th style = \"text-align: right;\">out_port_box</th>\n",
       "      <th style = \"text-align: right;\">out_port_type</th>\n",
       "    </tr>\n",
       "  </thead>\n",
       "  <tbody>\n",
       "    <tr>\n",
       "      <td class = \"rowNumber\" style = \"font-weight: bold; text-align: right;\">1</td>\n",
       "      <td style = \"text-align: right;\">1</td>\n",
       "      <td style = \"text-align: right;\">LRN</td>\n",
       "    </tr>\n",
       "    <tr>\n",
       "      <td class = \"rowNumber\" style = \"font-weight: bold; text-align: right;\">2</td>\n",
       "      <td style = \"text-align: right;\">2</td>\n",
       "      <td style = \"text-align: right;\">ODEProb</td>\n",
       "    </tr>\n",
       "    <tr>\n",
       "      <td class = \"rowNumber\" style = \"font-weight: bold; text-align: right;\">3</td>\n",
       "      <td style = \"text-align: right;\">3</td>\n",
       "      <td style = \"text-align: right;\">ODESol</td>\n",
       "    </tr>\n",
       "  </tbody>\n",
       "</table>\n",
       "<table>\n",
       "  <thead>\n",
       "    <tr class = \"header headerLastRow\">\n",
       "      <th class = \"rowNumber\" style = \"font-weight: bold; text-align: right;\">OuterInPort</th>\n",
       "      <th style = \"text-align: right;\">outer_in_port_type</th>\n",
       "    </tr>\n",
       "  </thead>\n",
       "  <tbody>\n",
       "    <tr>\n",
       "      <td class = \"rowNumber\" style = \"font-weight: bold; text-align: right;\">1</td>\n",
       "      <td style = \"text-align: right;\">File</td>\n",
       "    </tr>\n",
       "    <tr>\n",
       "      <td class = \"rowNumber\" style = \"font-weight: bold; text-align: right;\">2</td>\n",
       "      <td style = \"text-align: right;\">TSpan</td>\n",
       "    </tr>\n",
       "  </tbody>\n",
       "</table>\n",
       "<table>\n",
       "  <thead>\n",
       "    <tr class = \"header headerLastRow\">\n",
       "      <th class = \"rowNumber\" style = \"font-weight: bold; text-align: right;\">OuterOutPort</th>\n",
       "      <th style = \"text-align: right;\">outer_out_port_type</th>\n",
       "    </tr>\n",
       "  </thead>\n",
       "  <tbody>\n",
       "    <tr>\n",
       "      <td class = \"rowNumber\" style = \"font-weight: bold; text-align: right;\">1</td>\n",
       "      <td style = \"text-align: right;\">ODESol</td>\n",
       "    </tr>\n",
       "  </tbody>\n",
       "</table>\n",
       "<table>\n",
       "  <thead>\n",
       "    <tr class = \"header headerLastRow\">\n",
       "      <th class = \"rowNumber\" style = \"font-weight: bold; text-align: right;\">Wire</th>\n",
       "      <th style = \"text-align: right;\">src</th>\n",
       "      <th style = \"text-align: right;\">tgt</th>\n",
       "      <th style = \"text-align: right;\">wire_value</th>\n",
       "    </tr>\n",
       "  </thead>\n",
       "  <tbody>\n",
       "    <tr>\n",
       "      <td class = \"rowNumber\" style = \"font-weight: bold; text-align: right;\">1</td>\n",
       "      <td style = \"text-align: right;\">1</td>\n",
       "      <td style = \"text-align: right;\">2</td>\n",
       "      <td style = \"text-align: right;\">nothing</td>\n",
       "    </tr>\n",
       "    <tr>\n",
       "      <td class = \"rowNumber\" style = \"font-weight: bold; text-align: right;\">2</td>\n",
       "      <td style = \"text-align: right;\">2</td>\n",
       "      <td style = \"text-align: right;\">4</td>\n",
       "      <td style = \"text-align: right;\">nothing</td>\n",
       "    </tr>\n",
       "  </tbody>\n",
       "</table>\n",
       "<table>\n",
       "  <thead>\n",
       "    <tr class = \"header headerLastRow\">\n",
       "      <th class = \"rowNumber\" style = \"font-weight: bold; text-align: right;\">InWire</th>\n",
       "      <th style = \"text-align: right;\">in_src</th>\n",
       "      <th style = \"text-align: right;\">in_tgt</th>\n",
       "      <th style = \"text-align: right;\">in_wire_value</th>\n",
       "    </tr>\n",
       "  </thead>\n",
       "  <tbody>\n",
       "    <tr>\n",
       "      <td class = \"rowNumber\" style = \"font-weight: bold; text-align: right;\">1</td>\n",
       "      <td style = \"text-align: right;\">1</td>\n",
       "      <td style = \"text-align: right;\">1</td>\n",
       "      <td style = \"text-align: right;\">nothing</td>\n",
       "    </tr>\n",
       "    <tr>\n",
       "      <td class = \"rowNumber\" style = \"font-weight: bold; text-align: right;\">2</td>\n",
       "      <td style = \"text-align: right;\">2</td>\n",
       "      <td style = \"text-align: right;\">3</td>\n",
       "      <td style = \"text-align: right;\">nothing</td>\n",
       "    </tr>\n",
       "  </tbody>\n",
       "</table>\n",
       "<table>\n",
       "  <thead>\n",
       "    <tr class = \"header headerLastRow\">\n",
       "      <th class = \"rowNumber\" style = \"font-weight: bold; text-align: right;\">OutWire</th>\n",
       "      <th style = \"text-align: right;\">out_src</th>\n",
       "      <th style = \"text-align: right;\">out_tgt</th>\n",
       "      <th style = \"text-align: right;\">out_wire_value</th>\n",
       "    </tr>\n",
       "  </thead>\n",
       "  <tbody>\n",
       "    <tr>\n",
       "      <td class = \"rowNumber\" style = \"font-weight: bold; text-align: right;\">1</td>\n",
       "      <td style = \"text-align: right;\">3</td>\n",
       "      <td style = \"text-align: right;\">1</td>\n",
       "      <td style = \"text-align: right;\">nothing</td>\n",
       "    </tr>\n",
       "  </tbody>\n",
       "</table>\n",
       "</div>\n"
      ],
      "text/plain": [
       "WiringDiagramACSet{Any, Any, Any, DataType} with elements Box = 1:3, InPort = 1:4, OutPort = 1:3, OuterInPort = 1:2, OuterOutPort = 1:1, Wire = 1:2, InWire = 1:2, OutWire = 1:1, PassWire = 1:0\n",
       "┌─────┬────────────────┬─────────────┐\n",
       "│\u001b[1m Box │\u001b[1m          value │\u001b[1m    box_type │\n",
       "├─────┼────────────────┼─────────────┤\n",
       "│   1 │     MTKLoadLRN │ Box{Symbol} │\n",
       "│   2 │ MTKFormODEProb │ Box{Symbol} │\n",
       "│   3 │    MTKSolveODE │ Box{Symbol} │\n",
       "└─────┴────────────────┴─────────────┘\n",
       "┌────────┬─────────────┬──────────────┐\n",
       "│\u001b[1m InPort │\u001b[1m in_port_box │\u001b[1m in_port_type │\n",
       "├────────┼─────────────┼──────────────┤\n",
       "│      1 │           1 │         File │\n",
       "│      2 │           2 │          LRN │\n",
       "│      3 │           2 │        TSpan │\n",
       "│      4 │           3 │      ODEProb │\n",
       "└────────┴─────────────┴──────────────┘\n",
       "┌─────────┬──────────────┬───────────────┐\n",
       "│\u001b[1m OutPort │\u001b[1m out_port_box │\u001b[1m out_port_type │\n",
       "├─────────┼──────────────┼───────────────┤\n",
       "│       1 │            1 │           LRN │\n",
       "│       2 │            2 │       ODEProb │\n",
       "│       3 │            3 │        ODESol │\n",
       "└─────────┴──────────────┴───────────────┘\n",
       "┌─────────────┬────────────────────┐\n",
       "│\u001b[1m OuterInPort │\u001b[1m outer_in_port_type │\n",
       "├─────────────┼────────────────────┤\n",
       "│           1 │               File │\n",
       "│           2 │              TSpan │\n",
       "└─────────────┴────────────────────┘\n",
       "┌──────────────┬─────────────────────┐\n",
       "│\u001b[1m OuterOutPort │\u001b[1m outer_out_port_type │\n",
       "├──────────────┼─────────────────────┤\n",
       "│            1 │              ODESol │\n",
       "└──────────────┴─────────────────────┘\n",
       "┌──────┬─────┬─────┬────────────┐\n",
       "│\u001b[1m Wire │\u001b[1m src │\u001b[1m tgt │\u001b[1m wire_value │\n",
       "├──────┼─────┼─────┼────────────┤\n",
       "│    1 │   1 │   2 │    nothing │\n",
       "│    2 │   2 │   4 │    nothing │\n",
       "└──────┴─────┴─────┴────────────┘\n",
       "┌────────┬────────┬────────┬───────────────┐\n",
       "│\u001b[1m InWire │\u001b[1m in_src │\u001b[1m in_tgt │\u001b[1m in_wire_value │\n",
       "├────────┼────────┼────────┼───────────────┤\n",
       "│      1 │      1 │      1 │       nothing │\n",
       "│      2 │      2 │      3 │       nothing │\n",
       "└────────┴────────┴────────┴───────────────┘\n",
       "┌─────────┬─────────┬─────────┬────────────────┐\n",
       "│\u001b[1m OutWire │\u001b[1m out_src │\u001b[1m out_tgt │\u001b[1m out_wire_value │\n",
       "├─────────┼─────────┼─────────┼────────────────┤\n",
       "│       1 │       3 │       1 │        nothing │\n",
       "└─────────┴─────────┴─────────┴────────────────┘\n"
      ]
     },
     "execution_count": 27,
     "metadata": {},
     "output_type": "execute_result"
    }
   ],
   "source": [
    "# Read in wiring diagram acset from file\n",
    "rt_wd_acset = read_json_acset(WiringDiagramACSet{Any,Any,Any,DataType},\"diagram_load_form_sim.json\")\n",
    "# rt_wd_acset = parse_json_acset(WiringDiagramACSet{Any,Any,Any,DataType},JSON.parsefile(\"diagram_load_form_sim.json\"))"
   ]
  },
  {
   "cell_type": "code",
   "execution_count": 28,
   "id": "e9331e1e-dde1-4113-bd1b-0cf04c029d3b",
   "metadata": {},
   "outputs": [
    {
     "data": {
      "text/plain": [
       "true"
      ]
     },
     "execution_count": 28,
     "metadata": {},
     "output_type": "execute_result"
    }
   ],
   "source": [
    "# Check equality of read-in wd-acset to original\n",
    "rt_wd_acset == load_form_sim.diagram"
   ]
  },
  {
   "cell_type": "code",
   "execution_count": 29,
   "id": "522898de-2324-48ca-aee6-d1daa2c0b431",
   "metadata": {},
   "outputs": [
    {
     "data": {
      "text/plain": [
       "WiringDiagram{ThBiproductCategory}([:File,:TSpan], [:ODESol], \n",
       "[ -2 => {inputs},\n",
       "  -1 => {outputs},\n",
       "  1 => Box(:MTKLoadLRN, [:File], [:LRN]),\n",
       "  2 => Box(:MTKFormODEProb, [:LRN,:TSpan], [:ODEProb]),\n",
       "  3 => Box(:MTKSolveODE, [:ODEProb], [:ODESol]) ],\n",
       "[ Wire((-2,1) => (1,1)),\n",
       "  Wire((-2,2) => (2,2)),\n",
       "  Wire((1,1) => (2,1)),\n",
       "  Wire((2,1) => (3,1)),\n",
       "  Wire((3,1) => (-1,1)) ])"
      ]
     },
     "execution_count": 29,
     "metadata": {},
     "output_type": "execute_result"
    }
   ],
   "source": [
    "# Form roundtrip wiring diagram from read-in wd acset\n",
    "load_form_sim_roundtrip = WiringDiagram{ThBiproductCategory,Any,Any,Any}(rt_wd_acset,nothing)"
   ]
  },
  {
   "cell_type": "code",
   "execution_count": 30,
   "id": "bcd45d59-380d-47bb-a0b3-573019dfef3d",
   "metadata": {},
   "outputs": [
    {
     "data": {
      "text/plain": [
       "true"
      ]
     },
     "execution_count": 30,
     "metadata": {},
     "output_type": "execute_result"
    }
   ],
   "source": [
    "# Check equality of roundtrip wiring diagram to original\n",
    "load_form_sim == load_form_sim_roundtrip"
   ]
  },
  {
   "cell_type": "code",
   "execution_count": 31,
   "id": "b2e09d81-bf1f-4acf-b870-ce66eeefc9c3",
   "metadata": {},
   "outputs": [
    {
     "data": {
      "text/plain": [
       "Graph(\"G\", true, \"dot\", Catlab.Graphics.Graphviz.Statement[Catlab.Graphics.Graphviz.Subgraph(\"\", Catlab.Graphics.Graphviz.Statement[Catlab.Graphics.Graphviz.Node(\"n0in1\", OrderedCollections.OrderedDict{Symbol, Union{String, Catlab.Graphics.Graphviz.Html}}(:id => \"in1\")), Catlab.Graphics.Graphviz.Node(\"n0in2\", OrderedCollections.OrderedDict{Symbol, Union{String, Catlab.Graphics.Graphviz.Html}}(:id => \"in2\")), Catlab.Graphics.Graphviz.Edge(Catlab.Graphics.Graphviz.NodeID[Catlab.Graphics.Graphviz.NodeID(\"n0in1\", \"\", \"\"), Catlab.Graphics.Graphviz.NodeID(\"n0in2\", \"\", \"\")], OrderedCollections.OrderedDict{Symbol, Union{String, Catlab.Graphics.Graphviz.Html}}())], OrderedCollections.OrderedDict{Symbol, Union{String, Catlab.Graphics.Graphviz.Html}}(:rank => \"source\", :rankdir => \"TB\"), OrderedCollections.OrderedDict{Symbol, Union{String, Catlab.Graphics.Graphviz.Html}}(:style => \"invis\", :shape => \"none\", :label => \"\", :width => \"0\", :height => \"0.333\"), OrderedCollections.OrderedDict{Symbol, Union{String, Catlab.Graphics.Graphviz.Html}}(:style => \"invis\")), Catlab.Graphics.Graphviz.Subgraph(\"\", Catlab.Graphics.Graphviz.Statement[Catlab.Graphics.Graphviz.Node(\"n0out1\", OrderedCollections.OrderedDict{Symbol, Union{String, Catlab.Graphics.Graphviz.Html}}(:id => \"out1\"))], OrderedCollections.OrderedDict{Symbol, Union{String, Catlab.Graphics.Graphviz.Html}}(:rank => \"sink\", :rankdir => \"TB\"), OrderedCollections.OrderedDict{Symbol, Union{String, Catlab.Graphics.Graphviz.Html}}(:style => \"invis\", :shape => \"none\", :label => \"\", :width => \"0\", :height => \"0.333\"), OrderedCollections.OrderedDict{Symbol, Union{String, Catlab.Graphics.Graphviz.Html}}(:style => \"invis\")), Catlab.Graphics.Graphviz.Node(\"n1\", OrderedCollections.OrderedDict{Symbol, Union{String, Catlab.Graphics.Graphviz.Html}}(:color => \"black\", :comment => \"MTKLoadLRN\", :fillcolor => \"white\", :id => \"n1\", :label => Catlab.Graphics.Graphviz.Html(\"<TABLE BORDER=\\\"0\\\" CELLPADDING=\\\"0\\\" CELLSPACING=\\\"0\\\">\\n<TR>\\n<TD><TABLE BORDER=\\\"0\\\" CELLPADDING=\\\"0\\\" CELLSPACING=\\\"0\\\"><TR><TD HEIGHT=\\\"24\\\" WIDTH=\\\"0\\\" PORT=\\\"in1\\\"></TD></TR></TABLE></TD>\\n<TD BORDER=\\\"1\\\" CELLPADDING=\\\"4\\\">MTKLoadLRN</TD>\\n<TD><TABLE BORDER=\\\"0\\\" CELLPADDING=\\\"0\\\" CELLSPACING=\\\"0\\\"><TR><TD HEIGHT=\\\"24\\\" WIDTH=\\\"0\\\" PORT=\\\"out1\\\"></TD></TR></TABLE></TD>\\n</TR>\\n</TABLE>\"), :style => \"solid\")), Catlab.Graphics.Graphviz.Node(\"n2\", OrderedCollections.OrderedDict{Symbol, Union{String, Catlab.Graphics.Graphviz.Html}}(:color => \"black\", :comment => \"MTKFormODEProb\", :fillcolor => \"white\", :id => \"n2\", :label => Catlab.Graphics.Graphviz.Html(\"<TABLE BORDER=\\\"0\\\" CELLPADDING=\\\"0\\\" CELLSPACING=\\\"0\\\">\\n<TR>\\n<TD><TABLE BORDER=\\\"0\\\" CELLPADDING=\\\"0\\\" CELLSPACING=\\\"0\\\"><TR><TD HEIGHT=\\\"24\\\" WIDTH=\\\"0\\\" PORT=\\\"in1\\\"></TD></TR><TR><TD HEIGHT=\\\"24\\\" WIDTH=\\\"0\\\" PORT=\\\"in2\\\"></TD></TR></TABLE></TD>\\n<TD BORDER=\\\"1\\\" CELLPADDING=\\\"4\\\">MTKFormODEProb</TD>\\n<TD><TABLE BORDER=\\\"0\\\" CELLPADDING=\\\"0\\\" CELLSPACING=\\\"0\\\"><TR><TD HEIGHT=\\\"24\\\" WIDTH=\\\"0\\\" PORT=\\\"out1\\\"></TD></TR></TABLE></TD>\\n</TR>\\n</TABLE>\"), :style => \"solid\")), Catlab.Graphics.Graphviz.Node(\"n3\", OrderedCollections.OrderedDict{Symbol, Union{String, Catlab.Graphics.Graphviz.Html}}(:color => \"black\", :comment => \"MTKSolveODE\", :fillcolor => \"white\", :id => \"n3\", :label => Catlab.Graphics.Graphviz.Html(\"<TABLE BORDER=\\\"0\\\" CELLPADDING=\\\"0\\\" CELLSPACING=\\\"0\\\">\\n<TR>\\n<TD><TABLE BORDER=\\\"0\\\" CELLPADDING=\\\"0\\\" CELLSPACING=\\\"0\\\"><TR><TD HEIGHT=\\\"24\\\" WIDTH=\\\"0\\\" PORT=\\\"in1\\\"></TD></TR></TABLE></TD>\\n<TD BORDER=\\\"1\\\" CELLPADDING=\\\"4\\\">MTKSolveODE</TD>\\n<TD><TABLE BORDER=\\\"0\\\" CELLPADDING=\\\"0\\\" CELLSPACING=\\\"0\\\"><TR><TD HEIGHT=\\\"24\\\" WIDTH=\\\"0\\\" PORT=\\\"out1\\\"></TD></TR></TABLE></TD>\\n</TR>\\n</TABLE>\"), :style => \"solid\")), Catlab.Graphics.Graphviz.Edge(Catlab.Graphics.Graphviz.NodeID[Catlab.Graphics.Graphviz.NodeID(\"n0in1\", \"e\", \"\"), Catlab.Graphics.Graphviz.NodeID(\"n1\", \"in1\", \"w\")], OrderedCollections.OrderedDict{Symbol, Union{String, Catlab.Graphics.Graphviz.Html}}(:comment => \"File\", :id => \"e1\", :xlabel => \"File\")), Catlab.Graphics.Graphviz.Edge(Catlab.Graphics.Graphviz.NodeID[Catlab.Graphics.Graphviz.NodeID(\"n0in2\", \"e\", \"\"), Catlab.Graphics.Graphviz.NodeID(\"n2\", \"in2\", \"w\")], OrderedCollections.OrderedDict{Symbol, Union{String, Catlab.Graphics.Graphviz.Html}}(:comment => \"TSpan\", :id => \"e2\", :xlabel => \"TSpan\")), Catlab.Graphics.Graphviz.Edge(Catlab.Graphics.Graphviz.NodeID[Catlab.Graphics.Graphviz.NodeID(\"n1\", \"out1\", \"e\"), Catlab.Graphics.Graphviz.NodeID(\"n2\", \"in1\", \"w\")], OrderedCollections.OrderedDict{Symbol, Union{String, Catlab.Graphics.Graphviz.Html}}(:comment => \"LRN\", :id => \"e3\", :xlabel => \"LRN\")), Catlab.Graphics.Graphviz.Edge(Catlab.Graphics.Graphviz.NodeID[Catlab.Graphics.Graphviz.NodeID(\"n2\", \"out1\", \"e\"), Catlab.Graphics.Graphviz.NodeID(\"n3\", \"in1\", \"w\")], OrderedCollections.OrderedDict{Symbol, Union{String, Catlab.Graphics.Graphviz.Html}}(:comment => \"ODEProb\", :id => \"e4\", :xlabel => \"ODEProb\")), Catlab.Graphics.Graphviz.Edge(Catlab.Graphics.Graphviz.NodeID[Catlab.Graphics.Graphviz.NodeID(\"n3\", \"out1\", \"e\"), Catlab.Graphics.Graphviz.NodeID(\"n0out1\", \"w\", \"\")], OrderedCollections.OrderedDict{Symbol, Union{String, Catlab.Graphics.Graphviz.Html}}(:comment => \"ODESol\", :id => \"e5\", :xlabel => \"ODESol\"))], OrderedCollections.OrderedDict{Symbol, Union{String, Catlab.Graphics.Graphviz.Html}}(:fontname => \"Serif\", :rankdir => \"LR\"), OrderedCollections.OrderedDict{Symbol, Union{String, Catlab.Graphics.Graphviz.Html}}(:fontname => \"Courier\", :shape => \"none\", :width => \"0\", :height => \"0\", :margin => \"0\"), OrderedCollections.OrderedDict{Symbol, Union{String, Catlab.Graphics.Graphviz.Html}}(:arrowsize => \"0.5\", :fontname => \"Courier\"))"
      ]
     },
     "execution_count": 31,
     "metadata": {},
     "output_type": "execute_result"
    }
   ],
   "source": [
    "# Visualize simulation plan\n",
    "draw(load_form_sim_roundtrip)"
   ]
  },
  {
   "cell_type": "code",
   "execution_count": 35,
   "id": "468acbfb-0979-49bc-a6c6-2d9db4014a6f",
   "metadata": {},
   "outputs": [
    {
     "data": {
      "text/plain": [
       "function = (x1, x2;) -> begin\n",
       "    begin\n",
       "        v1 = (Main).MTKLoadLRN(x1)\n",
       "        v2 = (Main).MTKFormODEProb(v1, x2)\n",
       "        v3 = (Main).MTKSolveODE(v2)\n",
       "        return v3\n",
       "    end\n",
       "end"
      ]
     },
     "execution_count": 35,
     "metadata": {},
     "output_type": "execute_result"
    }
   ],
   "source": [
    "# Generate Julia function that executes simulation plan\n",
    "mtk_hom_expr = to_hom_expr(FreeBiproductCategory,load_form_sim_roundtrip)\n",
    "mtk_jfunc = Catlab.Programs.GenerateJuliaPrograms.compile(mtk_hom_expr)"
   ]
  },
  {
   "cell_type": "code",
   "execution_count": 36,
   "id": "a93434e3-9ce5-4596-8142-a2a9388d6822",
   "metadata": {},
   "outputs": [],
   "source": [
    "# Expected output\n",
    "#=  === mtk_jfunc == \n",
    "function = (x1, x2;) -> begin\n",
    "    begin\n",
    "        v1 = (Main).MTKLoadLRN(x1)\n",
    "        v2 = (Main).MTKFormODEProb(v1, x2)\n",
    "        v3 = (Main).MTKSolveODE(v2)\n",
    "        return v3\n",
    "    end\n",
    "end\n",
    "=#"
   ]
  },
  {
   "cell_type": "code",
   "execution_count": 37,
   "id": "37abbfb3-adb6-4348-a2aa-49c6c9de0bba",
   "metadata": {},
   "outputs": [
    {
     "name": "stdout",
     "output_type": "stream",
     "text": [
      "varnames = bn[:variable] = [:S_City1, :E_City1, :I_City1, :A_City1, :SQ_City1, :H_City1, :R_City1, :EQ_City1, :D_City1, :S_City2, :E_City2, :I_City2, :A_City2, :SQ_City2, :H_City2, :R_City2, :EQ_City2, :D_City2]\n"
     ]
    },
    {
     "data": {
      "text/plain": [
       "retcode: Success\n",
       "Interpolation: specialized 4th order \"free\" interpolation\n",
       "t: 110-element Vector{Float64}:\n",
       "  0.0\n",
       "  7.970522410015634e-6\n",
       "  8.767574651017196e-5\n",
       "  0.0008847279875117352\n",
       "  0.008855250397527367\n",
       "  0.032263973511868105\n",
       "  0.06980567061637252\n",
       "  0.11988230539507619\n",
       "  0.18383158473473754\n",
       "  0.26358640233254044\n",
       "  0.36208243599029427\n",
       "  0.4808965281035089\n",
       "  0.6202040888566542\n",
       "  ⋮\n",
       " 27.591378342734664\n",
       " 28.841252138011964\n",
       " 30.21526349928272\n",
       " 31.735033026154802\n",
       " 33.427483871703174\n",
       " 35.32636432019689\n",
       " 37.474136421486\n",
       " 39.924147535656104\n",
       " 42.742613428972554\n",
       " 46.00787114934658\n",
       " 49.801574346321964\n",
       " 50.0\n",
       "u: 110-element Vector{Vector{Float64}}:\n",
       " [999.0, 0.0, 1.0, 0.0, 0.0, 0.0, 0.0, 0.0, 0.0, 1000.0, 0.0, 0.0, 0.0, 0.0, 0.0, 0.0, 0.0, 0.0]\n",
       " [998.9974146629728, 0.0003298627042708649, 0.9999968795283375, 2.00488908777486e-10, 0.0014625571331562442, 1.7420860490819836e-6, 9.894500934739281e-10, 0.000866078348361747, 1.0643056912836755e-6, 999.999926837436, 1.0357158273119205e-10, 3.13825600388478e-7, 6.293976879990513e-17, 2.297245782258409e-10, 2.7332537129073025e-13, 3.1051562621920057e-16, 1.360353694679725e-10, 1.670036225788369e-13]\n",
       " [998.9715622398136, 0.0036283427970087963, 0.9999656910596767, 2.4258313772588934e-8, 0.016087599732131575, 1.9227852134226226e-5, 1.0884061289570551e-8, 0.009526524812294306, 1.1707180014414252e-5, 999.999195122797, 1.2531754469201684e-8, 3.4519726814561874e-6, 8.377023773682857e-14, 2.7795995405200757e-8, 3.3146780290195566e-11, 3.757262138105743e-14, 1.6459850396356337e-8, 2.0207013219722676e-11]\n",
       " [998.7131324529902, 0.03659851476867085, 0.9996554305126436, 2.4692805601151715e-6, 0.16228525241957611, 0.00020057447353058442, 1.1000674821392872e-7, 0.09609738973832822, 0.00011811772827115477, 999.9918690789316, 1.2756517842063429e-6, 3.482260783613918e-5, 8.604913127752601e-11, 2.8296787994395775e-6, 3.450974623158448e-9, 3.83188461254165e-12, 1.6756134109092014e-6, 2.057177142172368e-9]\n",
       " [996.1380141132561, 0.3649029953928457, 0.9967145984910084, 0.00024653706780558104, 1.6190838083664307, 0.0026613762473355895, 1.2839569269568172e-6, 0.9585477339281183, 0.0011804675189641463, 999.9177212017981, 0.00012740446855418044, 0.0003475018192094773, 8.60231295050869e-8, 0.0002828112589470423, 4.214826248229346e-7, 4.474702337475049e-10, 0.00016745280302842293, 2.05673273252652e-7]\n",
       " [988.6616786397935, 1.3168764539050608, 0.9897558257764376, 0.0032432979751193672, 5.846864915142572, 0.016638441476822176, 1.290039643881082e-5, 3.4610479510896326, 0.00428445546139279, 999.6907035594676, 0.0016791356825726367, 0.0012571485641788987, 4.127832237210696e-6, 0.003731521971500501, 8.534714937590225e-6, 1.6382220319338255e-8, 0.0022103579390241, 2.7164287309439875e-6]\n",
       " [976.877528577696, 2.8212530700976433, 0.9837060466659322, 0.015004685412977633, 12.492975421705038, 0.05979122999618405, 9.792553716413413e-5, 7.40399627352079, 0.00922831967453537, 999.2981428460317, 0.00781263212198307, 0.0027029498219020226, 4.139199919154442e-5, 0.01734222749126622, 6.192734205367306e-5, 2.6936447427567656e-7, 0.01030156079852625, 1.2644722562555129e-5]\n",
       " [961.3685861199947, 4.830796352812952, 0.985227155083861, 0.04379132386845834, 21.16971292657453, 0.15659077538529814, 0.0004625815159014651, 12.599309812918507, 0.015805218923367198, 998.7200701416538, 0.02309516971968607, 0.004648843156768291, 0.00020797888915083143, 0.05090951184283317, 0.0002696176477323096, 2.1885304438653923e-6, 0.030477083034237146, 3.719844770457304e-5]\n",
       " [941.5197007681162, 7.498420024110981, 1.0031120419571677, 0.10244431527276708, 32.081563852615666, 0.34538162443256687, 0.001624776698431346, 19.27716674475096, 0.024282001495323995, 997.8889325742014, 0.05538067046746297, 0.007259877907599358, 0.0007486530917037031, 0.11997694907903317, 0.0009026475739778998, 1.1810572445655804e-5, 0.0730027671350208, 8.790052119308932e-5]\n",
       " [915.9518595630727, 11.167623926709142, 1.0516427703456712, 0.21188258715649505, 45.696592494915556, 0.6860959578483973, 0.004745593141282741, 27.957483068002748, 0.03519707113504205, 996.693697023751, 0.11957323774547463, 0.010925542787615398, 0.0022313756346732786, 0.25060841143567025, 0.002592034604533844, 4.959583291104859e-5, 0.15701553233120202, 0.0001842135497448296]\n",
       " [881.7419543663044, 16.56336099029964, 1.1566078967542166, 0.4099335670073894, 63.01799122404257, 1.2802728708668616, 0.01236636212941104, 39.74446315035385, 0.04966154592547995, 994.929952674086, 0.2479113594886521, 0.01656179008527268, 0.005977237682932342, 0.49225949265355146, 0.006833894214642484, 0.00017825868332743504, 0.3233500410761723, 0.0003632783454861356]\n",
       " [834.0782476525068, 24.95910013620203, 1.3638067196975447, 0.7624990674150859, 85.54548097822341, 2.2889281316665184, 0.02967004583410476, 56.487538260304504, 0.06952814243703423, 992.2438892505875, 0.5107237263293672, 0.02615640761742644, 0.014961170547128165, 0.940167832110045, 0.017108882790774944, 0.0005717715809952066, 0.6609247962958229, 0.0006970278538482326]\n",
       " [765.0536896955217, 38.455873058444986, 1.7539333525574152, 1.3853312326244178, 115.69074776659858, 3.970537501959012, 0.06675639093744826, 81.22783162633291, 0.09824951757938183, 987.9403512652273, 1.0657567621688815, 0.0442030752356196, 0.03585775707836639, 1.7935968216834695, 0.04161009427230439, 0.0016776578367386124, 1.3726596264535855, 0.0013367974877920138]\n",
       " ⋮\n",
       " [2.336397125302136, 10.234017956427778, 4.164403100649502, 9.381200902845686, 56.527505088621105, 671.9734383157494, 226.6695631061963, 28.095945516253256, 60.32747165517272, 2.372988519224673, 8.567416227550376, 3.4698665619074234, 7.811114035130488, 48.26436021676699, 593.872502054262, 188.0382060127469, 24.71863278843202, 53.17497081676112]\n",
       " [2.361095838393349, 9.26537941001647, 3.7516406766341404, 8.424907896411979, 51.360051775487825, 678.6387842643527, 229.86081745153385, 25.341947463191342, 61.001167426392655, 2.3986265166923793, 7.748831927655116, 3.122183549425769, 7.004144493825652, 43.836609270196746, 599.6749133009653, 190.26797888308394, 22.20424861887689, 53.73667123686378]\n",
       " [2.3847581218053597, 8.311744701376323, 3.350521594300955, 7.498877737122517, 46.227021069880585, 685.1989311596933, 233.01756406855577, 22.645767480613426, 61.66723656443686, 2.4224010082243375, 6.94403134886117, 2.7852380906307457, 6.225600762779701, 39.43869984092897, 605.3639437078945, 192.46765059369199, 19.758543869231275, 54.291468279972065]\n",
       " [2.4073046313607827, 7.376056250844027, 2.961523884108369, 6.6051380288210435, 41.149373507670624, 691.6266510320812, 236.1324102677057, 20.016820551341183, 62.32392066763019, 2.444120073704681, 6.155270502395151, 2.4592053317762597, 5.4765622668982905, 35.088532944633705, 610.9161759412546, 194.63363269299856, 17.389336156670996, 54.83796526810456]\n",
       " [2.4286903038642986, 6.46221157270467, 2.5854823942089693, 5.746165844715324, 36.153135159145116, 697.8880751570965, 239.19609255780395, 17.466543222958148, 62.9689031601682, 2.4635842253334768, 5.38564160180479, 2.144589246261644, 4.758524798742371, 30.80835545458467, 616.3025769258004, 196.76116258677533, 15.105981602571859, 55.37428418546023]\n",
       " [2.4489135727765143, 5.575293662400825, 2.2237123020745044, 4.925124469328067, 31.27085526691737, 703.9408005189562, 242.19685614984988, 15.008958171885062, 63.599146981209536, 2.4805704064085545, 4.639268136426129, 1.8423268429116386, 4.0736117220726396, 26.626023165930633, 621.4868880682062, 198.84389245495342, 12.919828727332101, 55.89792938036076]\n",
       " [2.468030025636281, 4.721848332254056, 1.8781489912930576, 4.146156998519198, 26.543396986959028, 709.731570626784, 245.11969389168283, 12.661363263127152, 64.21069995277823, 2.4948066709244774, 3.921541902896073, 1.5539051694313097, 3.4248312620777166, 22.576555416424508, 626.4236566540408, 200.87338769035324, 10.844781213101092, 56.40562495171697]\n",
       " [2.4861752981145226, 3.9101892188186347, 1.5514923744940332, 3.4147176695572066, 22.021928941433686, 715.1936925653089, 247.94550246292326, 10.445087902003793, 64.79848239998468, 2.5059352369659784, 3.2393868735103797, 1.2814816318782, 2.8163636009430904, 18.703870434851872, 631.0560555989155, 202.8385720804093, 8.8979270668224, 56.89313864306463]\n",
       " [2.503604179301979, 3.1506809923162242, 1.2473321656422338, 2.73789530801326, 17.76978203758604, 720.2446214413144, 250.650270563476, 8.386183093443686, 65.35608894585877, 2.5134624322135557, 2.601508982089891, 1.0279885952230359, 2.2538394738573033, 15.062417063972275, 635.3138829506448, 204.72518859713003, 7.100132660515444, 57.35512051740102]\n",
       " [2.5207469841705716, 2.4560640356259626, 0.9702776179870629, 2.1247834545976887, 13.86443026772433, 724.7835883312497, 253.20382750773314, 6.516227924127404, 65.87553372212061, 2.51669927999615, 2.018683392916667, 0.7972420036951151, 1.7446545057950924, 11.71892497312856, 639.1117210467906, 206.5149121531111, 5.4767806876385725, 57.784902111591656]\n",
       " [2.5382730288331357, 1.841358874267864, 0.7259094801018772, 1.5864873023291324, 10.396878103846335, 728.6931789102491, 255.56900119656953, 4.872040550996858, 66.34719429160538, 2.5147298370835105, 1.5036826642828724, 0.5939005317607298, 1.297974977356223, 8.751931367500282, 642.3507700697664, 208.18460414224748, 4.057607961298634, 58.174476709904575]\n",
       " [2.539124412654492, 1.8138974985925267, 0.7150018656689875, 1.5625148703690162, 10.241702793930298, 728.8644512223827, 255.67807184776382, 4.798807834367801, 66.36864803940685, 2.514486265377685, 1.4806923187013608, 0.5848338363126439, 1.2780977655841412, 8.61921238360259, 642.4917109362408, 208.26198101615034, 3.994588122351293, 58.192176970542555]"
      ]
     },
     "execution_count": 37,
     "metadata": {},
     "output_type": "execute_result"
    }
   ],
   "source": [
    "# Apply generated function to lrxnet from MIRA integration demo\n",
    "mtk_ode_sol = mtk_jfunc(joinpath(@__DIR__, \".\", \"lrxnet_Mira_TC_est.json\"),(0,50))"
   ]
  },
  {
   "cell_type": "code",
   "execution_count": null,
   "id": "59e1e755-ec74-47a8-b7ec-0cdcaa6641d9",
   "metadata": {},
   "outputs": [],
   "source": []
  }
 ],
 "metadata": {
  "kernelspec": {
   "display_name": "Julia 1.7.3",
   "language": "julia",
   "name": "julia-1.7"
  },
  "language_info": {
   "file_extension": ".jl",
   "mimetype": "application/julia",
   "name": "julia",
   "version": "1.7.3"
  }
 },
 "nbformat": 4,
 "nbformat_minor": 5
}
