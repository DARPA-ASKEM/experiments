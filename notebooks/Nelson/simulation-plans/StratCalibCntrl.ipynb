{
 "cells": [
  {
   "cell_type": "code",
   "execution_count": 1,
   "id": "65cad69d-4e7f-4e0a-a1f9-669cc55a3f87",
   "metadata": {},
   "outputs": [],
   "source": [
    "using Catlab, Catlab.Theories\n",
    "using Catlab.CategoricalAlgebra\n",
    "using Catlab.Graphics\n",
    "using Catlab.Graphics: Graphviz\n",
    "import Catlab.CategoricalAlgebra: migrate!\n",
    "using Catlab.WiringDiagrams\n",
    "using Catlab.Programs\n",
    "using Catlab.Programs.RelationalPrograms"
   ]
  },
  {
   "cell_type": "code",
   "execution_count": 2,
   "id": "346d105c-f6e0-448d-8d3d-29e18c2148cd",
   "metadata": {},
   "outputs": [
    {
     "data": {
      "text/plain": [
       "draw (generic function with 1 method)"
      ]
     },
     "execution_count": 2,
     "metadata": {},
     "output_type": "execute_result"
    }
   ],
   "source": [
    "draw(d::WiringDiagram) = to_graphviz(d,\n",
    "    orientation=LeftToRight,\n",
    "    labels=true, label_attr=:xlabel,\n",
    "    node_attrs=Graphviz.Attributes(\n",
    "      :fontname => \"Courier\",\n",
    "    ),\n",
    "    edge_attrs=Graphviz.Attributes(\n",
    "      :fontname => \"Courier\",\n",
    "    )\n",
    ")"
   ]
  },
  {
   "cell_type": "code",
   "execution_count": 3,
   "id": "fb8d7cc7-64fa-44ed-9b89-8953211e2a85",
   "metadata": {},
   "outputs": [
    {
     "data": {
      "text/plain": [
       "Presentation{ThBiproductCategory, Symbol}(Catlab.Theories.FreeBiproductCategory, (Ob = Catlab.Theories.FreeBiproductCategory.Ob{:generator}[File, LRN, LPN, TypedLPN, StrataSpec, LPNss, ObsFunc, ParamVec, StateVec, TSpan, NumTS, SampleData, SampleTimes, ODEProb, ODESol, Labels, Loss], Hom = Catlab.Theories.FreeBiproductCategory.Hom{:generator}[LoadLRN, Homomorph, StrataSpecify, Stratify, GenerateData, Calibrate]), Dict(:ODESol => (:Ob => 15), :Homomorph => (:Hom => 2), :ODEProb => (:Ob => 14), :StrataSpecify => (:Hom => 3), :SampleData => (:Ob => 12), :LRN => (:Ob => 2), :LPN => (:Ob => 3), :Labels => (:Ob => 16), :LoadLRN => (:Hom => 1), :LPNss => (:Ob => 6)…), Pair[])"
      ]
     },
     "execution_count": 3,
     "metadata": {},
     "output_type": "execute_result"
    }
   ],
   "source": [
    "# Form Workflow presentation of FreeBiproductCategory\n",
    "@present Workflow(FreeBiproductCategory) begin\n",
    "    (File,LRN,LPN,TypedLPN,StrataSpec,LPNss,ObsFunc,ParamVec,StateVec,TSpan,NumTS,SampleData,SampleTimes,ODEProb,ODESol,Labels,Loss)::Ob \n",
    "    LoadLRN::Hom(File,LRN)\n",
    "    \n",
    "    Homomorph::Hom(LPN⊗LPN,TypedLPN)\n",
    "    StrataSpecify::Hom(TypedLPN⊗StrataSpec,LPNss)\n",
    "    Stratify::Hom(LPNss⊗LPNss⊗LPN,LPN⊗ObsFunc) \n",
    "\n",
    "    GenerateData::Hom(LPN⊗ObsFunc⊗ParamVec⊗StateVec⊗TSpan⊗NumTS,SampleData⊗SampleTimes⊗ODEProb⊗ODESol⊗SampleData⊗Labels)\n",
    "    Calibrate::Hom(LPN⊗ObsFunc⊗StateVec⊗ParamVec⊗SampleData⊗SampleTimes,ParamVec⊗ODESol⊗Loss)\n",
    "\n",
    "    # FormControl\n",
    "end"
   ]
  },
  {
   "cell_type": "code",
   "execution_count": 4,
   "id": "c0999a54-5f2d-4676-b33a-544e55a4568d",
   "metadata": {},
   "outputs": [
    {
     "data": {
      "text/plain": [
       "WiringDiagram{ThBiproductCategory}([:File,:File,:File,:StrataSpec,:StrataSpec,:ParamVec,:StateVec,:TSpan,:NumTS,:ParamVec], [:ParamVec,:ODESol,:Loss,:LPN,:ObsFunc,:SampleData,:SampleTimes,:ODEProb,:ODESol,:SampleData,:Labels], \n",
       "[ -2 => {inputs},\n",
       "  -1 => {outputs},\n",
       "  1 => Box(:LoadLRN, [:File], [:LRN]),\n",
       "  2 => Box(:LoadLRN, [:File], [:LRN]),\n",
       "  3 => Box(:LoadLRN, [:File], [:LRN]),\n",
       "  4 => Box(:Homomorph, [:LPN,:LPN], [:TypedLPN]),\n",
       "  5 => Box(:Homomorph, [:LPN,:LPN], [:TypedLPN]),\n",
       "  6 => Box(:StrataSpecify, [:TypedLPN,:StrataSpec], [:LPNss]),\n",
       "  7 => Box(:StrataSpecify, [:TypedLPN,:StrataSpec], [:LPNss]),\n",
       "  8 => Box(:Stratify, [:LPNss,:LPNss,:LPN], [:LPN,:ObsFunc]),\n",
       "  9 => Box(:GenerateData, [:LPN,:ObsFunc,:ParamVec,:StateVec,:TSpan,:NumTS], [:SampleData,:SampleTimes,:ODEProb,:ODESol,:SampleData,:Labels]),\n",
       "  10 => Box(:Calibrate, [:LPN,:ObsFunc,:StateVec,:ParamVec,:SampleData,:SampleTimes], [:ParamVec,:ODESol,:Loss]) ],\n",
       "[ Wire((-2,1) => (1,1)),\n",
       "  Wire((-2,2) => (2,1)),\n",
       "  Wire((-2,3) => (3,1)),\n",
       "  Wire((-2,4) => (6,2)),\n",
       "  Wire((-2,5) => (7,2)),\n",
       "  Wire((-2,6) => (9,3)),\n",
       "  Wire((-2,7) => (9,4)),\n",
       "  Wire((-2,8) => (9,5)),\n",
       "  Wire((-2,9) => (9,6)),\n",
       "  Wire((-2,7) => (10,3)),\n",
       "  Wire((-2,10) => (10,4)),\n",
       "  Wire((9,1) => (10,5)),\n",
       "  Wire((4,1) => (6,1)),\n",
       "  Wire((3,1) => (4,2)),\n",
       "  Wire((8,1) => (9,1)),\n",
       "  Wire((5,1) => (7,1)),\n",
       "  Wire((8,1) => (10,1)),\n",
       "  Wire((9,2) => (10,6)),\n",
       "  Wire((6,1) => (8,1)),\n",
       "  Wire((8,2) => (9,2)),\n",
       "  Wire((7,1) => (8,2)),\n",
       "  Wire((3,1) => (5,2)),\n",
       "  Wire((3,1) => (8,3)),\n",
       "  Wire((1,1) => (4,1)),\n",
       "  Wire((8,2) => (10,2)),\n",
       "  Wire((2,1) => (5,1)),\n",
       "  Wire((8,1) => (-1,4)),\n",
       "  Wire((8,2) => (-1,5)),\n",
       "  Wire((9,1) => (-1,6)),\n",
       "  Wire((9,2) => (-1,7)),\n",
       "  Wire((9,3) => (-1,8)),\n",
       "  Wire((9,4) => (-1,9)),\n",
       "  Wire((9,5) => (-1,10)),\n",
       "  Wire((9,6) => (-1,11)),\n",
       "  Wire((10,1) => (-1,1)),\n",
       "  Wire((10,2) => (-1,2)),\n",
       "  Wire((10,3) => (-1,3)) ])"
      ]
     },
     "execution_count": 4,
     "metadata": {},
     "output_type": "execute_result"
    }
   ],
   "source": [
    "# Form wiring diagram of load_stratify_calibrate_control Workflow\n",
    "load_stratify_calibrate_control = @program Workflow (f_disease::File,f_strat::File,f_type::File,\n",
    "                                                        spec_disease::StrataSpec,spec_strat::StrataSpec,\n",
    "                                                        true_p::ParamVec,true_u0::StateVec,tspan::TSpan,num_ts::NumTS,\n",
    "                                                        p_init::ParamVec) begin # \n",
    "    mdl_disease = LoadLRN(f_disease)\n",
    "    mdl_strat = LoadLRN(f_strat)\n",
    "    mdl_type = LoadLRN(f_type)\n",
    "\n",
    "    # Form stratified model\n",
    "    mdl_disease_typed = Homomorph(mdl_disease,mdl_type)\n",
    "    mdl_strat_typed = Homomorph(mdl_strat,mdl_type)\n",
    "    disease_ss = StrataSpecify(mdl_disease_typed,spec_disease)\n",
    "    strat_ss = StrataSpecify(mdl_strat_typed,spec_strat)\n",
    "    mdl_stratified, obs_func = Stratify(disease_ss,strat_ss,mdl_type) \n",
    "\n",
    "    # Simulate data\n",
    "    sample_data, sample_times, prob_true, sol_true, noiseless_data, data_labels = GenerateData(mdl_stratified, obs_func, true_p, true_u0, tspan, num_ts)\n",
    "\n",
    "    # Calibrate\n",
    "    p_est, sol_est, loss = Calibrate(mdl_stratified, obs_func, true_u0, p_init, sample_data, sample_times)\n",
    "\n",
    "    # Form controler\n",
    "\n",
    "    return  p_est, sol_est, loss, mdl_stratified, obs_func, sample_data, sample_times, prob_true, sol_true, noiseless_data, data_labels\n",
    "end"
   ]
  },
  {
   "cell_type": "code",
   "execution_count": 5,
   "id": "64718d73-5f90-4108-a457-ef8a9da8938a",
   "metadata": {},
   "outputs": [
    {
     "data": {
      "text/plain": [
       "Catlab.Graphics.Graphviz.Graph(\"G\", true, \"dot\", Catlab.Graphics.Graphviz.Statement[Catlab.Graphics.Graphviz.Subgraph(\"\", Catlab.Graphics.Graphviz.Statement[Catlab.Graphics.Graphviz.Node(\"n0in1\", OrderedCollections.OrderedDict{Symbol, Union{String, Catlab.Graphics.Graphviz.Html}}(:id => \"in1\")), Catlab.Graphics.Graphviz.Node(\"n0in2\", OrderedCollections.OrderedDict{Symbol, Union{String, Catlab.Graphics.Graphviz.Html}}(:id => \"in2\")), Catlab.Graphics.Graphviz.Node(\"n0in3\", OrderedCollections.OrderedDict{Symbol, Union{String, Catlab.Graphics.Graphviz.Html}}(:id => \"in3\")), Catlab.Graphics.Graphviz.Node(\"n0in4\", OrderedCollections.OrderedDict{Symbol, Union{String, Catlab.Graphics.Graphviz.Html}}(:id => \"in4\")), Catlab.Graphics.Graphviz.Node(\"n0in5\", OrderedCollections.OrderedDict{Symbol, Union{String, Catlab.Graphics.Graphviz.Html}}(:id => \"in5\")), Catlab.Graphics.Graphviz.Node(\"n0in6\", OrderedCollections.OrderedDict{Symbol, Union{String, Catlab.Graphics.Graphviz.Html}}(:id => \"in6\")), Catlab.Graphics.Graphviz.Node(\"n0in7\", OrderedCollections.OrderedDict{Symbol, Union{String, Catlab.Graphics.Graphviz.Html}}(:id => \"in7\")), Catlab.Graphics.Graphviz.Node(\"n0in8\", OrderedCollections.OrderedDict{Symbol, Union{String, Catlab.Graphics.Graphviz.Html}}(:id => \"in8\")), Catlab.Graphics.Graphviz.Node(\"n0in9\", OrderedCollections.OrderedDict{Symbol, Union{String, Catlab.Graphics.Graphviz.Html}}(:id => \"in9\")), Catlab.Graphics.Graphviz.Node(\"n0in10\", OrderedCollections.OrderedDict{Symbol, Union{String, Catlab.Graphics.Graphviz.Html}}(:id => \"in10\")), Catlab.Graphics.Graphviz.Edge(Catlab.Graphics.Graphviz.NodeID[Catlab.Graphics.Graphviz.NodeID(\"n0in1\", \"\", \"\"), Catlab.Graphics.Graphviz.NodeID(\"n0in2\", \"\", \"\"), Catlab.Graphics.Graphviz.NodeID(\"n0in3\", \"\", \"\"), Catlab.Graphics.Graphviz.NodeID(\"n0in4\", \"\", \"\"), Catlab.Graphics.Graphviz.NodeID(\"n0in5\", \"\", \"\"), Catlab.Graphics.Graphviz.NodeID(\"n0in6\", \"\", \"\"), Catlab.Graphics.Graphviz.NodeID(\"n0in7\", \"\", \"\"), Catlab.Graphics.Graphviz.NodeID(\"n0in8\", \"\", \"\"), Catlab.Graphics.Graphviz.NodeID(\"n0in9\", \"\", \"\"), Catlab.Graphics.Graphviz.NodeID(\"n0in10\", \"\", \"\")], OrderedCollections.OrderedDict{Symbol, Union{String, Catlab.Graphics.Graphviz.Html}}())], OrderedCollections.OrderedDict{Symbol, Union{String, Catlab.Graphics.Graphviz.Html}}(:rank => \"source\", :rankdir => \"TB\"), OrderedCollections.OrderedDict{Symbol, Union{String, Catlab.Graphics.Graphviz.Html}}(:style => \"invis\", :shape => \"none\", :label => \"\", :width => \"0\", :height => \"0.333\"), OrderedCollections.OrderedDict{Symbol, Union{String, Catlab.Graphics.Graphviz.Html}}(:style => \"invis\")), Catlab.Graphics.Graphviz.Subgraph(\"\", Catlab.Graphics.Graphviz.Statement[Catlab.Graphics.Graphviz.Node(\"n0out1\", OrderedCollections.OrderedDict{Symbol, Union{String, Catlab.Graphics.Graphviz.Html}}(:id => \"out1\")), Catlab.Graphics.Graphviz.Node(\"n0out2\", OrderedCollections.OrderedDict{Symbol, Union{String, Catlab.Graphics.Graphviz.Html}}(:id => \"out2\")), Catlab.Graphics.Graphviz.Node(\"n0out3\", OrderedCollections.OrderedDict{Symbol, Union{String, Catlab.Graphics.Graphviz.Html}}(:id => \"out3\")), Catlab.Graphics.Graphviz.Node(\"n0out4\", OrderedCollections.OrderedDict{Symbol, Union{String, Catlab.Graphics.Graphviz.Html}}(:id => \"out4\")), Catlab.Graphics.Graphviz.Node(\"n0out5\", OrderedCollections.OrderedDict{Symbol, Union{String, Catlab.Graphics.Graphviz.Html}}(:id => \"out5\")), Catlab.Graphics.Graphviz.Node(\"n0out6\", OrderedCollections.OrderedDict{Symbol, Union{String, Catlab.Graphics.Graphviz.Html}}(:id => \"out6\")), Catlab.Graphics.Graphviz.Node(\"n0out7\", OrderedCollections.OrderedDict{Symbol, Union{String, Catlab.Graphics.Graphviz.Html}}(:id => \"out7\")), Catlab.Graphics.Graphviz.Node(\"n0out8\", OrderedCollections.OrderedDict{Symbol, Union{String, Catlab.Graphics.Graphviz.Html}}(:id => \"out8\")), Catlab.Graphics.Graphviz.Node(\"n0out9\", OrderedCollections.OrderedDict{Symbol, Union{String, Catlab.Graphics.Graphviz.Html}}(:id => \"out9\")), Catlab.Graphics.Graphviz.Node(\"n0out10\", OrderedCollections.OrderedDict{Symbol, Union{String, Catlab.Graphics.Graphviz.Html}}(:id => \"out10\")), Catlab.Graphics.Graphviz.Node(\"n0out11\", OrderedCollections.OrderedDict{Symbol, Union{String, Catlab.Graphics.Graphviz.Html}}(:id => \"out11\")), Catlab.Graphics.Graphviz.Edge(Catlab.Graphics.Graphviz.NodeID[Catlab.Graphics.Graphviz.NodeID(\"n0out1\", \"\", \"\"), Catlab.Graphics.Graphviz.NodeID(\"n0out2\", \"\", \"\"), Catlab.Graphics.Graphviz.NodeID(\"n0out3\", \"\", \"\"), Catlab.Graphics.Graphviz.NodeID(\"n0out4\", \"\", \"\"), Catlab.Graphics.Graphviz.NodeID(\"n0out5\", \"\", \"\"), Catlab.Graphics.Graphviz.NodeID(\"n0out6\", \"\", \"\"), Catlab.Graphics.Graphviz.NodeID(\"n0out7\", \"\", \"\"), Catlab.Graphics.Graphviz.NodeID(\"n0out8\", \"\", \"\"), Catlab.Graphics.Graphviz.NodeID(\"n0out9\", \"\", \"\"), Catlab.Graphics.Graphviz.NodeID(\"n0out10\", \"\", \"\"), Catlab.Graphics.Graphviz.NodeID(\"n0out11\", \"\", \"\")], OrderedCollections.OrderedDict{Symbol, Union{String, Catlab.Graphics.Graphviz.Html}}())], OrderedCollections.OrderedDict{Symbol, Union{String, Catlab.Graphics.Graphviz.Html}}(:rank => \"sink\", :rankdir => \"TB\"), OrderedCollections.OrderedDict{Symbol, Union{String, Catlab.Graphics.Graphviz.Html}}(:style => \"invis\", :shape => \"none\", :label => \"\", :width => \"0\", :height => \"0.333\"), OrderedCollections.OrderedDict{Symbol, Union{String, Catlab.Graphics.Graphviz.Html}}(:style => \"invis\")), Catlab.Graphics.Graphviz.Node(\"n1\", OrderedCollections.OrderedDict{Symbol, Union{String, Catlab.Graphics.Graphviz.Html}}(:color => \"black\", :comment => \"LoadLRN\", :fillcolor => \"white\", :id => \"n1\", :label => Catlab.Graphics.Graphviz.Html(\"<TABLE BORDER=\\\"0\\\" CELLPADDING=\\\"0\\\" CELLSPACING=\\\"0\\\">\\n<TR>\\n<TD><TABLE BORDER=\\\"0\\\" CELLPADDING=\\\"0\\\" CELLSPACING=\\\"0\\\"><TR><TD HEIGHT=\\\"24\\\" WIDTH=\\\"0\\\" PORT=\\\"in1\\\"></TD></TR></TABLE></TD>\\n<TD BORDER=\\\"1\\\" CELLPADDING=\\\"4\\\">LoadLRN</TD>\\n<TD><TABLE BORDER=\\\"0\\\" CELLPADDING=\\\"0\\\" CELLSPACING=\\\"0\\\"><TR><TD HEIGHT=\\\"24\\\" WIDTH=\\\"0\\\" PORT=\\\"out1\\\"></TD></TR></TABLE></TD>\\n</TR>\\n</TABLE>\"), :style => \"solid\")), Catlab.Graphics.Graphviz.Node(\"n2\", OrderedCollections.OrderedDict{Symbol, Union{String, Catlab.Graphics.Graphviz.Html}}(:color => \"black\", :comment => \"LoadLRN\", :fillcolor => \"white\", :id => \"n2\", :label => Catlab.Graphics.Graphviz.Html(\"<TABLE BORDER=\\\"0\\\" CELLPADDING=\\\"0\\\" CELLSPACING=\\\"0\\\">\\n<TR>\\n<TD><TABLE BORDER=\\\"0\\\" CELLPADDING=\\\"0\\\" CELLSPACING=\\\"0\\\"><TR><TD HEIGHT=\\\"24\\\" WIDTH=\\\"0\\\" PORT=\\\"in1\\\"></TD></TR></TABLE></TD>\\n<TD BORDER=\\\"1\\\" CELLPADDING=\\\"4\\\">LoadLRN</TD>\\n<TD><TABLE BORDER=\\\"0\\\" CELLPADDING=\\\"0\\\" CELLSPACING=\\\"0\\\"><TR><TD HEIGHT=\\\"24\\\" WIDTH=\\\"0\\\" PORT=\\\"out1\\\"></TD></TR></TABLE></TD>\\n</TR>\\n</TABLE>\"), :style => \"solid\")), Catlab.Graphics.Graphviz.Node(\"n3\", OrderedCollections.OrderedDict{Symbol, Union{String, Catlab.Graphics.Graphviz.Html}}(:color => \"black\", :comment => \"LoadLRN\", :fillcolor => \"white\", :id => \"n3\", :label => Catlab.Graphics.Graphviz.Html(\"<TABLE BORDER=\\\"0\\\" CELLPADDING=\\\"0\\\" CELLSPACING=\\\"0\\\">\\n<TR>\\n<TD><TABLE BORDER=\\\"0\\\" CELLPADDING=\\\"0\\\" CELLSPACING=\\\"0\\\"><TR><TD HEIGHT=\\\"24\\\" WIDTH=\\\"0\\\" PORT=\\\"in1\\\"></TD></TR></TABLE></TD>\\n<TD BORDER=\\\"1\\\" CELLPADDING=\\\"4\\\">LoadLRN</TD>\\n<TD><TABLE BORDER=\\\"0\\\" CELLPADDING=\\\"0\\\" CELLSPACING=\\\"0\\\"><TR><TD HEIGHT=\\\"24\\\" WIDTH=\\\"0\\\" PORT=\\\"out1\\\"></TD></TR></TABLE></TD>\\n</TR>\\n</TABLE>\"), :style => \"solid\")), Catlab.Graphics.Graphviz.Node(\"n4\", OrderedCollections.OrderedDict{Symbol, Union{String, Catlab.Graphics.Graphviz.Html}}(:color => \"black\", :comment => \"Homomorph\", :fillcolor => \"white\", :id => \"n4\", :label => Catlab.Graphics.Graphviz.Html(\"<TABLE BORDER=\\\"0\\\" CELLPADDING=\\\"0\\\" CELLSPACING=\\\"0\\\">\\n<TR>\\n<TD><TABLE BORDER=\\\"0\\\" CELLPADDING=\\\"0\\\" CELLSPACING=\\\"0\\\"><TR><TD HEIGHT=\\\"24\\\" WIDTH=\\\"0\\\" PORT=\\\"in1\\\"></TD></TR><TR><TD HEIGHT=\\\"24\\\" WIDTH=\\\"0\\\" PORT=\\\"in2\\\"></TD></TR></TABLE></TD>\\n<TD BORDER=\\\"1\\\" CELLPADDING=\\\"4\\\">Homomorph</TD>\\n<TD><TABLE BORDER=\\\"0\\\" CELLPADDING=\\\"0\\\" CELLSPACING=\\\"0\\\"><TR><TD HEIGHT=\\\"24\\\" WIDTH=\\\"0\\\" PORT=\\\"out1\\\"></TD></TR></TABLE></TD>\\n</TR>\\n</TABLE>\"), :style => \"solid\")), Catlab.Graphics.Graphviz.Node(\"n5\", OrderedCollections.OrderedDict{Symbol, Union{String, Catlab.Graphics.Graphviz.Html}}(:color => \"black\", :comment => \"Homomorph\", :fillcolor => \"white\", :id => \"n5\", :label => Catlab.Graphics.Graphviz.Html(\"<TABLE BORDER=\\\"0\\\" CELLPADDING=\\\"0\\\" CELLSPACING=\\\"0\\\">\\n<TR>\\n<TD><TABLE BORDER=\\\"0\\\" CELLPADDING=\\\"0\\\" CELLSPACING=\\\"0\\\"><TR><TD HEIGHT=\\\"24\\\" WIDTH=\\\"0\\\" PORT=\\\"in1\\\"></TD></TR><TR><TD HEIGHT=\\\"24\\\" WIDTH=\\\"0\\\" PORT=\\\"in2\\\"></TD></TR></TABLE></TD>\\n<TD BORDER=\\\"1\\\" CELLPADDING=\\\"4\\\">Homomorph</TD>\\n<TD><TABLE BORDER=\\\"0\\\" CELLPADDING=\\\"0\\\" CELLSPACING=\\\"0\\\"><TR><TD HEIGHT=\\\"24\\\" WIDTH=\\\"0\\\" PORT=\\\"out1\\\"></TD></TR></TABLE></TD>\\n</TR>\\n</TABLE>\"), :style => \"solid\")), Catlab.Graphics.Graphviz.Node(\"n6\", OrderedCollections.OrderedDict{Symbol, Union{String, Catlab.Graphics.Graphviz.Html}}(:color => \"black\", :comment => \"StrataSpecify\", :fillcolor => \"white\", :id => \"n6\", :label => Catlab.Graphics.Graphviz.Html(\"<TABLE BORDER=\\\"0\\\" CELLPADDING=\\\"0\\\" CELLSPACING=\\\"0\\\">\\n<TR>\\n<TD><TABLE BORDER=\\\"0\\\" CELLPADDING=\\\"0\\\" CELLSPACING=\\\"0\\\"><TR><TD HEIGHT=\\\"24\\\" WIDTH=\\\"0\\\" PORT=\\\"in1\\\"></TD></TR><TR><TD HEIGHT=\\\"24\\\" WIDTH=\\\"0\\\" PORT=\\\"in2\\\"></TD></TR></TABLE></TD>\\n<TD BORDER=\\\"1\\\" CELLPADDING=\\\"4\\\">StrataSpecify</TD>\\n<TD><TABLE BORDER=\\\"0\\\" CELLPADDING=\\\"0\\\" CELLSPACING=\\\"0\\\"><TR><TD HEIGHT=\\\"24\\\" WIDTH=\\\"0\\\" PORT=\\\"out1\\\"></TD></TR></TABLE></TD>\\n</TR>\\n</TABLE>\"), :style => \"solid\")), Catlab.Graphics.Graphviz.Node(\"n7\", OrderedCollections.OrderedDict{Symbol, Union{String, Catlab.Graphics.Graphviz.Html}}(:color => \"black\", :comment => \"StrataSpecify\", :fillcolor => \"white\", :id => \"n7\", :label => Catlab.Graphics.Graphviz.Html(\"<TABLE BORDER=\\\"0\\\" CELLPADDING=\\\"0\\\" CELLSPACING=\\\"0\\\">\\n<TR>\\n<TD><TABLE BORDER=\\\"0\\\" CELLPADDING=\\\"0\\\" CELLSPACING=\\\"0\\\"><TR><TD HEIGHT=\\\"24\\\" WIDTH=\\\"0\\\" PORT=\\\"in1\\\"></TD></TR><TR><TD HEIGHT=\\\"24\\\" WIDTH=\\\"0\\\" PORT=\\\"in2\\\"></TD></TR></TABLE></TD>\\n<TD BORDER=\\\"1\\\" CELLPADDING=\\\"4\\\">StrataSpecify</TD>\\n<TD><TABLE BORDER=\\\"0\\\" CELLPADDING=\\\"0\\\" CELLSPACING=\\\"0\\\"><TR><TD HEIGHT=\\\"24\\\" WIDTH=\\\"0\\\" PORT=\\\"out1\\\"></TD></TR></TABLE></TD>\\n</TR>\\n</TABLE>\"), :style => \"solid\")), Catlab.Graphics.Graphviz.Node(\"n8\", OrderedCollections.OrderedDict{Symbol, Union{String, Catlab.Graphics.Graphviz.Html}}(:color => \"black\", :comment => \"Stratify\", :fillcolor => \"white\", :id => \"n8\", :label => Catlab.Graphics.Graphviz.Html(\"<TABLE BORDER=\\\"0\\\" CELLPADDING=\\\"0\\\" CELLSPACING=\\\"0\\\">\\n<TR>\\n<TD><TABLE BORDER=\\\"0\\\" CELLPADDING=\\\"0\\\" CELLSPACING=\\\"0\\\"><TR><TD HEIGHT=\\\"24\\\" WIDTH=\\\"0\\\" PORT=\\\"in1\\\"></TD></TR><TR><TD HEIGHT=\\\"24\\\" WIDTH=\\\"0\\\" PORT=\\\"in2\\\"></TD></TR><TR><TD HEIGHT=\\\"24\\\" WIDTH=\\\"0\\\" PORT=\\\"in3\\\"></TD></TR></TABLE></TD>\\n<TD BORDER=\\\"1\\\" CELLPADDING=\\\"4\\\">Stratify</TD>\\n<TD><TABLE BORDER=\\\"0\\\" CELLPADDING=\\\"0\\\" CELLSPACING=\\\"0\\\"><TR><TD HEIGHT=\\\"24\\\" WIDTH=\\\"0\\\" PORT=\\\"out1\\\"></TD></TR><TR><TD HEIGHT=\\\"24\\\" WIDTH=\\\"0\\\" PORT=\\\"out2\\\"></TD></TR></TABLE></TD>\\n</TR>\\n</TABLE>\"), :style => \"solid\"))  …  Catlab.Graphics.Graphviz.Edge(Catlab.Graphics.Graphviz.NodeID[Catlab.Graphics.Graphviz.NodeID(\"n8\", \"out2\", \"e\"), Catlab.Graphics.Graphviz.NodeID(\"n0out5\", \"w\", \"\")], OrderedCollections.OrderedDict{Symbol, Union{String, Catlab.Graphics.Graphviz.Html}}(:comment => \"ObsFunc\", :id => \"e28\", :xlabel => \"ObsFunc\")), Catlab.Graphics.Graphviz.Edge(Catlab.Graphics.Graphviz.NodeID[Catlab.Graphics.Graphviz.NodeID(\"n9\", \"out1\", \"e\"), Catlab.Graphics.Graphviz.NodeID(\"n0out6\", \"w\", \"\")], OrderedCollections.OrderedDict{Symbol, Union{String, Catlab.Graphics.Graphviz.Html}}(:comment => \"SampleData\", :id => \"e29\", :xlabel => \"SampleData\")), Catlab.Graphics.Graphviz.Edge(Catlab.Graphics.Graphviz.NodeID[Catlab.Graphics.Graphviz.NodeID(\"n9\", \"out2\", \"e\"), Catlab.Graphics.Graphviz.NodeID(\"n0out7\", \"w\", \"\")], OrderedCollections.OrderedDict{Symbol, Union{String, Catlab.Graphics.Graphviz.Html}}(:comment => \"SampleTimes\", :id => \"e30\", :xlabel => \"SampleTimes\")), Catlab.Graphics.Graphviz.Edge(Catlab.Graphics.Graphviz.NodeID[Catlab.Graphics.Graphviz.NodeID(\"n9\", \"out3\", \"e\"), Catlab.Graphics.Graphviz.NodeID(\"n0out8\", \"w\", \"\")], OrderedCollections.OrderedDict{Symbol, Union{String, Catlab.Graphics.Graphviz.Html}}(:comment => \"ODEProb\", :id => \"e31\", :xlabel => \"ODEProb\")), Catlab.Graphics.Graphviz.Edge(Catlab.Graphics.Graphviz.NodeID[Catlab.Graphics.Graphviz.NodeID(\"n9\", \"out4\", \"e\"), Catlab.Graphics.Graphviz.NodeID(\"n0out9\", \"w\", \"\")], OrderedCollections.OrderedDict{Symbol, Union{String, Catlab.Graphics.Graphviz.Html}}(:comment => \"ODESol\", :id => \"e32\", :xlabel => \"ODESol\")), Catlab.Graphics.Graphviz.Edge(Catlab.Graphics.Graphviz.NodeID[Catlab.Graphics.Graphviz.NodeID(\"n9\", \"out5\", \"e\"), Catlab.Graphics.Graphviz.NodeID(\"n0out10\", \"w\", \"\")], OrderedCollections.OrderedDict{Symbol, Union{String, Catlab.Graphics.Graphviz.Html}}(:comment => \"SampleData\", :id => \"e33\", :xlabel => \"SampleData\")), Catlab.Graphics.Graphviz.Edge(Catlab.Graphics.Graphviz.NodeID[Catlab.Graphics.Graphviz.NodeID(\"n9\", \"out6\", \"e\"), Catlab.Graphics.Graphviz.NodeID(\"n0out11\", \"w\", \"\")], OrderedCollections.OrderedDict{Symbol, Union{String, Catlab.Graphics.Graphviz.Html}}(:comment => \"Labels\", :id => \"e34\", :xlabel => \"Labels\")), Catlab.Graphics.Graphviz.Edge(Catlab.Graphics.Graphviz.NodeID[Catlab.Graphics.Graphviz.NodeID(\"n10\", \"out1\", \"e\"), Catlab.Graphics.Graphviz.NodeID(\"n0out1\", \"w\", \"\")], OrderedCollections.OrderedDict{Symbol, Union{String, Catlab.Graphics.Graphviz.Html}}(:comment => \"ParamVec\", :id => \"e35\", :xlabel => \"ParamVec\")), Catlab.Graphics.Graphviz.Edge(Catlab.Graphics.Graphviz.NodeID[Catlab.Graphics.Graphviz.NodeID(\"n10\", \"out2\", \"e\"), Catlab.Graphics.Graphviz.NodeID(\"n0out2\", \"w\", \"\")], OrderedCollections.OrderedDict{Symbol, Union{String, Catlab.Graphics.Graphviz.Html}}(:comment => \"ODESol\", :id => \"e36\", :xlabel => \"ODESol\")), Catlab.Graphics.Graphviz.Edge(Catlab.Graphics.Graphviz.NodeID[Catlab.Graphics.Graphviz.NodeID(\"n10\", \"out3\", \"e\"), Catlab.Graphics.Graphviz.NodeID(\"n0out3\", \"w\", \"\")], OrderedCollections.OrderedDict{Symbol, Union{String, Catlab.Graphics.Graphviz.Html}}(:comment => \"Loss\", :id => \"e37\", :xlabel => \"Loss\"))], OrderedCollections.OrderedDict{Symbol, Union{String, Catlab.Graphics.Graphviz.Html}}(:fontname => \"Serif\", :rankdir => \"LR\"), OrderedCollections.OrderedDict{Symbol, Union{String, Catlab.Graphics.Graphviz.Html}}(:fontname => \"Courier\", :shape => \"none\", :width => \"0\", :height => \"0\", :margin => \"0\"), OrderedCollections.OrderedDict{Symbol, Union{String, Catlab.Graphics.Graphviz.Html}}(:arrowsize => \"0.5\", :fontname => \"Courier\"))"
      ]
     },
     "execution_count": 5,
     "metadata": {},
     "output_type": "execute_result"
    }
   ],
   "source": [
    "# Display wiring diagram of workflow\n",
    "draw(load_stratify_calibrate_control)"
   ]
  },
  {
   "cell_type": "code",
   "execution_count": 6,
   "id": "66a692e0-32dc-47ac-9680-a8a92c3325fa",
   "metadata": {},
   "outputs": [
    {
     "data": {
      "text/plain": [
       "4778"
      ]
     },
     "execution_count": 6,
     "metadata": {},
     "output_type": "execute_result"
    }
   ],
   "source": [
    "# Write diagram to file as JSON\n",
    "write_json_acset(load_stratify_calibrate_control.diagram, \"strat-calib-cntrl_dwd.json\")"
   ]
  },
  {
   "cell_type": "code",
   "execution_count": null,
   "id": "5e0fde2c-10f0-4e32-85dd-7a7e1495faba",
   "metadata": {},
   "outputs": [],
   "source": []
  }
 ],
 "metadata": {
  "kernelspec": {
   "display_name": "Julia 1.7.3",
   "language": "julia",
   "name": "julia-1.7"
  },
  "language_info": {
   "file_extension": ".jl",
   "mimetype": "application/julia",
   "name": "julia",
   "version": "1.7.3"
  }
 },
 "nbformat": 4,
 "nbformat_minor": 5
}
