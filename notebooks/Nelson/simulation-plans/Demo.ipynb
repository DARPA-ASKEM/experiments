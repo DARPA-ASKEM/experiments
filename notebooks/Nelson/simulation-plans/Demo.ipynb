{
 "cells": [
  {
   "cell_type": "code",
   "execution_count": 1,
   "id": "1a0a7f14-bfbf-4b1e-b3aa-6048089d78ab",
   "metadata": {},
   "outputs": [],
   "source": [
    "# CIEMSS Demo Query:"
   ]
  },
  {
   "cell_type": "code",
   "execution_count": null,
   "id": "8e86e7dd-a958-4b6a-8a07-e2b5aeffc8bc",
   "metadata": {},
   "outputs": [],
   "source": [
    "# struct DemoSIRQuery <: Query\n",
    "#     mandate_multiplier::Number\n",
    "#     threshold::Number\n",
    "# end\n",
    "\n",
    "# function interpret(query::DemoSIRQuery, model::T) where {T<:ODEProbabilisticModel}\n",
    "#     twin_model = twinify(model)\n",
    "\n",
    "#     mandate_multiplier = query.mandate_multiplier\n",
    "#     threshold = query.threshold \n",
    "\n",
    "#     new_expr = :((infected_cf/N > $threshold) * (effective_contact_rate * $mandate_multiplier)\n",
    "#                 + (infected_cf/N <= $threshold) * effective_contact_rate)\n",
    "\n",
    "#     intervention = ODEStaticIntervention(:effective_contact_rate_cf, 0, new_expr)\n",
    "#     intervened_model = intervene(twin_model, intervention)\n",
    "\n",
    "#     queried_model = add_variable(intervened_model, :(effect_of_adaptive_mask_policy), 1, :(100 * ((infected_cf - infected) - effect_of_adaptive_mask_policy)))\n",
    "\n",
    "#     return queried_model\n",
    "# end"
   ]
  },
  {
   "cell_type": "code",
   "execution_count": null,
   "id": "5b50eac4-f192-4c29-b24e-659e308460e8",
   "metadata": {},
   "outputs": [],
   "source": [
    "# AlgebraicJulia Workflow Wiring Diagram Example:"
   ]
  },
  {
   "cell_type": "code",
   "execution_count": null,
   "id": "f710782f-3c8f-4d76-bc2b-94912d012c9c",
   "metadata": {},
   "outputs": [],
   "source": [
    "# begin\n",
    "#     # Form Workflow presentation of FreeBiproductCategory\n",
    "#     @present Workflow(FreeBiproductCategory) begin\n",
    "#         (File,LRN,TSpan,ODEProb,ODESol)::Ob \n",
    "#         MTKLoadLRN::Hom(File,LRN)\n",
    "#         MTKFormODEProb::Hom(LRN⊗TSpan,ODEProb)\n",
    "#         MTKSolveODE::Hom(ODEProb,ODESol)\n",
    "#     end\n",
    "\n",
    "#     # Form wiring diagram of load_form_sim Workflow\n",
    "#     load_form_sim = @program Workflow (f::File,ts::TSpan) begin # \n",
    "#         lrn = MTKLoadLRN(f)\n",
    "#         ode_prob = MTKFormODEProb(lrn,ts)\n",
    "#         ode_sol = MTKSolveODE(ode_prob)\n",
    "#         return ode_sol \n",
    "#     end\n",
    "\n",
    "#     # Serialize program wiring diagram\n",
    "#     # write_json_graph(load_form_sim,\"diagram_load_form_sim.json\") \n",
    "#     write_json_acset(load_form_sim.diagram, \"diagram_load_form_sim.json\")\n",
    "# end"
   ]
  },
  {
   "cell_type": "code",
   "execution_count": 2,
   "id": "d7961192-5f08-46e2-8e87-e83ca86e233a",
   "metadata": {},
   "outputs": [],
   "source": [
    "using Catlab, Catlab.Theories\n",
    "using Catlab.CategoricalAlgebra\n",
    "using Catlab.Graphics\n",
    "using Catlab.Graphics: Graphviz\n",
    "import Catlab.CategoricalAlgebra: migrate!\n",
    "using Catlab.WiringDiagrams\n",
    "using Catlab.Programs\n",
    "using Catlab.Programs.RelationalPrograms"
   ]
  },
  {
   "cell_type": "code",
   "execution_count": null,
   "id": "94cb91c5-7606-4c48-a191-75ab40d4982f",
   "metadata": {},
   "outputs": [],
   "source": [
    "# Form Workflow presentation of FreeBiproductCategory\n",
    "@present Workflow(FreeBiproductCategory) begin\n",
    "    \n",
    "    (Output_Var, Intervention_Variable, Intervention_Derivative_Order, Intervention_Assignment, Query, Model, Twin_Model, Intervention, Twin_Model_Int)::Ob\n",
    "    \n",
    "    ConstructQuery::Hom(Mandate_Multiplier⊗Threshold, Query)\n",
    "    \n",
    "    Twinify::Hom(Model, Twin_Model)\n",
    "    \n",
    "    ODEStaticIntervention::Hom(Intervention_Variable⊗Query, Intervention)\n",
    "    \n",
    "    Intervene::Hom(Twin_Model⊗Intervention, Twin_Model_Int)\n",
    "    \n",
    "end"
   ]
  },
  {
   "cell_type": "code",
   "execution_count": null,
   "id": "bee83844-3798-4964-a612-46f3aba8fd58",
   "metadata": {},
   "outputs": [],
   "source": [
    "# Form wiring diagram of Workflow\n",
    "demo_workflow = @program Workflow (output_var::Output_Var, intervention_variable::Intervention_Variable, intervention_derivative_order::Intervention_Derivative_Order, intervention_assignment::Intervention_Assignment, model::Model) begin\n",
    "    \n",
    "    query = ConstructQuery(output_var, intervention_variable, intervention_derivative_order, intervention_assignment)\n",
    "    \n",
    "    twin_model = Twinify(model)\n",
    "    \n",
    "    intervention = ODEStaticIntervention(intervention_variable, query)\n",
    "    \n",
    "    twin_model_int = Intervene(twin_model, intervention)\n",
    "    \n",
    "    return twin_model_int\n",
    "end"
   ]
  },
  {
   "cell_type": "code",
   "execution_count": null,
   "id": "fa552ac8-b82e-49f8-b605-d666100ad389",
   "metadata": {},
   "outputs": [],
   "source": [
    "# Serialize program wiring diagram\n",
    "write_json_acset(demo_workflow.diagram, \"demo_dwd.json\")"
   ]
  }
 ],
 "metadata": {
  "kernelspec": {
   "display_name": "Julia 1.7.3",
   "language": "julia",
   "name": "julia-1.7"
  },
  "language_info": {
   "file_extension": ".jl",
   "mimetype": "application/julia",
   "name": "julia",
   "version": "1.7.3"
  }
 },
 "nbformat": 4,
 "nbformat_minor": 5
}
