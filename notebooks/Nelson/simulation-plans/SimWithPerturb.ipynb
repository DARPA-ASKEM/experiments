{
 "cells": [
  {
   "cell_type": "code",
   "execution_count": 1,
   "id": "4d222b9f-f869-4ce8-a730-aa8ecd8ca44c",
   "metadata": {},
   "outputs": [],
   "source": [
    "begin\n",
    "   using ModelingToolkit\n",
    "    using AlgebraicPetri\n",
    "    using AlgebraicPetri.Epidemiology\n",
    "    using AlgebraicPetri.BilayerNetworks\n",
    "\n",
    "    using Catlab, Catlab.Theories\n",
    "    using Catlab.CategoricalAlgebra\n",
    "    using Catlab.Graphics\n",
    "    using Catlab.Graphics: Graphviz\n",
    "    import Catlab.CategoricalAlgebra: migrate!\n",
    "    using Catlab.WiringDiagrams\n",
    "    using Catlab.Programs\n",
    "    using Catlab.Programs.RelationalPrograms\n",
    "\n",
    "    using Random\n",
    "    using DifferentialEquations \n",
    "end"
   ]
  },
  {
   "cell_type": "code",
   "execution_count": 2,
   "id": "3c7b6ddb-3899-430c-aa29-8374e874f511",
   "metadata": {},
   "outputs": [
    {
     "data": {
      "text/plain": [
       "draw (generic function with 1 method)"
      ]
     },
     "execution_count": 2,
     "metadata": {},
     "output_type": "execute_result"
    }
   ],
   "source": [
    "draw(d::WiringDiagram) = to_graphviz(d,\n",
    "    orientation=LeftToRight,\n",
    "    labels=true, label_attr=:xlabel,\n",
    "    node_attrs=Graphviz.Attributes(\n",
    "      :fontname => \"Courier\",\n",
    "    ),\n",
    "    edge_attrs=Graphviz.Attributes(\n",
    "      :fontname => \"Courier\",\n",
    "    )\n",
    ")"
   ]
  },
  {
   "cell_type": "code",
   "execution_count": 3,
   "id": "51cba591-1357-4d58-b177-fe234c524d2e",
   "metadata": {},
   "outputs": [
    {
     "data": {
      "text/plain": [
       "wf_load (generic function with 1 method)"
      ]
     },
     "execution_count": 3,
     "metadata": {},
     "output_type": "execute_result"
    }
   ],
   "source": [
    "function wf_load(f)\n",
    "    return read_json_acset(LabelledReactionNet{Float64,Float64},f)\n",
    "end"
   ]
  },
  {
   "cell_type": "code",
   "execution_count": 4,
   "id": "d4ebde92-9717-4dd0-a4a3-8b2c40be6a76",
   "metadata": {},
   "outputs": [
    {
     "data": {
      "text/plain": [
       "wf_get_dim (generic function with 1 method)"
      ]
     },
     "execution_count": 4,
     "metadata": {},
     "output_type": "execute_result"
    }
   ],
   "source": [
    "function wf_get_dim(m)\n",
    "    return nt(m)\n",
    "end"
   ]
  },
  {
   "cell_type": "code",
   "execution_count": 5,
   "id": "7806e0ca-48e0-43a2-bd80-98b1010bea5a",
   "metadata": {},
   "outputs": [
    {
     "data": {
      "text/plain": [
       "wf_mcopy (generic function with 1 method)"
      ]
     },
     "execution_count": 5,
     "metadata": {},
     "output_type": "execute_result"
    }
   ],
   "source": [
    "function wf_mcopy(m)\n",
    "    return pair(m,m)\n",
    "end"
   ]
  },
  {
   "cell_type": "code",
   "execution_count": 6,
   "id": "5f957b20-7235-4900-bf2d-b474b39a0da7",
   "metadata": {},
   "outputs": [
    {
     "data": {
      "text/plain": [
       "wf_get_rates (generic function with 1 method)"
      ]
     },
     "execution_count": 6,
     "metadata": {},
     "output_type": "execute_result"
    }
   ],
   "source": [
    "function wf_get_rates(m)\n",
    "    return m[:rate]\n",
    "end"
   ]
  },
  {
   "cell_type": "code",
   "execution_count": 7,
   "id": "bde84f92-906f-40b9-af30-11a0c8dcedd4",
   "metadata": {},
   "outputs": [
    {
     "data": {
      "text/plain": [
       "wf_rand (generic function with 1 method)"
      ]
     },
     "execution_count": 7,
     "metadata": {},
     "output_type": "execute_result"
    }
   ],
   "source": [
    "function wf_rand(s,num_s)\n",
    "    rng = Random.seed!(s)\n",
    "    v = rand(rng,num_s)\n",
    "    return v\n",
    "end"
   ]
  },
  {
   "cell_type": "code",
   "execution_count": 8,
   "id": "10f7a618-9100-422b-8126-f6257f63e010",
   "metadata": {},
   "outputs": [
    {
     "data": {
      "text/plain": [
       "wf_rate_add (generic function with 1 method)"
      ]
     },
     "execution_count": 8,
     "metadata": {},
     "output_type": "execute_result"
    }
   ],
   "source": [
    "function wf_rate_add(m,v)\n",
    "    m[:rate] = m[:rate] + v \n",
    "    return m\n",
    "end"
   ]
  },
  {
   "cell_type": "code",
   "execution_count": 9,
   "id": "ebd3fbcf-2c3c-4513-80fc-9c9f9683c9ec",
   "metadata": {},
   "outputs": [
    {
     "data": {
      "text/plain": [
       "Presentation{ThBiproductCategory, Symbol}(Catlab.Theories.FreeBiproductCategory, (Ob = Catlab.Theories.FreeBiproductCategory.Ob{:generator}[File, LRN, Dim, Seed, RVect, TSpan, CExpr], Hom = Catlab.Theories.FreeBiproductCategory.Hom{:generator}[wf_load, wf_get_dim, wf_get_rates, wf_rand, wf_rate_add, MTKCompile]), Dict(:RVect => (:Ob => 5), :LRN => (:Ob => 2), :wf_rand => (:Hom => 4), :MTKCompile => (:Hom => 6), :wf_rate_add => (:Hom => 5), :wf_get_rates => (:Hom => 3), :TSpan => (:Ob => 6), :Dim => (:Ob => 3), :CExpr => (:Ob => 7), :wf_load => (:Hom => 1)…), Pair[])"
      ]
     },
     "execution_count": 9,
     "metadata": {},
     "output_type": "execute_result"
    }
   ],
   "source": [
    "# @present Workflow(FreeSymmetricMonoidalCategory) begin\n",
    "@present Workflow(FreeBiproductCategory) begin\n",
    "    (File,LRN,Dim,Seed,RVect,TSpan,CExpr)::Ob \n",
    "    wf_load::Hom(File,LRN)\n",
    "    # wf_mcopy::Hom(LRN,LRN⊗LRN)\n",
    "    wf_get_dim::Hom(LRN,Dim)\n",
    "    wf_get_rates::Hom(LRN,RVect)\n",
    "    wf_rand::Hom(Seed⊗Dim,RVect)\n",
    "    wf_rate_add::Hom(LRN⊗RVect,LRN)\n",
    "    MTKCompile::Hom(LRN⊗TSpan,CExpr)\n",
    "end"
   ]
  },
  {
   "cell_type": "code",
   "execution_count": 10,
   "id": "f4866176-d289-4129-aa9d-ada0d61aa95b",
   "metadata": {},
   "outputs": [
    {
     "data": {
      "text/plain": [
       "WiringDiagram{ThBiproductCategory}([:File,:Seed,:TSpan], [:CExpr], \n",
       "[ -2 => {inputs},\n",
       "  -1 => {outputs},\n",
       "  1 => Box(:wf_load, [:File], [:LRN]),\n",
       "  2 => Box(:wf_get_dim, [:LRN], [:Dim]),\n",
       "  3 => Box(:wf_rand, [:Seed,:Dim], [:RVect]),\n",
       "  4 => Box(:wf_rate_add, [:LRN,:RVect], [:LRN]),\n",
       "  5 => Box(:MTKCompile, [:LRN,:TSpan], [:CExpr]) ],\n",
       "[ Wire((-2,1) => (1,1)),\n",
       "  Wire((-2,2) => (3,1)),\n",
       "  Wire((-2,3) => (5,2)),\n",
       "  Wire((1,1) => (2,1)),\n",
       "  Wire((2,1) => (3,2)),\n",
       "  Wire((3,1) => (4,2)),\n",
       "  Wire((4,1) => (5,1)),\n",
       "  Wire((1,1) => (4,1)),\n",
       "  Wire((5,1) => (-1,1)) ])"
      ]
     },
     "execution_count": 10,
     "metadata": {},
     "output_type": "execute_result"
    }
   ],
   "source": [
    "load_perturb_sim = @program Workflow (f::File,s::Seed,ts::TSpan) begin # \n",
    "    m = wf_load(f)\n",
    "    # m1, m2 = wf_mcopy(m)\n",
    "    n_param = wf_get_dim(m)\n",
    "    v = wf_rand(s,n_param)\n",
    "    # v = wf_get_rates(m)\n",
    "    m_perturb = wf_rate_add(m,v)\n",
    "    sim_expr = MTKCompile(m_perturb,ts)\n",
    "    return sim_expr # m_perturb # \n",
    "end"
   ]
  },
  {
   "cell_type": "code",
   "execution_count": 11,
   "id": "924a87cc-b5d6-49b6-9410-9fa5cc706287",
   "metadata": {},
   "outputs": [
    {
     "data": {
      "text/plain": [
       "MTKCompile (generic function with 1 method)"
      ]
     },
     "execution_count": 11,
     "metadata": {},
     "output_type": "execute_result"
    }
   ],
   "source": [
    "make_depvar(p,t) = :($p($t))\n",
    "# function MTKCompile(bn::Union{AbstractLabelledBilayerNetwork, AbstractBilayerNetwork})\n",
    "function MTKCompile(lrxn::AbstractLabelledReactionNet,tspan)    \n",
    "    r = lrxn[:rate]\n",
    "    c = lrxn[:concentration]\n",
    "\n",
    "    lpn = LabelledPetriNet(lrxn);\n",
    "    bn = LabelledBilayerNetwork();\n",
    "    migrate!(bn,lpn);\n",
    "    \n",
    "    varstmt = :(@variables t)\n",
    "    @show varnames = bn[:variable]\n",
    "    append!(varstmt.args, make_depvar.(bn[:variable], :t))\n",
    "    \n",
    "    paramstmt = :(@parameters)\n",
    "    params = bn[:parameter]\n",
    "    append!(paramstmt.args, bn[:parameter])\n",
    "    \n",
    "    diffstmt = :(D = Differential(t))\n",
    "  \n",
    "    ϕs = map(parts(bn, :Box)) do b\n",
    "      vars = map(incident(bn, b,:call)) do i\n",
    "        j = bn[i, :arg]\n",
    "        return bn[j, :variable]\n",
    "      end\n",
    "      p = :(*($(bn[b, :parameter])))\n",
    "      append!(p.args, vars)\n",
    "      return :($(Symbol(\"ϕ$b\")) = $p)\n",
    "    end\n",
    "  \n",
    "    \n",
    "    infs = map(parts(bn, :Qout)) do tv\n",
    "      vars = map(incident(bn, tv, :infusion)) do wa\n",
    "        j = bn[wa, :influx]\n",
    "        return Symbol(\"ϕ$j\")\n",
    "      end\n",
    "      p = :(+())\n",
    "      append!(p.args, vars)\n",
    "  \n",
    "      # same for the outfluxes\n",
    "      vars = map(incident(bn, tv, :effusion)) do wn\n",
    "        j = bn[wn, :efflux]\n",
    "        return :(- $(Symbol(\"ϕ$j\")))\n",
    "      end\n",
    "      append!(p.args, vars)\n",
    "      return p\n",
    "    end\n",
    "  \n",
    "    zparts = zip(bn[:tanvar], infs)\n",
    "  \n",
    "    eqns = [:(D($tanvar) ~ $rhs) for (tanvar, rhs) in zparts]\n",
    "    eq = :([])\n",
    "    append!(eq.args, eqns)\n",
    "    eqnstmt = :(eqs = $eq)\n",
    "  \n",
    "    varnameexpr = Expr(:tuple, varnames...)\n",
    "    parnameexpr = Expr(:tuple, params...)\n",
    "\n",
    "    # sys = ODESystem(eq, t, name=:PetriNet)\n",
    "    # prob = ODEProblem(sys, c, tspan, r)\n",
    "    # sol = solve(prob,Tsit5())\n",
    "  \n",
    "    # prob = ODEProblem(MakeReactionSystem(model), u0, tspan, p)\n",
    "    # sol = solve(prob, Tsit5(), tstops=sample_times)\n",
    "\n",
    "    return quote\n",
    "      $varstmt\n",
    "      $paramstmt\n",
    "      $diffstmt\n",
    "      $(ϕs...)\n",
    "      $eqnstmt\n",
    "      return $varnameexpr, $parnameexpr, solve(ODEProblem(ODESystem(eqs, t, name=:PetriNet), $c, $tspan, $r))\n",
    "    end\n",
    "  \n",
    "end"
   ]
  },
  {
   "cell_type": "code",
   "execution_count": 15,
   "id": "87066c45-759f-4f05-a924-6288244ca77c",
   "metadata": {},
   "outputs": [
    {
     "data": {
      "text/plain": [
       "1359"
      ]
     },
     "execution_count": 15,
     "metadata": {},
     "output_type": "execute_result"
    }
   ],
   "source": [
    "# serialize program wiring diagram\n",
    "write_json_acset(load_perturb_sim.diagram, \"sim-with-perturb_dwd.json\")"
   ]
  },
  {
   "cell_type": "code",
   "execution_count": 16,
   "id": "c6f59c5e-21d4-4c91-9149-704bae790f04",
   "metadata": {},
   "outputs": [
    {
     "data": {
      "text/plain": [
       "Graph(\"G\", true, \"dot\", Catlab.Graphics.Graphviz.Statement[Catlab.Graphics.Graphviz.Subgraph(\"\", Catlab.Graphics.Graphviz.Statement[Catlab.Graphics.Graphviz.Node(\"n0in1\", OrderedCollections.OrderedDict{Symbol, Union{String, Catlab.Graphics.Graphviz.Html}}(:id => \"in1\")), Catlab.Graphics.Graphviz.Node(\"n0in2\", OrderedCollections.OrderedDict{Symbol, Union{String, Catlab.Graphics.Graphviz.Html}}(:id => \"in2\")), Catlab.Graphics.Graphviz.Node(\"n0in3\", OrderedCollections.OrderedDict{Symbol, Union{String, Catlab.Graphics.Graphviz.Html}}(:id => \"in3\")), Catlab.Graphics.Graphviz.Edge(Catlab.Graphics.Graphviz.NodeID[Catlab.Graphics.Graphviz.NodeID(\"n0in1\", \"\", \"\"), Catlab.Graphics.Graphviz.NodeID(\"n0in2\", \"\", \"\"), Catlab.Graphics.Graphviz.NodeID(\"n0in3\", \"\", \"\")], OrderedCollections.OrderedDict{Symbol, Union{String, Catlab.Graphics.Graphviz.Html}}())], OrderedCollections.OrderedDict{Symbol, Union{String, Catlab.Graphics.Graphviz.Html}}(:rank => \"source\", :rankdir => \"TB\"), OrderedCollections.OrderedDict{Symbol, Union{String, Catlab.Graphics.Graphviz.Html}}(:style => \"invis\", :shape => \"none\", :label => \"\", :width => \"0\", :height => \"0.333\"), OrderedCollections.OrderedDict{Symbol, Union{String, Catlab.Graphics.Graphviz.Html}}(:style => \"invis\")), Catlab.Graphics.Graphviz.Subgraph(\"\", Catlab.Graphics.Graphviz.Statement[Catlab.Graphics.Graphviz.Node(\"n0out1\", OrderedCollections.OrderedDict{Symbol, Union{String, Catlab.Graphics.Graphviz.Html}}(:id => \"out1\"))], OrderedCollections.OrderedDict{Symbol, Union{String, Catlab.Graphics.Graphviz.Html}}(:rank => \"sink\", :rankdir => \"TB\"), OrderedCollections.OrderedDict{Symbol, Union{String, Catlab.Graphics.Graphviz.Html}}(:style => \"invis\", :shape => \"none\", :label => \"\", :width => \"0\", :height => \"0.333\"), OrderedCollections.OrderedDict{Symbol, Union{String, Catlab.Graphics.Graphviz.Html}}(:style => \"invis\")), Catlab.Graphics.Graphviz.Node(\"n1\", OrderedCollections.OrderedDict{Symbol, Union{String, Catlab.Graphics.Graphviz.Html}}(:color => \"black\", :comment => \"wf_load\", :fillcolor => \"white\", :id => \"n1\", :label => Catlab.Graphics.Graphviz.Html(\"<TABLE BORDER=\\\"0\\\" CELLPADDING=\\\"0\\\" CELLSPACING=\\\"0\\\">\\n<TR>\\n<TD><TABLE BORDER=\\\"0\\\" CELLPADDING=\\\"0\\\" CELLSPACING=\\\"0\\\"><TR><TD HEIGHT=\\\"24\\\" WIDTH=\\\"0\\\" PORT=\\\"in1\\\"></TD></TR></TABLE></TD>\\n<TD BORDER=\\\"1\\\" CELLPADDING=\\\"4\\\">wf_load</TD>\\n<TD><TABLE BORDER=\\\"0\\\" CELLPADDING=\\\"0\\\" CELLSPACING=\\\"0\\\"><TR><TD HEIGHT=\\\"24\\\" WIDTH=\\\"0\\\" PORT=\\\"out1\\\"></TD></TR></TABLE></TD>\\n</TR>\\n</TABLE>\"), :style => \"solid\")), Catlab.Graphics.Graphviz.Node(\"n2\", OrderedCollections.OrderedDict{Symbol, Union{String, Catlab.Graphics.Graphviz.Html}}(:color => \"black\", :comment => \"wf_get_dim\", :fillcolor => \"white\", :id => \"n2\", :label => Catlab.Graphics.Graphviz.Html(\"<TABLE BORDER=\\\"0\\\" CELLPADDING=\\\"0\\\" CELLSPACING=\\\"0\\\">\\n<TR>\\n<TD><TABLE BORDER=\\\"0\\\" CELLPADDING=\\\"0\\\" CELLSPACING=\\\"0\\\"><TR><TD HEIGHT=\\\"24\\\" WIDTH=\\\"0\\\" PORT=\\\"in1\\\"></TD></TR></TABLE></TD>\\n<TD BORDER=\\\"1\\\" CELLPADDING=\\\"4\\\">wf_get_dim</TD>\\n<TD><TABLE BORDER=\\\"0\\\" CELLPADDING=\\\"0\\\" CELLSPACING=\\\"0\\\"><TR><TD HEIGHT=\\\"24\\\" WIDTH=\\\"0\\\" PORT=\\\"out1\\\"></TD></TR></TABLE></TD>\\n</TR>\\n</TABLE>\"), :style => \"solid\")), Catlab.Graphics.Graphviz.Node(\"n3\", OrderedCollections.OrderedDict{Symbol, Union{String, Catlab.Graphics.Graphviz.Html}}(:color => \"black\", :comment => \"wf_rand\", :fillcolor => \"white\", :id => \"n3\", :label => Catlab.Graphics.Graphviz.Html(\"<TABLE BORDER=\\\"0\\\" CELLPADDING=\\\"0\\\" CELLSPACING=\\\"0\\\">\\n<TR>\\n<TD><TABLE BORDER=\\\"0\\\" CELLPADDING=\\\"0\\\" CELLSPACING=\\\"0\\\"><TR><TD HEIGHT=\\\"24\\\" WIDTH=\\\"0\\\" PORT=\\\"in1\\\"></TD></TR><TR><TD HEIGHT=\\\"24\\\" WIDTH=\\\"0\\\" PORT=\\\"in2\\\"></TD></TR></TABLE></TD>\\n<TD BORDER=\\\"1\\\" CELLPADDING=\\\"4\\\">wf_rand</TD>\\n<TD><TABLE BORDER=\\\"0\\\" CELLPADDING=\\\"0\\\" CELLSPACING=\\\"0\\\"><TR><TD HEIGHT=\\\"24\\\" WIDTH=\\\"0\\\" PORT=\\\"out1\\\"></TD></TR></TABLE></TD>\\n</TR>\\n</TABLE>\"), :style => \"solid\")), Catlab.Graphics.Graphviz.Node(\"n4\", OrderedCollections.OrderedDict{Symbol, Union{String, Catlab.Graphics.Graphviz.Html}}(:color => \"black\", :comment => \"wf_rate_add\", :fillcolor => \"white\", :id => \"n4\", :label => Catlab.Graphics.Graphviz.Html(\"<TABLE BORDER=\\\"0\\\" CELLPADDING=\\\"0\\\" CELLSPACING=\\\"0\\\">\\n<TR>\\n<TD><TABLE BORDER=\\\"0\\\" CELLPADDING=\\\"0\\\" CELLSPACING=\\\"0\\\"><TR><TD HEIGHT=\\\"24\\\" WIDTH=\\\"0\\\" PORT=\\\"in1\\\"></TD></TR><TR><TD HEIGHT=\\\"24\\\" WIDTH=\\\"0\\\" PORT=\\\"in2\\\"></TD></TR></TABLE></TD>\\n<TD BORDER=\\\"1\\\" CELLPADDING=\\\"4\\\">wf_rate_add</TD>\\n<TD><TABLE BORDER=\\\"0\\\" CELLPADDING=\\\"0\\\" CELLSPACING=\\\"0\\\"><TR><TD HEIGHT=\\\"24\\\" WIDTH=\\\"0\\\" PORT=\\\"out1\\\"></TD></TR></TABLE></TD>\\n</TR>\\n</TABLE>\"), :style => \"solid\")), Catlab.Graphics.Graphviz.Node(\"n5\", OrderedCollections.OrderedDict{Symbol, Union{String, Catlab.Graphics.Graphviz.Html}}(:color => \"black\", :comment => \"MTKCompile\", :fillcolor => \"white\", :id => \"n5\", :label => Catlab.Graphics.Graphviz.Html(\"<TABLE BORDER=\\\"0\\\" CELLPADDING=\\\"0\\\" CELLSPACING=\\\"0\\\">\\n<TR>\\n<TD><TABLE BORDER=\\\"0\\\" CELLPADDING=\\\"0\\\" CELLSPACING=\\\"0\\\"><TR><TD HEIGHT=\\\"24\\\" WIDTH=\\\"0\\\" PORT=\\\"in1\\\"></TD></TR><TR><TD HEIGHT=\\\"24\\\" WIDTH=\\\"0\\\" PORT=\\\"in2\\\"></TD></TR></TABLE></TD>\\n<TD BORDER=\\\"1\\\" CELLPADDING=\\\"4\\\">MTKCompile</TD>\\n<TD><TABLE BORDER=\\\"0\\\" CELLPADDING=\\\"0\\\" CELLSPACING=\\\"0\\\"><TR><TD HEIGHT=\\\"24\\\" WIDTH=\\\"0\\\" PORT=\\\"out1\\\"></TD></TR></TABLE></TD>\\n</TR>\\n</TABLE>\"), :style => \"solid\")), Catlab.Graphics.Graphviz.Edge(Catlab.Graphics.Graphviz.NodeID[Catlab.Graphics.Graphviz.NodeID(\"n0in1\", \"e\", \"\"), Catlab.Graphics.Graphviz.NodeID(\"n1\", \"in1\", \"w\")], OrderedCollections.OrderedDict{Symbol, Union{String, Catlab.Graphics.Graphviz.Html}}(:comment => \"File\", :id => \"e1\", :xlabel => \"File\")), Catlab.Graphics.Graphviz.Edge(Catlab.Graphics.Graphviz.NodeID[Catlab.Graphics.Graphviz.NodeID(\"n0in2\", \"e\", \"\"), Catlab.Graphics.Graphviz.NodeID(\"n3\", \"in1\", \"w\")], OrderedCollections.OrderedDict{Symbol, Union{String, Catlab.Graphics.Graphviz.Html}}(:comment => \"Seed\", :id => \"e2\", :xlabel => \"Seed\")), Catlab.Graphics.Graphviz.Edge(Catlab.Graphics.Graphviz.NodeID[Catlab.Graphics.Graphviz.NodeID(\"n0in3\", \"e\", \"\"), Catlab.Graphics.Graphviz.NodeID(\"n5\", \"in2\", \"w\")], OrderedCollections.OrderedDict{Symbol, Union{String, Catlab.Graphics.Graphviz.Html}}(:comment => \"TSpan\", :id => \"e3\", :xlabel => \"TSpan\")), Catlab.Graphics.Graphviz.Edge(Catlab.Graphics.Graphviz.NodeID[Catlab.Graphics.Graphviz.NodeID(\"n1\", \"out1\", \"e\"), Catlab.Graphics.Graphviz.NodeID(\"n2\", \"in1\", \"w\")], OrderedCollections.OrderedDict{Symbol, Union{String, Catlab.Graphics.Graphviz.Html}}(:comment => \"LRN\", :id => \"e4\", :xlabel => \"LRN\")), Catlab.Graphics.Graphviz.Edge(Catlab.Graphics.Graphviz.NodeID[Catlab.Graphics.Graphviz.NodeID(\"n2\", \"out1\", \"e\"), Catlab.Graphics.Graphviz.NodeID(\"n3\", \"in2\", \"w\")], OrderedCollections.OrderedDict{Symbol, Union{String, Catlab.Graphics.Graphviz.Html}}(:comment => \"Dim\", :id => \"e5\", :xlabel => \"Dim\")), Catlab.Graphics.Graphviz.Edge(Catlab.Graphics.Graphviz.NodeID[Catlab.Graphics.Graphviz.NodeID(\"n3\", \"out1\", \"e\"), Catlab.Graphics.Graphviz.NodeID(\"n4\", \"in2\", \"w\")], OrderedCollections.OrderedDict{Symbol, Union{String, Catlab.Graphics.Graphviz.Html}}(:comment => \"RVect\", :id => \"e6\", :xlabel => \"RVect\")), Catlab.Graphics.Graphviz.Edge(Catlab.Graphics.Graphviz.NodeID[Catlab.Graphics.Graphviz.NodeID(\"n4\", \"out1\", \"e\"), Catlab.Graphics.Graphviz.NodeID(\"n5\", \"in1\", \"w\")], OrderedCollections.OrderedDict{Symbol, Union{String, Catlab.Graphics.Graphviz.Html}}(:comment => \"LRN\", :id => \"e7\", :xlabel => \"LRN\")), Catlab.Graphics.Graphviz.Edge(Catlab.Graphics.Graphviz.NodeID[Catlab.Graphics.Graphviz.NodeID(\"n1\", \"out1\", \"e\"), Catlab.Graphics.Graphviz.NodeID(\"n4\", \"in1\", \"w\")], OrderedCollections.OrderedDict{Symbol, Union{String, Catlab.Graphics.Graphviz.Html}}(:comment => \"LRN\", :id => \"e8\", :xlabel => \"LRN\")), Catlab.Graphics.Graphviz.Edge(Catlab.Graphics.Graphviz.NodeID[Catlab.Graphics.Graphviz.NodeID(\"n5\", \"out1\", \"e\"), Catlab.Graphics.Graphviz.NodeID(\"n0out1\", \"w\", \"\")], OrderedCollections.OrderedDict{Symbol, Union{String, Catlab.Graphics.Graphviz.Html}}(:comment => \"CExpr\", :id => \"e9\", :xlabel => \"CExpr\"))], OrderedCollections.OrderedDict{Symbol, Union{String, Catlab.Graphics.Graphviz.Html}}(:fontname => \"Serif\", :rankdir => \"LR\"), OrderedCollections.OrderedDict{Symbol, Union{String, Catlab.Graphics.Graphviz.Html}}(:fontname => \"Courier\", :shape => \"none\", :width => \"0\", :height => \"0\", :margin => \"0\"), OrderedCollections.OrderedDict{Symbol, Union{String, Catlab.Graphics.Graphviz.Html}}(:arrowsize => \"0.5\", :fontname => \"Courier\"))"
      ]
     },
     "execution_count": 16,
     "metadata": {},
     "output_type": "execute_result"
    }
   ],
   "source": [
    "# visualize simulation plan\n",
    "draw(load_perturb_sim)"
   ]
  },
  {
   "cell_type": "code",
   "execution_count": 17,
   "id": "8ca0f61b-af30-4290-8eed-a7d4ac4d5963",
   "metadata": {},
   "outputs": [
    {
     "data": {
      "text/plain": [
       "function = (x1, x2, x3;) -> begin\n",
       "    begin\n",
       "        v1 = (Main).wf_load(x1)\n",
       "        v2 = (Main).wf_get_dim(v1)\n",
       "        v3 = (Main).wf_rand(x2, v2)\n",
       "        v4 = (Main).wf_rate_add(v1, v3)\n",
       "        v5 = (Main).MTKCompile(v4, x3)\n",
       "        return v5\n",
       "    end\n",
       "end"
      ]
     },
     "execution_count": 17,
     "metadata": {},
     "output_type": "execute_result"
    }
   ],
   "source": [
    "# generate Julia program that executes simulation plan\n",
    "wf_hom_expr = to_hom_expr(FreeBiproductCategory,load_perturb_sim)\n",
    "wf_jfunc = Catlab.Programs.GenerateJuliaPrograms.compile(wf_hom_expr)"
   ]
  },
  {
   "cell_type": "code",
   "execution_count": 18,
   "id": "5e45da1e-4b56-4805-8c45-1462a0b069a5",
   "metadata": {},
   "outputs": [],
   "source": [
    "# expected output\n",
    "#=  === wf_jfunc == \n",
    "function = (x1, x2, x3;) -> begin\n",
    "    begin\n",
    "        v1 = (Main).wf_load(x1)\n",
    "        v2 = (Main).wf_get_dim(v1)\n",
    "        v3 = (Main).wf_rand(x2, v2)\n",
    "        v4 = (Main).wf_rate_add(v1, v3)\n",
    "        v5 = (Main).MTKCompile(v4, x3)\n",
    "        return v5\n",
    "    end\n",
    "end\n",
    "=#"
   ]
  },
  {
   "cell_type": "code",
   "execution_count": 19,
   "id": "6973d4e9-55fc-4b92-89aa-ae78bfd7fdce",
   "metadata": {},
   "outputs": [
    {
     "name": "stdout",
     "output_type": "stream",
     "text": [
      "varnames = bn[:variable] = [:S_City1, :E_City1, :I_City1, :A_City1, :SQ_City1, :H_City1, :R_City1, :EQ_City1, :D_City1, :S_City2, :E_City2, :I_City2, :A_City2, :SQ_City2, :H_City2, :R_City2, :EQ_City2, :D_City2]\n"
     ]
    },
    {
     "data": {
      "text/plain": [
       "quote\n",
       "    \u001b[90m#= In[11]:67 =#\u001b[39m\n",
       "    \u001b[90m#= In[11]:11 =#\u001b[39m @variables t S_City1(t) E_City1(t) I_City1(t) A_City1(t) SQ_City1(t) H_City1(t) R_City1(t) EQ_City1(t) D_City1(t) S_City2(t) E_City2(t) I_City2(t) A_City2(t) SQ_City2(t) H_City2(t) R_City2(t) EQ_City2(t) D_City2(t)\n",
       "    \u001b[90m#= In[11]:68 =#\u001b[39m\n",
       "    \u001b[90m#= In[11]:15 =#\u001b[39m @parameters strata_travel12 strata_travel12 strata_travel12 strata_travel12 strata_travel12 strata_travel21 strata_travel21 strata_travel21 strata_travel21 strata_travel21 unspook_s_disease prog_ei_disease prog_ea_disease hosp_i_disease recov_i_disease recov_a_disease recov_h_disease death_i_disease death_h_disease hosp_eq_disease expos_a_infect spook_a_infect espook_a_infect expos_i_infect spook_i_infect espook_i_infect unspook_s_disease prog_ei_disease prog_ea_disease hosp_i_disease recov_i_disease recov_a_disease recov_h_disease death_i_disease death_h_disease hosp_eq_disease expos_a_infect spook_a_infect espook_a_infect expos_i_infect spook_i_infect espook_i_infect\n",
       "    \u001b[90m#= In[11]:69 =#\u001b[39m\n",
       "    D = Differential(t)\n",
       "    \u001b[90m#= In[11]:70 =#\u001b[39m\n",
       "    ϕ1 = strata_travel12 * S_City1\n",
       "    ϕ2 = strata_travel12 * E_City1\n",
       "    ϕ3 = strata_travel12 * I_City1\n",
       "    ϕ4 = strata_travel12 * A_City1\n",
       "    ϕ5 = strata_travel12 * R_City1\n",
       "    ϕ6 = strata_travel21 * S_City2\n",
       "    ϕ7 = strata_travel21 * E_City2\n",
       "    ϕ8 = strata_travel21 * I_City2\n",
       "    ϕ9 = strata_travel21 * A_City2\n",
       "    ϕ10 = strata_travel21 * R_City2\n",
       "    ϕ11 = unspook_s_disease * SQ_City1\n",
       "    ϕ12 = prog_ei_disease * E_City1\n",
       "    ϕ13 = prog_ea_disease * E_City1\n",
       "    ϕ14 = hosp_i_disease * I_City1\n",
       "    ϕ15 = recov_i_disease * I_City1\n",
       "    ϕ16 = recov_a_disease * A_City1\n",
       "    ϕ17 = recov_h_disease * H_City1\n",
       "    ϕ18 = death_i_disease * I_City1\n",
       "    ϕ19 = death_h_disease * H_City1\n",
       "    ϕ20 = hosp_eq_disease * EQ_City1\n",
       "    ϕ21 = expos_a_infect * A_City1 * S_City1\n",
       "    ϕ22 = spook_a_infect * A_City1 * S_City1\n",
       "    ϕ23 = espook_a_infect * A_City1 * S_City1\n",
       "    ϕ24 = expos_i_infect * I_City1 * S_City1\n",
       "    ϕ25 = spook_i_infect * I_City1 * S_City1\n",
       "    ϕ26 = espook_i_infect * I_City1 * S_City1\n",
       "    ϕ27 = unspook_s_disease * SQ_City2\n",
       "    ϕ28 = prog_ei_disease * E_City2\n",
       "    ϕ29 = prog_ea_disease * E_City2\n",
       "    ϕ30 = hosp_i_disease * I_City2\n",
       "    ϕ31 = recov_i_disease * I_City2\n",
       "    ϕ32 = recov_a_disease * A_City2\n",
       "    ϕ33 = recov_h_disease * H_City2\n",
       "    ϕ34 = death_i_disease * I_City2\n",
       "    ϕ35 = death_h_disease * H_City2\n",
       "    ϕ36 = hosp_eq_disease * EQ_City2\n",
       "    ϕ37 = expos_a_infect * A_City2 * S_City2\n",
       "    ϕ38 = spook_a_infect * A_City2 * S_City2\n",
       "    ϕ39 = espook_a_infect * A_City2 * S_City2\n",
       "    ϕ40 = expos_i_infect * I_City2 * S_City2\n",
       "    ϕ41 = spook_i_infect * I_City2 * S_City2\n",
       "    ϕ42 = espook_i_infect * I_City2 * S_City2\n",
       "    \u001b[90m#= In[11]:71 =#\u001b[39m\n",
       "    eqs = [D(S_City1) ~ ϕ6 + ϕ11 + -ϕ1 + -ϕ21 + -ϕ22 + -ϕ23 + -ϕ24 + -ϕ25 + -ϕ26, D(E_City1) ~ ϕ7 + ϕ21 + ϕ24 + -ϕ2 + -ϕ12 + -ϕ13, D(I_City1) ~ ϕ8 + ϕ12 + ϕ24 + ϕ25 + ϕ26 + -ϕ3 + -ϕ14 + -ϕ15 + -ϕ18 + -ϕ24 + -ϕ25 + -ϕ26, D(A_City1) ~ ϕ9 + ϕ13 + ϕ21 + ϕ22 + ϕ23 + -ϕ4 + -ϕ16 + -ϕ21 + -ϕ22 + -ϕ23, D(SQ_City1) ~ ϕ22 + ϕ25 + -ϕ11, D(H_City1) ~ ϕ14 + ϕ20 + -ϕ17 + -ϕ19, D(R_City1) ~ ϕ10 + ϕ15 + ϕ16 + ϕ17 + -ϕ5, D(EQ_City1) ~ ϕ23 + ϕ26 + -ϕ20, D(D_City1) ~ ϕ18 + ϕ19, D(S_City2) ~ ϕ1 + ϕ27 + -ϕ6 + -ϕ37 + -ϕ38 + -ϕ39 + -ϕ40 + -ϕ41 + -ϕ42, D(E_City2) ~ ϕ2 + ϕ37 + ϕ40 + -ϕ7 + -ϕ28 + -ϕ29, D(I_City2) ~ ϕ3 + ϕ28 + ϕ40 + ϕ41 + ϕ42 + -ϕ8 + -ϕ30 + -ϕ31 + -ϕ34 + -ϕ40 + -ϕ41 + -ϕ42, D(A_City2) ~ ϕ4 + ϕ29 + ϕ37 + ϕ38 + ϕ39 + -ϕ9 + -ϕ32 + -ϕ37 + -ϕ38 + -ϕ39, D(SQ_City2) ~ ϕ38 + ϕ41 + -ϕ27, D(H_City2) ~ ϕ30 + ϕ36 + -ϕ33 + -ϕ35, D(R_City2) ~ ϕ5 + ϕ31 + ϕ32 + ϕ33 + -ϕ10, D(EQ_City2) ~ ϕ39 + ϕ42 + -ϕ36, D(D_City2) ~ ϕ34 + ϕ35]\n",
       "    \u001b[90m#= In[11]:72 =#\u001b[39m\n",
       "    return ((S_City1, E_City1, I_City1, A_City1, SQ_City1, H_City1, R_City1, EQ_City1, D_City1, S_City2, E_City2, I_City2, A_City2, SQ_City2, H_City2, R_City2, EQ_City2, D_City2), (strata_travel12, strata_travel12, strata_travel12, strata_travel12, strata_travel12, strata_travel21, strata_travel21, strata_travel21, strata_travel21, strata_travel21, unspook_s_disease, prog_ei_disease, prog_ea_disease, hosp_i_disease, recov_i_disease, recov_a_disease, recov_h_disease, death_i_disease, death_h_disease, hosp_eq_disease, expos_a_infect, spook_a_infect, espook_a_infect, expos_i_infect, spook_i_infect, espook_i_infect, unspook_s_disease, prog_ei_disease, prog_ea_disease, hosp_i_disease, recov_i_disease, recov_a_disease, recov_h_disease, death_i_disease, death_h_disease, hosp_eq_disease, expos_a_infect, spook_a_infect, espook_a_infect, expos_i_infect, spook_i_infect, espook_i_infect), solve(ODEProblem(ODESystem(eqs, t, name = :PetriNet), [999.0, 0.0, 1.0, 0.0, 0.0, 0.0, 0.0, 0.0, 0.0, 1000.0, 0.0, 0.0, 0.0, 0.0, 0.0, 0.0, 0.0, 0.0], (0, 50), [0.7635421716253862, 0.476949933967792, 1.0378427866924458, 0.06342192026691493, 0.6289705771289156, 0.6809885247956335, 0.8789953370751535, 0.9678518339117748, 0.8985337369221144, 0.8046562815490982  …  0.53504159994229, 0.9109712293941395, 0.9736543335143757, 0.8881010795187395, 0.5521667441074971, 0.3944319724065383, 0.7840278254026629, 0.7294541479903563, 0.13355358607940038, 1.0448516966930326])))\n",
       "end"
      ]
     },
     "execution_count": 19,
     "metadata": {},
     "output_type": "execute_result"
    }
   ],
   "source": [
    "# apply plan to lrxnet from MIRA integration demo\n",
    "wf_script = wf_jfunc(joinpath(@__DIR__, \".\", \"lrxnet_Mira_TC_est.json\"),1234,(0,50))"
   ]
  },
  {
   "cell_type": "code",
   "execution_count": null,
   "id": "56322ba1-92c7-4c52-9fbd-6a83f37ad85b",
   "metadata": {},
   "outputs": [],
   "source": [
    "# Run that simulation!\n",
    "# wf_vars, wf_params, wf_ode_sol = eval(wf_script);"
   ]
  }
 ],
 "metadata": {
  "kernelspec": {
   "display_name": "Julia 1.7.3",
   "language": "julia",
   "name": "julia-1.7"
  },
  "language_info": {
   "file_extension": ".jl",
   "mimetype": "application/julia",
   "name": "julia",
   "version": "1.7.3"
  }
 },
 "nbformat": 4,
 "nbformat_minor": 5
}
