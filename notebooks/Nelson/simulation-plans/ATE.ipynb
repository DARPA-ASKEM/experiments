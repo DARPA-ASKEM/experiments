{
 "cells": [
  {
   "cell_type": "code",
   "execution_count": 3,
   "id": "6fd33312-3790-4959-9f08-029657c4a2d9",
   "metadata": {},
   "outputs": [],
   "source": [
    "# CIEMSS ATE Query Example:"
   ]
  },
  {
   "cell_type": "code",
   "execution_count": 4,
   "id": "03ba7a68-b851-4e93-a232-4789ec917161",
   "metadata": {},
   "outputs": [],
   "source": [
    "# begin\n",
    "#     struct ATEQuery <: Query\n",
    "#         output_var::Symbol\n",
    "#         intervention_variable::Symbol\n",
    "#         intervention_derivative_order::Integer\n",
    "#         intervention_assignment::Real\n",
    "#     end\n",
    "\n",
    "#     function interpret(query::ATEQuery, model::Union{ODEModel, ODEProbabilisticModel})\n",
    "#         twin_model = twinify(model)\n",
    "\n",
    "#         intervention_variable = Symbol(string(query.intervention_variable) * \"_cf\")\n",
    "#         intervention = ODEStaticIntervention(intervention_variable, query.intervention_derivative_order, query.intervention_assignment)\n",
    "#         twin_model = intervene(twin_model, intervention)\n",
    "\n",
    "#         output_cf = Symbol(string(query.output_var) * \"_cf\")\n",
    "#         twin_model = add_variable(twin_model, :ATE, 0, :($(output_cf) - $(query.output_var)))\n",
    "#     end\n",
    "# end"
   ]
  },
  {
   "cell_type": "code",
   "execution_count": null,
   "id": "6af326e5-e6b9-472c-bcb8-028aec467978",
   "metadata": {},
   "outputs": [],
   "source": [
    "# AlgebraicJulia Workflow Wiring Diagram Example:"
   ]
  },
  {
   "cell_type": "code",
   "execution_count": null,
   "id": "95f974a0-a6d7-4354-8219-c7a456233c55",
   "metadata": {},
   "outputs": [],
   "source": [
    "# begin\n",
    "#     # Form Workflow presentation of FreeBiproductCategory\n",
    "#     @present Workflow(FreeBiproductCategory) begin\n",
    "#         (File,LRN,TSpan,ODEProb,ODESol)::Ob \n",
    "#         MTKLoadLRN::Hom(File,LRN)\n",
    "#         MTKFormODEProb::Hom(LRN⊗TSpan,ODEProb)\n",
    "#         MTKSolveODE::Hom(ODEProb,ODESol)\n",
    "#     end\n",
    "\n",
    "#     # Form wiring diagram of load_form_sim Workflow\n",
    "#     load_form_sim = @program Workflow (f::File,ts::TSpan) begin # \n",
    "#         lrn = MTKLoadLRN(f)\n",
    "#         ode_prob = MTKFormODEProb(lrn,ts)\n",
    "#         ode_sol = MTKSolveODE(ode_prob)\n",
    "#         return ode_sol \n",
    "#     end\n",
    "\n",
    "#     # Serialize program wiring diagram\n",
    "#     # write_json_graph(load_form_sim,\"diagram_load_form_sim.json\") \n",
    "#     write_json_acset(load_form_sim.diagram, \"diagram_load_form_sim.json\")\n",
    "# end"
   ]
  },
  {
   "cell_type": "code",
   "execution_count": 6,
   "id": "cdc51223-eed4-4636-92fd-c8b57e141315",
   "metadata": {},
   "outputs": [],
   "source": [
    "using Catlab, Catlab.Theories\n",
    "using Catlab.CategoricalAlgebra\n",
    "using Catlab.Graphics\n",
    "using Catlab.Graphics: Graphviz\n",
    "import Catlab.CategoricalAlgebra: migrate!\n",
    "using Catlab.WiringDiagrams\n",
    "using Catlab.Programs\n",
    "using Catlab.Programs.RelationalPrograms"
   ]
  },
  {
   "cell_type": "code",
   "execution_count": 16,
   "id": "a1ad8980-6084-43b8-b931-e0c2cb47e634",
   "metadata": {},
   "outputs": [
    {
     "data": {
      "text/plain": [
       "Presentation{ThBiproductCategory, Symbol}(Catlab.Theories.FreeBiproductCategory, (Ob = Catlab.Theories.FreeBiproductCategory.Ob{:generator}[Output_Var, Intervention_Variable, Intervention_Derivative_Order, Intervention_Assignment, Query, Model, Twin_Model, Intervention, Twin_Model_Int, Comparison], Hom = Catlab.Theories.FreeBiproductCategory.Hom{:generator}[ConstructQuery, Twinify, ODEStaticIntervention, Intervene, Compare]), Dict(:Intervention_Assignment => (:Ob => 4), :Intervention => (:Ob => 8), :Output_Var => (:Ob => 1), :Twin_Model => (:Ob => 7), :ODEStaticIntervention => (:Hom => 3), :Comparison => (:Ob => 10), :Query => (:Ob => 5), :Twinify => (:Hom => 2), :Intervention_Variable => (:Ob => 2), :Model => (:Ob => 6)…), Pair[])"
      ]
     },
     "execution_count": 16,
     "metadata": {},
     "output_type": "execute_result"
    }
   ],
   "source": [
    "# Form Workflow presentation of FreeBiproductCategory\n",
    "@present Workflow(FreeBiproductCategory) begin\n",
    "    \n",
    "    (Output_Var, Intervention_Variable, Intervention_Derivative_Order, Intervention_Assignment, Query, Model, Twin_Model, Intervention, Twin_Model_Int, Comparison)::Ob\n",
    "    \n",
    "    ConstructQuery::Hom(Output_Var⊗Intervention_Variable⊗Intervention_Derivative_Order⊗Intervention_Assignment, Query)\n",
    "    \n",
    "    Twinify::Hom(Model, Twin_Model)\n",
    "    \n",
    "    ODEStaticIntervention::Hom(Intervention_Variable⊗Query, Intervention)\n",
    "    \n",
    "    Intervene::Hom(Twin_Model⊗Intervention, Twin_Model_Int)\n",
    "    \n",
    "    Compare::Hom(Query⊗Twin_Model⊗Twin_Model_Int, Comparison)\n",
    "    \n",
    "end"
   ]
  },
  {
   "cell_type": "code",
   "execution_count": 17,
   "id": "e7046e35-fbda-4a11-bb71-fb62d587434e",
   "metadata": {},
   "outputs": [
    {
     "data": {
      "text/plain": [
       "WiringDiagram{ThBiproductCategory}([:Output_Var,:Intervention_Variable,:Intervention_Derivative_Order,:Intervention_Assignment,:Model], [:Comparison], \n",
       "[ -2 => {inputs},\n",
       "  -1 => {outputs},\n",
       "  1 => Box(:ConstructQuery, [:Output_Var,:Intervention_Variable,:Intervention_Derivative_Order,:Intervention_Assignment], [:Query]),\n",
       "  2 => Box(:Twinify, [:Model], [:Twin_Model]),\n",
       "  3 => Box(:ODEStaticIntervention, [:Intervention_Variable,:Query], [:Intervention]),\n",
       "  4 => Box(:Intervene, [:Twin_Model,:Intervention], [:Twin_Model_Int]),\n",
       "  5 => Box(:Compare, [:Query,:Twin_Model,:Twin_Model_Int], [:Comparison]) ],\n",
       "[ Wire((-2,1) => (1,1)),\n",
       "  Wire((-2,2) => (1,2)),\n",
       "  Wire((-2,3) => (1,3)),\n",
       "  Wire((-2,4) => (1,4)),\n",
       "  Wire((-2,5) => (2,1)),\n",
       "  Wire((-2,2) => (3,1)),\n",
       "  Wire((2,1) => (5,2)),\n",
       "  Wire((1,1) => (5,1)),\n",
       "  Wire((2,1) => (4,1)),\n",
       "  Wire((1,1) => (3,2)),\n",
       "  Wire((3,1) => (4,2)),\n",
       "  Wire((4,1) => (5,3)),\n",
       "  Wire((5,1) => (-1,1)) ])"
      ]
     },
     "execution_count": 17,
     "metadata": {},
     "output_type": "execute_result"
    }
   ],
   "source": [
    "# Form wiring diagram of Workflow\n",
    "ate_workflow = @program Workflow (output_var::Output_Var, intervention_variable::Intervention_Variable, intervention_derivative_order::Intervention_Derivative_Order, intervention_assignment::Intervention_Assignment, model::Model) begin\n",
    "    \n",
    "    query = ConstructQuery(output_var, intervention_variable, intervention_derivative_order, intervention_assignment)\n",
    "    \n",
    "    twin_model = Twinify(model)\n",
    "    \n",
    "    intervention = ODEStaticIntervention(intervention_variable, query)\n",
    "    \n",
    "    twin_model_int = Intervene(twin_model, intervention)\n",
    "    \n",
    "    comparison = Compare(query, twin_model, twin_model_int)\n",
    "    \n",
    "    return comparison\n",
    "end"
   ]
  },
  {
   "cell_type": "code",
   "execution_count": 18,
   "id": "0f671097-ccc7-4689-9434-bc735c14eded",
   "metadata": {},
   "outputs": [
    {
     "data": {
      "text/plain": [
       "1989"
      ]
     },
     "execution_count": 18,
     "metadata": {},
     "output_type": "execute_result"
    }
   ],
   "source": [
    "# Serialize program wiring diagram\n",
    "write_json_acset(ate_workflow.diagram, \"ATE_dwd.json\")"
   ]
  },
  {
   "cell_type": "code",
   "execution_count": null,
   "id": "4d01a9af-309a-4c0a-893c-6248f336c8fd",
   "metadata": {},
   "outputs": [],
   "source": []
  }
 ],
 "metadata": {
  "kernelspec": {
   "display_name": "Julia 1.7.3",
   "language": "julia",
   "name": "julia-1.7"
  },
  "language_info": {
   "file_extension": ".jl",
   "mimetype": "application/julia",
   "name": "julia",
   "version": "1.7.3"
  }
 },
 "nbformat": 4,
 "nbformat_minor": 5
}
