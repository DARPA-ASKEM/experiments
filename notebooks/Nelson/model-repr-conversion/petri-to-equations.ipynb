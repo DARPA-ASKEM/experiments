{
 "cells": [
  {
   "cell_type": "markdown",
   "id": "f8ecac42-1871-4643-8ad3-b0c63f4aede8",
   "metadata": {},
   "source": [
    "Author: Nelson Liu\n",
    "\n",
    "Email: [nliu@uncharted.software](mailto:nliu@uncharted.software)"
   ]
  },
  {
   "cell_type": "markdown",
   "id": "472f847f-8462-48d6-9434-c74bb190f827",
   "metadata": {},
   "source": [
    "# Model Representation Conversion\n",
    "\n",
    "Interconvert between ODE and Petri-net representation of a given model:\n",
    "* ODE representation can be in LaTeX or MathML format\n",
    "* Petri-net representation is in ACSet JSON format\n",
    "\n",
    "## Petri-to-ODE conversion using SciML\n",
    "\n",
    "Source: \n",
    "* [https://docs.sciml.ai/EasyModelAnalysis/stable/examples/petri/](https://docs.sciml.ai/EasyModelAnalysis/stable/examples/petri/)\n",
    "* [https://docs.sciml.ai/ModelingToolkit/stable/tutorials/acausal_components/#Connecting-and-Simulating-Our-Electric-Circuit](https://docs.sciml.ai/ModelingToolkit/stable/tutorials/acausal_components/#Connecting-and-Simulating-Our-Electric-Circuit)"
   ]
  },
  {
   "cell_type": "code",
   "execution_count": 120,
   "id": "7ee4f818-e4bc-4434-b426-dd20e2c582d2",
   "metadata": {},
   "outputs": [
    {
     "name": "stderr",
     "output_type": "stream",
     "text": [
      "\u001b[32m\u001b[1m   Resolving\u001b[22m\u001b[39m package versions...\n",
      "\u001b[32m\u001b[1m  No Changes\u001b[22m\u001b[39m to `~/.julia/environments/v1.8/Project.toml`\n",
      "\u001b[32m\u001b[1m  No Changes\u001b[22m\u001b[39m to `~/.julia/environments/v1.8/Manifest.toml`\n"
     ]
    }
   ],
   "source": [
    "# Libraries\n",
    "using AlgebraicPetri, AlgebraicPetri.SubACSets, AlgebraicPetri.TypedPetri, AlgebraicPetri.BilayerNetworks\n",
    "using Catlab.Programs, Catlab.Graphics, Catlab.CategoricalAlgebra\n",
    "import Catlab.CategoricalAlgebra: migrate!\n",
    "using GraphViz\n",
    "# using EasyModelAnalysis\n",
    "using ModelingToolkit\n",
    "\n",
    "import Pkg\n",
    "Pkg.add(\"Latexify\")\n",
    "using Latexify"
   ]
  },
  {
   "cell_type": "code",
   "execution_count": 121,
   "id": "138b21cb-0c9e-409d-b126-654aaca3d34b",
   "metadata": {},
   "outputs": [
    {
     "name": "stderr",
     "output_type": "stream",
     "text": [
      "WARNING: redefinition of constant infectious_ontology. This may fail, cause incorrect answers, or produce other errors.\n"
     ]
    },
    {
     "data": {
      "text/html": [
       "<div class=\"c-set\">\n",
       "<span class=\"c-set-summary\">LabelledPetriNet with elements T = 1:3, S = 1:1, I = 1:4, O = 1:4</span>\n",
       "<table>\n",
       "  <thead>\n",
       "    <tr class = \"header headerLastRow\">\n",
       "      <th class = \"rowNumber\" style = \"font-weight: bold; text-align: right;\">T</th>\n",
       "      <th style = \"text-align: right;\">tname</th>\n",
       "    </tr>\n",
       "  </thead>\n",
       "  <tbody>\n",
       "    <tr>\n",
       "      <td class = \"rowNumber\" style = \"font-weight: bold; text-align: right;\">1</td>\n",
       "      <td style = \"text-align: right;\">infect</td>\n",
       "    </tr>\n",
       "    <tr>\n",
       "      <td class = \"rowNumber\" style = \"font-weight: bold; text-align: right;\">2</td>\n",
       "      <td style = \"text-align: right;\">disease</td>\n",
       "    </tr>\n",
       "    <tr>\n",
       "      <td class = \"rowNumber\" style = \"font-weight: bold; text-align: right;\">3</td>\n",
       "      <td style = \"text-align: right;\">strata</td>\n",
       "    </tr>\n",
       "  </tbody>\n",
       "</table>\n",
       "<table>\n",
       "  <thead>\n",
       "    <tr class = \"header headerLastRow\">\n",
       "      <th class = \"rowNumber\" style = \"font-weight: bold; text-align: right;\">S</th>\n",
       "      <th style = \"text-align: right;\">sname</th>\n",
       "    </tr>\n",
       "  </thead>\n",
       "  <tbody>\n",
       "    <tr>\n",
       "      <td class = \"rowNumber\" style = \"font-weight: bold; text-align: right;\">1</td>\n",
       "      <td style = \"text-align: right;\">Pop</td>\n",
       "    </tr>\n",
       "  </tbody>\n",
       "</table>\n",
       "<table>\n",
       "  <thead>\n",
       "    <tr class = \"header headerLastRow\">\n",
       "      <th class = \"rowNumber\" style = \"font-weight: bold; text-align: right;\">I</th>\n",
       "      <th style = \"text-align: right;\">it</th>\n",
       "      <th style = \"text-align: right;\">is</th>\n",
       "    </tr>\n",
       "  </thead>\n",
       "  <tbody>\n",
       "    <tr>\n",
       "      <td class = \"rowNumber\" style = \"font-weight: bold; text-align: right;\">1</td>\n",
       "      <td style = \"text-align: right;\">1</td>\n",
       "      <td style = \"text-align: right;\">1</td>\n",
       "    </tr>\n",
       "    <tr>\n",
       "      <td class = \"rowNumber\" style = \"font-weight: bold; text-align: right;\">2</td>\n",
       "      <td style = \"text-align: right;\">1</td>\n",
       "      <td style = \"text-align: right;\">1</td>\n",
       "    </tr>\n",
       "    <tr>\n",
       "      <td class = \"rowNumber\" style = \"font-weight: bold; text-align: right;\">3</td>\n",
       "      <td style = \"text-align: right;\">2</td>\n",
       "      <td style = \"text-align: right;\">1</td>\n",
       "    </tr>\n",
       "    <tr>\n",
       "      <td class = \"rowNumber\" style = \"font-weight: bold; text-align: right;\">4</td>\n",
       "      <td style = \"text-align: right;\">3</td>\n",
       "      <td style = \"text-align: right;\">1</td>\n",
       "    </tr>\n",
       "  </tbody>\n",
       "</table>\n",
       "<table>\n",
       "  <thead>\n",
       "    <tr class = \"header headerLastRow\">\n",
       "      <th class = \"rowNumber\" style = \"font-weight: bold; text-align: right;\">O</th>\n",
       "      <th style = \"text-align: right;\">ot</th>\n",
       "      <th style = \"text-align: right;\">os</th>\n",
       "    </tr>\n",
       "  </thead>\n",
       "  <tbody>\n",
       "    <tr>\n",
       "      <td class = \"rowNumber\" style = \"font-weight: bold; text-align: right;\">1</td>\n",
       "      <td style = \"text-align: right;\">1</td>\n",
       "      <td style = \"text-align: right;\">1</td>\n",
       "    </tr>\n",
       "    <tr>\n",
       "      <td class = \"rowNumber\" style = \"font-weight: bold; text-align: right;\">2</td>\n",
       "      <td style = \"text-align: right;\">1</td>\n",
       "      <td style = \"text-align: right;\">1</td>\n",
       "    </tr>\n",
       "    <tr>\n",
       "      <td class = \"rowNumber\" style = \"font-weight: bold; text-align: right;\">3</td>\n",
       "      <td style = \"text-align: right;\">2</td>\n",
       "      <td style = \"text-align: right;\">1</td>\n",
       "    </tr>\n",
       "    <tr>\n",
       "      <td class = \"rowNumber\" style = \"font-weight: bold; text-align: right;\">4</td>\n",
       "      <td style = \"text-align: right;\">3</td>\n",
       "      <td style = \"text-align: right;\">1</td>\n",
       "    </tr>\n",
       "  </tbody>\n",
       "</table>\n",
       "</div>\n"
      ],
      "text/plain": [
       "LabelledPetriNet with elements T = 1:3, S = 1:1, I = 1:4, O = 1:4\n",
       "┌───┬─────────┐\n",
       "│\u001b[1m T │\u001b[1m   tname │\n",
       "├───┼─────────┤\n",
       "│ 1 │  infect │\n",
       "│ 2 │ disease │\n",
       "│ 3 │  strata │\n",
       "└───┴─────────┘\n",
       "┌───┬───────┐\n",
       "│\u001b[1m S │\u001b[1m sname │\n",
       "├───┼───────┤\n",
       "│ 1 │   Pop │\n",
       "└───┴───────┘\n",
       "┌───┬────┬────┐\n",
       "│\u001b[1m I │\u001b[1m it │\u001b[1m is │\n",
       "├───┼────┼────┤\n",
       "│ 1 │  1 │  1 │\n",
       "│ 2 │  1 │  1 │\n",
       "│ 3 │  2 │  1 │\n",
       "│ 4 │  3 │  1 │\n",
       "└───┴────┴────┘\n",
       "┌───┬────┬────┐\n",
       "│\u001b[1m O │\u001b[1m ot │\u001b[1m os │\n",
       "├───┼────┼────┤\n",
       "│ 1 │  1 │  1 │\n",
       "│ 2 │  1 │  1 │\n",
       "│ 3 │  2 │  1 │\n",
       "│ 4 │  3 │  1 │\n",
       "└───┴────┴────┘\n"
      ]
     },
     "execution_count": 121,
     "metadata": {},
     "output_type": "execute_result"
    }
   ],
   "source": [
    "# Infectious ontology\n",
    "const infectious_ontology = LabelledPetriNet(\n",
    "    [:Pop],\n",
    "    :infect => ((:Pop, :Pop) => (:Pop, :Pop)),\n",
    "    :disease => (:Pop => :Pop),\n",
    "    :strata => (:Pop => :Pop)\n",
    ")"
   ]
  },
  {
   "cell_type": "code",
   "execution_count": 128,
   "id": "15cb2d29-a4aa-46dd-9752-6b5640bacd9d",
   "metadata": {},
   "outputs": [
    {
     "data": {
      "text/html": [
       "<div class=\"c-set\">\n",
       "<span class=\"c-set-summary\">LabelledPetriNet with elements T = 1:4, S = 1:2, I = 1:8, O = 1:8</span>\n",
       "<table>\n",
       "  <thead>\n",
       "    <tr class = \"header headerLastRow\">\n",
       "      <th class = \"rowNumber\" style = \"font-weight: bold; text-align: right;\">T</th>\n",
       "      <th style = \"text-align: right;\">tname</th>\n",
       "    </tr>\n",
       "  </thead>\n",
       "  <tbody>\n",
       "    <tr>\n",
       "      <td class = \"rowNumber\" style = \"font-weight: bold; text-align: right;\">1</td>\n",
       "      <td style = \"text-align: right;\">A1_A1</td>\n",
       "    </tr>\n",
       "    <tr>\n",
       "      <td class = \"rowNumber\" style = \"font-weight: bold; text-align: right;\">2</td>\n",
       "      <td style = \"text-align: right;\">A1_A2</td>\n",
       "    </tr>\n",
       "    <tr>\n",
       "      <td class = \"rowNumber\" style = \"font-weight: bold; text-align: right;\">3</td>\n",
       "      <td style = \"text-align: right;\">A2_A1</td>\n",
       "    </tr>\n",
       "    <tr>\n",
       "      <td class = \"rowNumber\" style = \"font-weight: bold; text-align: right;\">4</td>\n",
       "      <td style = \"text-align: right;\">A2_A2</td>\n",
       "    </tr>\n",
       "  </tbody>\n",
       "</table>\n",
       "<table>\n",
       "  <thead>\n",
       "    <tr class = \"header headerLastRow\">\n",
       "      <th class = \"rowNumber\" style = \"font-weight: bold; text-align: right;\">S</th>\n",
       "      <th style = \"text-align: right;\">sname</th>\n",
       "    </tr>\n",
       "  </thead>\n",
       "  <tbody>\n",
       "    <tr>\n",
       "      <td class = \"rowNumber\" style = \"font-weight: bold; text-align: right;\">1</td>\n",
       "      <td style = \"text-align: right;\">A1</td>\n",
       "    </tr>\n",
       "    <tr>\n",
       "      <td class = \"rowNumber\" style = \"font-weight: bold; text-align: right;\">2</td>\n",
       "      <td style = \"text-align: right;\">A2</td>\n",
       "    </tr>\n",
       "  </tbody>\n",
       "</table>\n",
       "<table>\n",
       "  <thead>\n",
       "    <tr class = \"header headerLastRow\">\n",
       "      <th class = \"rowNumber\" style = \"font-weight: bold; text-align: right;\">I</th>\n",
       "      <th style = \"text-align: right;\">it</th>\n",
       "      <th style = \"text-align: right;\">is</th>\n",
       "    </tr>\n",
       "  </thead>\n",
       "  <tbody>\n",
       "    <tr>\n",
       "      <td class = \"rowNumber\" style = \"font-weight: bold; text-align: right;\">1</td>\n",
       "      <td style = \"text-align: right;\">1</td>\n",
       "      <td style = \"text-align: right;\">1</td>\n",
       "    </tr>\n",
       "    <tr>\n",
       "      <td class = \"rowNumber\" style = \"font-weight: bold; text-align: right;\">2</td>\n",
       "      <td style = \"text-align: right;\">1</td>\n",
       "      <td style = \"text-align: right;\">1</td>\n",
       "    </tr>\n",
       "    <tr>\n",
       "      <td class = \"rowNumber\" style = \"font-weight: bold; text-align: right;\">3</td>\n",
       "      <td style = \"text-align: right;\">2</td>\n",
       "      <td style = \"text-align: right;\">1</td>\n",
       "    </tr>\n",
       "    <tr>\n",
       "      <td class = \"rowNumber\" style = \"font-weight: bold; text-align: right;\">4</td>\n",
       "      <td style = \"text-align: right;\">2</td>\n",
       "      <td style = \"text-align: right;\">2</td>\n",
       "    </tr>\n",
       "    <tr>\n",
       "      <td class = \"rowNumber\" style = \"font-weight: bold; text-align: right;\">5</td>\n",
       "      <td style = \"text-align: right;\">3</td>\n",
       "      <td style = \"text-align: right;\">2</td>\n",
       "    </tr>\n",
       "    <tr>\n",
       "      <td class = \"rowNumber\" style = \"font-weight: bold; text-align: right;\">6</td>\n",
       "      <td style = \"text-align: right;\">3</td>\n",
       "      <td style = \"text-align: right;\">1</td>\n",
       "    </tr>\n",
       "    <tr>\n",
       "      <td class = \"rowNumber\" style = \"font-weight: bold; text-align: right;\">7</td>\n",
       "      <td style = \"text-align: right;\">4</td>\n",
       "      <td style = \"text-align: right;\">2</td>\n",
       "    </tr>\n",
       "    <tr>\n",
       "      <td class = \"rowNumber\" style = \"font-weight: bold; text-align: right;\">8</td>\n",
       "      <td style = \"text-align: right;\">4</td>\n",
       "      <td style = \"text-align: right;\">2</td>\n",
       "    </tr>\n",
       "  </tbody>\n",
       "</table>\n",
       "<table>\n",
       "  <thead>\n",
       "    <tr class = \"header headerLastRow\">\n",
       "      <th class = \"rowNumber\" style = \"font-weight: bold; text-align: right;\">O</th>\n",
       "      <th style = \"text-align: right;\">ot</th>\n",
       "      <th style = \"text-align: right;\">os</th>\n",
       "    </tr>\n",
       "  </thead>\n",
       "  <tbody>\n",
       "    <tr>\n",
       "      <td class = \"rowNumber\" style = \"font-weight: bold; text-align: right;\">1</td>\n",
       "      <td style = \"text-align: right;\">1</td>\n",
       "      <td style = \"text-align: right;\">1</td>\n",
       "    </tr>\n",
       "    <tr>\n",
       "      <td class = \"rowNumber\" style = \"font-weight: bold; text-align: right;\">2</td>\n",
       "      <td style = \"text-align: right;\">1</td>\n",
       "      <td style = \"text-align: right;\">1</td>\n",
       "    </tr>\n",
       "    <tr>\n",
       "      <td class = \"rowNumber\" style = \"font-weight: bold; text-align: right;\">3</td>\n",
       "      <td style = \"text-align: right;\">2</td>\n",
       "      <td style = \"text-align: right;\">1</td>\n",
       "    </tr>\n",
       "    <tr>\n",
       "      <td class = \"rowNumber\" style = \"font-weight: bold; text-align: right;\">4</td>\n",
       "      <td style = \"text-align: right;\">2</td>\n",
       "      <td style = \"text-align: right;\">2</td>\n",
       "    </tr>\n",
       "    <tr>\n",
       "      <td class = \"rowNumber\" style = \"font-weight: bold; text-align: right;\">5</td>\n",
       "      <td style = \"text-align: right;\">3</td>\n",
       "      <td style = \"text-align: right;\">2</td>\n",
       "    </tr>\n",
       "    <tr>\n",
       "      <td class = \"rowNumber\" style = \"font-weight: bold; text-align: right;\">6</td>\n",
       "      <td style = \"text-align: right;\">3</td>\n",
       "      <td style = \"text-align: right;\">1</td>\n",
       "    </tr>\n",
       "    <tr>\n",
       "      <td class = \"rowNumber\" style = \"font-weight: bold; text-align: right;\">7</td>\n",
       "      <td style = \"text-align: right;\">4</td>\n",
       "      <td style = \"text-align: right;\">2</td>\n",
       "    </tr>\n",
       "    <tr>\n",
       "      <td class = \"rowNumber\" style = \"font-weight: bold; text-align: right;\">8</td>\n",
       "      <td style = \"text-align: right;\">4</td>\n",
       "      <td style = \"text-align: right;\">2</td>\n",
       "    </tr>\n",
       "  </tbody>\n",
       "</table>\n",
       "</div>\n"
      ],
      "text/plain": [
       "LabelledPetriNet with elements T = 1:4, S = 1:2, I = 1:8, O = 1:8\n",
       "┌───┬───────┐\n",
       "│\u001b[1m T │\u001b[1m tname │\n",
       "├───┼───────┤\n",
       "│ 1 │ A1_A1 │\n",
       "│ 2 │ A1_A2 │\n",
       "│ 3 │ A2_A1 │\n",
       "│ 4 │ A2_A2 │\n",
       "└───┴───────┘\n",
       "┌───┬───────┐\n",
       "│\u001b[1m S │\u001b[1m sname │\n",
       "├───┼───────┤\n",
       "│ 1 │    A1 │\n",
       "│ 2 │    A2 │\n",
       "└───┴───────┘\n",
       "┌───┬────┬────┐\n",
       "│\u001b[1m I │\u001b[1m it │\u001b[1m is │\n",
       "├───┼────┼────┤\n",
       "│ 1 │  1 │  1 │\n",
       "│ 2 │  1 │  1 │\n",
       "│ 3 │  2 │  1 │\n",
       "│ 4 │  2 │  2 │\n",
       "│ 5 │  3 │  2 │\n",
       "│ 6 │  3 │  1 │\n",
       "│ 7 │  4 │  2 │\n",
       "│ 8 │  4 │  2 │\n",
       "└───┴────┴────┘\n",
       "┌───┬────┬────┐\n",
       "│\u001b[1m O │\u001b[1m ot │\u001b[1m os │\n",
       "├───┼────┼────┤\n",
       "│ 1 │  1 │  1 │\n",
       "│ 2 │  1 │  1 │\n",
       "│ 3 │  2 │  1 │\n",
       "│ 4 │  2 │  2 │\n",
       "│ 5 │  3 │  2 │\n",
       "│ 6 │  3 │  1 │\n",
       "│ 7 │  4 │  2 │\n",
       "│ 8 │  4 │  2 │\n",
       "└───┴────┴────┘\n"
      ]
     },
     "execution_count": 128,
     "metadata": {},
     "output_type": "execute_result"
    }
   ],
   "source": [
    "# Load labelled Petri net of age-contact model\n",
    "filename = \"../multi-stratify-experiment/model_petri_age.json\"\n",
    "# filename = \"./model_petri_sirdh.json\"\n",
    "# filename = \"./model_petri_sirdh_skema.json\"\n",
    "model = read_json_acset(LabelledPetriNet, filename)"
   ]
  },
  {
   "cell_type": "code",
   "execution_count": 129,
   "id": "69b617ae-bedb-464e-a47f-18b736f3ce17",
   "metadata": {},
   "outputs": [],
   "source": [
    "# Migrate to a bilayer network\n",
    "# model_bilayer = LabelledBilayerNetwork()\n",
    "# migrate!(model_bilayer, model)"
   ]
  },
  {
   "cell_type": "code",
   "execution_count": 124,
   "id": "760dca4e-0904-48df-a00a-ff6a6e51c106",
   "metadata": {},
   "outputs": [
    {
     "data": {
      "text/latex": [
       "$$ \\begin{align}\n",
       "\\frac{\\mathrm{d} \\mathrm{A1}\\left( t \\right)}{\\mathrm{d}t} =& 0 \\\\\n",
       "\\frac{\\mathrm{d} \\mathrm{A2}\\left( t \\right)}{\\mathrm{d}t} =& 0\n",
       "\\end{align}\n",
       " $$"
      ],
      "text/plain": [
       "\u001b[0m\u001b[1mModel PetriNet with 2 \u001b[22m\u001b[0m\u001b[1mequations\u001b[22m\n",
       "\u001b[0m\u001b[1mStates (2):\u001b[22m\n",
       "  A1(t)\n",
       "  A2(t)\n",
       "\u001b[0m\u001b[1mParameters (4):\u001b[22m\n",
       "  A1_A1\n",
       "  A1_A2\n",
       "  A2_A1\n",
       "  A2_A2"
      ]
     },
     "execution_count": 124,
     "metadata": {},
     "output_type": "execute_result"
    }
   ],
   "source": [
    "# Convert to AlgebraicPetri's `LabelledPetri` to SciML's `ODESystem`\n",
    "# model_odesys = ODESystem(model_bilayer)\n",
    "model_odesys = ODESystem(model)"
   ]
  },
  {
   "cell_type": "markdown",
   "id": "7e5b31d0-f5c2-407c-a631-8040385dd58c",
   "metadata": {},
   "source": [
    "Problematic that SciML ODESystem cancels out all the structure of the above age-contact model's Petri net.\n",
    "That structure is necessary for subsequent stratification.\n",
    "\n",
    "Expected ODE:\n",
    "* `d/dt A1 = - 2 c11 A1 A1 + 2 c11 A1 A1 - c12 A1 A2 + c12 A1 A2 - c21 A2 A1 + c21 A2 A1`\n",
    "* `d/dt A2 = - 2 c22 A2 A2 + 2 c22 A2 A2 + c12 A1 A2 - c12 A1 A2 + c21 A2 A1 - c21 A2 A1`\n",
    "\n",
    "`infect`-type two-to-two interactions:\n",
    "* `A1 + A1 --k1(c11)--> A1 + A1`\n",
    "* `A1 + A2 --k2(c12)--> A1 + A2`\n",
    "* `A2 + A1 --k3(c21)--> A2 + A1`\n",
    "* `A2 + A2 --k4(c22)--> A2 + A2`"
   ]
  },
  {
   "cell_type": "code",
   "execution_count": 125,
   "id": "47401ede-2f5b-46d0-85cd-7500b830f253",
   "metadata": {},
   "outputs": [
    {
     "data": {
      "text/latex": [
       "\\begin{align}\n",
       "\\frac{\\mathrm{d} \\mathrm{A1}\\left( t \\right)}{\\mathrm{d}t} =& 0 \\\\\n",
       "\\frac{\\mathrm{d} \\mathrm{A2}\\left( t \\right)}{\\mathrm{d}t} =& 0\n",
       "\\end{align}\n"
      ],
      "text/plain": [
       "L\"\\begin{align}\n",
       "\\frac{\\mathrm{d} \\mathrm{A1}\\left( t \\right)}{\\mathrm{d}t} =& 0 \\\\\n",
       "\\frac{\\mathrm{d} \\mathrm{A2}\\left( t \\right)}{\\mathrm{d}t} =& 0\n",
       "\\end{align}\n",
       "\""
      ]
     },
     "execution_count": 125,
     "metadata": {},
     "output_type": "execute_result"
    }
   ],
   "source": [
    "# Extract LaTeX code of the ODE system\n",
    "model_latex = latexify(model_odesys)"
   ]
  },
  {
   "cell_type": "code",
   "execution_count": 126,
   "id": "dca8ac5c-f151-4114-9201-76aec393417a",
   "metadata": {},
   "outputs": [
    {
     "name": "stdout",
     "output_type": "stream",
     "text": [
      "\\begin{align}\n",
      "\\frac{\\mathrm{d} \\mathrm{A1}\\left( t \\right)}{\\mathrm{d}t} =& 0 \\\\\n",
      "\\frac{\\mathrm{d} \\mathrm{A2}\\left( t \\right)}{\\mathrm{d}t} =& 0\n",
      "\\end{align}\n"
     ]
    }
   ],
   "source": [
    "print(model_latex)"
   ]
  },
  {
   "cell_type": "code",
   "execution_count": 127,
   "id": "3d9153b9-3a78-4ca6-bcf9-b4eeaa110baa",
   "metadata": {},
   "outputs": [
    {
     "data": {
      "text/plain": [
       "157"
      ]
     },
     "execution_count": 127,
     "metadata": {},
     "output_type": "execute_result"
    }
   ],
   "source": [
    "open(\"./model_latex.tex\", \"w\") do file\n",
    "    write(file, model_latex)\n",
    "end"
   ]
  },
  {
   "cell_type": "code",
   "execution_count": null,
   "id": "03ee1955-c7c1-4998-b096-a1e84400022b",
   "metadata": {},
   "outputs": [],
   "source": []
  }
 ],
 "metadata": {
  "kernelspec": {
   "display_name": "Julia 1.8.5",
   "language": "julia",
   "name": "julia-1.8"
  },
  "language_info": {
   "file_extension": ".jl",
   "mimetype": "application/julia",
   "name": "julia",
   "version": "1.8.5"
  }
 },
 "nbformat": 4,
 "nbformat_minor": 5
}
